{
 "cells": [
  {
   "cell_type": "markdown",
   "id": "e8832091-5372-4cc4-84fa-39ff75591a29",
   "metadata": {},
   "source": [
    "- string\n",
    "- list\n",
    "- tuple\n",
    "- dict\n",
    "- set operation\n",
    "- list com\n",
    "- lambda function\n",
    "- file handling"
   ]
  },
  {
   "cell_type": "markdown",
   "id": "c2529734-5bbf-4763-b9ec-24982e193b8f",
   "metadata": {},
   "source": [
    "## Strings\n",
    "###########################**PART 1**########################### \n",
    "- how to initialize the string\n",
    "- in built fun\n",
    "    - type\n",
    "    - print\n",
    "    - len\n",
    "    - max\n",
    "    - min\n",
    "    - reversed\n",
    "    - sorted\n",
    "- index operation\n",
    "- concantenation\n",
    "- mutable immutable concepts\n",
    "- slicing\n",
    "###########################**PART 2**########################### \n",
    "- String method"
   ]
  },
  {
   "cell_type": "markdown",
   "id": "43a0c320-7381-469a-9c75-e21e0fcc2aa8",
   "metadata": {},
   "source": [
    "**initialization**\n",
    "\n",
    "- strings represent with single,double and tripple Quotes\n",
    "- when u print string the output shows without quotes\n",
    "- a string represents with triple quotes: **doc string**\n",
    "- if u want highlight any word in entire string\n",
    "    - provide the entire string in double quotes and highlight thw word with sigle quotes and vice versa"
   ]
  },
  {
   "cell_type": "code",
   "execution_count": 8,
   "id": "a23e60c5-d45e-4536-871d-ab2e988f5714",
   "metadata": {},
   "outputs": [],
   "source": [
    "s1='helloo'\n",
    "s2=\"hiii\"\n"
   ]
  },
  {
   "cell_type": "code",
   "execution_count": 2,
   "id": "aa4e06d9-1e89-4763-970e-a4147b2fdb7d",
   "metadata": {},
   "outputs": [
    {
     "name": "stdout",
     "output_type": "stream",
     "text": [
      "helloo\n"
     ]
    }
   ],
   "source": [
    "print(s1)"
   ]
  },
  {
   "cell_type": "code",
   "execution_count": 3,
   "id": "6774c544-801d-44db-922e-237fa55720ee",
   "metadata": {},
   "outputs": [
    {
     "name": "stdout",
     "output_type": "stream",
     "text": [
      "hiii\n"
     ]
    }
   ],
   "source": [
    "print(s2)"
   ]
  },
  {
   "cell_type": "code",
   "execution_count": 4,
   "id": "429ddf84-5817-4619-917f-9e3e578ffe73",
   "metadata": {},
   "outputs": [
    {
     "name": "stdout",
     "output_type": "stream",
     "text": [
      "python\n"
     ]
    }
   ],
   "source": [
    "print(s3)"
   ]
  },
  {
   "cell_type": "markdown",
   "id": "776e6393-e0b6-4ec1-ad4c-bb39d566a346",
   "metadata": {},
   "source": [
    "**doc string**"
   ]
  },
  {
   "cell_type": "code",
   "execution_count": 12,
   "id": "02b59670-fc10-43e9-b1af-e9f57b5e8acb",
   "metadata": {},
   "outputs": [
    {
     "name": "stdout",
     "output_type": "stream",
     "text": [
      "python\n",
      "nfr ugrgu\n",
      "gnri gnrig rmog\n"
     ]
    }
   ],
   "source": [
    "s3='''python\n",
    "nfr ugrgu\n",
    "gnri gnrig rmog'''\n",
    "\n",
    "print(s3)"
   ]
  },
  {
   "cell_type": "code",
   "execution_count": 6,
   "id": "f7da96a7-6007-4e47-8482-382cd4537444",
   "metadata": {},
   "outputs": [
    {
     "name": "stdout",
     "output_type": "stream",
     "text": [
      "hello 'python'\n"
     ]
    }
   ],
   "source": [
    "s4=\"hello 'python'\"\n",
    "print(s4)"
   ]
  },
  {
   "cell_type": "code",
   "execution_count": 7,
   "id": "6ec0b600-e507-466f-833f-87d823858462",
   "metadata": {},
   "outputs": [
    {
     "name": "stdout",
     "output_type": "stream",
     "text": [
      "hello \"python\"\n"
     ]
    }
   ],
   "source": [
    "s4='hello \"python\"'\n",
    "print(s4)"
   ]
  },
  {
   "cell_type": "markdown",
   "id": "4b9618cf-d558-48de-9819-2b6d4303de7c",
   "metadata": {},
   "source": [
    "**some inbuilt functions**"
   ]
  },
  {
   "cell_type": "code",
   "execution_count": null,
   "id": "b87efd67-4614-42a1-bb90-676a13b3eafb",
   "metadata": {},
   "outputs": [],
   "source": [
    "max()\n",
    "min()\n",
    "len()\n",
    "print()\n",
    "type()\n",
    "reversed()\n",
    "sorted()"
   ]
  },
  {
   "cell_type": "code",
   "execution_count": 13,
   "id": "ceceba7e-71e1-4514-ba2b-fb63c1a0dcfc",
   "metadata": {},
   "outputs": [
    {
     "data": {
      "text/plain": [
       "'y'"
      ]
     },
     "execution_count": 13,
     "metadata": {},
     "output_type": "execute_result"
    }
   ],
   "source": [
    "max('python')"
   ]
  },
  {
   "cell_type": "code",
   "execution_count": 24,
   "id": "bbbfb40a-1c39-435f-8cdc-7d17e281f44c",
   "metadata": {},
   "outputs": [
    {
     "data": {
      "text/plain": [
       "'h'"
      ]
     },
     "execution_count": 24,
     "metadata": {},
     "output_type": "execute_result"
    }
   ],
   "source": [
    "min('python')"
   ]
  },
  {
   "cell_type": "code",
   "execution_count": 15,
   "id": "8b67360f-0f96-496a-a2f8-35cddb6a886d",
   "metadata": {},
   "outputs": [
    {
     "data": {
      "text/plain": [
       "6"
      ]
     },
     "execution_count": 15,
     "metadata": {},
     "output_type": "execute_result"
    }
   ],
   "source": [
    "len('python')"
   ]
  },
  {
   "cell_type": "code",
   "execution_count": 16,
   "id": "11de59b1-76dd-4284-b5e8-02771be2d687",
   "metadata": {},
   "outputs": [
    {
     "name": "stdout",
     "output_type": "stream",
     "text": [
      "python\n"
     ]
    }
   ],
   "source": [
    "print('python')"
   ]
  },
  {
   "cell_type": "code",
   "execution_count": 17,
   "id": "77e98e7c-22c0-42fa-bf47-a7636b3804cc",
   "metadata": {},
   "outputs": [
    {
     "data": {
      "text/plain": [
       "str"
      ]
     },
     "execution_count": 17,
     "metadata": {},
     "output_type": "execute_result"
    }
   ],
   "source": [
    "type('python')"
   ]
  },
  {
   "cell_type": "code",
   "execution_count": 22,
   "id": "eeeccac4-3447-460d-8f6c-0827436a682c",
   "metadata": {},
   "outputs": [
    {
     "data": {
      "text/plain": [
       "<reversed at 0x24417a90fd0>"
      ]
     },
     "execution_count": 22,
     "metadata": {},
     "output_type": "execute_result"
    }
   ],
   "source": [
    "reversed('python')"
   ]
  },
  {
   "cell_type": "markdown",
   "id": "2ab0b1ec-7238-4d41-bd29-8e56feb2bddf",
   "metadata": {},
   "source": [
    "**sorted**\n",
    "\n",
    "- sorted means sorting the letters based on ascii value\n",
    "- 2 possible\n",
    "    - ascending: small to high\n",
    "    - descending: high to small"
   ]
  },
  {
   "cell_type": "code",
   "execution_count": 25,
   "id": "a25d0751-9269-46b8-b47e-c8a11ae67c89",
   "metadata": {},
   "outputs": [
    {
     "data": {
      "text/plain": [
       "['h', 'n', 'o', 'p', 't', 'y']"
      ]
     },
     "execution_count": 25,
     "metadata": {},
     "output_type": "execute_result"
    }
   ],
   "source": [
    "sorted('python') # by default is ascenting"
   ]
  },
  {
   "cell_type": "markdown",
   "id": "2632ac74-0237-4129-811e-bc46bab3f9c3",
   "metadata": {},
   "source": [
    "- when u apply the shift tab\n",
    "- there ia some arguments will be available\n",
    "- focus on 2 arguments\n",
    "    - iterable\n",
    "    - reverse=False\n",
    "- because reverse is a default argument by default ascending order is coming\n",
    "- if u wnt to change the order then change the default parameter value"
   ]
  },
  {
   "cell_type": "code",
   "execution_count": 27,
   "id": "cdef9db5-02bb-4596-82b7-c0f2d4d6f5e0",
   "metadata": {},
   "outputs": [
    {
     "data": {
      "text/plain": [
       "['y', 't', 'p', 'o', 'n', 'h']"
      ]
     },
     "execution_count": 27,
     "metadata": {},
     "output_type": "execute_result"
    }
   ],
   "source": [
    "str1='python'\n",
    "sorted(str1,reverse=True)"
   ]
  },
  {
   "cell_type": "code",
   "execution_count": 28,
   "id": "b307128e-b5cf-4450-ad57-f297844a2c06",
   "metadata": {},
   "outputs": [
    {
     "ename": "TypeError",
     "evalue": "sorted expected 1 argument, got 0",
     "output_type": "error",
     "traceback": [
      "\u001b[1;31m---------------------------------------------------------------------------\u001b[0m",
      "\u001b[1;31mTypeError\u001b[0m                                 Traceback (most recent call last)",
      "Cell \u001b[1;32mIn[28], line 1\u001b[0m\n\u001b[1;32m----> 1\u001b[0m \u001b[38;5;28msorted\u001b[39m(iterable\u001b[38;5;241m=\u001b[39mstr1,reverse\u001b[38;5;241m=\u001b[39m\u001b[38;5;28;01mFalse\u001b[39;00m)\n",
      "\u001b[1;31mTypeError\u001b[0m: sorted expected 1 argument, got 0"
     ]
    }
   ],
   "source": [
    "sorted(iterable=str1,reverse=False)"
   ]
  },
  {
   "cell_type": "code",
   "execution_count": 29,
   "id": "d8ead323-6006-4fa4-b0c2-b2205e45b3e8",
   "metadata": {},
   "outputs": [
    {
     "ename": "SyntaxError",
     "evalue": "positional argument follows keyword argument (2537524005.py, line 1)",
     "output_type": "error",
     "traceback": [
      "\u001b[1;36m  Cell \u001b[1;32mIn[29], line 1\u001b[1;36m\u001b[0m\n\u001b[1;33m    sorted(iterable=str1,False)\u001b[0m\n\u001b[1;37m                              ^\u001b[0m\n\u001b[1;31mSyntaxError\u001b[0m\u001b[1;31m:\u001b[0m positional argument follows keyword argument\n"
     ]
    }
   ],
   "source": [
    "sorted(iterable=str1,False)"
   ]
  },
  {
   "cell_type": "code",
   "execution_count": 30,
   "id": "7e4b4267-7e58-4695-8604-1237d5638514",
   "metadata": {},
   "outputs": [
    {
     "ename": "TypeError",
     "evalue": "sorted expected 1 argument, got 2",
     "output_type": "error",
     "traceback": [
      "\u001b[1;31m---------------------------------------------------------------------------\u001b[0m",
      "\u001b[1;31mTypeError\u001b[0m                                 Traceback (most recent call last)",
      "Cell \u001b[1;32mIn[30], line 1\u001b[0m\n\u001b[1;32m----> 1\u001b[0m \u001b[38;5;28msorted\u001b[39m(str1,\u001b[38;5;28;01mFalse\u001b[39;00m)\n",
      "\u001b[1;31mTypeError\u001b[0m: sorted expected 1 argument, got 2"
     ]
    }
   ],
   "source": [
    "sorted(str1,False)"
   ]
  },
  {
   "cell_type": "code",
   "execution_count": 32,
   "id": "a0dcb6d1-5b75-4c05-8b23-dbc516304f40",
   "metadata": {},
   "outputs": [
    {
     "data": {
      "text/plain": [
       "['h', 'n', 'o', 'p', 't', 'y']"
      ]
     },
     "execution_count": 32,
     "metadata": {},
     "output_type": "execute_result"
    }
   ],
   "source": [
    "sorted(str1,reverse=False)"
   ]
  },
  {
   "cell_type": "markdown",
   "id": "4f142c2d-ba2c-4b8d-b7f6-f3163e77eec9",
   "metadata": {},
   "source": [
    "- we should not allowed to use iterable argument name while providing the value\n",
    "- we should use the argument names while providing the value after \"/\"\n",
    "- we should not use the argument names before \"/\"\n",
    "    - iterable argument name is there before \"/\"\n",
    "    - so do not use iterable name"
   ]
  },
  {
   "cell_type": "markdown",
   "id": "b56877ab-f62c-4b22-a773-94d64a65ef8f",
   "metadata": {},
   "source": [
    "- any fn indicates * means\n",
    "- u can use any variable after *\n",
    "- after * tehre are 2 arguments\n",
    "    - key\n",
    "    - reverse\n",
    "- you can use both\n",
    "- u can use anyone\n",
    "- u no need to use anything"
   ]
  },
  {
   "cell_type": "code",
   "execution_count": 34,
   "id": "051ed1e7-989a-4768-aa2a-b40afcd80deb",
   "metadata": {},
   "outputs": [
    {
     "data": {
      "text/plain": [
       "['h', 'e', 'l', 'l', 'o']"
      ]
     },
     "execution_count": 34,
     "metadata": {},
     "output_type": "execute_result"
    }
   ],
   "source": [
    "sorted('hello',reverse=True,key=len)"
   ]
  },
  {
   "cell_type": "markdown",
   "id": "ed402ea8-8c34-4eb7-9c58-234dd43e833f",
   "metadata": {},
   "source": [
    "**Reversed**\n",
    "\n"
   ]
  },
  {
   "cell_type": "code",
   "execution_count": 45,
   "id": "c6f6a649-84ec-48f5-8358-1a4272b67be1",
   "metadata": {},
   "outputs": [],
   "source": [
    "str1='pyhton'\n",
    "ans=reversed(str1)\n",
    "\n",
    "#use a list or for loop to see the answer"
   ]
  },
  {
   "cell_type": "code",
   "execution_count": 44,
   "id": "8ad6a2b8-b8c3-41a1-bd1d-094287c61691",
   "metadata": {},
   "outputs": [
    {
     "name": "stdout",
     "output_type": "stream",
     "text": [
      "n o t h y p "
     ]
    }
   ],
   "source": [
    "ans=reversed(str1)\n",
    "for i in ans:\n",
    "    print(i,end=' ')"
   ]
  },
  {
   "cell_type": "code",
   "execution_count": 43,
   "id": "28499d4f-0841-4389-8f1e-bb231b47a110",
   "metadata": {},
   "outputs": [
    {
     "data": {
      "text/plain": [
       "['n', 'o', 't', 'h', 'y', 'p']"
      ]
     },
     "execution_count": 43,
     "metadata": {},
     "output_type": "execute_result"
    }
   ],
   "source": [
    "ans=reversed(str1)\n",
    "list(ans)"
   ]
  },
  {
   "cell_type": "markdown",
   "id": "5a0389a1-49ee-4ac1-98ed-399f29f14a26",
   "metadata": {},
   "source": [
    "**concatenation**"
   ]
  },
  {
   "cell_type": "code",
   "execution_count": 46,
   "id": "5326e3c4-910c-4cd8-97e1-46391a348fdb",
   "metadata": {},
   "outputs": [],
   "source": [
    "str1='hello'\n",
    "str2='python'\n"
   ]
  },
  {
   "cell_type": "code",
   "execution_count": 47,
   "id": "9b7dcbd3-6834-41d7-bd80-e32f29341456",
   "metadata": {},
   "outputs": [
    {
     "data": {
      "text/plain": [
       "'hellopython'"
      ]
     },
     "execution_count": 47,
     "metadata": {},
     "output_type": "execute_result"
    }
   ],
   "source": [
    "str1+str2"
   ]
  },
  {
   "cell_type": "code",
   "execution_count": 48,
   "id": "dde6d8e2-d80e-4675-a055-90791d1073dc",
   "metadata": {},
   "outputs": [
    {
     "ename": "TypeError",
     "evalue": "unsupported operand type(s) for -: 'str' and 'str'",
     "output_type": "error",
     "traceback": [
      "\u001b[1;31m---------------------------------------------------------------------------\u001b[0m",
      "\u001b[1;31mTypeError\u001b[0m                                 Traceback (most recent call last)",
      "Cell \u001b[1;32mIn[48], line 1\u001b[0m\n\u001b[1;32m----> 1\u001b[0m str1\u001b[38;5;241m-\u001b[39mstr2\n",
      "\u001b[1;31mTypeError\u001b[0m: unsupported operand type(s) for -: 'str' and 'str'"
     ]
    }
   ],
   "source": [
    "str1-str2"
   ]
  },
  {
   "cell_type": "code",
   "execution_count": 49,
   "id": "b3727417-971e-4ae2-89bd-93369ee07704",
   "metadata": {},
   "outputs": [
    {
     "ename": "TypeError",
     "evalue": "can't multiply sequence by non-int of type 'str'",
     "output_type": "error",
     "traceback": [
      "\u001b[1;31m---------------------------------------------------------------------------\u001b[0m",
      "\u001b[1;31mTypeError\u001b[0m                                 Traceback (most recent call last)",
      "Cell \u001b[1;32mIn[49], line 1\u001b[0m\n\u001b[1;32m----> 1\u001b[0m str1\u001b[38;5;241m*\u001b[39mstr2\n",
      "\u001b[1;31mTypeError\u001b[0m: can't multiply sequence by non-int of type 'str'"
     ]
    }
   ],
   "source": [
    "str1*str2"
   ]
  },
  {
   "cell_type": "code",
   "execution_count": 50,
   "id": "eb3664f1-2fd2-46b5-baa7-6cefbb492617",
   "metadata": {},
   "outputs": [
    {
     "ename": "TypeError",
     "evalue": "unsupported operand type(s) for /: 'str' and 'str'",
     "output_type": "error",
     "traceback": [
      "\u001b[1;31m---------------------------------------------------------------------------\u001b[0m",
      "\u001b[1;31mTypeError\u001b[0m                                 Traceback (most recent call last)",
      "Cell \u001b[1;32mIn[50], line 1\u001b[0m\n\u001b[1;32m----> 1\u001b[0m str1\u001b[38;5;241m/\u001b[39mstr2\n",
      "\u001b[1;31mTypeError\u001b[0m: unsupported operand type(s) for /: 'str' and 'str'"
     ]
    }
   ],
   "source": [
    "str1/str2"
   ]
  },
  {
   "cell_type": "code",
   "execution_count": 51,
   "id": "49a0e382-5e75-4d8e-bf16-892acce002f3",
   "metadata": {},
   "outputs": [
    {
     "data": {
      "text/plain": [
       "'hellohellohello'"
      ]
     },
     "execution_count": 51,
     "metadata": {},
     "output_type": "execute_result"
    }
   ],
   "source": [
    "n=3\n",
    "str1*n"
   ]
  },
  {
   "cell_type": "markdown",
   "id": "cffd2622-2240-45fa-a209-f0723ea5abed",
   "metadata": {},
   "source": [
    "**Indexing**"
   ]
  },
  {
   "cell_type": "code",
   "execution_count": 4,
   "id": "b09f7947-39f9-43e8-b815-461884242681",
   "metadata": {},
   "outputs": [],
   "source": [
    "str1='python'\n",
    "# -6  -5  -4  -3  -2  -1\n",
    "# 'p' 'y' 't' 'h' 'o' 'n'\n",
    "#  0   1   2   3   4   5"
   ]
  },
  {
   "cell_type": "code",
   "execution_count": 6,
   "id": "2b0e7a3d-c0d3-44b5-b063-4f6fa5e3baf3",
   "metadata": {},
   "outputs": [
    {
     "data": {
      "text/plain": [
       "('p', 'p')"
      ]
     },
     "execution_count": 6,
     "metadata": {},
     "output_type": "execute_result"
    }
   ],
   "source": [
    "str1[0],str1[-6]"
   ]
  },
  {
   "cell_type": "code",
   "execution_count": 1,
   "id": "b55033b5-e62c-44db-8551-9f4d080c1729",
   "metadata": {},
   "outputs": [],
   "source": [
    "str1='hello python'"
   ]
  },
  {
   "cell_type": "code",
   "execution_count": null,
   "id": "465feb42-decf-4526-9d21-33ebc7a579b3",
   "metadata": {},
   "outputs": [],
   "source": [
    "-12 -11 -10 -9 -8 -7 -6 -5 -4 -3 -2 -1\n",
    "h    e   l   l  o     p  y  t  h  o  n\n",
    "0    1   2   3  4  5  6  7  8  9 10 11"
   ]
  },
  {
   "cell_type": "code",
   "execution_count": 2,
   "id": "b16d30ef-be8a-49fa-90e3-4048a2d3afb5",
   "metadata": {},
   "outputs": [
    {
     "data": {
      "text/plain": [
       "(' ', 'h')"
      ]
     },
     "execution_count": 2,
     "metadata": {},
     "output_type": "execute_result"
    }
   ],
   "source": [
    "str1[5],str1[9]"
   ]
  },
  {
   "cell_type": "code",
   "execution_count": 3,
   "id": "8a8a3eb3-8393-4a12-97f1-be08402bb5f0",
   "metadata": {},
   "outputs": [
    {
     "data": {
      "text/plain": [
       "'h'"
      ]
     },
     "execution_count": 3,
     "metadata": {},
     "output_type": "execute_result"
    }
   ],
   "source": [
    "str1[-3]"
   ]
  },
  {
   "cell_type": "code",
   "execution_count": 5,
   "id": "7108465a-d077-460d-ac6b-d5ba341f65d8",
   "metadata": {},
   "outputs": [
    {
     "data": {
      "text/plain": [
       "'p'"
      ]
     },
     "execution_count": 5,
     "metadata": {},
     "output_type": "execute_result"
    }
   ],
   "source": [
    "str1='python'\n",
    "# -6  -5  -4  -3  -2  -1\n",
    "# 'p' 'y' 't' 'h' 'o' 'n'\n",
    "#  0   1   2   3   4   5\n",
    "\n",
    "str1[0]\n",
    "str1[1]\n",
    "str1[2]\n",
    "str1[3]\n",
    "str1[4]\n",
    "str1[5]\n",
    "\n",
    "str1[i]  # i is a number i =0 and ends =5"
   ]
  },
  {
   "cell_type": "code",
   "execution_count": 6,
   "id": "65d606ea-a9c1-4576-b121-30d29dffb5eb",
   "metadata": {},
   "outputs": [
    {
     "name": "stdout",
     "output_type": "stream",
     "text": [
      "0 p\n",
      "1 y\n",
      "2 t\n",
      "3 h\n",
      "4 o\n",
      "5 n\n",
      "6  \n",
      "7 h\n",
      "8 e\n",
      "9 l\n",
      "10 l\n",
      "11 o\n"
     ]
    }
   ],
   "source": [
    "str1='python hello'\n",
    "for i in range(len(str1)):\n",
    "    print(i,str1[i])\n",
    "# i=0    str1[0]   p\n",
    "# i=1    str1[1]   y"
   ]
  },
  {
   "cell_type": "code",
   "execution_count": 2,
   "id": "0734ac75-2290-4be8-9a96-00b8d3d8f35f",
   "metadata": {},
   "outputs": [
    {
     "name": "stdout",
     "output_type": "stream",
     "text": [
      "the postive index of p is : 0\n",
      "the postive index of y is : 1\n",
      "the postive index of t is : 2\n",
      "the postive index of h is : 3\n",
      "the postive index of o is : 4\n",
      "the postive index of n is : 5\n"
     ]
    }
   ],
   "source": [
    "str1='python'\n",
    "for i in range(len(str1)):\n",
    "    print(f\"the postive index of {str1[i]} is : {i}\")"
   ]
  },
  {
   "cell_type": "code",
   "execution_count": 8,
   "id": "ecd4fbe1-09ff-4c8d-aabe-fd89056ab8bc",
   "metadata": {},
   "outputs": [
    {
     "name": "stdout",
     "output_type": "stream",
     "text": [
      "the negative index of p is : -6\n",
      "the negative index of y is : -5\n",
      "the negative index of t is : -4\n",
      "the negative index of h is : -3\n",
      "the negative index of o is : -2\n",
      "the negative index of n is : -1\n"
     ]
    }
   ],
   "source": [
    "n=len(str1)\n",
    "for i in range(n):\n",
    "    print(f\"the negative index of {str1[i]} is : {i-n}\")"
   ]
  },
  {
   "cell_type": "code",
   "execution_count": 3,
   "id": "34ee766a-3f16-4ff0-8471-78023782e8d3",
   "metadata": {},
   "outputs": [
    {
     "name": "stdout",
     "output_type": "stream",
     "text": [
      "-6 is (-) index and 0 is (+)ve index of p\n",
      "-5 is (-) index and 1 is (+)ve index of y\n",
      "-4 is (-) index and 2 is (+)ve index of t\n",
      "-3 is (-) index and 3 is (+)ve index of h\n",
      "-2 is (-) index and 4 is (+)ve index of o\n",
      "-1 is (-) index and 5 is (+)ve index of n\n"
     ]
    }
   ],
   "source": [
    "#-6 is negative index , 0 is postive index for a letter p\n",
    "n=len(str1)\n",
    "for i in range(n):\n",
    "    print(f\"{i-n} is (-) index and {i} is (+)ve index of {str1[i]}\")"
   ]
  },
  {
   "cell_type": "markdown",
   "id": "825d0382-4659-4d6c-97f1-dc19eb7d7851",
   "metadata": {},
   "source": [
    "**when to use range - when to use in operator**\n",
    "- any problem if we work with index use range operator\n",
    "- range operator will give index as well as charcter\n",
    "- any problem if index is not use ful, only chracter is useful then go with in\n",
    "- with in operator we can not get index"
   ]
  },
  {
   "cell_type": "code",
   "execution_count": null,
   "id": "18f810ef-798a-47a7-95fc-08528b0f5d43",
   "metadata": {},
   "outputs": [],
   "source": [
    "#Q4) write a program count the number of 'a' letters in a given string\n",
    "# str1='ola ola ola'\n",
    "#Q5) write a program to find the index of 'a' letters in a given string\n",
    "# str1='ola ola ola'\n",
    "#Q6) write a program to get sum of all the indexes of 'a' letters in a given str\n",
    "# str1='ola ola ola'\n",
    "#Q7) write a program to find the number of vowels in a given string\n",
    "# str1='hello how are you'\n",
    "#Q8) wap to find the non repeated vowels in a given string\n",
    "# str1='hello how are you'"
   ]
  },
  {
   "cell_type": "code",
   "execution_count": 10,
   "id": "f74d32e5-60c1-4c30-a585-c2d6dab59248",
   "metadata": {},
   "outputs": [
    {
     "name": "stdout",
     "output_type": "stream",
     "text": [
      "the total 'a' are: 3\n"
     ]
    }
   ],
   "source": [
    "#Q4) write a program count the number of 'a' letters in a given string\n",
    "str1='ola ola ola'\n",
    "count=0\n",
    "for i in str1:\n",
    "    if i=='a':\n",
    "        count=count+1\n",
    "print(\"the total 'a' are:\",count)"
   ]
  },
  {
   "cell_type": "code",
   "execution_count": 11,
   "id": "c2a505c2-daba-4bdf-8a12-9fe7d1ae313a",
   "metadata": {},
   "outputs": [
    {
     "name": "stdout",
     "output_type": "stream",
     "text": [
      "a has index at 2\n",
      "a has index at 6\n",
      "a has index at 10\n"
     ]
    }
   ],
   "source": [
    "str1='ola ola ola'\n",
    "for i in range(len(str1)):\n",
    "    if str1[i]=='a':\n",
    "        print(f\"{str1[i]} has index at {i}\")"
   ]
  },
  {
   "cell_type": "code",
   "execution_count": 13,
   "id": "5829327b-b028-459c-978d-c7fe801c0feb",
   "metadata": {},
   "outputs": [
    {
     "name": "stdout",
     "output_type": "stream",
     "text": [
      "the total summ is: 18\n"
     ]
    }
   ],
   "source": [
    "str1='ola ola ola'\n",
    "summ=0\n",
    "for i in range(len(str1)):\n",
    "    if str1[i]=='a':\n",
    "        summ=summ+i\n",
    "\n",
    "print(\"the total summ is:\",summ)"
   ]
  },
  {
   "cell_type": "code",
   "execution_count": 14,
   "id": "4855f064-7978-4709-aecf-da2016f48edb",
   "metadata": {},
   "outputs": [
    {
     "name": "stdout",
     "output_type": "stream",
     "text": [
      "e\n",
      "o\n",
      "o\n",
      "a\n",
      "e\n",
      "o\n",
      "u\n",
      "the number of vowels are: 7\n"
     ]
    }
   ],
   "source": [
    "#Q7) write a program to find the number of vowels in a given string \n",
    "str1='hello how are you' \n",
    "count=0 \n",
    "for i in str1: \n",
    "    if i in 'aeiou': \n",
    "        print(i) \n",
    "        count+=1 \n",
    "print(\"the number of vowels are:\",count) \n"
   ]
  },
  {
   "cell_type": "code",
   "execution_count": 15,
   "id": "fd199027-33f0-479f-a18c-a1bcf89e1099",
   "metadata": {},
   "outputs": [
    {
     "name": "stdout",
     "output_type": "stream",
     "text": [
      "e\n",
      "o\n",
      "a\n",
      "u\n",
      "the total count is: 4\n"
     ]
    }
   ],
   "source": [
    "# Q8) we need avoid the repeatition \n",
    "# take empty string s1='' \n",
    "# take another vowel string s2='aeiou' \n",
    "# iterate each letter \n",
    "# con1= the letter in s2 \n",
    "# con2= the letter not in s1 \n",
    "# than that is our desired vowel them immediatly push that letter into s1 # s1=s1+<letter> \n",
    "# every vowel should come but we need to avoid the repeatition \n",
    "# non reapeating ===== a (try today) \n",
    "s1='' \n",
    "s2='aeiou' \n",
    "str1='hello how are you' \n",
    "count=0 \n",
    "for i in str1: \n",
    "    if i in s2 and i not in s1: \n",
    "        print(i) \n",
    "        s1=s1+i \n",
    "        count=count+1 \n",
    "print(\"the total count is:\",count)"
   ]
  },
  {
   "cell_type": "code",
   "execution_count": null,
   "id": "4875cdab-1a9f-41be-92c8-e71f21ad6231",
   "metadata": {},
   "outputs": [],
   "source": [
    "# Slicing\n",
    "# methods strings\n",
    "# functions\n",
    "# strings === list dic\n",
    "\n",
    "str2=\"ABCD123456789\"\n",
    "ans= reversed(str2)\n",
    "#Below Loop is commented\n",
    "#for i in ans:\n",
    "    #print(i,end=\" \")\n",
    "list(ans)"
   ]
  },
  {
   "cell_type": "markdown",
   "id": "90549a14-bfbf-4135-9aef-f0291a3a2263",
   "metadata": {},
   "source": [
    "**mutable and immutable**"
   ]
  },
  {
   "cell_type": "code",
   "execution_count": null,
   "id": "0000e164-c57b-4a0a-a22d-7b9f27e0de63",
   "metadata": {},
   "outputs": [],
   "source": [
    "str1='welcome'\n",
    "#change l with L\n"
   ]
  },
  {
   "cell_type": "markdown",
   "id": "1577ba51-896b-404e-9a5f-11cd4c6526fe",
   "metadata": {},
   "source": [
    "- if the element will change using indexing is called as mutable\n",
    "- otherwise immutable"
   ]
  },
  {
   "cell_type": "markdown",
   "id": "dc3bad03-a596-4ea9-9e08-06d975b96e07",
   "metadata": {},
   "source": [
    "**Slicing**"
   ]
  },
  {
   "cell_type": "markdown",
   "id": "98121e2b-ea02-42af-bfd6-0286bd4b3500",
   "metadata": {},
   "source": [
    "- slice: piece of the string\n",
    "- it is similar to for loop start stop step"
   ]
  },
  {
   "cell_type": "code",
   "execution_count": 1,
   "id": "c9a0b414-aebf-415a-8d70-108017092d56",
   "metadata": {},
   "outputs": [],
   "source": [
    "str1='hello how are you'"
   ]
  },
  {
   "cell_type": "code",
   "execution_count": 2,
   "id": "9d650fb5-692a-4779-aca2-dae72c90a731",
   "metadata": {},
   "outputs": [
    {
     "data": {
      "text/plain": [
       "17"
      ]
     },
     "execution_count": 2,
     "metadata": {},
     "output_type": "execute_result"
    }
   ],
   "source": [
    "len(str1)"
   ]
  },
  {
   "cell_type": "code",
   "execution_count": null,
   "id": "821da807-82e3-496b-8481-c0dbf736d754",
   "metadata": {},
   "outputs": [],
   "source": [
    "-17 -16 -15 -14 -13 -12 -11 -10 -9  -8 -7  -6  -5  -4  -3  -2  -1\n",
    "h    e   l   l   o       h   o   w      a   r   e       y   o   u \n",
    "0    1   2   3   4   5   6   7   8   9  10  11  12  13  14  15  16"
   ]
  },
  {
   "cell_type": "markdown",
   "id": "3472cb95-85aa-41f8-964e-438757871f58",
   "metadata": {},
   "source": [
    "**case1:str[start:]**"
   ]
  },
  {
   "cell_type": "markdown",
   "id": "56acfffe-9ad7-41de-9715-198ed649c0da",
   "metadata": {},
   "source": [
    "- str1[start:]\n",
    "- start= start value only\n",
    "- last not mentioned means it will go to till last"
   ]
  },
  {
   "cell_type": "code",
   "execution_count": 3,
   "id": "16f64945-cbf5-4a4e-920e-85aef0febe0b",
   "metadata": {},
   "outputs": [
    {
     "data": {
      "text/plain": [
       "' how are you'"
      ]
     },
     "execution_count": 3,
     "metadata": {},
     "output_type": "execute_result"
    }
   ],
   "source": [
    "str1[5:]"
   ]
  },
  {
   "cell_type": "code",
   "execution_count": 4,
   "id": "86eefc4f-b55f-49d2-adb2-b4abdd41f4ed",
   "metadata": {},
   "outputs": [
    {
     "data": {
      "text/plain": [
       "'e you'"
      ]
     },
     "execution_count": 4,
     "metadata": {},
     "output_type": "execute_result"
    }
   ],
   "source": [
    "str1[-5:]"
   ]
  },
  {
   "cell_type": "markdown",
   "id": "d0106b91-6823-402e-9b28-a0e9b8e5c153",
   "metadata": {},
   "source": [
    "**case2: str1[start:stop]**"
   ]
  },
  {
   "cell_type": "markdown",
   "id": "5f38f5da-f5b1-461b-a9e7-aef6d148b92e",
   "metadata": {},
   "source": [
    "- start=start value\n",
    "- step not mentioned means it is positive side\n",
    "- stop=stop-1"
   ]
  },
  {
   "cell_type": "code",
   "execution_count": 6,
   "id": "1acec97b-f20e-4213-9a28-285e71be96a5",
   "metadata": {},
   "outputs": [
    {
     "data": {
      "text/plain": [
       "'llo how are yo'"
      ]
     },
     "execution_count": 6,
     "metadata": {},
     "output_type": "execute_result"
    }
   ],
   "source": [
    "str1[2:16]"
   ]
  },
  {
   "cell_type": "code",
   "execution_count": 8,
   "id": "fe4b8c3c-1431-4930-a7e8-ef256db2a157",
   "metadata": {},
   "outputs": [
    {
     "data": {
      "text/plain": [
       "' how are y'"
      ]
     },
     "execution_count": 8,
     "metadata": {},
     "output_type": "execute_result"
    }
   ],
   "source": [
    "str1[-12:-2]"
   ]
  },
  {
   "cell_type": "markdown",
   "id": "ff79b336-c265-4283-b521-ba543a9d2223",
   "metadata": {},
   "source": [
    "**case3:str1[start:stop:step]**"
   ]
  },
  {
   "cell_type": "code",
   "execution_count": 13,
   "id": "64561c9b-4663-4d26-a60f-3ab39bbc1199",
   "metadata": {},
   "outputs": [
    {
     "data": {
      "text/plain": [
       "'l'"
      ]
     },
     "execution_count": 13,
     "metadata": {},
     "output_type": "execute_result"
    }
   ],
   "source": [
    "str1[2:-14:1]"
   ]
  },
  {
   "cell_type": "code",
   "execution_count": 15,
   "id": "4ad27286-2230-47d8-8dad-dbb92bcea76a",
   "metadata": {},
   "outputs": [
    {
     "data": {
      "text/plain": [
       "'llo how are you'"
      ]
     },
     "execution_count": 15,
     "metadata": {},
     "output_type": "execute_result"
    }
   ],
   "source": [
    "str1[2:25]"
   ]
  },
  {
   "cell_type": "code",
   "execution_count": null,
   "id": "b4cc4474-d53e-40b3-9728-e7502f55f496",
   "metadata": {},
   "outputs": [],
   "source": [
    "str1[:] # [start:stop]\n",
    "str1[::] # [start:stop:step]\n",
    "str1[::-1] # reverse"
   ]
  },
  {
   "cell_type": "markdown",
   "id": "121e4d01-f086-4a0b-9b3a-f384c5143204",
   "metadata": {},
   "source": [
    "**Methods**"
   ]
  },
  {
   "cell_type": "code",
   "execution_count": 16,
   "id": "aa406bad-5675-49b6-ab20-d010496158ab",
   "metadata": {},
   "outputs": [
    {
     "data": {
      "text/plain": [
       "0"
      ]
     },
     "execution_count": 16,
     "metadata": {},
     "output_type": "execute_result"
    }
   ],
   "source": [
    "len('')"
   ]
  },
  {
   "cell_type": "code",
   "execution_count": 18,
   "id": "79b4d0d7-da06-4af4-9432-cc463e92ba5e",
   "metadata": {},
   "outputs": [
    {
     "data": {
      "text/plain": [
       "['__add__',\n",
       " '__class__',\n",
       " '__contains__',\n",
       " '__delattr__',\n",
       " '__dir__',\n",
       " '__doc__',\n",
       " '__eq__',\n",
       " '__format__',\n",
       " '__ge__',\n",
       " '__getattribute__',\n",
       " '__getitem__',\n",
       " '__getnewargs__',\n",
       " '__getstate__',\n",
       " '__gt__',\n",
       " '__hash__',\n",
       " '__init__',\n",
       " '__init_subclass__',\n",
       " '__iter__',\n",
       " '__le__',\n",
       " '__len__',\n",
       " '__lt__',\n",
       " '__mod__',\n",
       " '__mul__',\n",
       " '__ne__',\n",
       " '__new__',\n",
       " '__reduce__',\n",
       " '__reduce_ex__',\n",
       " '__repr__',\n",
       " '__rmod__',\n",
       " '__rmul__',\n",
       " '__setattr__',\n",
       " '__sizeof__',\n",
       " '__str__',\n",
       " '__subclasshook__',\n",
       " 'capitalize',\n",
       " 'casefold',\n",
       " 'center',\n",
       " 'count',\n",
       " 'encode',\n",
       " 'endswith',\n",
       " 'expandtabs',\n",
       " 'find',\n",
       " 'format',\n",
       " 'format_map',\n",
       " 'index',\n",
       " 'isalnum',\n",
       " 'isalpha',\n",
       " 'isascii',\n",
       " 'isdecimal',\n",
       " 'isdigit',\n",
       " 'isidentifier',\n",
       " 'islower',\n",
       " 'isnumeric',\n",
       " 'isprintable',\n",
       " 'isspace',\n",
       " 'istitle',\n",
       " 'isupper',\n",
       " 'join',\n",
       " 'ljust',\n",
       " 'lower',\n",
       " 'lstrip',\n",
       " 'maketrans',\n",
       " 'partition',\n",
       " 'removeprefix',\n",
       " 'removesuffix',\n",
       " 'replace',\n",
       " 'rfind',\n",
       " 'rindex',\n",
       " 'rjust',\n",
       " 'rpartition',\n",
       " 'rsplit',\n",
       " 'rstrip',\n",
       " 'split',\n",
       " 'splitlines',\n",
       " 'startswith',\n",
       " 'strip',\n",
       " 'swapcase',\n",
       " 'title',\n",
       " 'translate',\n",
       " 'upper',\n",
       " 'zfill']"
      ]
     },
     "execution_count": 18,
     "metadata": {},
     "output_type": "execute_result"
    }
   ],
   "source": [
    "dir('randon')"
   ]
  },
  {
   "cell_type": "code",
   "execution_count": 17,
   "id": "b642cc49-940d-4294-85fe-628119f43a8a",
   "metadata": {},
   "outputs": [
    {
     "data": {
      "text/plain": [
       "['__add__',\n",
       " '__class__',\n",
       " '__contains__',\n",
       " '__delattr__',\n",
       " '__dir__',\n",
       " '__doc__',\n",
       " '__eq__',\n",
       " '__format__',\n",
       " '__ge__',\n",
       " '__getattribute__',\n",
       " '__getitem__',\n",
       " '__getnewargs__',\n",
       " '__getstate__',\n",
       " '__gt__',\n",
       " '__hash__',\n",
       " '__init__',\n",
       " '__init_subclass__',\n",
       " '__iter__',\n",
       " '__le__',\n",
       " '__len__',\n",
       " '__lt__',\n",
       " '__mod__',\n",
       " '__mul__',\n",
       " '__ne__',\n",
       " '__new__',\n",
       " '__reduce__',\n",
       " '__reduce_ex__',\n",
       " '__repr__',\n",
       " '__rmod__',\n",
       " '__rmul__',\n",
       " '__setattr__',\n",
       " '__sizeof__',\n",
       " '__str__',\n",
       " '__subclasshook__',\n",
       " 'capitalize',\n",
       " 'casefold',\n",
       " 'center',\n",
       " 'count',\n",
       " 'encode',\n",
       " 'endswith',\n",
       " 'expandtabs',\n",
       " 'find',\n",
       " 'format',\n",
       " 'format_map',\n",
       " 'index',\n",
       " 'isalnum',\n",
       " 'isalpha',\n",
       " 'isascii',\n",
       " 'isdecimal',\n",
       " 'isdigit',\n",
       " 'isidentifier',\n",
       " 'islower',\n",
       " 'isnumeric',\n",
       " 'isprintable',\n",
       " 'isspace',\n",
       " 'istitle',\n",
       " 'isupper',\n",
       " 'join',\n",
       " 'ljust',\n",
       " 'lower',\n",
       " 'lstrip',\n",
       " 'maketrans',\n",
       " 'partition',\n",
       " 'removeprefix',\n",
       " 'removesuffix',\n",
       " 'replace',\n",
       " 'rfind',\n",
       " 'rindex',\n",
       " 'rjust',\n",
       " 'rpartition',\n",
       " 'rsplit',\n",
       " 'rstrip',\n",
       " 'split',\n",
       " 'splitlines',\n",
       " 'startswith',\n",
       " 'strip',\n",
       " 'swapcase',\n",
       " 'title',\n",
       " 'translate',\n",
       " 'upper',\n",
       " 'zfill']"
      ]
     },
     "execution_count": 17,
     "metadata": {},
     "output_type": "execute_result"
    }
   ],
   "source": [
    "dir('')"
   ]
  },
  {
   "cell_type": "markdown",
   "id": "30cc281e-76b0-4b85-b949-4e74e74eac68",
   "metadata": {},
   "source": [
    "**upper**"
   ]
  },
  {
   "cell_type": "code",
   "execution_count": 37,
   "id": "24289031-45cb-4cfd-a0de-475d45823e16",
   "metadata": {},
   "outputs": [
    {
     "data": {
      "text/plain": [
       "'PYTHON'"
      ]
     },
     "execution_count": 37,
     "metadata": {},
     "output_type": "execute_result"
    }
   ],
   "source": [
    "name='python'\n",
    "dir(name)\n",
    "name.upper()  #output will not overwrite"
   ]
  },
  {
   "cell_type": "code",
   "execution_count": 20,
   "id": "55a80dd3-ad58-4fe3-a0ee-670bf96773d3",
   "metadata": {},
   "outputs": [
    {
     "data": {
      "text/plain": [
       "'python'"
      ]
     },
     "execution_count": 20,
     "metadata": {},
     "output_type": "execute_result"
    }
   ],
   "source": [
    "name.lower()"
   ]
  },
  {
   "cell_type": "code",
   "execution_count": 21,
   "id": "87811fa3-a23e-4101-93a1-eebb52ff23b3",
   "metadata": {},
   "outputs": [
    {
     "data": {
      "text/plain": [
       "'python'"
      ]
     },
     "execution_count": 21,
     "metadata": {},
     "output_type": "execute_result"
    }
   ],
   "source": [
    "name.casefold()"
   ]
  },
  {
   "cell_type": "code",
   "execution_count": 32,
   "id": "3c9879b2-e054-4a69-a3d2-5a6f47069cd0",
   "metadata": {},
   "outputs": [
    {
     "data": {
      "text/plain": [
       "'                      python                      '"
      ]
     },
     "execution_count": 32,
     "metadata": {},
     "output_type": "execute_result"
    }
   ],
   "source": [
    "name.center(50)"
   ]
  },
  {
   "cell_type": "code",
   "execution_count": 30,
   "id": "9261cfc4-6a57-415b-83d2-1d2c02549f67",
   "metadata": {},
   "outputs": [
    {
     "data": {
      "text/plain": [
       "'Python'"
      ]
     },
     "execution_count": 30,
     "metadata": {},
     "output_type": "execute_result"
    }
   ],
   "source": [
    "name.title()"
   ]
  },
  {
   "cell_type": "code",
   "execution_count": 36,
   "id": "c4156ccc-cdbd-4363-a751-02b49ce6ebd7",
   "metadata": {},
   "outputs": [
    {
     "data": {
      "text/plain": [
       "'~~~~~~~~~~~~~~~~~~~~~~python~~~~~~~~~~~~~~~~~~~~~~'"
      ]
     },
     "execution_count": 36,
     "metadata": {},
     "output_type": "execute_result"
    }
   ],
   "source": [
    "name.center(50,'~')"
   ]
  },
  {
   "cell_type": "markdown",
   "id": "b9608504-783b-4f50-8e5c-d954b4ae828f",
   "metadata": {},
   "source": [
    "**output will not overwrite**\n",
    "\n",
    "- whenever we apply the function\n",
    "- always apply shift+tab\n",
    "- then if any arguments are there try to understand those\n",
    "- in that 1 argumen name is called as **inplace**\n",
    "- inplace = True the result will be overwrite in orgina variable\n",
    "- if inplace not available or inplace = Fale\n",
    "- then the output will not overwrite\n",
    "- in the upper case there is no inplace\n",
    "- so when we apply upper the output will not overwrite"
   ]
  },
  {
   "cell_type": "code",
   "execution_count": 39,
   "id": "8c230e3f-47c8-41ca-813f-ac45b8ee4d4e",
   "metadata": {},
   "outputs": [
    {
     "name": "stdout",
     "output_type": "stream",
     "text": [
      "PYTHON\n",
      "python\n"
     ]
    }
   ],
   "source": [
    "name='python'\n",
    "name_upper=name.upper()\n",
    "print(name_upper)\n",
    "print(name)"
   ]
  },
  {
   "cell_type": "code",
   "execution_count": 42,
   "id": "65a23cc9-67ca-4606-9fa9-d33881163788",
   "metadata": {},
   "outputs": [
    {
     "data": {
      "text/plain": [
       "'python'"
      ]
     },
     "execution_count": 42,
     "metadata": {},
     "output_type": "execute_result"
    }
   ],
   "source": [
    "'PYTHON'.lower()"
   ]
  },
  {
   "cell_type": "markdown",
   "id": "bb057e2c-c878-4ea3-8413-3ff5a50aa72c",
   "metadata": {},
   "source": [
    "**Method vs Inbuilt functions**\n",
    "\n",
    "- inbuilt function applicable for all python data types\n",
    "- ex: print,type,max,min....\n",
    "- access: inbuilt_function(<value>)\n",
    "- method is a specific use for different data types\n",
    "- access: package.methodname()\n",
    "- access: element.methodname()"
   ]
  },
  {
   "cell_type": "code",
   "execution_count": 44,
   "id": "3ba72a18-1a2a-4a69-83b0-b5031497a720",
   "metadata": {},
   "outputs": [
    {
     "data": {
      "text/plain": [
       "'python'"
      ]
     },
     "execution_count": 44,
     "metadata": {},
     "output_type": "execute_result"
    }
   ],
   "source": [
    "'Python'.casefold()"
   ]
  },
  {
   "cell_type": "code",
   "execution_count": 45,
   "id": "9fb7d4e8-d684-416c-bcd8-e7210f014adc",
   "metadata": {},
   "outputs": [
    {
     "data": {
      "text/plain": [
       "'python'"
      ]
     },
     "execution_count": 45,
     "metadata": {},
     "output_type": "execute_result"
    }
   ],
   "source": [
    "'python'.casefold()"
   ]
  },
  {
   "cell_type": "code",
   "execution_count": 46,
   "id": "c91e401e-2581-48ad-9767-b2d42cf6e4a2",
   "metadata": {},
   "outputs": [
    {
     "data": {
      "text/plain": [
       "'python'"
      ]
     },
     "execution_count": 46,
     "metadata": {},
     "output_type": "execute_result"
    }
   ],
   "source": [
    "'PYTHON'.casefold()"
   ]
  },
  {
   "cell_type": "markdown",
   "id": "12e42703-68fb-4398-936c-5179e2100b80",
   "metadata": {},
   "source": [
    "**capitalize**"
   ]
  },
  {
   "cell_type": "code",
   "execution_count": 47,
   "id": "3cc7e7e4-f64d-4c2c-bf4a-aedec74225f5",
   "metadata": {},
   "outputs": [
    {
     "data": {
      "text/plain": [
       "'Welcome'"
      ]
     },
     "execution_count": 47,
     "metadata": {},
     "output_type": "execute_result"
    }
   ],
   "source": [
    "str1='welcome'\n",
    "str1.capitalize()"
   ]
  },
  {
   "cell_type": "code",
   "execution_count": 48,
   "id": "6a45721c-b28f-4b26-9c98-3e9df97348cf",
   "metadata": {},
   "outputs": [
    {
     "data": {
      "text/plain": [
       "'Hello welcome'"
      ]
     },
     "execution_count": 48,
     "metadata": {},
     "output_type": "execute_result"
    }
   ],
   "source": [
    "str1='hello welcome'\n",
    "str1.capitalize()"
   ]
  },
  {
   "cell_type": "code",
   "execution_count": 49,
   "id": "70b46c8e-5a98-4098-a71d-74173fb7dda3",
   "metadata": {},
   "outputs": [
    {
     "data": {
      "text/plain": [
       "'Welcome'"
      ]
     },
     "execution_count": 49,
     "metadata": {},
     "output_type": "execute_result"
    }
   ],
   "source": [
    "str1='welcome'\n",
    "str1.title()"
   ]
  },
  {
   "cell_type": "code",
   "execution_count": 50,
   "id": "c3b944c5-911e-4e02-adf4-997cfc06c35c",
   "metadata": {},
   "outputs": [
    {
     "data": {
      "text/plain": [
       "'Hello Welcome'"
      ]
     },
     "execution_count": 50,
     "metadata": {},
     "output_type": "execute_result"
    }
   ],
   "source": [
    "str1='hello welcome'\n",
    "str1.title()"
   ]
  },
  {
   "cell_type": "code",
   "execution_count": 51,
   "id": "28a39f96-52dc-4bdc-992b-790fe4fcf5f6",
   "metadata": {},
   "outputs": [
    {
     "data": {
      "text/plain": [
       "'Welcome'"
      ]
     },
     "execution_count": 51,
     "metadata": {},
     "output_type": "execute_result"
    }
   ],
   "source": [
    "'welcome'.title()"
   ]
  },
  {
   "cell_type": "markdown",
   "id": "5c07287c-6d18-475c-b91a-ff278b2ba239",
   "metadata": {},
   "source": [
    "**center**"
   ]
  },
  {
   "cell_type": "code",
   "execution_count": 53,
   "id": "fda0852c-0665-4d41-8c5e-d33a496aa60f",
   "metadata": {},
   "outputs": [
    {
     "data": {
      "text/plain": [
       "'                                       python                                      '"
      ]
     },
     "execution_count": 53,
     "metadata": {},
     "output_type": "execute_result"
    }
   ],
   "source": [
    "str1='python'\n",
    "str1.center(83)"
   ]
  },
  {
   "cell_type": "code",
   "execution_count": 55,
   "id": "a3206c9e-65a8-439e-9577-582fec00181c",
   "metadata": {},
   "outputs": [
    {
     "data": {
      "text/plain": [
       "'*python*'"
      ]
     },
     "execution_count": 55,
     "metadata": {},
     "output_type": "execute_result"
    }
   ],
   "source": [
    "str1='python'\n",
    "str1.center(8,'*')"
   ]
  },
  {
   "cell_type": "markdown",
   "id": "63e21bcb-355c-4029-a365-faab519640a0",
   "metadata": {},
   "source": [
    "**replace**"
   ]
  },
  {
   "cell_type": "code",
   "execution_count": 58,
   "id": "8389c164-c22a-4daa-821e-d5563faf98a9",
   "metadata": {},
   "outputs": [
    {
     "data": {
      "text/plain": [
       "'Welcome'"
      ]
     },
     "execution_count": 58,
     "metadata": {},
     "output_type": "execute_result"
    }
   ],
   "source": [
    "str1='welcome'\n",
    "str1.replace('w','W')"
   ]
  },
  {
   "cell_type": "code",
   "execution_count": 59,
   "id": "94dd3646-f979-4903-a7fe-41422ffc65e3",
   "metadata": {},
   "outputs": [
    {
     "data": {
      "text/plain": [
       "'weLLLLcome'"
      ]
     },
     "execution_count": 59,
     "metadata": {},
     "output_type": "execute_result"
    }
   ],
   "source": [
    "str1='wellllcome'\n",
    "str1.replace('l','L')"
   ]
  },
  {
   "cell_type": "code",
   "execution_count": 65,
   "id": "fa90ba8c-e274-4256-8dac-881e3a3266c0",
   "metadata": {},
   "outputs": [
    {
     "data": {
      "text/plain": [
       "'weLLLLcome'"
      ]
     },
     "execution_count": 65,
     "metadata": {},
     "output_type": "execute_result"
    }
   ],
   "source": [
    "str1='wellllcome'\n",
    "str1.replace('l','L',4)"
   ]
  },
  {
   "cell_type": "markdown",
   "id": "5a286307-a6a3-4764-8360-c30c58c3c114",
   "metadata": {},
   "source": [
    "- upper\n",
    "- lower\n",
    "- capitalize\n",
    "- title\n",
    "- casefold\n",
    "- center\n",
    "- replace"
   ]
  },
  {
   "cell_type": "code",
   "execution_count": 1,
   "id": "4d6b45dd-b7fa-4cee-bd1a-08eaf6a55c6b",
   "metadata": {},
   "outputs": [
    {
     "data": {
      "text/plain": [
       "'heLLo'"
      ]
     },
     "execution_count": 1,
     "metadata": {},
     "output_type": "execute_result"
    }
   ],
   "source": [
    "str1='hello'\n",
    "str1.replace('l','L') # count=-1"
   ]
  },
  {
   "cell_type": "code",
   "execution_count": 4,
   "id": "8b70c547-e7d8-4fd5-929b-7baee764dae4",
   "metadata": {},
   "outputs": [
    {
     "data": {
      "text/plain": [
       "'heLlo'"
      ]
     },
     "execution_count": 4,
     "metadata": {},
     "output_type": "execute_result"
    }
   ],
   "source": [
    "str1.replace('l','L',1)"
   ]
  },
  {
   "cell_type": "markdown",
   "id": "dcad3673-26dd-44a9-a7e1-73071c04f2e8",
   "metadata": {},
   "source": [
    "**How to replace the only second letter**"
   ]
  },
  {
   "cell_type": "code",
   "execution_count": 5,
   "id": "ce99ebec-6f5a-4ca2-ae45-43af45b08b6b",
   "metadata": {},
   "outputs": [
    {
     "data": {
      "text/plain": [
       "'resta$t'"
      ]
     },
     "execution_count": 5,
     "metadata": {},
     "output_type": "execute_result"
    }
   ],
   "source": [
    "str1='restart'\n",
    "# ans: 'resta$t'\n",
    "str1.replace('rt','$t') # wrong"
   ]
  },
  {
   "cell_type": "code",
   "execution_count": null,
   "id": "7f929b06-079d-4566-8df7-1d2223a0a3ad",
   "metadata": {},
   "outputs": [],
   "source": []
  }
 ],
 "metadata": {
  "kernelspec": {
   "display_name": "Python 3 (ipykernel)",
   "language": "python",
   "name": "python3"
  },
  "language_info": {
   "codemirror_mode": {
    "name": "ipython",
    "version": 3
   },
   "file_extension": ".py",
   "mimetype": "text/x-python",
   "name": "python",
   "nbconvert_exporter": "python",
   "pygments_lexer": "ipython3",
   "version": "3.12.4"
  }
 },
 "nbformat": 4,
 "nbformat_minor": 5
}
