{
 "cells": [
  {
   "cell_type": "code",
   "execution_count": 1,
   "id": "50551494-8c28-43bb-b3e1-a84ee09b072c",
   "metadata": {},
   "outputs": [
    {
     "name": "stdout",
     "output_type": "stream",
     "text": [
      "30\n",
      "20\n"
     ]
    },
    {
     "data": {
      "text/plain": [
       "(None, None)"
      ]
     },
     "execution_count": 1,
     "metadata": {},
     "output_type": "execute_result"
    }
   ],
   "source": [
    "num1=30\n",
    "num2=20\n",
    "print(num1),print(num2)"
   ]
  },
  {
   "cell_type": "code",
   "execution_count": 2,
   "id": "7d6eb6ce-6a30-4d7b-af26-e7ec49fad43f",
   "metadata": {},
   "outputs": [
    {
     "name": "stdout",
     "output_type": "stream",
     "text": [
      "30\n",
      "20\n"
     ]
    }
   ],
   "source": [
    "num1=30\n",
    "num2=20\n",
    "print(num1)\n",
    "print(num2)"
   ]
  },
  {
   "cell_type": "code",
   "execution_count": 3,
   "id": "a51070a9-bdb0-43c8-a307-4dc1e30a90bf",
   "metadata": {},
   "outputs": [
    {
     "name": "stdout",
     "output_type": "stream",
     "text": [
      "30 20\n"
     ]
    }
   ],
   "source": [
    "num1=30\n",
    "num2=20\n",
    "print(num1,num2)"
   ]
  },
  {
   "cell_type": "code",
   "execution_count": 4,
   "id": "174b5886-c2a2-4edf-8927-0eef90c4a376",
   "metadata": {},
   "outputs": [
    {
     "data": {
      "text/plain": [
       "(30, 20)"
      ]
     },
     "execution_count": 4,
     "metadata": {},
     "output_type": "execute_result"
    }
   ],
   "source": [
    "num1=30\n",
    "num2=20\n",
    "num1,num2"
   ]
  },
  {
   "cell_type": "code",
   "execution_count": 6,
   "id": "031c807b-4b68-4a3d-93ed-85fb993a3d6a",
   "metadata": {},
   "outputs": [
    {
     "name": "stdout",
     "output_type": "stream",
     "text": [
      "addition of 100 and 200 is 300\n"
     ]
    }
   ],
   "source": [
    "a=100\n",
    "b=200\n",
    "c=a+b\n",
    "print('addition of',a,'and',b,'is',c)"
   ]
  },
  {
   "cell_type": "code",
   "execution_count": 11,
   "id": "42197128-246b-4841-8d2a-54629fe60f6e",
   "metadata": {},
   "outputs": [
    {
     "name": "stdout",
     "output_type": "stream",
     "text": [
      "my name is python im 10 years old and from hyd\n",
      "my name is python im 10 years old and from hyd\n"
     ]
    }
   ],
   "source": [
    "name='python'\n",
    "age=10\n",
    "city='hyd'\n",
    "print('my name is',name,'im',age,'years old and from',city)\n",
    "print('my name is {} im {} years old and from {}'.format(name,age,city))"
   ]
  },
  {
   "cell_type": "code",
   "execution_count": 10,
   "id": "10061e44-359c-4879-9fe2-35e7046567cd",
   "metadata": {},
   "outputs": [
    {
     "name": "stdout",
     "output_type": "stream",
     "text": [
      "addition of 100 and 200 is 300\n",
      "addition of 100 and 200 is 300\n"
     ]
    }
   ],
   "source": [
    "a=100\n",
    "b=200\n",
    "c=a+b\n",
    "print('addition of',a,'and',b,'is',c)\n",
    "print('addition of {} and {} is {}'.format(a,b,c))"
   ]
  },
  {
   "cell_type": "code",
   "execution_count": 14,
   "id": "ee3a979b-b743-4510-8f44-fbeb600f7aec",
   "metadata": {},
   "outputs": [
    {
     "name": "stdout",
     "output_type": "stream",
     "text": [
      "addition of 100 and 200 is 300\n",
      "addition of 100 and 200 is 300.\n"
     ]
    }
   ],
   "source": [
    "n1=100\n",
    "n2=200\n",
    "add=n1+n2\n",
    "sub=n1-n2\n",
    "mul=n1*n2\n",
    "div=n1/n2\n",
    "print('addition of {} and {} is {}'.format(n1,n2,add))\n",
    "print(f'addition of {a} and {b} is {add}.')"
   ]
  },
  {
   "cell_type": "markdown",
   "id": "52d7eaca-af48-4237-b5dc-33340490d11e",
   "metadata": {},
   "source": [
    "- we have a situation wants to combine 2 print statement"
   ]
  },
  {
   "cell_type": "code",
   "execution_count": 18,
   "id": "1b5dd6f3-1511-48f0-8f0e-92effe59e207",
   "metadata": {},
   "outputs": [
    {
     "name": "stdout",
     "output_type": "stream",
     "text": [
      "hello\n",
      "gd mrng\n",
      "hello gd mrng\n"
     ]
    }
   ],
   "source": [
    "print('hello')\n",
    "print('gd mrng')\n",
    "print('hello',end=' ')\n",
    "print('gd mrng')"
   ]
  },
  {
   "cell_type": "markdown",
   "id": "fc0bee90-adf2-4eb3-83a6-d8ec421911da",
   "metadata": {},
   "source": [
    "$end$"
   ]
  },
  {
   "cell_type": "code",
   "execution_count": 16,
   "id": "d8b52923-55c2-40d4-af8c-c8cee6baca07",
   "metadata": {},
   "outputs": [
    {
     "name": "stdout",
     "output_type": "stream",
     "text": [
      "20   30\n"
     ]
    }
   ],
   "source": [
    "print(20,end='   ')\n",
    "print(30)"
   ]
  },
  {
   "cell_type": "markdown",
   "id": "b6f0a1be-18e5-4c5f-b8eb-47d580db8331",
   "metadata": {},
   "source": [
    "$sep$"
   ]
  },
  {
   "cell_type": "code",
   "execution_count": 19,
   "id": "e58b534a-cbae-4757-8fc4-7831ad9cb2fa",
   "metadata": {},
   "outputs": [
    {
     "name": "stdout",
     "output_type": "stream",
     "text": [
      "20---30\n"
     ]
    }
   ],
   "source": [
    "print(20,30,sep='---')"
   ]
  },
  {
   "cell_type": "markdown",
   "id": "18c5d1d9-2352-4ed9-afc1-cd26a5ae9008",
   "metadata": {},
   "source": [
    "- end operation used to compine multiple print statements\n",
    "- sep opertor used to eperate the multiple variable in a single print statement"
   ]
  },
  {
   "cell_type": "code",
   "execution_count": 20,
   "id": "c64330fc-fa6e-438d-a32c-a003f5f22aa1",
   "metadata": {},
   "outputs": [
    {
     "name": "stdout",
     "output_type": "stream",
     "text": [
      "the addition of 3+4 is  7 .\n"
     ]
    }
   ],
   "source": [
    "print('the addition of 3+4 is ',3+4,'.')"
   ]
  },
  {
   "cell_type": "code",
   "execution_count": null,
   "id": "b04dc642-e7a9-47d9-bed0-35e83acf3512",
   "metadata": {},
   "outputs": [],
   "source": [
    "the addition of 3+4 i 7.\n",
    "use format\n",
    "use f string\n",
    "use sep"
   ]
  },
  {
   "cell_type": "code",
   "execution_count": null,
   "id": "0d3ffaad-eb0f-445c-882c-3712c16ae845",
   "metadata": {},
   "outputs": [],
   "source": []
  },
  {
   "cell_type": "code",
   "execution_count": null,
   "id": "b833b507",
   "metadata": {},
   "outputs": [],
   "source": []
  },
  {
   "cell_type": "code",
   "execution_count": null,
   "id": "a5d98865-1ae2-4dcb-ae46-c3a95ceea2bc",
   "metadata": {},
   "outputs": [],
   "source": []
  }
 ],
 "metadata": {
  "kernelspec": {
   "display_name": "Python 3 (ipykernel)",
   "language": "python",
   "name": "python3"
  },
  "language_info": {
   "codemirror_mode": {
    "name": "ipython",
    "version": 3
   },
   "file_extension": ".py",
   "mimetype": "text/x-python",
   "name": "python",
   "nbconvert_exporter": "python",
   "pygments_lexer": "ipython3",
   "version": "3.12.4"
  }
 },
 "nbformat": 4,
 "nbformat_minor": 5
}
