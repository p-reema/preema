{
 "cells": [
  {
   "cell_type": "markdown",
   "id": "21018cbe-621e-4f19-b76c-64cc2b410b1b",
   "metadata": {},
   "source": [
    "- Variables\n",
    "- Data types\n",
    "- Type casting\n",
    "- Print end sep\n",
    "- eval and input\n",
    "- Basic codes\n",
    "- condition statements\n",
    "- Try-except"
   ]
  },
  {
   "cell_type": "markdown",
   "id": "d38c05d4-2cc4-4ba4-93d5-3001ee734b64",
   "metadata": {},
   "source": [
    "**Functions or Methods**\n",
    "\n",
    "- Reuse of code\n",
    "- Functions with out arguments\n",
    "- Functions with arguments\n",
    "- Functions with default arguments\n",
    "- Global variable vs local variable\n",
    "- Functions with return statement\n",
    "- Functions with kwargs\n",
    "- Functions in functions"
   ]
  },
  {
   "cell_type": "code",
   "execution_count": null,
   "id": "106ef760-92fb-498e-903e-6edf51df87a2",
   "metadata": {},
   "outputs": [],
   "source": [
    "# syntax\n",
    "def <function name>():\n",
    "     <write your code here>"
   ]
  },
  {
   "cell_type": "markdown",
   "id": "43944ed1-4953-4d52-b31e-9f365b3b84a3",
   "metadata": {},
   "source": [
    "**Function with out arguments**\n",
    "- The function we defined does not have any values or variables\n",
    "- These also called as arguments or parameters\n",
    "- simply it is a empty bracket"
   ]
  },
  {
   "cell_type": "code",
   "execution_count": 1,
   "id": "8ca066c0-99cb-434a-80ad-97c7e329522d",
   "metadata": {},
   "outputs": [
    {
     "name": "stdin",
     "output_type": "stream",
     "text": [
      "enter the n1: 20\n",
      "enter the n2: 30\n"
     ]
    },
    {
     "name": "stdout",
     "output_type": "stream",
     "text": [
      "the addition of 20,30 is: 50\n"
     ]
    }
   ],
   "source": [
    "n1=eval(input('enter the n1:'))\n",
    "n2=eval(input('enter the n2:'))\n",
    "add=n1+n2\n",
    "print(f\"the addition of {n1},{n2} is: {add}\")"
   ]
  },
  {
   "cell_type": "code",
   "execution_count": 2,
   "id": "9743068f-d362-4f20-a0c3-f6a185f606e5",
   "metadata": {},
   "outputs": [],
   "source": [
    "def addition():\n",
    "    n1=eval(input('enter the n1:'))\n",
    "    n2=eval(input('enter the n2:'))\n",
    "    add=n1+n2\n",
    "    print(f\"the addition of {n1},{n2} is: {add}\")"
   ]
  },
  {
   "cell_type": "code",
   "execution_count": 3,
   "id": "0eaf38dd-526c-4604-aba4-71ee6a989cf8",
   "metadata": {},
   "outputs": [
    {
     "name": "stdin",
     "output_type": "stream",
     "text": [
      "enter the n1: 10\n",
      "enter the n2: 20\n"
     ]
    },
    {
     "name": "stdout",
     "output_type": "stream",
     "text": [
      "the addition of 10,20 is: 30\n"
     ]
    }
   ],
   "source": [
    "# Function is ready\n",
    "# creating function means it will not give th answer\n",
    "# you need to call the function\n",
    "addition()"
   ]
  },
  {
   "cell_type": "code",
   "execution_count": 4,
   "id": "97800b7f-530f-4757-9586-eec0095094ff",
   "metadata": {},
   "outputs": [
    {
     "data": {
      "text/plain": [
       "<function __main__.addition()>"
      ]
     },
     "execution_count": 4,
     "metadata": {},
     "output_type": "execute_result"
    }
   ],
   "source": [
    "addition"
   ]
  },
  {
   "cell_type": "code",
   "execution_count": 5,
   "id": "0e3ef5dd-35de-4459-a446-abab76c52221",
   "metadata": {},
   "outputs": [
    {
     "data": {
      "text/plain": [
       "<bound method Random.randint of <random.Random object at 0x0000022B1EF4D600>>"
      ]
     },
     "execution_count": 5,
     "metadata": {},
     "output_type": "execute_result"
    }
   ],
   "source": [
    "import random\n",
    "random.randint"
   ]
  },
  {
   "cell_type": "markdown",
   "id": "892e274f-da06-4bd6-9d14-95097ae7a65e",
   "metadata": {},
   "source": [
    "**Notes**\n",
    "- while calling the fn we need to use the function name\n",
    "- also we need to provide brackets\n",
    "- in python brackets indicates it is a function or method\n",
    "- if we miss the brackets , it will display as\n",
    "    - function\n",
    "    - bound method"
   ]
  },
  {
   "cell_type": "code",
   "execution_count": 6,
   "id": "8745946f-a850-422d-9084-a9c3efaa5e54",
   "metadata": {},
   "outputs": [],
   "source": [
    "a=10"
   ]
  },
  {
   "cell_type": "code",
   "execution_count": 7,
   "id": "8325cd79-2995-4ae1-97e3-bfb46c40ec13",
   "metadata": {},
   "outputs": [],
   "source": [
    "name='python'"
   ]
  },
  {
   "cell_type": "code",
   "execution_count": 8,
   "id": "43919a15-c1c2-4709-9b57-eb62ebe76d43",
   "metadata": {},
   "outputs": [
    {
     "name": "stdin",
     "output_type": "stream",
     "text": [
      "enter the n1: 20\n",
      "enter the n2: 30\n"
     ]
    },
    {
     "name": "stdout",
     "output_type": "stream",
     "text": [
      "the addition of 20,30 is: 50\n"
     ]
    }
   ],
   "source": [
    "addition()"
   ]
  },
  {
   "cell_type": "markdown",
   "id": "0eeeb9eb-5f1e-46f5-a6a7-5c62da72b2e3",
   "metadata": {},
   "source": [
    "**Note**\n",
    "- Once we create the function we can use anywhere inthe same notebook\n",
    "- if you want to use in another notebook\n",
    "- we need to create as Package (OOPS)"
   ]
  },
  {
   "cell_type": "code",
   "execution_count": 11,
   "id": "27100026-5425-479e-977a-d6866c35866e",
   "metadata": {},
   "outputs": [
    {
     "name": "stdin",
     "output_type": "stream",
     "text": [
      "enter the n1 1\n",
      "enter the n2: 2\n"
     ]
    },
    {
     "name": "stdout",
     "output_type": "stream",
     "text": [
      "the addition of 1,2 is: 3\n"
     ]
    }
   ],
   "source": [
    "addition1()\n",
    "def addition1():\n",
    "    n1=eval(input('enter the n1'))\n",
    "    n2=eval(input('enter the n2:'))\n",
    "    add=n1+n2\n",
    "    print(f\"the addition of {n1},{n2} is: {add}\")\n",
    "\n",
    "    \n",
    "# The above code will give the error\n",
    "# before call the function first we need to define the function"
   ]
  },
  {
   "cell_type": "code",
   "execution_count": null,
   "id": "69f9fcca-0d8e-453b-9036-6867f63c9f36",
   "metadata": {},
   "outputs": [],
   "source": [
    "# wap ask the user take three numbers from keyboard and print average\n",
    "    # (n1+n2+n3)/3\n",
    "# Wap ask the user take the breadth and height from keyboard\n",
    "    # calculate area of right angle traingle\n",
    "    # Formula= 0.5*b*h\n",
    "# wap ask the take the radius from key board\n",
    "    # calculate the area of circle\n",
    "    # Formuale = pi*r*r pi=3.14\n",
    "# wap ask the user enter the bill amount\n",
    "    # ask the user provide how much tip amount he wants to give\n",
    "    # calculate the total bill\n",
    "# wap ask the user enter the bil amount\n",
    "    # ask the user how much tip percentage hw wants to give\n",
    "    # calculate the total bill"
   ]
  },
  {
   "cell_type": "code",
   "execution_count": 12,
   "id": "c744439b-59ac-4d7f-bf2b-0d21f6ec70e2",
   "metadata": {},
   "outputs": [
    {
     "name": "stdin",
     "output_type": "stream",
     "text": [
      "enter the n1: 20\n",
      "enter the n2: 30\n",
      "enter the n3: 40\n"
     ]
    },
    {
     "name": "stdout",
     "output_type": "stream",
     "text": [
      "the avg of 20,30 and 40 is 30.0\n"
     ]
    }
   ],
   "source": [
    "def average():\n",
    "    n1=eval(input(\"enter the n1:\"))\n",
    "    n2=eval(input(\"enter the n2:\"))\n",
    "    n3=eval(input(\"enter the n3:\"))\n",
    "    avg=(n1+n2+n3)/3\n",
    "    print(f\"the avg of {n1},{n2} and {n3} is {avg}\")\n",
    "average()"
   ]
  },
  {
   "cell_type": "code",
   "execution_count": 13,
   "id": "d92b628e-ec5e-41d5-b8b2-364e814a80d5",
   "metadata": {},
   "outputs": [
    {
     "name": "stdin",
     "output_type": "stream",
     "text": [
      "enter the breadth: 20\n",
      "enter the height: 30\n"
     ]
    },
    {
     "name": "stdout",
     "output_type": "stream",
     "text": [
      "the area is:300.0\n"
     ]
    }
   ],
   "source": [
    "def area_of_traingle():\n",
    "    b=eval(input('enter the breadth:'))\n",
    "    h=eval(input('enter the height:'))\n",
    "    area=0.5*b*h\n",
    "    print(f'the area is:{area}')\n",
    "area_of_traingle()"
   ]
  },
  {
   "cell_type": "markdown",
   "id": "41e04ea7-1f65-4a4a-9ef2-62cf9972b0c5",
   "metadata": {},
   "source": [
    "**Note**\n",
    "- Variable names should not equal to function names"
   ]
  },
  {
   "cell_type": "code",
   "execution_count": null,
   "id": "cdcdbc66-250b-4e19-a63e-40f8ddfa468e",
   "metadata": {},
   "outputs": [],
   "source": [
    "try:\n",
    "    n1=eval(input(\"enter the n1:\"))\n",
    "    n2=eval(input(\"enter the n2:\"))\n",
    "    n3=eval(input(\"enter the n3:\"))\n",
    "    avg=(n1+n2+n3)/3\n",
    "    print(f\"the avg of {n1},{n2} and {n3} is {avg}\")\n",
    "except Exception as e:\n",
    "    print(e)"
   ]
  },
  {
   "cell_type": "code",
   "execution_count": 15,
   "id": "a5179b9e-2445-49ea-9788-7ac51004fb09",
   "metadata": {},
   "outputs": [
    {
     "name": "stdin",
     "output_type": "stream",
     "text": [
      "enter the n1: 10\n",
      "enter the n2: 20\n",
      "enter the n3: 30\n"
     ]
    },
    {
     "name": "stdout",
     "output_type": "stream",
     "text": [
      "name 'n3333' is not defined\n"
     ]
    }
   ],
   "source": [
    "def AVERAGE():\n",
    "    try:\n",
    "        n1=eval(input(\"enter the n1:\"))\n",
    "        n2=eval(input(\"enter the n2:\"))\n",
    "        n3=eval(input(\"enter the n3:\"))\n",
    "        avg=(n1+n2+n3333)/3\n",
    "        print(f\"the avg of {n1},{n2} and {n3} is {avg}\")\n",
    "    except Exception as e:\n",
    "        print(e)\n",
    "AVERAGE()"
   ]
  },
  {
   "cell_type": "code",
   "execution_count": 16,
   "id": "f6910483-8cbb-459b-bdfa-504de237fd96",
   "metadata": {},
   "outputs": [
    {
     "name": "stdin",
     "output_type": "stream",
     "text": [
      "enter the n1: 10\n",
      "enter the n2: 20\n",
      "enter the n3: 30\n"
     ]
    },
    {
     "ename": "NameError",
     "evalue": "name 'n324' is not defined",
     "output_type": "error",
     "traceback": [
      "\u001b[1;31m---------------------------------------------------------------------------\u001b[0m",
      "\u001b[1;31mNameError\u001b[0m                                 Traceback (most recent call last)",
      "Cell \u001b[1;32mIn[16], line 10\u001b[0m\n\u001b[0;32m      8\u001b[0m \u001b[38;5;28;01mexcept\u001b[39;00m \u001b[38;5;167;01mException\u001b[39;00m \u001b[38;5;28;01mas\u001b[39;00m e:\n\u001b[0;32m      9\u001b[0m     \u001b[38;5;28mprint\u001b[39m(e)\n\u001b[1;32m---> 10\u001b[0m average()\n",
      "Cell \u001b[1;32mIn[16], line 6\u001b[0m, in \u001b[0;36maverage\u001b[1;34m()\u001b[0m\n\u001b[0;32m      4\u001b[0m n2\u001b[38;5;241m=\u001b[39m\u001b[38;5;28meval\u001b[39m(\u001b[38;5;28minput\u001b[39m(\u001b[38;5;124m\"\u001b[39m\u001b[38;5;124menter the n2:\u001b[39m\u001b[38;5;124m\"\u001b[39m))\n\u001b[0;32m      5\u001b[0m n3\u001b[38;5;241m=\u001b[39m\u001b[38;5;28meval\u001b[39m(\u001b[38;5;28minput\u001b[39m(\u001b[38;5;124m\"\u001b[39m\u001b[38;5;124menter the n3:\u001b[39m\u001b[38;5;124m\"\u001b[39m))\n\u001b[1;32m----> 6\u001b[0m avg\u001b[38;5;241m=\u001b[39m(n1\u001b[38;5;241m+\u001b[39mn2\u001b[38;5;241m+\u001b[39mn324)\u001b[38;5;241m/\u001b[39m\u001b[38;5;241m3\u001b[39m\n\u001b[0;32m      7\u001b[0m \u001b[38;5;28mprint\u001b[39m(\u001b[38;5;124mf\u001b[39m\u001b[38;5;124m\"\u001b[39m\u001b[38;5;124mthe avg of \u001b[39m\u001b[38;5;132;01m{\u001b[39;00mn1\u001b[38;5;132;01m}\u001b[39;00m\u001b[38;5;124m,\u001b[39m\u001b[38;5;132;01m{\u001b[39;00mn2\u001b[38;5;132;01m}\u001b[39;00m\u001b[38;5;124m and \u001b[39m\u001b[38;5;132;01m{\u001b[39;00mn3\u001b[38;5;132;01m}\u001b[39;00m\u001b[38;5;124m is \u001b[39m\u001b[38;5;132;01m{\u001b[39;00mavg\u001b[38;5;132;01m}\u001b[39;00m\u001b[38;5;124m\"\u001b[39m)\n",
      "\u001b[1;31mNameError\u001b[0m: name 'n324' is not defined"
     ]
    }
   ],
   "source": [
    "try:\n",
    "    def average():\n",
    "        n1=eval(input(\"enter the n1:\"))\n",
    "        n2=eval(input(\"enter the n2:\"))\n",
    "        n3=eval(input(\"enter the n3:\"))\n",
    "        avg=(n1+n2+n324)/3\n",
    "        print(f\"the avg of {n1},{n2} and {n3} is {avg}\")\n",
    "except Exception as e:\n",
    "    print(e)\n",
    "average()"
   ]
  },
  {
   "cell_type": "markdown",
   "id": "5880aa05-9953-482b-a94d-6d7e94d798f6",
   "metadata": {},
   "source": [
    "**Note**\n",
    "- always give try and except for only on code\n",
    "- Not for function\n",
    "- Inside the function write try-except"
   ]
  },
  {
   "cell_type": "code",
   "execution_count": null,
   "id": "08da5367-0563-41b2-84cf-0452b45de93d",
   "metadata": {},
   "outputs": [],
   "source": [
    "def average():\n",
    "    try:\n",
    "        n1=eval(input(\"enter the n1:\"))\n",
    "        n2=eval(input(\"enter the n2:\"))\n",
    "        n3=eval(input(\"enter the n3:\"))\n",
    "        avg=(n1+n2+n324)/3\n",
    "        print(f\"the avg of {n1},{n2} and {n3} is {avg}\")\n",
    "    except Exception as e:\n",
    "        print(e)\n",
    "average()"
   ]
  },
  {
   "cell_type": "code",
   "execution_count": 17,
   "id": "8c4775cb-b04f-4509-9751-75d494b02309",
   "metadata": {},
   "outputs": [
    {
     "name": "stdin",
     "output_type": "stream",
     "text": [
      "enter the n1: 1\n",
      "enter the n2: 2\n",
      "enter the n3: 3\n"
     ]
    },
    {
     "name": "stdout",
     "output_type": "stream",
     "text": [
      "the avg of 1,2 and 3 is 2.0\n"
     ]
    },
    {
     "name": "stdin",
     "output_type": "stream",
     "text": [
      "enter the breadth: 20\n",
      "enter the height: 30\n"
     ]
    },
    {
     "name": "stdout",
     "output_type": "stream",
     "text": [
      "the area is:300.0\n"
     ]
    },
    {
     "name": "stdin",
     "output_type": "stream",
     "text": [
      "enter the radius: 15\n"
     ]
    },
    {
     "name": "stdout",
     "output_type": "stream",
     "text": [
      "area of circle:706.8583470577034\n"
     ]
    },
    {
     "name": "stdin",
     "output_type": "stream",
     "text": [
      "enter the bill amount: 1000\n",
      "enter the tip amount: 20\n"
     ]
    },
    {
     "name": "stdout",
     "output_type": "stream",
     "text": [
      "the total bill is :1020\n"
     ]
    }
   ],
   "source": [
    "from math import pi\n",
    "def average():\n",
    "    n1=eval(input(\"enter the n1:\"))\n",
    "    n2=eval(input(\"enter the n2:\"))\n",
    "    n3=eval(input(\"enter the n3:\"))\n",
    "    avg=(n1+n2+n3)/3\n",
    "    print(f\"the avg of {n1},{n2} and {n3} is {avg}\")\n",
    "average()\n",
    "############################################################\n",
    "def area_of_traingle():\n",
    "    b=eval(input('enter the breadth:'))\n",
    "    h=eval(input('enter the height:'))\n",
    "    area=0.5*b*h\n",
    "    print(f'the area is:{area}')\n",
    "area_of_traingle()\n",
    "##########################################################\n",
    "def area_of_circle():\n",
    "    r=eval(input(\"enter the radius:\"))\n",
    "    area=pi*r*r\n",
    "    print(f\"area of circle:{area}\")\n",
    "area_of_circle()\n",
    "##########################################################\n",
    "def bill():\n",
    "    billamount=eval(input(\"enter the bill amount:\"))\n",
    "    tipamount=eval(input(\"enter the tip amount:\"))\n",
    "    totalbill=billamount+tipamount\n",
    "    print(f\"the total bill is :{totalbill}\")\n",
    "bill()\n"
   ]
  },
  {
   "cell_type": "code",
   "execution_count": 18,
   "id": "9a0332fa-9192-4722-91b9-09a1ebba1dc9",
   "metadata": {},
   "outputs": [],
   "source": [
    "from math import pi\n",
    "def average():\n",
    "    n1=eval(input(\"enter the n1:\"))\n",
    "    n2=eval(input(\"enter the n2:\"))\n",
    "    n3=eval(input(\"enter the n3:\"))\n",
    "    avg=(n1+n2+n3)/3\n",
    "    print(f\"the avg of {n1},{n2} and {n3} is {avg}\")\n",
    "############################################################\n",
    "def area_of_traingle():\n",
    "    b=eval(input('enter the breadth:'))\n",
    "    h=eval(input('enter the height:'))\n",
    "    area=0.5*b*h\n",
    "    print(f'the area is:{area}')\n",
    "\n",
    "##########################################################\n",
    "def area_of_circle():\n",
    "    r=eval(input(\"enter the radius:\"))\n",
    "    area=pi*r*r\n",
    "    print(f\"area of circle:{area}\")\n",
    "\n",
    "##########################################################\n",
    "def bill():\n",
    "    billamount=eval(input(\"enter the bill amount:\"))\n",
    "    tipamount=eval(input(\"enter the tip amount:\"))\n",
    "    totalbill=billamount+tipamount\n",
    "    print(f\"the total bill is :{totalbill}\")"
   ]
  },
  {
   "cell_type": "code",
   "execution_count": 19,
   "id": "7e317fe7-8a27-4d52-8542-8d28a33ddb05",
   "metadata": {},
   "outputs": [
    {
     "name": "stdout",
     "output_type": "stream",
     "text": [
      "Average function starts\n"
     ]
    },
    {
     "name": "stdin",
     "output_type": "stream",
     "text": [
      "enter the n1: 1\n",
      "enter the n2: 2\n",
      "enter the n3: 3\n"
     ]
    },
    {
     "name": "stdout",
     "output_type": "stream",
     "text": [
      "the avg of 1,2 and 3 is 2.0\n",
      "Area of circle function starts\n"
     ]
    },
    {
     "name": "stdin",
     "output_type": "stream",
     "text": [
      "enter the radius: 2\n"
     ]
    },
    {
     "name": "stdout",
     "output_type": "stream",
     "text": [
      "area of circle:12.566370614359172\n",
      "Area of traingle function starts\n"
     ]
    },
    {
     "name": "stdin",
     "output_type": "stream",
     "text": [
      "enter the breadth: 4\n",
      "enter the height: 5\n"
     ]
    },
    {
     "name": "stdout",
     "output_type": "stream",
     "text": [
      "the area is:10.0\n",
      "bill amount function starts\n"
     ]
    },
    {
     "name": "stdin",
     "output_type": "stream",
     "text": [
      "enter the bill amount: 10\n",
      "enter the tip amount: 2\n"
     ]
    },
    {
     "name": "stdout",
     "output_type": "stream",
     "text": [
      "the total bill is :12\n"
     ]
    }
   ],
   "source": [
    "print(\"Average function starts\") \n",
    "average() \n",
    "print(\"Area of circle function starts\") \n",
    "area_of_circle() \n",
    "print(\"Area of traingle function starts\") \n",
    "area_of_traingle() \n",
    "print(\"bill amount function starts\") \n",
    "bill()"
   ]
  },
  {
   "cell_type": "code",
   "execution_count": 20,
   "id": "05f25cb4-e9db-4f42-855b-f83d8a84900b",
   "metadata": {},
   "outputs": [
    {
     "name": "stdin",
     "output_type": "stream",
     "text": [
      "enter the n1: 1\n",
      "enter the n2: 2\n",
      "enter the n3: 3\n"
     ]
    },
    {
     "ename": "NameError",
     "evalue": "name 'n222' is not defined",
     "output_type": "error",
     "traceback": [
      "\u001b[1;31m---------------------------------------------------------------------------\u001b[0m",
      "\u001b[1;31mNameError\u001b[0m                                 Traceback (most recent call last)",
      "Cell \u001b[1;32mIn[20], line 7\u001b[0m\n\u001b[0;32m      5\u001b[0m     avg\u001b[38;5;241m=\u001b[39m(n1\u001b[38;5;241m+\u001b[39mn222\u001b[38;5;241m+\u001b[39mn3)\u001b[38;5;241m/\u001b[39m\u001b[38;5;241m3\u001b[39m\n\u001b[0;32m      6\u001b[0m     \u001b[38;5;28mprint\u001b[39m(\u001b[38;5;124mf\u001b[39m\u001b[38;5;124m\"\u001b[39m\u001b[38;5;124mthe avg of \u001b[39m\u001b[38;5;132;01m{\u001b[39;00mn1\u001b[38;5;132;01m}\u001b[39;00m\u001b[38;5;124m,\u001b[39m\u001b[38;5;132;01m{\u001b[39;00mn2\u001b[38;5;132;01m}\u001b[39;00m\u001b[38;5;124m and \u001b[39m\u001b[38;5;132;01m{\u001b[39;00mn3\u001b[38;5;132;01m}\u001b[39;00m\u001b[38;5;124m is \u001b[39m\u001b[38;5;132;01m{\u001b[39;00mavg\u001b[38;5;132;01m}\u001b[39;00m\u001b[38;5;124m\"\u001b[39m)\n\u001b[1;32m----> 7\u001b[0m average2()\n",
      "Cell \u001b[1;32mIn[20], line 5\u001b[0m, in \u001b[0;36maverage2\u001b[1;34m()\u001b[0m\n\u001b[0;32m      3\u001b[0m n2\u001b[38;5;241m=\u001b[39m\u001b[38;5;28meval\u001b[39m(\u001b[38;5;28minput\u001b[39m(\u001b[38;5;124m\"\u001b[39m\u001b[38;5;124menter the n2:\u001b[39m\u001b[38;5;124m\"\u001b[39m))\n\u001b[0;32m      4\u001b[0m n3\u001b[38;5;241m=\u001b[39m\u001b[38;5;28meval\u001b[39m(\u001b[38;5;28minput\u001b[39m(\u001b[38;5;124m\"\u001b[39m\u001b[38;5;124menter the n3:\u001b[39m\u001b[38;5;124m\"\u001b[39m))\n\u001b[1;32m----> 5\u001b[0m avg\u001b[38;5;241m=\u001b[39m(n1\u001b[38;5;241m+\u001b[39mn222\u001b[38;5;241m+\u001b[39mn3)\u001b[38;5;241m/\u001b[39m\u001b[38;5;241m3\u001b[39m\n\u001b[0;32m      6\u001b[0m \u001b[38;5;28mprint\u001b[39m(\u001b[38;5;124mf\u001b[39m\u001b[38;5;124m\"\u001b[39m\u001b[38;5;124mthe avg of \u001b[39m\u001b[38;5;132;01m{\u001b[39;00mn1\u001b[38;5;132;01m}\u001b[39;00m\u001b[38;5;124m,\u001b[39m\u001b[38;5;132;01m{\u001b[39;00mn2\u001b[38;5;132;01m}\u001b[39;00m\u001b[38;5;124m and \u001b[39m\u001b[38;5;132;01m{\u001b[39;00mn3\u001b[38;5;132;01m}\u001b[39;00m\u001b[38;5;124m is \u001b[39m\u001b[38;5;132;01m{\u001b[39;00mavg\u001b[38;5;132;01m}\u001b[39;00m\u001b[38;5;124m\"\u001b[39m)\n",
      "\u001b[1;31mNameError\u001b[0m: name 'n222' is not defined"
     ]
    }
   ],
   "source": [
    "def average2():\n",
    "    n1=eval(input(\"enter the n1:\"))\n",
    "    n2=eval(input(\"enter the n2:\"))\n",
    "    n3=eval(input(\"enter the n3:\"))\n",
    "    avg=(n1+n222+n3)/3\n",
    "    print(f\"the avg of {n1},{n2} and {n3} is {avg}\")\n",
    "average2()"
   ]
  },
  {
   "cell_type": "markdown",
   "id": "d1231769-1e5f-4d30-9d23-6910c632d863",
   "metadata": {},
   "source": [
    "**Note**\n",
    "- when we define th function , it will not give any error or any answer\n",
    "- if we want to see any error or any ans we need to call the function"
   ]
  },
  {
   "cell_type": "code",
   "execution_count": null,
   "id": "646eeb6c-e4f8-4014-a89d-2a1d50e472a7",
   "metadata": {},
   "outputs": [],
   "source": [
    "average()\n",
    "area_of_circle()\n",
    "area_of_traingle()\n",
    "bill()"
   ]
  },
  {
   "cell_type": "markdown",
   "id": "a8889fb4-bce8-4735-9572-480b5f09fd2d",
   "metadata": {},
   "source": [
    "**Functions with Arguments**\n",
    "\n",
    "- let's create an addition program code"
   ]
  },
  {
   "cell_type": "code",
   "execution_count": 21,
   "id": "fccde4b5-75e0-4328-a6de-f129ee5503be",
   "metadata": {},
   "outputs": [
    {
     "name": "stdin",
     "output_type": "stream",
     "text": [
      "enter the num1 20\n",
      "enter the num2 30\n"
     ]
    },
    {
     "name": "stdout",
     "output_type": "stream",
     "text": [
      "the addition of n1 and n2 is:50\n"
     ]
    }
   ],
   "source": [
    "def addition():\n",
    "    n1=eval(input('enter the num1'))\n",
    "    n2=eval(input('enter the num2'))\n",
    "    add=n1+n2\n",
    "    print(f'the addition of n1 and n2 is:{add}')\n",
    "\n",
    "addition()"
   ]
  },
  {
   "cell_type": "markdown",
   "id": "0a77d4d1-25b8-45d1-a35e-549e3079ba75",
   "metadata": {},
   "source": [
    "- how many variables are in the above code\n",
    "    - n1,n2,add\n",
    "- what are the inp var\n",
    "    - n1,n2\n",
    "- out variables\n",
    "    - add\n",
    "- pass the inp var inside the fn brackets\n",
    "- pass n1,n2 inside the brackets,these n1,n2 behaves as fn arguments"
   ]
  },
  {
   "cell_type": "code",
   "execution_count": 22,
   "id": "acc662d8-6795-4045-8f0e-27e3da0c27b3",
   "metadata": {},
   "outputs": [
    {
     "name": "stdout",
     "output_type": "stream",
     "text": [
      "the addition of 100 and 200 is:300\n"
     ]
    }
   ],
   "source": [
    "def addition1(n1,n2):\n",
    "    add=n1+n2\n",
    "    print(f\"the addition of {n1} and {n2} is:{add}\")\n",
    "addition1(100,200)"
   ]
  },
  {
   "cell_type": "code",
   "execution_count": 23,
   "id": "209e93b5-0595-4c53-8975-fce620e6d9cd",
   "metadata": {},
   "outputs": [
    {
     "ename": "TypeError",
     "evalue": "addition1() missing 2 required positional arguments: 'n1' and 'n2'",
     "output_type": "error",
     "traceback": [
      "\u001b[1;31m---------------------------------------------------------------------------\u001b[0m",
      "\u001b[1;31mTypeError\u001b[0m                                 Traceback (most recent call last)",
      "Cell \u001b[1;32mIn[23], line 1\u001b[0m\n\u001b[1;32m----> 1\u001b[0m addition1()\n",
      "\u001b[1;31mTypeError\u001b[0m: addition1() missing 2 required positional arguments: 'n1' and 'n2'"
     ]
    }
   ],
   "source": [
    "addition1()"
   ]
  },
  {
   "cell_type": "code",
   "execution_count": 24,
   "id": "6f9c0061-a7f4-4954-afb3-9f174699840d",
   "metadata": {},
   "outputs": [
    {
     "ename": "TypeError",
     "evalue": "Random.randint() missing 1 required positional argument: 'b'",
     "output_type": "error",
     "traceback": [
      "\u001b[1;31m---------------------------------------------------------------------------\u001b[0m",
      "\u001b[1;31mTypeError\u001b[0m                                 Traceback (most recent call last)",
      "Cell \u001b[1;32mIn[24], line 2\u001b[0m\n\u001b[0;32m      1\u001b[0m \u001b[38;5;28;01mfrom\u001b[39;00m \u001b[38;5;21;01mrandom\u001b[39;00m \u001b[38;5;28;01mimport\u001b[39;00m randint\n\u001b[1;32m----> 2\u001b[0m randint(\u001b[38;5;241m10\u001b[39m)\n",
      "\u001b[1;31mTypeError\u001b[0m: Random.randint() missing 1 required positional argument: 'b'"
     ]
    }
   ],
   "source": [
    "from random import randint\n",
    "randint(10)"
   ]
  },
  {
   "cell_type": "code",
   "execution_count": null,
   "id": "31a16def-2b55-4de4-87bd-4876aa1d7332",
   "metadata": {},
   "outputs": [],
   "source": [
    "from math import pi\n",
    "def average():\n",
    "    n1=eval(input(\"enter the n1:\"))\n",
    "    n2=eval(input(\"enter the n2:\"))\n",
    "    n3=eval(input(\"enter the n3:\"))\n",
    "    avg=(n1+n2+n3)/3\n",
    "    print(f\"the avg of {n1},{n2} and {n3} is {avg}\")\n",
    "############################################################\n",
    "def area_of_traingle():\n",
    "    b=eval(input('enter the breadth:'))\n",
    "    h=eval(input('enter the height:'))\n",
    "    area=0.5*b*h\n",
    "    print(f'the area is:{area}')\n",
    "##########################################################\n",
    "def area_of_circle():\n",
    "    r=eval(input(\"enter the radius:\"))\n",
    "    area=pi*r*r\n",
    "    print(f\"area of circle:{area}\")\n",
    "\n",
    "##########################################################\n",
    "def bill():\n",
    "    billamount=eval(input(\"enter the bill amount:\"))\n",
    "    tipamount=eval(input(\"enter the tip amount:\"))\n",
    "    totalbill=billamount+tipamount\n",
    "    print(f\"the total bill is :{totalbill}\")"
   ]
  },
  {
   "cell_type": "code",
   "execution_count": 25,
   "id": "eeb6a4af-7b87-466e-b473-618ee241edcd",
   "metadata": {},
   "outputs": [
    {
     "name": "stdout",
     "output_type": "stream",
     "text": [
      "the avg of 10,20 and 30 is 20.0\n"
     ]
    }
   ],
   "source": [
    "def average(n1,n2,n3):\n",
    "    avg=(n1+n2+n3)/3\n",
    "    print(f\"the avg of {n1},{n2} and {n3} is {avg}\")\n",
    "average(10,20,30)"
   ]
  },
  {
   "cell_type": "code",
   "execution_count": 26,
   "id": "0b60ea2e-e8a2-4760-a926-3d6c2cfa7d40",
   "metadata": {},
   "outputs": [
    {
     "name": "stdout",
     "output_type": "stream",
     "text": [
      "b: 10\n",
      "h: 20\n",
      "the area is:100.0\n"
     ]
    }
   ],
   "source": [
    "def area_of_traingle(b,h):\n",
    "    print('b:',b)\n",
    "    print('h:',h)\n",
    "    area=0.5*b*h\n",
    "    print(f'the area is:{area}')\n",
    "area_of_traingle(10,20)"
   ]
  },
  {
   "cell_type": "code",
   "execution_count": 27,
   "id": "18409b7f-c032-4387-a84a-e5e811672057",
   "metadata": {},
   "outputs": [
    {
     "name": "stdout",
     "output_type": "stream",
     "text": [
      "area of circle:314.1592653589793\n"
     ]
    }
   ],
   "source": [
    "from math import pi\n",
    "def area_of_circle(r):\n",
    "    area=pi*r*r\n",
    "    print(f\"area of circle:{area}\")\n",
    "area_of_circle(10)"
   ]
  },
  {
   "cell_type": "code",
   "execution_count": 28,
   "id": "91aacf07-0fcd-4780-9f39-f2ae26c12bc2",
   "metadata": {},
   "outputs": [
    {
     "name": "stdout",
     "output_type": "stream",
     "text": [
      "the total bill is :1020\n"
     ]
    }
   ],
   "source": [
    "def bill(billamount,tipamount):\n",
    "    try:\n",
    "        totalbill=billamount+tipamount\n",
    "        print(f\"the total bill is :{totalbill}\")\n",
    "    except Exception as e:\n",
    "        print(e)\n",
    "bill(1000,20)"
   ]
  },
  {
   "cell_type": "code",
   "execution_count": 29,
   "id": "21591d2b-f983-485e-bd18-48a908846031",
   "metadata": {},
   "outputs": [
    {
     "name": "stdout",
     "output_type": "stream",
     "text": [
      "n1: 10\n",
      "n2: 20\n"
     ]
    },
    {
     "name": "stdin",
     "output_type": "stream",
     "text": [
      "enter the n3: 30\n"
     ]
    },
    {
     "name": "stdout",
     "output_type": "stream",
     "text": [
      "the avg of 10,20 and 30 is 20.0\n"
     ]
    }
   ],
   "source": [
    "def average(n1,n2):\n",
    "    print('n1:',n1)\n",
    "    print('n2:',n2)\n",
    "    n3=eval(input('enter the n3:'))\n",
    "    avg=(n1+n2+n3)/3\n",
    "    print(f\"the avg of {n1},{n2} and {n3} is {avg}\")\n",
    "average(10,20)\n",
    "\n",
    "# while calling the function we want to provide n1,n2\n",
    "# while running the function we want to provide n3"
   ]
  },
  {
   "cell_type": "code",
   "execution_count": 30,
   "id": "bed2e7a5-c2da-4d74-982c-554fdc92b97d",
   "metadata": {},
   "outputs": [
    {
     "name": "stdout",
     "output_type": "stream",
     "text": [
      "n1: 10\n"
     ]
    },
    {
     "name": "stdin",
     "output_type": "stream",
     "text": [
      "enter the n2: 20\n",
      "enter the n3: 30\n"
     ]
    },
    {
     "name": "stdout",
     "output_type": "stream",
     "text": [
      "the avg of 10,20 and 30 is 20.0\n"
     ]
    }
   ],
   "source": [
    "def average(n1):\n",
    "    print('n1:',n1)\n",
    "    n2=eval(input('enter the n2:'))\n",
    "    n3=eval(input('enter the n3:'))\n",
    "    avg=(n1+n2+n3)/3\n",
    "    print(f\"the avg of {n1},{n2} and {n3} is {avg}\")\n",
    "average(10)"
   ]
  },
  {
   "cell_type": "code",
   "execution_count": 31,
   "id": "11a62f2e-1ae4-4627-b787-6c04905cc86b",
   "metadata": {},
   "outputs": [
    {
     "name": "stdin",
     "output_type": "stream",
     "text": [
      "enter the n1: 10\n",
      "enter the n2: 20\n",
      "enter the n3: 30\n"
     ]
    },
    {
     "name": "stdout",
     "output_type": "stream",
     "text": [
      "the avg of 10,20 and 30 is 20.0\n"
     ]
    }
   ],
   "source": [
    "def average():\n",
    "    n1=eval(input('enter the n1:'))\n",
    "    n2=eval(input('enter the n2:'))\n",
    "    n3=eval(input('enter the n3:'))\n",
    "    avg=(n1+n2+n3)/3\n",
    "    print(f\"the avg of {n1},{n2} and {n3} is {avg}\")\n",
    "average()"
   ]
  },
  {
   "cell_type": "code",
   "execution_count": null,
   "id": "9c4c512d-f5be-437d-944b-f6411f07ef97",
   "metadata": {},
   "outputs": [],
   "source": [
    "def average(n1,n2,n3):\n",
    "    avg=(n1+n2+n3)/3\n",
    "    print(f\"the avg of {n1},{n2} and {n3} is {avg}\")\n",
    "def average(n1,n2):\n",
    "    print('n1:',n1)\n",
    "    print('n2:',n2)\n",
    "    n3=eval(input('enter the n3:'))\n",
    "    avg=(n1+n2+n3)/3\n",
    "    print(f\"the avg of {n1},{n2} and {n3} is {avg}\")\n",
    "def average(n1):\n",
    "    print('n1:',n1)\n",
    "    n2=eval(input('enter the n2:'))\n",
    "    n3=eval(input('enter the n3:'))\n",
    "    avg=(n1+n2+n3)/3\n",
    "    print(f\"the avg of {n1},{n2} and {n3} is {avg}\")\n",
    "def average():\n",
    "    n1=eval(input('enter the n1:'))\n",
    "    n2=eval(input('enter the n2:'))\n",
    "    n3=eval(input('enter the n3:'))\n",
    "    avg=(n1+n2+n3)/3\n",
    "    print(f\"the avg of {n1},{n2} and {n3} is {avg}\")"
   ]
  },
  {
   "cell_type": "code",
   "execution_count": 32,
   "id": "d7eef37b-2082-4db9-ae2d-d4206af76ab1",
   "metadata": {},
   "outputs": [
    {
     "name": "stdin",
     "output_type": "stream",
     "text": [
      "enter the number: 2\n",
      "how much power we want: 4\n"
     ]
    },
    {
     "name": "stdout",
     "output_type": "stream",
     "text": [
      "16\n"
     ]
    }
   ],
   "source": [
    "2**2\n",
    "2**3\n",
    "2**4\n",
    "number=eval(input('enter the number:'))\n",
    "power=eval(input('how much power we want:'))\n",
    "print(number**power)"
   ]
  },
  {
   "cell_type": "code",
   "execution_count": 33,
   "id": "30b49e42-4c27-42e4-8c5c-2595e262659d",
   "metadata": {},
   "outputs": [
    {
     "name": "stdin",
     "output_type": "stream",
     "text": [
      "enter the number: 2\n",
      "how much power we want: 3\n"
     ]
    },
    {
     "name": "stdout",
     "output_type": "stream",
     "text": [
      "8\n"
     ]
    }
   ],
   "source": [
    "def POWER():\n",
    "    number=eval(input('enter the number:'))\n",
    "    power=eval(input('how much power we want:'))\n",
    "    print(number**power)\n",
    "POWER()"
   ]
  },
  {
   "cell_type": "code",
   "execution_count": 34,
   "id": "1d9dfb64-75bc-432b-a15b-49a3f8268506",
   "metadata": {},
   "outputs": [
    {
     "name": "stdout",
     "output_type": "stream",
     "text": [
      "8\n"
     ]
    }
   ],
   "source": [
    "def POWER(number,power):\n",
    "    print(number**power)\n",
    "POWER(2,3)"
   ]
  },
  {
   "cell_type": "code",
   "execution_count": 35,
   "id": "f66b01fd-db47-4a0e-9aec-d7f8f24fa791",
   "metadata": {},
   "outputs": [
    {
     "ename": "TypeError",
     "evalue": "POWER() takes 0 positional arguments but 1 was given",
     "output_type": "error",
     "traceback": [
      "\u001b[1;31m---------------------------------------------------------------------------\u001b[0m",
      "\u001b[1;31mTypeError\u001b[0m                                 Traceback (most recent call last)",
      "Cell \u001b[1;32mIn[35], line 5\u001b[0m\n\u001b[0;32m      3\u001b[0m     power\u001b[38;5;241m=\u001b[39m\u001b[38;5;28meval\u001b[39m(\u001b[38;5;28minput\u001b[39m(\u001b[38;5;124m'\u001b[39m\u001b[38;5;124mhow much power we want:\u001b[39m\u001b[38;5;124m'\u001b[39m))\n\u001b[0;32m      4\u001b[0m     \u001b[38;5;28mprint\u001b[39m(number\u001b[38;5;241m*\u001b[39m\u001b[38;5;241m*\u001b[39mpower)\n\u001b[1;32m----> 5\u001b[0m POWER(\u001b[38;5;241m20\u001b[39m)\n",
      "\u001b[1;31mTypeError\u001b[0m: POWER() takes 0 positional arguments but 1 was given"
     ]
    }
   ],
   "source": [
    "def POWER():\n",
    "    number=eval(input('enter the number:'))\n",
    "    power=eval(input('how much power we want:'))\n",
    "    print(number**power)\n",
    "POWER(20)"
   ]
  },
  {
   "cell_type": "code",
   "execution_count": null,
   "id": "395cf50d-b1bf-4d07-a7a6-186d5c631e03",
   "metadata": {},
   "outputs": [],
   "source": [
    "def average(n1,n2,n3):\n",
    "    avg=(n1+n2+n3)/3\n",
    "    print(f\"the avg of {n1},{n2} and {n3} is {avg}\")"
   ]
  },
  {
   "cell_type": "markdown",
   "id": "c4cb1320-5cea-418b-8d7b-352fbe17fa38",
   "metadata": {},
   "source": [
    "**Function with Default argument**"
   ]
  },
  {
   "cell_type": "code",
   "execution_count": 36,
   "id": "ac1600cf-a554-494c-b28b-9ea61525861d",
   "metadata": {},
   "outputs": [
    {
     "name": "stdout",
     "output_type": "stream",
     "text": [
      "the total bill is :1500\n"
     ]
    }
   ],
   "source": [
    "def bill(billamount,tipamount=500):\n",
    "    totalbill=billamount+tipamount\n",
    "    print(f\"the total bill is :{totalbill}\")\n",
    "bill(1000)"
   ]
  },
  {
   "cell_type": "code",
   "execution_count": 37,
   "id": "76658b9e-ec92-418f-b39c-e53ef0e403a3",
   "metadata": {},
   "outputs": [
    {
     "name": "stdout",
     "output_type": "stream",
     "text": [
      "n1: 10\n",
      "n2: 20\n",
      "n3: 40\n",
      "the avg of 10,20 and 40 is 23.333333333333332\n"
     ]
    }
   ],
   "source": [
    "def average(n1,n2,n3=40):\n",
    "    print('n1:',n1)\n",
    "    print('n2:',n2)\n",
    "    print('n3:',n3)\n",
    "    avg=(n1+n2+n3)/3\n",
    "    print(f\"the avg of {n1},{n2} and {n3} is {avg}\")\n",
    "average(10,20)"
   ]
  },
  {
   "cell_type": "code",
   "execution_count": 38,
   "id": "1cb8a71f-08d9-4e94-b897-5181a8e773e2",
   "metadata": {},
   "outputs": [
    {
     "ename": "SyntaxError",
     "evalue": "parameter without a default follows parameter with a default (4085058856.py, line 1)",
     "output_type": "error",
     "traceback": [
      "\u001b[1;36m  Cell \u001b[1;32mIn[38], line 1\u001b[1;36m\u001b[0m\n\u001b[1;33m    def average(n1,n2=40,n3):\u001b[0m\n\u001b[1;37m                         ^\u001b[0m\n\u001b[1;31mSyntaxError\u001b[0m\u001b[1;31m:\u001b[0m parameter without a default follows parameter with a default\n"
     ]
    }
   ],
   "source": [
    "def average(n1,n2=40,n3):\n",
    "    print('n1:',n1)\n",
    "    print('n2:',n2)\n",
    "    print('n3:',n3)\n",
    "    avg=(n1+n2+n3)/3\n",
    "    print(f\"the avg of {n1},{n2} and {n3} is {avg}\")\n",
    "average(10,20)"
   ]
  },
  {
   "cell_type": "markdown",
   "id": "c18022be-c8b0-4252-9689-e0b52b7aafcf",
   "metadata": {},
   "source": [
    "**always write the default arguments at last**"
   ]
  },
  {
   "cell_type": "code",
   "execution_count": 39,
   "id": "1ab2f162-68cb-456d-8206-13238f70d048",
   "metadata": {},
   "outputs": [
    {
     "name": "stdout",
     "output_type": "stream",
     "text": [
      "n1: 10\n",
      "n2: 40\n",
      "n3: 20\n",
      "the avg of 10,40 and 20 is 23.333333333333332\n"
     ]
    }
   ],
   "source": [
    "def average(n1,n3,n2=40):\n",
    "    print('n1:',n1)\n",
    "    print('n2:',n2)\n",
    "    print('n3:',n3)\n",
    "    avg=(n1+n2+n3)/3\n",
    "    print(f\"the avg of {n1},{n2} and {n3} is {avg}\")\n",
    "average(10,20)"
   ]
  },
  {
   "cell_type": "code",
   "execution_count": 40,
   "id": "e4183925-71ef-4416-afd0-9b3bf62fc80f",
   "metadata": {},
   "outputs": [
    {
     "name": "stdout",
     "output_type": "stream",
     "text": [
      "n1: 50\n",
      "n2: 20\n",
      "n3: 10\n",
      "the avg of 50,20 and 10 is 26.666666666666668\n"
     ]
    }
   ],
   "source": [
    "def average(n3,n2,n1=50):\n",
    "    print('n1:',n1)\n",
    "    print('n2:',n2)\n",
    "    print('n3:',n3)\n",
    "    avg=(n1+n2+n3)/3\n",
    "    print(f\"the avg of {n1},{n2} and {n3} is {avg}\")\n",
    "average(10,20)"
   ]
  },
  {
   "cell_type": "code",
   "execution_count": null,
   "id": "04d23ca8-6d95-48c9-9cf4-fc130f5a1d3e",
   "metadata": {},
   "outputs": [],
   "source": [
    "n1,n2,n3=100         # works\n",
    "n1,n2=100,n3         # F\n",
    "n1=100,n2,n3         # F\n",
    "n1,n2=100,n3=200     # W\n",
    "n1=100,n2,n3=200     # F\n",
    "n1=100,n2=100,n3     # F\n",
    "n1=100,n2=200,n3=300 # W\n",
    "n3,n1=100,n2=200     # W\n",
    "n2,n3=200,n1=500     # w"
   ]
  },
  {
   "cell_type": "code",
   "execution_count": 10,
   "id": "643ef1ea-4399-4d21-8854-2571fd5222a5",
   "metadata": {},
   "outputs": [
    {
     "name": "stdin",
     "output_type": "stream",
     "text": [
      "enter the number1 6\n"
     ]
    },
    {
     "name": "stdout",
     "output_type": "stream",
     "text": [
      "5\n",
      "not matches\n"
     ]
    }
   ],
   "source": [
    "#without arguments\n",
    "import random\n",
    "def matches():\n",
    "    n1=eval(input('enter the number1'))\n",
    "    n2=random.randint(1,10)\n",
    "    print(n2)\n",
    "    if(n1==n2):\n",
    "        print('number matches')\n",
    "    else:\n",
    "        print('not matches')\n",
    "\n",
    "matches()"
   ]
  },
  {
   "cell_type": "code",
   "execution_count": 12,
   "id": "8badac58-b337-41b2-b402-8683ea73cbe2",
   "metadata": {},
   "outputs": [
    {
     "name": "stdout",
     "output_type": "stream",
     "text": [
      "4\n",
      "not matches\n"
     ]
    }
   ],
   "source": [
    "#with arguments\n",
    "import random\n",
    "def matches(n1):\n",
    "    n2=random.randint(1,10)\n",
    "    print(n2)\n",
    "    if(n1==n2):\n",
    "        print('number matches')\n",
    "    else:\n",
    "        print('not matches')\n",
    "\n",
    "matches(6)"
   ]
  },
  {
   "cell_type": "code",
   "execution_count": 11,
   "id": "887bf7d0-8325-4505-84ed-9efe7e4f8193",
   "metadata": {},
   "outputs": [
    {
     "name": "stdout",
     "output_type": "stream",
     "text": [
      "2\n",
      "not matches\n"
     ]
    }
   ],
   "source": [
    "#default arguments\n",
    "import random\n",
    "def matches(n1=6):\n",
    "    n2=random.randint(1,10)\n",
    "    print(n2)\n",
    "    if(n1==n2):\n",
    "        print('number matches')\n",
    "    else:\n",
    "        print('not matches')\n",
    "\n",
    "matches()"
   ]
  },
  {
   "cell_type": "markdown",
   "id": "89dee159-405f-45b2-abd0-9eab1024fdca",
   "metadata": {},
   "source": [
    "**case 1**\n",
    "\n",
    "- def function\n",
    "- call fn\n",
    "- run the fn"
   ]
  },
  {
   "cell_type": "code",
   "execution_count": 14,
   "id": "2fdbb309-95d0-4987-ab9b-9f278c330ae5",
   "metadata": {},
   "outputs": [
    {
     "name": "stdout",
     "output_type": "stream",
     "text": [
      "n1: 10\n",
      "n2: 20\n",
      "n3: 100\n",
      "the avg of 10,20 and 100 is 43.333333333333336\n"
     ]
    }
   ],
   "source": [
    "def average(n1,n2,n3=40):\n",
    "    print('n1:',n1)\n",
    "    print('n2:',n2)\n",
    "    print('n3:',n3)\n",
    "    avg=(n1+n2+n3)/3\n",
    "    print(f\"the avg of {n1},{n2} and {n3} is {avg}\")\n",
    "average(10,20,100)\n",
    "\n",
    "\n",
    "#define fn n3=40\n",
    "#call the fn n3=100\n",
    "#running the fn n3=100"
   ]
  },
  {
   "cell_type": "markdown",
   "id": "96dc393f-e73f-4c0b-9c48-a498ec914b3d",
   "metadata": {},
   "source": [
    "**local variables vs global variables**\n",
    "\n",
    "- local variables are use inside the function\n",
    "- global variables are use outside the function\n",
    "- global variables can use in anywhere no restrictions\n",
    "- inside or outside the function"
   ]
  },
  {
   "cell_type": "code",
   "execution_count": 22,
   "id": "e740993e-6c0e-457b-a25b-eb127cc96dff",
   "metadata": {},
   "outputs": [
    {
     "name": "stdin",
     "output_type": "stream",
     "text": [
      "enter the n1: 1\n",
      "enter the n2: 2\n",
      "enter the n3: 3\n"
     ]
    },
    {
     "name": "stdout",
     "output_type": "stream",
     "text": [
      "the avg of 1,2 and 3 is 2.0\n"
     ]
    }
   ],
   "source": [
    "n1=eval(input('enter the n1:'))\n",
    "n2=eval(input('enter the n2:'))\n",
    "n3=eval(input('enter the n3:'))\n",
    "def average():\n",
    "    avg=(n1+n2+n3)/3\n",
    "    print(f\"the avg of {n1},{n2} and {n3} is {avg}\")\n",
    "\n",
    "average()"
   ]
  },
  {
   "cell_type": "code",
   "execution_count": 23,
   "id": "57e7d9a7-9ec4-4b97-a8b5-baa46bb8c1fd",
   "metadata": {},
   "outputs": [
    {
     "name": "stdout",
     "output_type": "stream",
     "text": [
      "2\n"
     ]
    }
   ],
   "source": [
    "print(n2)"
   ]
  },
  {
   "cell_type": "code",
   "execution_count": 26,
   "id": "2c129c1d-1440-4829-86b3-70ae253e6330",
   "metadata": {},
   "outputs": [
    {
     "name": "stdin",
     "output_type": "stream",
     "text": [
      "enter the n1: 1\n",
      "enter the n2: 2\n",
      "enter the n3: 3\n"
     ]
    },
    {
     "name": "stdout",
     "output_type": "stream",
     "text": [
      "the avg of 1,2 and 3 is 2.0\n"
     ]
    },
    {
     "ename": "NameError",
     "evalue": "name 'N1' is not defined",
     "output_type": "error",
     "traceback": [
      "\u001b[1;31m---------------------------------------------------------------------------\u001b[0m",
      "\u001b[1;31mNameError\u001b[0m                                 Traceback (most recent call last)",
      "Cell \u001b[1;32mIn[26], line 9\u001b[0m\n\u001b[0;32m      6\u001b[0m     \u001b[38;5;28mprint\u001b[39m(\u001b[38;5;124mf\u001b[39m\u001b[38;5;124m\"\u001b[39m\u001b[38;5;124mthe avg of \u001b[39m\u001b[38;5;132;01m{\u001b[39;00mN1\u001b[38;5;132;01m}\u001b[39;00m\u001b[38;5;124m,\u001b[39m\u001b[38;5;132;01m{\u001b[39;00mN2\u001b[38;5;132;01m}\u001b[39;00m\u001b[38;5;124m and \u001b[39m\u001b[38;5;132;01m{\u001b[39;00mN3\u001b[38;5;132;01m}\u001b[39;00m\u001b[38;5;124m is \u001b[39m\u001b[38;5;132;01m{\u001b[39;00mavg\u001b[38;5;132;01m}\u001b[39;00m\u001b[38;5;124m\"\u001b[39m)\n\u001b[0;32m      8\u001b[0m average()\n\u001b[1;32m----> 9\u001b[0m \u001b[38;5;28mprint\u001b[39m(N1)\n",
      "\u001b[1;31mNameError\u001b[0m: name 'N1' is not defined"
     ]
    }
   ],
   "source": [
    "def average():\n",
    "    N1=eval(input('enter the n1:'))\n",
    "    N2=eval(input('enter the n2:'))\n",
    "    N3=eval(input('enter the n3:'))\n",
    "    avg=(N1+N2+N3)/3\n",
    "    print(f\"the avg of {N1},{N2} and {N3} is {avg}\")\n",
    "\n",
    "average()\n",
    "print(N1)"
   ]
  },
  {
   "cell_type": "markdown",
   "id": "6a0b5972-7c74-460f-a4e0-d8c328a26c79",
   "metadata": {},
   "source": [
    "- Local variables cant use outside the fn\n",
    "- in above code N1 is a local var\n",
    "- we are trying to use outside the fn it is thowing the error"
   ]
  },
  {
   "cell_type": "markdown",
   "id": "3178d7e9-5d8f-4936-9906-ef905951792f",
   "metadata": {},
   "source": [
    "- global variables are initialised outside the fn\n",
    "- global var can be use anywhere\n",
    "- local var are initialized inside the fn\n",
    "- local var can not use outside the fn"
   ]
  },
  {
   "cell_type": "code",
   "execution_count": 32,
   "id": "afb7ab71-7287-41d2-8ea0-36f03f8d50ae",
   "metadata": {},
   "outputs": [
    {
     "name": "stdin",
     "output_type": "stream",
     "text": [
      "enter the n1: 1\n",
      "enter the n2: 2\n",
      "enter the n3: 3\n"
     ]
    },
    {
     "name": "stdout",
     "output_type": "stream",
     "text": [
      "the avg of 1,2 and 3 is 2.0\n"
     ]
    }
   ],
   "source": [
    "N1=eval(input('enter the n1:'))\n",
    "N2=eval(input('enter the n2:'))\n",
    "N3=eval(input('enter the n3:'))\n",
    "def average():\n",
    "    avg1=(N1+N2+N3)/3\n",
    "    print(f\"the avg of {N1},{N2} and {N3} is {avg1}\")\n",
    "\n",
    "average()"
   ]
  },
  {
   "cell_type": "code",
   "execution_count": 33,
   "id": "b188e219-3042-4611-b3a6-7276fe421ea6",
   "metadata": {},
   "outputs": [
    {
     "ename": "NameError",
     "evalue": "name 'avg1' is not defined",
     "output_type": "error",
     "traceback": [
      "\u001b[1;31m---------------------------------------------------------------------------\u001b[0m",
      "\u001b[1;31mNameError\u001b[0m                                 Traceback (most recent call last)",
      "Cell \u001b[1;32mIn[33], line 1\u001b[0m\n\u001b[1;32m----> 1\u001b[0m avg1\n",
      "\u001b[1;31mNameError\u001b[0m: name 'avg1' is not defined"
     ]
    }
   ],
   "source": [
    "avg1"
   ]
  },
  {
   "cell_type": "markdown",
   "id": "aace742f-89b6-4290-9954-42cb60a156ee",
   "metadata": {},
   "source": [
    "**how to use local variable outside the fn**"
   ]
  },
  {
   "cell_type": "code",
   "execution_count": 29,
   "id": "c4eeaf0f-8a19-434b-a967-4862f086d23e",
   "metadata": {},
   "outputs": [
    {
     "name": "stdin",
     "output_type": "stream",
     "text": [
      "enter the n1: 1\n",
      "enter the n2: 2\n",
      "enter the n3: 3\n"
     ]
    },
    {
     "name": "stdout",
     "output_type": "stream",
     "text": [
      "the avg of 1,2 and 3 is 2.0\n"
     ]
    }
   ],
   "source": [
    "N1=eval(input('enter the n1:'))\n",
    "N2=eval(input('enter the n2:'))\n",
    "N3=eval(input('enter the n3:'))\n",
    "def average():\n",
    "    global avg\n",
    "    avg=(N1+N2+N3)/3\n",
    "    print(f\"the avg of {N1},{N2} and {N3} is {avg}\")\n",
    "\n",
    "average()"
   ]
  },
  {
   "cell_type": "code",
   "execution_count": 28,
   "id": "cd889e1e-5081-4994-8279-2535a31ddc09",
   "metadata": {},
   "outputs": [
    {
     "data": {
      "text/plain": [
       "2.0"
      ]
     },
     "execution_count": 28,
     "metadata": {},
     "output_type": "execute_result"
    }
   ],
   "source": [
    "avg"
   ]
  },
  {
   "cell_type": "code",
   "execution_count": 2,
   "id": "2a5bf820-b734-445e-bd24-e37cf7238cbc",
   "metadata": {},
   "outputs": [
    {
     "name": "stdout",
     "output_type": "stream",
     "text": [
      "50 -10\n"
     ]
    }
   ],
   "source": [
    "def summ(a,b):\n",
    "    global add,sub\n",
    "    add=a+b\n",
    "    sub=a-b\n",
    "    print(add,sub)\n",
    "summ(20,30)"
   ]
  },
  {
   "cell_type": "code",
   "execution_count": 3,
   "id": "fd5099db-d3f7-4e9e-a3ca-855fce735030",
   "metadata": {},
   "outputs": [
    {
     "data": {
      "text/plain": [
       "(50, -10)"
      ]
     },
     "execution_count": 3,
     "metadata": {},
     "output_type": "execute_result"
    }
   ],
   "source": [
    "add,sub"
   ]
  },
  {
   "cell_type": "markdown",
   "id": "05bccce0-f202-4564-9daf-3afd8d0665fd",
   "metadata": {},
   "source": [
    "**Unboundlocalerror**\n",
    "\n",
    "- unboundlocalerror means the var is not defined\n",
    "- that var is used as both input and output **inside the function**"
   ]
  },
  {
   "cell_type": "code",
   "execution_count": 4,
   "id": "5d1bda72-5951-4e9e-9c8c-679e2d8dec34",
   "metadata": {},
   "outputs": [
    {
     "ename": "UnboundLocalError",
     "evalue": "cannot access local variable 'b' where it is not associated with a value",
     "output_type": "error",
     "traceback": [
      "\u001b[1;31m---------------------------------------------------------------------------\u001b[0m",
      "\u001b[1;31mUnboundLocalError\u001b[0m                         Traceback (most recent call last)",
      "Cell \u001b[1;32mIn[4], line 6\u001b[0m\n\u001b[0;32m      3\u001b[0m     b\u001b[38;5;241m=\u001b[39mb\u001b[38;5;241m+\u001b[39ma\n\u001b[0;32m      4\u001b[0m     \u001b[38;5;28mprint\u001b[39m(b)\n\u001b[1;32m----> 6\u001b[0m fun1()\n",
      "Cell \u001b[1;32mIn[4], line 3\u001b[0m, in \u001b[0;36mfun1\u001b[1;34m()\u001b[0m\n\u001b[0;32m      1\u001b[0m \u001b[38;5;28;01mdef\u001b[39;00m \u001b[38;5;21mfun1\u001b[39m():\n\u001b[0;32m      2\u001b[0m     a\u001b[38;5;241m=\u001b[39m\u001b[38;5;241m10\u001b[39m\n\u001b[1;32m----> 3\u001b[0m     b\u001b[38;5;241m=\u001b[39mb\u001b[38;5;241m+\u001b[39ma\n\u001b[0;32m      4\u001b[0m     \u001b[38;5;28mprint\u001b[39m(b)\n",
      "\u001b[1;31mUnboundLocalError\u001b[0m: cannot access local variable 'b' where it is not associated with a value"
     ]
    }
   ],
   "source": [
    "def fun1():\n",
    "    a=10\n",
    "    b=b+a\n",
    "    print(b)\n",
    "\n",
    "fun1()"
   ]
  },
  {
   "cell_type": "code",
   "execution_count": 5,
   "id": "fd05b158-97bc-49d3-ad07-77475514383a",
   "metadata": {},
   "outputs": [
    {
     "ename": "UnboundLocalError",
     "evalue": "cannot access local variable 'b' where it is not associated with a value",
     "output_type": "error",
     "traceback": [
      "\u001b[1;31m---------------------------------------------------------------------------\u001b[0m",
      "\u001b[1;31mUnboundLocalError\u001b[0m                         Traceback (most recent call last)",
      "Cell \u001b[1;32mIn[5], line 6\u001b[0m\n\u001b[0;32m      3\u001b[0m     c\u001b[38;5;241m=\u001b[39mb\u001b[38;5;241m+\u001b[39ma\n\u001b[0;32m      4\u001b[0m     \u001b[38;5;28mprint\u001b[39m(c)\n\u001b[1;32m----> 6\u001b[0m fun1()\n",
      "Cell \u001b[1;32mIn[4], line 3\u001b[0m, in \u001b[0;36mfun1\u001b[1;34m()\u001b[0m\n\u001b[0;32m      1\u001b[0m \u001b[38;5;28;01mdef\u001b[39;00m \u001b[38;5;21mfun1\u001b[39m():\n\u001b[0;32m      2\u001b[0m     a\u001b[38;5;241m=\u001b[39m\u001b[38;5;241m10\u001b[39m\n\u001b[1;32m----> 3\u001b[0m     b\u001b[38;5;241m=\u001b[39mb\u001b[38;5;241m+\u001b[39ma\n\u001b[0;32m      4\u001b[0m     \u001b[38;5;28mprint\u001b[39m(b)\n",
      "\u001b[1;31mUnboundLocalError\u001b[0m: cannot access local variable 'b' where it is not associated with a value"
     ]
    }
   ],
   "source": [
    "def fun2():\n",
    "    a=10\n",
    "    c=b+a\n",
    "    print(c)\n",
    "\n",
    "fun1()"
   ]
  },
  {
   "cell_type": "markdown",
   "id": "f0c11359-096b-4dab-a128-c7676f779141",
   "metadata": {},
   "source": [
    "**return statement**\n",
    "\n",
    "- till now above we have created a fn with print statement in order\n",
    "- the fn output we r not able to use outside the fn\n",
    "- because it is a local var\n",
    "- one method we used to is **global**\n",
    "- another method is return statement\n",
    "- return means something we are receiving\n",
    "- print means only we can see the ans"
   ]
  },
  {
   "cell_type": "code",
   "execution_count": 12,
   "id": "6b6476b3-759a-4313-aa71-c4a3a0ae9fbd",
   "metadata": {},
   "outputs": [],
   "source": [
    "def add(a,b):\n",
    "    c=a+b\n",
    "    return(c)\n",
    "\n",
    "c=add(20,30)"
   ]
  },
  {
   "cell_type": "code",
   "execution_count": 10,
   "id": "a4f219e7-d084-460b-86d3-2eedf8f439c5",
   "metadata": {},
   "outputs": [
    {
     "data": {
      "text/plain": [
       "50"
      ]
     },
     "execution_count": 10,
     "metadata": {},
     "output_type": "execute_result"
    }
   ],
   "source": [
    "c"
   ]
  },
  {
   "cell_type": "code",
   "execution_count": null,
   "id": "96c1780b-83b7-4cba-97db-7be31c408e35",
   "metadata": {},
   "outputs": [],
   "source": [
    "def add(a,b):\n",
    "    c=a+b\n",
    "    return(c)\n",
    "\n",
    "c=add(20,30)    #c\n",
    "#######################\n",
    "def add(a,b):\n",
    "    c=a+b\n",
    "    return(c)\n",
    "\n",
    "val=add(20,30)  #val"
   ]
  },
  {
   "cell_type": "code",
   "execution_count": 21,
   "id": "39363cbc-538c-4e97-9a27-27545d768275",
   "metadata": {},
   "outputs": [
    {
     "name": "stdout",
     "output_type": "stream",
     "text": [
      "50 -10\n"
     ]
    }
   ],
   "source": [
    "def add_sub(a,b):\n",
    "    add1=a+b\n",
    "    sub1=a-b\n",
    "    print(add1,sub1)\n",
    "    return(add1,sub1)\n",
    "\n",
    "add1,sub1=add_sub(20,30)"
   ]
  },
  {
   "cell_type": "code",
   "execution_count": 22,
   "id": "7f431999-3e32-477d-85b8-974abde17b52",
   "metadata": {},
   "outputs": [
    {
     "data": {
      "text/plain": [
       "(50, -10)"
      ]
     },
     "execution_count": 22,
     "metadata": {},
     "output_type": "execute_result"
    }
   ],
   "source": [
    "add1,sub1"
   ]
  },
  {
   "cell_type": "code",
   "execution_count": 19,
   "id": "2b4b3287-511d-4064-b4b9-b3d6c9e98f77",
   "metadata": {},
   "outputs": [],
   "source": [
    "def add_sub(a,b):\n",
    "    add1=a+b\n",
    "    sub1=a-b\n",
    "    return(add1,sub1)\n",
    "\n",
    "add1_sub1=add_sub(20,30)"
   ]
  },
  {
   "cell_type": "code",
   "execution_count": 20,
   "id": "f8a67348-e547-4081-913d-ad7e472057ec",
   "metadata": {},
   "outputs": [
    {
     "data": {
      "text/plain": [
       "(50, -10)"
      ]
     },
     "execution_count": 20,
     "metadata": {},
     "output_type": "execute_result"
    }
   ],
   "source": [
    "add1_sub1"
   ]
  },
  {
   "cell_type": "code",
   "execution_count": 27,
   "id": "7edf740d-9b91-48d4-ae54-09b45016daaa",
   "metadata": {},
   "outputs": [
    {
     "data": {
      "text/plain": [
       "50"
      ]
     },
     "execution_count": 27,
     "metadata": {},
     "output_type": "execute_result"
    }
   ],
   "source": [
    "def add_sub(a,b):\n",
    "    add1=a+b\n",
    "    sub1=a-b\n",
    "    return(add1)\n",
    "    return(sub1)\n",
    "\n",
    "add_sub(20,30)\n"
   ]
  },
  {
   "cell_type": "code",
   "execution_count": 29,
   "id": "01a27b97-30ea-43ad-a593-79ad02feb849",
   "metadata": {},
   "outputs": [],
   "source": [
    "n1=100,200"
   ]
  },
  {
   "cell_type": "code",
   "execution_count": 30,
   "id": "38262f50-d3ed-47d0-a3cd-78032f8a4bf4",
   "metadata": {},
   "outputs": [],
   "source": [
    "n1,n2=100,200"
   ]
  },
  {
   "cell_type": "code",
   "execution_count": 31,
   "id": "190200b9-810b-4bd4-954d-c572cd5d3d7b",
   "metadata": {},
   "outputs": [
    {
     "ename": "TypeError",
     "evalue": "cannot unpack non-iterable int object",
     "output_type": "error",
     "traceback": [
      "\u001b[1;31m---------------------------------------------------------------------------\u001b[0m",
      "\u001b[1;31mTypeError\u001b[0m                                 Traceback (most recent call last)",
      "Cell \u001b[1;32mIn[31], line 1\u001b[0m\n\u001b[1;32m----> 1\u001b[0m n1,n2\u001b[38;5;241m=\u001b[39m\u001b[38;5;241m100\u001b[39m\n",
      "\u001b[1;31mTypeError\u001b[0m: cannot unpack non-iterable int object"
     ]
    }
   ],
   "source": [
    "n1,n2=100"
   ]
  },
  {
   "cell_type": "code",
   "execution_count": 32,
   "id": "cc64efa9-25db-4676-aca5-5f707ea34f47",
   "metadata": {},
   "outputs": [
    {
     "data": {
      "text/plain": [
       "(100, 200)"
      ]
     },
     "execution_count": 32,
     "metadata": {},
     "output_type": "execute_result"
    }
   ],
   "source": [
    "n1=100,200\n",
    "n1"
   ]
  },
  {
   "cell_type": "code",
   "execution_count": 33,
   "id": "564f0328-1171-4189-a0be-a495fa6519d4",
   "metadata": {},
   "outputs": [],
   "source": [
    "def add_sub(a,b):\n",
    "    add1=a+b\n",
    "    sub1=a-b\n",
    "    return(add1,sub1)\n",
    "\n",
    "add1_sub1=add_sub(20,30)"
   ]
  },
  {
   "cell_type": "code",
   "execution_count": 35,
   "id": "d7a675e3-31c1-44ad-8db4-f735ff2feb99",
   "metadata": {},
   "outputs": [
    {
     "data": {
      "text/plain": [
       "(50, -10)"
      ]
     },
     "execution_count": 35,
     "metadata": {},
     "output_type": "execute_result"
    }
   ],
   "source": [
    "add1_sub1  #tuple"
   ]
  },
  {
   "cell_type": "markdown",
   "id": "31dae566-37e2-4e7e-9a25-941a03ce6f4f",
   "metadata": {},
   "source": [
    "**global vs return**\n",
    "\n",
    "- global keyword used for we can take the inside var to outside the fn\n",
    "- return can return any value outside the fn\n",
    "- **the value u can be used another notebook also**"
   ]
  },
  {
   "cell_type": "markdown",
   "id": "8d2cd6f4-3794-42c1-b041-c1f6884bdace",
   "metadata": {},
   "source": [
    "**function in functions**"
   ]
  },
  {
   "cell_type": "code",
   "execution_count": 37,
   "id": "9dadfcd3-ff86-49a2-9b3f-3fb987313f02",
   "metadata": {},
   "outputs": [
    {
     "name": "stdout",
     "output_type": "stream",
     "text": [
      "hello good morning\n",
      "hello good night\n"
     ]
    }
   ],
   "source": [
    "def greet1():\n",
    "    print('hello good morning')\n",
    "\n",
    "def greet2():\n",
    "    print('hello good night')\n",
    "\n",
    "greet1()\n",
    "greet2()"
   ]
  },
  {
   "cell_type": "code",
   "execution_count": 41,
   "id": "11045375-fa37-4649-b5fa-629bfa5ccda7",
   "metadata": {},
   "outputs": [
    {
     "name": "stdout",
     "output_type": "stream",
     "text": [
      "hello good morning\n",
      "hello good night\n",
      "hello good night\n",
      "hello good morning\n"
     ]
    }
   ],
   "source": [
    "def greet1():\n",
    "    print('hello good morning')\n",
    "    \n",
    "def greet2():\n",
    "    greet1()\n",
    "    print('hello good night')\n",
    "\n",
    "greet2()\n",
    "################################################\n",
    "def greet1():\n",
    "    greet2()\n",
    "    print('hello good morning')\n",
    "    \n",
    "def greet2():\n",
    "    print('hello good night')\n",
    "\n",
    "greet1()"
   ]
  },
  {
   "cell_type": "code",
   "execution_count": null,
   "id": "e7b0e7e5-a88d-44ef-b786-298574e66641",
   "metadata": {},
   "outputs": [],
   "source": [
    "def greet1():\n",
    "    print('hello good morning')\n",
    "\n",
    "def greet2():\n",
    "    print('hello good night')\n",
    "\n",
    "greet1()\n",
    "greet2()\n",
    "##################################################\n",
    "def greet1():\n",
    "    print('hello good morning')\n",
    "    \n",
    "def greet2():\n",
    "    greet1()\n",
    "    print('hello good night')\n",
    "\n",
    "greet2()\n",
    "################################################\n",
    "def greet1():\n",
    "    greet2()\n",
    "    print('hello good morning')\n",
    "    \n",
    "def greet2():\n",
    "    print('hello good night')\n",
    "\n",
    "greet1()\n",
    "####################################################\n",
    "def greet1():\n",
    "    greet2()\n",
    "    print('hello good morning')\n",
    "    \n",
    "def greet2():\n",
    "    greet1()\n",
    "    print('hello good night')\n",
    "\n",
    "greet2()   #looop"
   ]
  },
  {
   "cell_type": "code",
   "execution_count": 55,
   "id": "671e09c3-969e-449a-934f-f6cdeafcffc5",
   "metadata": {},
   "outputs": [
    {
     "ename": "NameError",
     "evalue": "name 'name' is not defined",
     "output_type": "error",
     "traceback": [
      "\u001b[1;31m---------------------------------------------------------------------------\u001b[0m",
      "\u001b[1;31mNameError\u001b[0m                                 Traceback (most recent call last)",
      "Cell \u001b[1;32mIn[55], line 7\u001b[0m\n\u001b[0;32m      4\u001b[0m \u001b[38;5;28;01mdef\u001b[39;00m \u001b[38;5;21moutside_fun\u001b[39m(name):\n\u001b[0;32m      5\u001b[0m     inside_fun()\n\u001b[1;32m----> 7\u001b[0m outside_fun(\u001b[38;5;124m'\u001b[39m\u001b[38;5;124mpython\u001b[39m\u001b[38;5;124m'\u001b[39m)\n",
      "Cell \u001b[1;32mIn[55], line 5\u001b[0m, in \u001b[0;36moutside_fun\u001b[1;34m(name)\u001b[0m\n\u001b[0;32m      4\u001b[0m \u001b[38;5;28;01mdef\u001b[39;00m \u001b[38;5;21moutside_fun\u001b[39m(name):\n\u001b[1;32m----> 5\u001b[0m     inside_fun()\n",
      "Cell \u001b[1;32mIn[55], line 2\u001b[0m, in \u001b[0;36minside_fun\u001b[1;34m()\u001b[0m\n\u001b[0;32m      1\u001b[0m \u001b[38;5;28;01mdef\u001b[39;00m \u001b[38;5;21minside_fun\u001b[39m():\n\u001b[1;32m----> 2\u001b[0m     \u001b[38;5;28mprint\u001b[39m(\u001b[38;5;124mf\u001b[39m\u001b[38;5;124m'\u001b[39m\u001b[38;5;124mhello \u001b[39m\u001b[38;5;132;01m{\u001b[39;00mname\u001b[38;5;132;01m}\u001b[39;00m\u001b[38;5;124m good morning\u001b[39m\u001b[38;5;124m'\u001b[39m)\n",
      "\u001b[1;31mNameError\u001b[0m: name 'name' is not defined"
     ]
    }
   ],
   "source": [
    "def inside_fun():\n",
    "    print(f'hello {name} good morning')\n",
    "    \n",
    "def outside_fun(name):\n",
    "    inside_fun()\n",
    "\n",
    "outside_fun('python')"
   ]
  },
  {
   "cell_type": "code",
   "execution_count": 56,
   "id": "080251d1-7774-45e9-b534-0318cf8981ba",
   "metadata": {},
   "outputs": [
    {
     "name": "stdout",
     "output_type": "stream",
     "text": [
      "hello python good morning\n"
     ]
    }
   ],
   "source": [
    "def inside_fun(name):\n",
    "    print(f'hello {name} good morning')\n",
    "    \n",
    "def outside_fun(name):\n",
    "    inside_fun(name)\n",
    "\n",
    "outside_fun('python')"
   ]
  },
  {
   "cell_type": "code",
   "execution_count": 59,
   "id": "a477d437-0601-4b73-ac5a-af0386cabe02",
   "metadata": {},
   "outputs": [
    {
     "name": "stdout",
     "output_type": "stream",
     "text": [
      "hello python good morning\n"
     ]
    }
   ],
   "source": [
    "def outside_fun(name):\n",
    "    def inside_fun():\n",
    "        print(f'hello {name} good morning')\n",
    "    inside_fun()\n",
    "outside_fun('python')"
   ]
  },
  {
   "cell_type": "code",
   "execution_count": 64,
   "id": "878dcd75-4d10-4b33-b6f9-84ef3b10c54e",
   "metadata": {},
   "outputs": [
    {
     "name": "stdout",
     "output_type": "stream",
     "text": [
      "30\n",
      "30\n",
      "30\n"
     ]
    }
   ],
   "source": [
    "def add(a,b):\n",
    "    print(a+b)\n",
    "add(10,20)\n",
    "############################\n",
    "def MATH():\n",
    "    def add(a,b):\n",
    "        print(a+b) \n",
    "    add(10,20)\n",
    "MATH()\n",
    "#############################\n",
    "def MATH1():\n",
    "    def MATH():\n",
    "        def add(a,b):\n",
    "            print(a+b)    \n",
    "        add(10,20)\n",
    "    MATH()\n",
    "MATH1()"
   ]
  },
  {
   "cell_type": "code",
   "execution_count": null,
   "id": "0cbdafc5-c5b5-4f7a-81f4-fbd4393561e8",
   "metadata": {},
   "outputs": [],
   "source": [
    "# calculator\n",
    "# 4 fn\n",
    "# add\n",
    "# sub\n",
    "# mult\n",
    "# div\n",
    "# print(enter the vlue1,2,3,4)\n",
    "#main fun\n",
    "#a=num\n",
    "#b=num\n",
    "#operator\n",
    "#if operator==1\n",
    "#add function"
   ]
  },
  {
   "cell_type": "code",
   "execution_count": 1,
   "id": "ef9babe9-5437-49b8-818d-b3fc7756eb42",
   "metadata": {},
   "outputs": [
    {
     "name": "stdin",
     "output_type": "stream",
     "text": [
      "enter the number1 4\n",
      "enter the number2 2\n",
      "Enter a value 1,2,3,4 : 3\n"
     ]
    },
    {
     "name": "stdout",
     "output_type": "stream",
     "text": [
      "multiple\n",
      "8\n"
     ]
    }
   ],
   "source": [
    "a=eval(input('enter the number1'))\n",
    "b=eval(input('enter the number2'))\n",
    "def ADD():\n",
    "    print(a+b)\n",
    "\n",
    "def SUB():\n",
    "    print(a-b)\n",
    "\n",
    "def MULT():\n",
    "    print(a*b)\n",
    "\n",
    "def DIV():\n",
    "    print(a/b)\n",
    "\n",
    "def main():\n",
    "    operator=eval(input(\"Enter a value 1,2,3,4 :\"))\n",
    "    if(operator==1):\n",
    "        print('addition')\n",
    "        ADD()\n",
    "    elif(operator==2):\n",
    "        print('subtraction')\n",
    "        SUB()\n",
    "    elif(operator==3):\n",
    "        print('multiple')\n",
    "        MULT()\n",
    "    elif(operator==4):\n",
    "        print('division')\n",
    "        DIV()\n",
    "    else:\n",
    "        print('invalid')\n",
    "\n",
    "main()\n",
    "        "
   ]
  },
  {
   "cell_type": "code",
   "execution_count": null,
   "id": "6e75d166-3918-42b0-afa9-41d55f93e228",
   "metadata": {},
   "outputs": [],
   "source": []
  },
  {
   "cell_type": "code",
   "execution_count": null,
   "id": "3c3485c2-c11c-4358-8735-e5df1016fbd7",
   "metadata": {},
   "outputs": [],
   "source": []
  },
  {
   "cell_type": "code",
   "execution_count": null,
   "id": "0ab61050-aaa4-4e30-bb39-a2eefb6788c1",
   "metadata": {},
   "outputs": [],
   "source": []
  },
  {
   "cell_type": "code",
   "execution_count": null,
   "id": "39cc9b00-2a06-4dc3-adfe-f126446bfba9",
   "metadata": {},
   "outputs": [],
   "source": []
  }
 ],
 "metadata": {
  "kernelspec": {
   "display_name": "Python 3 (ipykernel)",
   "language": "python",
   "name": "python3"
  },
  "language_info": {
   "codemirror_mode": {
    "name": "ipython",
    "version": 3
   },
   "file_extension": ".py",
   "mimetype": "text/x-python",
   "name": "python",
   "nbconvert_exporter": "python",
   "pygments_lexer": "ipython3",
   "version": "3.12.4"
  }
 },
 "nbformat": 4,
 "nbformat_minor": 5
}
