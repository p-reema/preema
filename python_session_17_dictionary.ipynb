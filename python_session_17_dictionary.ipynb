{
 "cells": [
  {
   "cell_type": "code",
   "execution_count": 2,
   "id": "46294d3d-3f2a-47fb-bf4d-07eb6b934126",
   "metadata": {},
   "outputs": [
    {
     "name": "stdout",
     "output_type": "stream",
     "text": [
      "Ramesh age is 20\n",
      "Suresh age is 30\n",
      "Sathish age is 40\n"
     ]
    }
   ],
   "source": [
    "l1=['Ramesh','Suresh','Sathish']\n",
    "l2=[20,30,40]\n",
    "for i in range(len(l1)):\n",
    "    print(f'{l1[i]} age is {l2[i]}')"
   ]
  },
  {
   "cell_type": "markdown",
   "id": "2ada5712-4b7f-4e80-ad58-0f7d53c618ec",
   "metadata": {},
   "source": [
    "**zip**"
   ]
  },
  {
   "cell_type": "code",
   "execution_count": 4,
   "id": "8624321d-dfd9-4cc5-b181-06ba28987384",
   "metadata": {},
   "outputs": [
    {
     "name": "stdout",
     "output_type": "stream",
     "text": [
      "Ramesh age is 20\n",
      "Suresh age is 30\n",
      "Sathish age is 40\n"
     ]
    }
   ],
   "source": [
    "l1=['Ramesh','Suresh','Sathish']\n",
    "l2=[20,30,40]\n",
    "for i,j in zip(l1,l2):\n",
    "    print(f'{i} age is {j}')"
   ]
  },
  {
   "cell_type": "markdown",
   "id": "689dcde3-f674-4d21-8ba2-c64bc2bc49ba",
   "metadata": {},
   "source": [
    "**Dictionary**\n",
    "\n",
    "- strings representing quotes\n",
    "- list rep []\n",
    "- tuple ()\n",
    "- sets {} with only one value\n",
    "- **dictionary** also with {} with 2 values\n",
    "- it has key value pair\n",
    "- dictionary elements are in pair\n",
    "    - one element is **key**\n",
    "    - another element is **value** "
   ]
  },
  {
   "cell_type": "code",
   "execution_count": 11,
   "id": "b17cb728-d066-4557-a741-78aadd05e709",
   "metadata": {},
   "outputs": [
    {
     "data": {
      "text/plain": [
       "{'Ramesh': 20, 'Suresh': 30, 'Sathish': 40}"
      ]
     },
     "execution_count": 11,
     "metadata": {},
     "output_type": "execute_result"
    }
   ],
   "source": [
    "# l1=['Ramesh','Suresh','Sathish']\n",
    "# l2=[20,30,40]\n",
    "\n",
    "dict1={'Ramesh':20,'Suresh':30,'Sathish':40}\n",
    "dict1"
   ]
  },
  {
   "cell_type": "code",
   "execution_count": 10,
   "id": "c940fcbb-2d99-4e9f-bd92-932a40eabd37",
   "metadata": {},
   "outputs": [
    {
     "data": {
      "text/plain": [
       "dict"
      ]
     },
     "execution_count": 10,
     "metadata": {},
     "output_type": "execute_result"
    }
   ],
   "source": [
    "type(dict1)"
   ]
  },
  {
   "cell_type": "markdown",
   "id": "5aaa2d70-c50f-41c6-9786-047654d78653",
   "metadata": {},
   "source": [
    "**initialization**"
   ]
  },
  {
   "cell_type": "code",
   "execution_count": 17,
   "id": "99e8a750-ee48-47f6-bc09-008f57a850f3",
   "metadata": {},
   "outputs": [
    {
     "data": {
      "text/plain": [
       "{20: 'Ramesh', 30: 'Suresh', 40: 'Sathish'}"
      ]
     },
     "execution_count": 17,
     "metadata": {},
     "output_type": "execute_result"
    }
   ],
   "source": [
    "dict2={20:'Ramesh',30:'Suresh',40:'Sathish'}\n",
    "dict2"
   ]
  },
  {
   "cell_type": "code",
   "execution_count": 28,
   "id": "77d23654-870b-442b-8737-32b0cc618aa6",
   "metadata": {},
   "outputs": [
    {
     "data": {
      "text/plain": [
       "{'Ramesh': 'Ramesh', 'Suresh': 'Suresh', 'Sathish': 'Sathish'}"
      ]
     },
     "execution_count": 28,
     "metadata": {},
     "output_type": "execute_result"
    }
   ],
   "source": [
    "dict3={'Ramesh':'Ramesh','Suresh':'Suresh','Sathish':'Sathish'}\n",
    "dict3"
   ]
  },
  {
   "cell_type": "code",
   "execution_count": 30,
   "id": "db5fe9f0-14e1-4ef3-a1fc-1e403ec720ed",
   "metadata": {},
   "outputs": [
    {
     "ename": "TypeError",
     "evalue": "unhashable type: 'list'",
     "output_type": "error",
     "traceback": [
      "\u001b[1;31m---------------------------------------------------------------------------\u001b[0m",
      "\u001b[1;31mTypeError\u001b[0m                                 Traceback (most recent call last)",
      "Cell \u001b[1;32mIn[30], line 1\u001b[0m\n\u001b[1;32m----> 1\u001b[0m dict4\u001b[38;5;241m=\u001b[39m{[\u001b[38;5;124m'\u001b[39m\u001b[38;5;124mRamesh\u001b[39m\u001b[38;5;124m'\u001b[39m,\u001b[38;5;241m20\u001b[39m]:\u001b[38;5;241m1\u001b[39m,[\u001b[38;5;124m'\u001b[39m\u001b[38;5;124mSuresh\u001b[39m\u001b[38;5;124m'\u001b[39m,\u001b[38;5;241m30\u001b[39m]:\u001b[38;5;241m2\u001b[39m,[\u001b[38;5;124m'\u001b[39m\u001b[38;5;124mSathish\u001b[39m\u001b[38;5;124m'\u001b[39m,\u001b[38;5;241m40\u001b[39m]:\u001b[38;5;241m3\u001b[39m}\n\u001b[0;32m      2\u001b[0m \u001b[38;5;28mdict\u001b[39m\n",
      "\u001b[1;31mTypeError\u001b[0m: unhashable type: 'list'"
     ]
    }
   ],
   "source": [
    "dict4={['Ramesh',20]:1,['Suresh',30]:2,['Sathish',40]:3}\n",
    "dict"
   ]
  },
  {
   "cell_type": "code",
   "execution_count": 31,
   "id": "44179e6f-44dc-46fd-9bd3-c8acd8a536db",
   "metadata": {},
   "outputs": [
    {
     "data": {
      "text/plain": [
       "{('Ramesh', 20): 1, ('Suresh', 30): 2, ('Sathish', 40): 3}"
      ]
     },
     "execution_count": 31,
     "metadata": {},
     "output_type": "execute_result"
    }
   ],
   "source": [
    "dict5={('Ramesh',20):1,('Suresh',30):2,('Sathish',40):3}\n",
    "dict5"
   ]
  },
  {
   "cell_type": "code",
   "execution_count": 32,
   "id": "334db0e6-ba17-4611-ae26-0c0430a7272d",
   "metadata": {},
   "outputs": [
    {
     "data": {
      "text/plain": [
       "{('Ramesh', 20): 1, ('Suresh', 30): 2, ('Sathish', 40): 3}"
      ]
     },
     "execution_count": 32,
     "metadata": {},
     "output_type": "execute_result"
    }
   ],
   "source": [
    "dict6={('Ramesh',20):1,('Suresh',30):2,('Sathish',40):3,('Sathish',40):3}\n",
    "dict6\n",
    "\n",
    "# duplicates are not allowed"
   ]
  },
  {
   "cell_type": "code",
   "execution_count": 34,
   "id": "4741b56b-e683-4049-9749-d40ab55b9d6b",
   "metadata": {},
   "outputs": [
    {
     "data": {
      "text/plain": [
       "{'age': [10, 20, 30]}"
      ]
     },
     "execution_count": 34,
     "metadata": {},
     "output_type": "execute_result"
    }
   ],
   "source": [
    "dict7={'age':[10,20,30]}\n",
    "dict7"
   ]
  },
  {
   "cell_type": "markdown",
   "id": "816db45a-8d06-4896-9471-d54accf309a8",
   "metadata": {},
   "source": [
    "- list is mutable\n",
    "- tuple is immutable\n",
    "- so list can not be a key\n",
    "- **keys are important**"
   ]
  },
  {
   "cell_type": "code",
   "execution_count": 35,
   "id": "a04f0c8a-519f-455d-ab4e-bf7f0c23c546",
   "metadata": {},
   "outputs": [
    {
     "data": {
      "text/plain": [
       "'Suresh'"
      ]
     },
     "execution_count": 35,
     "metadata": {},
     "output_type": "execute_result"
    }
   ],
   "source": [
    "d1={'Ramesh':20,'Suresh':30,'Sathish':40}\n",
    "max(d1)"
   ]
  },
  {
   "cell_type": "code",
   "execution_count": 36,
   "id": "652abec2-bb5e-49a3-8383-fc63ced8af34",
   "metadata": {},
   "outputs": [
    {
     "data": {
      "text/plain": [
       "'Ramesh'"
      ]
     },
     "execution_count": 36,
     "metadata": {},
     "output_type": "execute_result"
    }
   ],
   "source": [
    "min(d1)"
   ]
  },
  {
   "cell_type": "code",
   "execution_count": 37,
   "id": "6d0e1d5e-0688-4c94-951d-ff055f7a5108",
   "metadata": {},
   "outputs": [
    {
     "data": {
      "text/plain": [
       "3"
      ]
     },
     "execution_count": 37,
     "metadata": {},
     "output_type": "execute_result"
    }
   ],
   "source": [
    "len(d1)"
   ]
  },
  {
   "cell_type": "code",
   "execution_count": 38,
   "id": "73d5bc3e-5dcd-471b-ae4a-3a896f461312",
   "metadata": {},
   "outputs": [
    {
     "data": {
      "text/plain": [
       "['Ramesh', 'Sathish', 'Suresh']"
      ]
     },
     "execution_count": 38,
     "metadata": {},
     "output_type": "execute_result"
    }
   ],
   "source": [
    "sorted(d1)"
   ]
  },
  {
   "cell_type": "code",
   "execution_count": 43,
   "id": "724c5e58-ccbc-47b1-a13e-d78621c2e8d6",
   "metadata": {},
   "outputs": [
    {
     "data": {
      "text/plain": [
       "<dict_reversekeyiterator at 0x1a076f06b60>"
      ]
     },
     "execution_count": 43,
     "metadata": {},
     "output_type": "execute_result"
    }
   ],
   "source": [
    "reversed(d1)"
   ]
  },
  {
   "cell_type": "code",
   "execution_count": 42,
   "id": "610964bc-aae6-45ce-937d-4aa9bab4b9aa",
   "metadata": {},
   "outputs": [
    {
     "data": {
      "text/plain": [
       "['Sathish', 'Suresh', 'Ramesh']"
      ]
     },
     "execution_count": 42,
     "metadata": {},
     "output_type": "execute_result"
    }
   ],
   "source": [
    "list(reversed(d1))"
   ]
  },
  {
   "cell_type": "code",
   "execution_count": 44,
   "id": "7de7396f-9f0c-4305-9d88-1b707d248aaf",
   "metadata": {},
   "outputs": [
    {
     "ename": "TypeError",
     "evalue": "unsupported operand type(s) for +: 'int' and 'str'",
     "output_type": "error",
     "traceback": [
      "\u001b[1;31m---------------------------------------------------------------------------\u001b[0m",
      "\u001b[1;31mTypeError\u001b[0m                                 Traceback (most recent call last)",
      "Cell \u001b[1;32mIn[44], line 1\u001b[0m\n\u001b[1;32m----> 1\u001b[0m \u001b[38;5;28msum\u001b[39m(d1)\n",
      "\u001b[1;31mTypeError\u001b[0m: unsupported operand type(s) for +: 'int' and 'str'"
     ]
    }
   ],
   "source": [
    "sum(d1)"
   ]
  },
  {
   "cell_type": "code",
   "execution_count": 52,
   "id": "843cc7d4-9e2a-462a-9603-f1859d43adb5",
   "metadata": {},
   "outputs": [
    {
     "data": {
      "text/plain": [
       "'Suresh'"
      ]
     },
     "execution_count": 52,
     "metadata": {},
     "output_type": "execute_result"
    }
   ],
   "source": [
    "d2={'Ramesh':'20','Suresh':'30','Sathish':'40'}\n",
    "max(d2)"
   ]
  },
  {
   "cell_type": "code",
   "execution_count": 46,
   "id": "63946f0f-c6b8-4582-9198-b2ded74f1d0c",
   "metadata": {},
   "outputs": [
    {
     "data": {
      "text/plain": [
       "'Ramesh'"
      ]
     },
     "execution_count": 46,
     "metadata": {},
     "output_type": "execute_result"
    }
   ],
   "source": [
    "min(d2)"
   ]
  },
  {
   "cell_type": "code",
   "execution_count": 47,
   "id": "950845dc-5aa2-4e97-83c7-e4a7a2f81a71",
   "metadata": {},
   "outputs": [
    {
     "data": {
      "text/plain": [
       "3"
      ]
     },
     "execution_count": 47,
     "metadata": {},
     "output_type": "execute_result"
    }
   ],
   "source": [
    "len(d2)"
   ]
  },
  {
   "cell_type": "code",
   "execution_count": 50,
   "id": "64ea22ba-f6ec-43bc-86fb-5be1de6da74f",
   "metadata": {},
   "outputs": [
    {
     "data": {
      "text/plain": [
       "['Ramesh', 'Sathish', 'Suresh']"
      ]
     },
     "execution_count": 50,
     "metadata": {},
     "output_type": "execute_result"
    }
   ],
   "source": [
    "sorted(d2)"
   ]
  },
  {
   "cell_type": "code",
   "execution_count": 53,
   "id": "ea69e357-19f3-46c7-ba9d-83979b16c973",
   "metadata": {},
   "outputs": [
    {
     "data": {
      "text/plain": [
       "['Sathish', 'Suresh', 'Ramesh']"
      ]
     },
     "execution_count": 53,
     "metadata": {},
     "output_type": "execute_result"
    }
   ],
   "source": [
    "list(reversed(d2))"
   ]
  },
  {
   "cell_type": "code",
   "execution_count": 54,
   "id": "4e2d9b82-8545-459e-b8c2-95b230bad833",
   "metadata": {},
   "outputs": [
    {
     "ename": "TypeError",
     "evalue": "unsupported operand type(s) for +: 'int' and 'str'",
     "output_type": "error",
     "traceback": [
      "\u001b[1;31m---------------------------------------------------------------------------\u001b[0m",
      "\u001b[1;31mTypeError\u001b[0m                                 Traceback (most recent call last)",
      "Cell \u001b[1;32mIn[54], line 1\u001b[0m\n\u001b[1;32m----> 1\u001b[0m \u001b[38;5;28msum\u001b[39m(d2)\n",
      "\u001b[1;31mTypeError\u001b[0m: unsupported operand type(s) for +: 'int' and 'str'"
     ]
    }
   ],
   "source": [
    "sum(d2)"
   ]
  },
  {
   "cell_type": "code",
   "execution_count": 55,
   "id": "9ecd85c8-e5d7-4814-b9dd-5c350c377145",
   "metadata": {},
   "outputs": [
    {
     "data": {
      "text/plain": [
       "{20: 'Ramesh', 30: 'Suresh', 40: 'Sathish'}"
      ]
     },
     "execution_count": 55,
     "metadata": {},
     "output_type": "execute_result"
    }
   ],
   "source": [
    "d3={20:'Ramesh',30:'Suresh',40:'Sathish'}\n",
    "d3"
   ]
  },
  {
   "cell_type": "code",
   "execution_count": 56,
   "id": "342649ab-8fac-438e-b0ad-bb6a0c0fea4c",
   "metadata": {},
   "outputs": [
    {
     "data": {
      "text/plain": [
       "40"
      ]
     },
     "execution_count": 56,
     "metadata": {},
     "output_type": "execute_result"
    }
   ],
   "source": [
    "max(d3)"
   ]
  },
  {
   "cell_type": "code",
   "execution_count": 57,
   "id": "adb6e63b-3b92-4c6d-9a06-3268846d4dd0",
   "metadata": {},
   "outputs": [
    {
     "data": {
      "text/plain": [
       "20"
      ]
     },
     "execution_count": 57,
     "metadata": {},
     "output_type": "execute_result"
    }
   ],
   "source": [
    "min(d3)"
   ]
  },
  {
   "cell_type": "code",
   "execution_count": 58,
   "id": "33fb7c86-dd3b-4a3b-8446-618958785141",
   "metadata": {},
   "outputs": [
    {
     "data": {
      "text/plain": [
       "3"
      ]
     },
     "execution_count": 58,
     "metadata": {},
     "output_type": "execute_result"
    }
   ],
   "source": [
    "len(d3)"
   ]
  },
  {
   "cell_type": "code",
   "execution_count": 59,
   "id": "9a3b2b70-78f2-46d5-8831-00acb51afcc1",
   "metadata": {},
   "outputs": [
    {
     "data": {
      "text/plain": [
       "[20, 30, 40]"
      ]
     },
     "execution_count": 59,
     "metadata": {},
     "output_type": "execute_result"
    }
   ],
   "source": [
    "sorted(d3)"
   ]
  },
  {
   "cell_type": "code",
   "execution_count": 60,
   "id": "48d4a938-de74-44bc-8cc6-b1a20dab7525",
   "metadata": {},
   "outputs": [
    {
     "data": {
      "text/plain": [
       "[40, 30, 20]"
      ]
     },
     "execution_count": 60,
     "metadata": {},
     "output_type": "execute_result"
    }
   ],
   "source": [
    "list(reversed(d3))"
   ]
  },
  {
   "cell_type": "code",
   "execution_count": 61,
   "id": "255114e4-5195-429f-9cf4-067ecc0c56ae",
   "metadata": {},
   "outputs": [
    {
     "data": {
      "text/plain": [
       "90"
      ]
     },
     "execution_count": 61,
     "metadata": {},
     "output_type": "execute_result"
    }
   ],
   "source": [
    "sum(d3)"
   ]
  },
  {
   "cell_type": "markdown",
   "id": "ae6b7135-9100-45b2-ac35-25534fef1a79",
   "metadata": {},
   "source": [
    "**index**"
   ]
  },
  {
   "cell_type": "code",
   "execution_count": 62,
   "id": "f4968972-8a28-4530-8361-39b8fa1f6fdc",
   "metadata": {},
   "outputs": [
    {
     "ename": "KeyError",
     "evalue": "0",
     "output_type": "error",
     "traceback": [
      "\u001b[1;31m---------------------------------------------------------------------------\u001b[0m",
      "\u001b[1;31mKeyError\u001b[0m                                  Traceback (most recent call last)",
      "Cell \u001b[1;32mIn[62], line 1\u001b[0m\n\u001b[1;32m----> 1\u001b[0m d1[\u001b[38;5;241m0\u001b[39m]\n",
      "\u001b[1;31mKeyError\u001b[0m: 0"
     ]
    }
   ],
   "source": [
    "d1[0]"
   ]
  },
  {
   "cell_type": "code",
   "execution_count": 63,
   "id": "f664c138-6232-409b-abd3-a13be74b45a6",
   "metadata": {},
   "outputs": [
    {
     "data": {
      "text/plain": [
       "20"
      ]
     },
     "execution_count": 63,
     "metadata": {},
     "output_type": "execute_result"
    }
   ],
   "source": [
    "d1['Ramesh']"
   ]
  },
  {
   "cell_type": "code",
   "execution_count": 69,
   "id": "0e59d406-aba9-42a2-91f0-c02dbb817eb0",
   "metadata": {},
   "outputs": [
    {
     "name": "stdout",
     "output_type": "stream",
     "text": [
      "Ramesh age is 20\n",
      "Suresh age is 30\n",
      "Sathish age is 40\n"
     ]
    }
   ],
   "source": [
    "d1={'Ramesh':20,'Suresh':30,'Sathish':40}\n",
    "for i in d1:\n",
    "    print(f'{i} age is {d1[i]}')"
   ]
  },
  {
   "cell_type": "markdown",
   "id": "f7068d82-0157-49de-bb6c-167e955c7790",
   "metadata": {},
   "source": [
    "- whenever we iterate dict using for loop in operation it will give key\n",
    "- if we want value we will access through key only\n",
    "- key will work as index"
   ]
  },
  {
   "cell_type": "code",
   "execution_count": 70,
   "id": "c15815f2-65d6-4e2b-8dde-e5c77f9c9b39",
   "metadata": {},
   "outputs": [
    {
     "data": {
      "text/plain": [
       "'Cherry'"
      ]
     },
     "execution_count": 70,
     "metadata": {},
     "output_type": "execute_result"
    }
   ],
   "source": [
    "d1={'Fruites':['Apple','Banana','Cherry']}\n",
    "d1['Fruites'][2]"
   ]
  },
  {
   "cell_type": "code",
   "execution_count": 73,
   "id": "4b669209-4edb-49ff-9d1a-6260b8658069",
   "metadata": {},
   "outputs": [
    {
     "data": {
      "text/plain": [
       "'green'"
      ]
     },
     "execution_count": 73,
     "metadata": {},
     "output_type": "execute_result"
    }
   ],
   "source": [
    "d1={'Fruites':{'Apple':['sweet','green','custred']}}\n",
    "d1['Fruites']['Apple'][1]"
   ]
  },
  {
   "cell_type": "code",
   "execution_count": 74,
   "id": "1be32281-f9f3-449c-b3cb-b87faf36b2b8",
   "metadata": {},
   "outputs": [
    {
     "data": {
      "text/plain": [
       "300"
      ]
     },
     "execution_count": 74,
     "metadata": {},
     "output_type": "execute_result"
    }
   ],
   "source": [
    "d1={'Fruites':[{'cost':[100,200,300]}]}\n",
    "d1['Fruites'][0]['cost'][2]"
   ]
  },
  {
   "cell_type": "code",
   "execution_count": 76,
   "id": "257ac8d1-7f45-47bc-92c9-bfa7eda07419",
   "metadata": {},
   "outputs": [
    {
     "data": {
      "text/plain": [
       "'none'"
      ]
     },
     "execution_count": 76,
     "metadata": {},
     "output_type": "execute_result"
    }
   ],
   "source": [
    "d1={'Fruites':['Apple'],'cost':[{'1kg':[300,500],'2kg':['none']}]}\n",
    "d1['cost'][0]['2kg'][0]"
   ]
  },
  {
   "cell_type": "code",
   "execution_count": 77,
   "id": "c559f5e5-63f9-4ced-8dc6-8b5fd711595e",
   "metadata": {},
   "outputs": [
    {
     "data": {
      "text/plain": [
       "{'shambaji'}"
      ]
     },
     "execution_count": 77,
     "metadata": {},
     "output_type": "execute_result"
    }
   ],
   "source": [
    "d1={'Fruites':{'mango':{'nagpur':{'mh':{'king':{'shivaji':{'shambaji'}}}}}}}\n",
    "d1['Fruites']['mango']['nagpur']['mh']['king']['shivaji']"
   ]
  },
  {
   "cell_type": "markdown",
   "id": "1e6ae324-dd47-493a-a61c-3933533a5cc9",
   "metadata": {},
   "source": [
    "- clear\n",
    "- copy\n",
    "- items\n",
    "- values\n",
    "- keys\n",
    "- get\n",
    "- pop\n"
   ]
  },
  {
   "cell_type": "code",
   "execution_count": 4,
   "id": "544d0259-6f5f-4285-8366-21e18b058bbf",
   "metadata": {},
   "outputs": [
    {
     "data": {
      "text/plain": [
       "{}"
      ]
     },
     "execution_count": 4,
     "metadata": {},
     "output_type": "execute_result"
    }
   ],
   "source": [
    "d1={'Ramesh':20,'Suresh':30,'Sathish':40}\n",
    "d1.clear()\n",
    "d1"
   ]
  },
  {
   "cell_type": "code",
   "execution_count": 5,
   "id": "777ecb96-92d8-459b-a9e6-6af559953fe7",
   "metadata": {},
   "outputs": [
    {
     "data": {
      "text/plain": [
       "{'Ramesh': 20, 'Suresh': 30, 'Sathish': 40}"
      ]
     },
     "execution_count": 5,
     "metadata": {},
     "output_type": "execute_result"
    }
   ],
   "source": [
    "d1={'Ramesh':20,'Suresh':30,'Sathish':40}\n",
    "d2=d1.copy()\n",
    "d2"
   ]
  },
  {
   "cell_type": "code",
   "execution_count": 6,
   "id": "5e112918-72a4-4049-8717-4646dcb65549",
   "metadata": {},
   "outputs": [
    {
     "data": {
      "text/plain": [
       "dict_items([('Ramesh', 20), ('Suresh', 30), ('Sathish', 40)])"
      ]
     },
     "execution_count": 6,
     "metadata": {},
     "output_type": "execute_result"
    }
   ],
   "source": [
    "d1={'Ramesh':20,'Suresh':30,'Sathish':40}\n",
    "d1.items()"
   ]
  },
  {
   "cell_type": "code",
   "execution_count": 8,
   "id": "f5e18d3c-26ed-401b-9685-0b651651f63f",
   "metadata": {},
   "outputs": [
    {
     "data": {
      "text/plain": [
       "dict_values([20, 30, 40])"
      ]
     },
     "execution_count": 8,
     "metadata": {},
     "output_type": "execute_result"
    }
   ],
   "source": [
    "d1={'Ramesh':20,'Suresh':30,'Sathish':40}\n",
    "d1.values()"
   ]
  },
  {
   "cell_type": "code",
   "execution_count": 9,
   "id": "5db8424d-5b89-448e-a9aa-3fca7bfa1107",
   "metadata": {},
   "outputs": [
    {
     "data": {
      "text/plain": [
       "dict_keys(['Ramesh', 'Suresh', 'Sathish'])"
      ]
     },
     "execution_count": 9,
     "metadata": {},
     "output_type": "execute_result"
    }
   ],
   "source": [
    "d1={'Ramesh':20,'Suresh':30,'Sathish':40}\n",
    "d1.keys()"
   ]
  },
  {
   "cell_type": "code",
   "execution_count": 10,
   "id": "8155a7fe-56f5-43c7-97d9-fa502be01fd3",
   "metadata": {},
   "outputs": [
    {
     "data": {
      "text/plain": [
       "20"
      ]
     },
     "execution_count": 10,
     "metadata": {},
     "output_type": "execute_result"
    }
   ],
   "source": [
    "d1={'Ramesh':20,'Suresh':30,'Sathish':40}\n",
    "d1.get('Ramesh')"
   ]
  },
  {
   "cell_type": "code",
   "execution_count": 14,
   "id": "649815e4-5594-47b9-8502-e6d6c72bc95b",
   "metadata": {},
   "outputs": [
    {
     "data": {
      "text/plain": [
       "20"
      ]
     },
     "execution_count": 14,
     "metadata": {},
     "output_type": "execute_result"
    }
   ],
   "source": [
    "d1={'Ramesh':20,'Suresh':30,'Sathish':40}\n",
    "d1.pop('Ramesh')"
   ]
  },
  {
   "cell_type": "code",
   "execution_count": 15,
   "id": "71bb5bae-2dfd-4b5e-9866-f7eb00ae4bd6",
   "metadata": {},
   "outputs": [
    {
     "data": {
      "text/plain": [
       "{'Suresh': 30, 'Sathish': 40}"
      ]
     },
     "execution_count": 15,
     "metadata": {},
     "output_type": "execute_result"
    }
   ],
   "source": [
    "d1"
   ]
  },
  {
   "cell_type": "markdown",
   "id": "bc262591-afcd-4b97-98bc-307af4d60521",
   "metadata": {},
   "source": [
    "**how to convert list to dictionary**"
   ]
  },
  {
   "cell_type": "code",
   "execution_count": 2,
   "id": "01449460-a909-4003-836a-631d3add7bdb",
   "metadata": {},
   "outputs": [
    {
     "data": {
      "text/plain": [
       "{'Ramesh': 20, 'Suresh': 30, 'Sathish': 40}"
      ]
     },
     "execution_count": 2,
     "metadata": {},
     "output_type": "execute_result"
    }
   ],
   "source": [
    "names=['Ramesh','Suresh','Sathish']\n",
    "age=[20,30,40]\n",
    "d1={}\n",
    "d1['Ramesh']=20\n",
    "d1['Suresh']=30\n",
    "d1['Sathish']=40\n",
    "# d1[i]=j\n",
    "d1"
   ]
  },
  {
   "cell_type": "code",
   "execution_count": 3,
   "id": "b1e7fd9d-d5ac-48c4-aed3-e83d09ac2832",
   "metadata": {},
   "outputs": [
    {
     "data": {
      "text/plain": [
       "{'Ramesh': 20, 'Suresh': 30, 'Sathish': 40}"
      ]
     },
     "execution_count": 3,
     "metadata": {},
     "output_type": "execute_result"
    }
   ],
   "source": [
    "names=['Ramesh','Suresh','Sathish']\n",
    "age=[20,30,40]\n",
    "d1={}\n",
    "for i,j in zip(names,age):\n",
    "    d1[i]=j\n",
    "d1"
   ]
  },
  {
   "cell_type": "markdown",
   "id": "e9ac4dbd-dc6b-4c69-a448-339888499f06",
   "metadata": {},
   "source": [
    "**how to convert dictionary to list**"
   ]
  },
  {
   "cell_type": "code",
   "execution_count": 10,
   "id": "5fcddfb9-6998-4e63-8a2f-97c3d6350606",
   "metadata": {},
   "outputs": [
    {
     "name": "stdout",
     "output_type": "stream",
     "text": [
      "[20, 30, 40]\n",
      "['Ramesh', 'Suresh', 'Sathish']\n"
     ]
    }
   ],
   "source": [
    "d1={'Ramesh':20,'Suresh':30,'Sathish':40}\n",
    "names=[]\n",
    "age=[]\n",
    "for i in d1:\n",
    "    age.append(d1[i])\n",
    "    names.append(i)\n",
    "\n",
    "print(age)\n",
    "print(names)"
   ]
  },
  {
   "cell_type": "code",
   "execution_count": 13,
   "id": "5d1eb5b0-2c00-4e12-ba45-f92bca3da1aa",
   "metadata": {},
   "outputs": [
    {
     "data": {
      "text/plain": [
       "(['Ramesh', 'Suresh', 'Sathish'], [20, 30, 40])"
      ]
     },
     "execution_count": 13,
     "metadata": {},
     "output_type": "execute_result"
    }
   ],
   "source": [
    "d1={'Ramesh':20,'Suresh':30,'Sathish':40}\n",
    "names=[i for i in d1]\n",
    "age=[d1[i] for i in d1]\n",
    "names,age\n",
    "# for i in d1:\n",
    "#     age.append(d1[i])\n",
    "#     names.append(i)\n",
    "\n",
    "# print(age)\n",
    "# print(names)"
   ]
  },
  {
   "cell_type": "code",
   "execution_count": 15,
   "id": "5261a127-3ec9-4cee-bed7-fc64e53c16f8",
   "metadata": {},
   "outputs": [
    {
     "data": {
      "text/plain": [
       "{'Ramesh': 20, 'Suresh': 30, 'Sathish': 40}"
      ]
     },
     "execution_count": 15,
     "metadata": {},
     "output_type": "execute_result"
    }
   ],
   "source": [
    "names=['Ramesh','Suresh','Sathish']\n",
    "age=[20,30,40]\n",
    "d1={i:j for i,j in zip(names,age)}\n",
    "# for i,j in zip(names,age):\n",
    "#     d1[i]=j\n",
    "d1"
   ]
  },
  {
   "cell_type": "markdown",
   "id": "f0775c94-f749-41fe-8276-aa5393c8e06b",
   "metadata": {},
   "source": [
    "**mutable vs immutable**"
   ]
  },
  {
   "cell_type": "markdown",
   "id": "4c6e71a0-aa45-4604-abf7-9d33be325856",
   "metadata": {},
   "source": [
    "- list are mutable\n",
    "- strings are immutable\n",
    "- tuple is immutable\n",
    "- dictionary also mutable we can modify the value"
   ]
  },
  {
   "cell_type": "code",
   "execution_count": 16,
   "id": "4786fdde-af0c-459f-98b1-89c672edf47a",
   "metadata": {},
   "outputs": [
    {
     "data": {
      "text/plain": [
       "{'Ramesh': 20, 'Suresh': 30, 'Sathish': 40}"
      ]
     },
     "execution_count": 16,
     "metadata": {},
     "output_type": "execute_result"
    }
   ],
   "source": [
    "d1"
   ]
  },
  {
   "cell_type": "code",
   "execution_count": 17,
   "id": "95dc4145-ebeb-4a6a-9370-a267e70dba29",
   "metadata": {},
   "outputs": [
    {
     "data": {
      "text/plain": [
       "{'Ramesh': 40, 'Suresh': 30, 'Sathish': 40}"
      ]
     },
     "execution_count": 17,
     "metadata": {},
     "output_type": "execute_result"
    }
   ],
   "source": [
    "d1={'Ramesh': 20, 'Suresh': 30, 'Sathish': 40}\n",
    "d1['Ramesh']=40\n",
    "d1"
   ]
  },
  {
   "cell_type": "markdown",
   "id": "65675040-0b77-4d89-a45a-df10260a13fa",
   "metadata": {},
   "source": [
    "- dictionary is similar to database operation\n",
    "- keys always unique but values can be changed"
   ]
  },
  {
   "cell_type": "markdown",
   "id": "09c515bd-5084-44f8-acaa-961a1354769a",
   "metadata": {},
   "source": [
    "**concantenation**"
   ]
  },
  {
   "cell_type": "code",
   "execution_count": 18,
   "id": "ea7575ef-12de-41e8-89bc-7246dbaffba5",
   "metadata": {},
   "outputs": [
    {
     "ename": "TypeError",
     "evalue": "unsupported operand type(s) for +: 'dict' and 'dict'",
     "output_type": "error",
     "traceback": [
      "\u001b[1;31m---------------------------------------------------------------------------\u001b[0m",
      "\u001b[1;31mTypeError\u001b[0m                                 Traceback (most recent call last)",
      "Cell \u001b[1;32mIn[18], line 3\u001b[0m\n\u001b[0;32m      1\u001b[0m d1\u001b[38;5;241m=\u001b[39m{\u001b[38;5;124m'\u001b[39m\u001b[38;5;124mRamesh\u001b[39m\u001b[38;5;124m'\u001b[39m: \u001b[38;5;241m20\u001b[39m}\n\u001b[0;32m      2\u001b[0m d2\u001b[38;5;241m=\u001b[39m{\u001b[38;5;124m'\u001b[39m\u001b[38;5;124mfruites\u001b[39m\u001b[38;5;124m'\u001b[39m:\u001b[38;5;124m'\u001b[39m\u001b[38;5;124mapple\u001b[39m\u001b[38;5;124m'\u001b[39m}\n\u001b[1;32m----> 3\u001b[0m d1\u001b[38;5;241m+\u001b[39md2\n",
      "\u001b[1;31mTypeError\u001b[0m: unsupported operand type(s) for +: 'dict' and 'dict'"
     ]
    }
   ],
   "source": [
    "d1={'Ramesh': 20}\n",
    "d2={'fruites':'apple'}\n",
    "d1+d2"
   ]
  },
  {
   "cell_type": "markdown",
   "id": "08aaa820-c302-4483-b618-e2309667c74e",
   "metadata": {},
   "source": [
    "**items-values-keys**"
   ]
  },
  {
   "cell_type": "code",
   "execution_count": 19,
   "id": "2e0cfdcb-1f18-42b1-b569-802a076a7a51",
   "metadata": {},
   "outputs": [
    {
     "data": {
      "text/plain": [
       "dict_items([('Ramesh', 20), ('Suresh', 30), ('Sathish', 40)])"
      ]
     },
     "execution_count": 19,
     "metadata": {},
     "output_type": "execute_result"
    }
   ],
   "source": [
    "d1={'Ramesh':20,'Suresh':30,'Sathish':40}\n",
    "d1.items()"
   ]
  },
  {
   "cell_type": "code",
   "execution_count": 20,
   "id": "181ebd70-a833-4d2b-85d4-e360dea8bb94",
   "metadata": {},
   "outputs": [
    {
     "data": {
      "text/plain": [
       "dict_values([20, 30, 40])"
      ]
     },
     "execution_count": 20,
     "metadata": {},
     "output_type": "execute_result"
    }
   ],
   "source": [
    "d1={'Ramesh':20,'Suresh':30,'Sathish':40}\n",
    "d1.values()"
   ]
  },
  {
   "cell_type": "code",
   "execution_count": 21,
   "id": "5c57ec36-ef78-4b7d-90b5-d36604f95c1f",
   "metadata": {},
   "outputs": [
    {
     "data": {
      "text/plain": [
       "dict_keys(['Ramesh', 'Suresh', 'Sathish'])"
      ]
     },
     "execution_count": 21,
     "metadata": {},
     "output_type": "execute_result"
    }
   ],
   "source": [
    "d1={'Ramesh':20,'Suresh':30,'Sathish':40}\n",
    "d1.keys()"
   ]
  },
  {
   "cell_type": "markdown",
   "id": "97d8aa7d-8e0f-46f7-916b-a01c1bb49133",
   "metadata": {},
   "source": [
    "- dict_keys is a type has keys\n",
    "- it is looks like list but not list\n",
    "- we can not use list methods here\n",
    "- for that we need to convert dict_keys to list"
   ]
  },
  {
   "cell_type": "code",
   "execution_count": 24,
   "id": "4be77900-9a3c-4d46-bc20-840f3a3cc961",
   "metadata": {},
   "outputs": [
    {
     "data": {
      "text/plain": [
       "['Ramesh', 'Suresh', 'Sathish']"
      ]
     },
     "execution_count": 24,
     "metadata": {},
     "output_type": "execute_result"
    }
   ],
   "source": [
    "d1={'Ramesh':20,'Suresh':30,'Sathish':40}\n",
    "keys=d1.keys()\n",
    "list(keys)"
   ]
  },
  {
   "cell_type": "code",
   "execution_count": 25,
   "id": "f7f204a2-937b-49c8-85d1-9ac0df37e8ee",
   "metadata": {},
   "outputs": [
    {
     "data": {
      "text/plain": [
       "[20, 30, 40]"
      ]
     },
     "execution_count": 25,
     "metadata": {},
     "output_type": "execute_result"
    }
   ],
   "source": [
    "d1={'Ramesh':20,'Suresh':30,'Sathish':40}\n",
    "values=d1.values()\n",
    "list(values)"
   ]
  },
  {
   "cell_type": "code",
   "execution_count": 26,
   "id": "e009f330-44aa-4acc-8b5a-16201af2c742",
   "metadata": {},
   "outputs": [
    {
     "data": {
      "text/plain": [
       "[('Ramesh', 20), ('Suresh', 30), ('Sathish', 40)]"
      ]
     },
     "execution_count": 26,
     "metadata": {},
     "output_type": "execute_result"
    }
   ],
   "source": [
    "d1={'Ramesh':20,'Suresh':30,'Sathish':40}\n",
    "items=d1.items()\n",
    "list(items)"
   ]
  },
  {
   "cell_type": "code",
   "execution_count": 1,
   "id": "428bbc31-9b60-45de-943e-79fa318c6f8f",
   "metadata": {},
   "outputs": [],
   "source": [
    "d1={'Ramesh':20,'Suresh':30,'Sathish':40}\n",
    "keys=list(d1.keys())\n",
    "values=list(d1.values())"
   ]
  },
  {
   "cell_type": "code",
   "execution_count": null,
   "id": "bb95b20b-896d-49de-acfe-d3fe7a4c862c",
   "metadata": {},
   "outputs": [],
   "source": [
    "d1={'Ramesh':20,'Suresh':30,'Sathish':40}\n"
   ]
  },
  {
   "cell_type": "code",
   "execution_count": null,
   "id": "3109ebd8-dea4-4627-b151-2efeccd2192b",
   "metadata": {},
   "outputs": [],
   "source": [
    "- concantenaation of 2 dict fails \n",
    "- but we"
   ]
  },
  {
   "cell_type": "markdown",
   "id": "6add1152-3e2c-4279-9f62-aa5f0ff24e6e",
   "metadata": {},
   "source": [
    "**pop-popitems**"
   ]
  },
  {
   "cell_type": "code",
   "execution_count": null,
   "id": "7c126efa-9e3d-49e2-9a17-16c18d145db5",
   "metadata": {},
   "outputs": [],
   "source": []
  },
  {
   "cell_type": "code",
   "execution_count": null,
   "id": "72a56685-57ac-4286-aca4-87e666018afe",
   "metadata": {},
   "outputs": [],
   "source": []
  },
  {
   "cell_type": "code",
   "execution_count": null,
   "id": "4368f2a4-ce5a-4d39-a1ae-c157699415a6",
   "metadata": {},
   "outputs": [],
   "source": []
  },
  {
   "cell_type": "code",
   "execution_count": null,
   "id": "042b50fd-04df-46e6-8da1-b9571f1de274",
   "metadata": {},
   "outputs": [],
   "source": []
  },
  {
   "cell_type": "code",
   "execution_count": null,
   "id": "6af7f59a-a9c0-4ea3-903d-1b55229cb2f7",
   "metadata": {},
   "outputs": [],
   "source": []
  },
  {
   "cell_type": "markdown",
   "id": "d81d4b32-c258-4be0-bc45-be8d8e90ac9f",
   "metadata": {},
   "source": [
    "**del**"
   ]
  },
  {
   "cell_type": "code",
   "execution_count": 28,
   "id": "ef6430d5-0780-4a10-8263-461448a20433",
   "metadata": {},
   "outputs": [
    {
     "ename": "NameError",
     "evalue": "name 'd1' is not defined",
     "output_type": "error",
     "traceback": [
      "\u001b[1;31m---------------------------------------------------------------------------\u001b[0m",
      "\u001b[1;31mNameError\u001b[0m                                 Traceback (most recent call last)",
      "Cell \u001b[1;32mIn[28], line 3\u001b[0m\n\u001b[0;32m      1\u001b[0m d1\u001b[38;5;241m=\u001b[39m{\u001b[38;5;124m'\u001b[39m\u001b[38;5;124mRamesh\u001b[39m\u001b[38;5;124m'\u001b[39m:\u001b[38;5;241m20\u001b[39m,\u001b[38;5;124m'\u001b[39m\u001b[38;5;124mSuresh\u001b[39m\u001b[38;5;124m'\u001b[39m:\u001b[38;5;241m30\u001b[39m,\u001b[38;5;124m'\u001b[39m\u001b[38;5;124mSathish\u001b[39m\u001b[38;5;124m'\u001b[39m:\u001b[38;5;241m40\u001b[39m}\n\u001b[0;32m      2\u001b[0m \u001b[38;5;28;01mdel\u001b[39;00m d1\n\u001b[1;32m----> 3\u001b[0m d1\n",
      "\u001b[1;31mNameError\u001b[0m: name 'd1' is not defined"
     ]
    }
   ],
   "source": [
    "d1={'Ramesh':20,'Suresh':30,'Sathish':40}\n",
    "del d1\n",
    "d1"
   ]
  },
  {
   "cell_type": "code",
   "execution_count": null,
   "id": "583adbcb-5f80-4d17-919c-5fbdaedda9f8",
   "metadata": {},
   "outputs": [],
   "source": []
  }
 ],
 "metadata": {
  "kernelspec": {
   "display_name": "Python 3 (ipykernel)",
   "language": "python",
   "name": "python3"
  },
  "language_info": {
   "codemirror_mode": {
    "name": "ipython",
    "version": 3
   },
   "file_extension": ".py",
   "mimetype": "text/x-python",
   "name": "python",
   "nbconvert_exporter": "python",
   "pygments_lexer": "ipython3",
   "version": "3.12.4"
  }
 },
 "nbformat": 4,
 "nbformat_minor": 5
}
