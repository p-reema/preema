{
 "cells": [
  {
   "cell_type": "markdown",
   "id": "1d6ac8dd-05ac-4265-8908-c3d11c28de74",
   "metadata": {},
   "source": [
    "- Generally if u observe any application\n",
    "- 1muser will provide the values\n",
    "- backend some programming lang will work\n",
    "- if any code the values we give is called **hard code**\n",
    "- always the code should be generic\n",
    "- in python  the user can provide the values from keyboard using **input**\n"
   ]
  },
  {
   "cell_type": "code",
   "execution_count": 1,
   "id": "62414bfb-3eec-4964-83af-ece034fd1903",
   "metadata": {},
   "outputs": [
    {
     "name": "stdin",
     "output_type": "stream",
     "text": [
      " python\n"
     ]
    },
    {
     "data": {
      "text/plain": [
       "'python'"
      ]
     },
     "execution_count": 1,
     "metadata": {},
     "output_type": "execute_result"
    }
   ],
   "source": [
    "input()"
   ]
  },
  {
   "cell_type": "code",
   "execution_count": 2,
   "id": "0f2fd11e-c3de-44b7-a4ef-f908f86afdec",
   "metadata": {},
   "outputs": [
    {
     "name": "stdin",
     "output_type": "stream",
     "text": [
      " hloo\n",
      " hii\n",
      " python\n"
     ]
    },
    {
     "data": {
      "text/plain": [
       "'python'"
      ]
     },
     "execution_count": 2,
     "metadata": {},
     "output_type": "execute_result"
    }
   ],
   "source": [
    "input()\n",
    "input()\n",
    "input()"
   ]
  },
  {
   "cell_type": "code",
   "execution_count": 3,
   "id": "1bcf2bc4-08b6-4445-a86d-38c2dbe796bf",
   "metadata": {},
   "outputs": [
    {
     "name": "stdin",
     "output_type": "stream",
     "text": [
      "enter ur name: python\n",
      "enter age: 10\n",
      "enter city: hyd\n"
     ]
    },
    {
     "data": {
      "text/plain": [
       "'hyd'"
      ]
     },
     "execution_count": 3,
     "metadata": {},
     "output_type": "execute_result"
    }
   ],
   "source": [
    "input('enter ur name:')\n",
    "input('enter age:')\n",
    "input('enter city:')"
   ]
  },
  {
   "cell_type": "code",
   "execution_count": 1,
   "id": "e77fbdc4-11d7-452b-ad6b-84f15ee970e6",
   "metadata": {},
   "outputs": [
    {
     "name": "stdin",
     "output_type": "stream",
     "text": [
      "enter value1: 10\n",
      "enter value2: 20\n"
     ]
    },
    {
     "data": {
      "text/plain": [
       "30"
      ]
     },
     "execution_count": 1,
     "metadata": {},
     "output_type": "execute_result"
    }
   ],
   "source": [
    "a=int(input('enter value1:')) #a=int('10')\n",
    "b=int(input('enter value2:')) #b=int('20')\n",
    "a+b #10+20"
   ]
  },
  {
   "cell_type": "code",
   "execution_count": 3,
   "id": "c7613255-0a32-44b6-9539-52a2469f14eb",
   "metadata": {},
   "outputs": [
    {
     "name": "stdin",
     "output_type": "stream",
     "text": [
      "enter a num: 10\n"
     ]
    },
    {
     "data": {
      "text/plain": [
       "10"
      ]
     },
     "execution_count": 3,
     "metadata": {},
     "output_type": "execute_result"
    }
   ],
   "source": [
    "int(input('enter a num:'))"
   ]
  },
  {
   "cell_type": "code",
   "execution_count": null,
   "id": "2981f68f-3576-465c-a8fb-73f2373b05de",
   "metadata": {},
   "outputs": [],
   "source": [
    "a=int(input('enter value1:')) #a=int('10')\n",
    "b=int(input('enter value2:')) #b=int('20')\n",
    "a+b #10+20\n",
    "##########################################\n",
    "a=input('enter value1:')\n",
    "b=input('enter value2:')\n",
    "add=int(a)+int(b) #int('100')+int('200')=100+200\n",
    "add"
   ]
  },
  {
   "cell_type": "code",
   "execution_count": 4,
   "id": "19b71ac4-b856-4cfe-acbf-ec48ac471bf1",
   "metadata": {},
   "outputs": [
    {
     "name": "stdin",
     "output_type": "stream",
     "text": [
      "enter value1: 100.25\n",
      "enter value2: 100\n"
     ]
    },
    {
     "data": {
      "text/plain": [
       "200.25"
      ]
     },
     "execution_count": 4,
     "metadata": {},
     "output_type": "execute_result"
    }
   ],
   "source": [
    "a=float(input('enter value1:')) \n",
    "b=int(input('enter value2:')) \n",
    "a+b"
   ]
  },
  {
   "cell_type": "markdown",
   "id": "c0ff362b-ccce-4c31-9175-50d609d04ee6",
   "metadata": {},
   "source": [
    "**eval**\n",
    "\n",
    "- whenever we listen about eval it represents math term **evaluate**\n",
    "- instead of focus on int and float every time\n",
    "- simply use **eval** convertion always\n",
    "- if u convert a value based on base data types\n",
    "- if user will provide the int ,it will convert into int\n",
    "- if user will provide the float ,it will convert into float\n",
    "- if user will provide the string ,it will give the error"
   ]
  },
  {
   "cell_type": "code",
   "execution_count": 4,
   "id": "38f5cd61-320b-49c0-bd53-849e62b806b6",
   "metadata": {},
   "outputs": [
    {
     "name": "stdin",
     "output_type": "stream",
     "text": [
      "enter value1: 100.2\n",
      "enter value2: 100\n"
     ]
    },
    {
     "data": {
      "text/plain": [
       "200.2"
      ]
     },
     "execution_count": 4,
     "metadata": {},
     "output_type": "execute_result"
    }
   ],
   "source": [
    "a=eval(input('enter value1:')) \n",
    "b=eval(input('enter value2:')) \n",
    "a+b"
   ]
  },
  {
   "cell_type": "code",
   "execution_count": 5,
   "id": "4291892e-b371-4297-be94-00ff646f8358",
   "metadata": {},
   "outputs": [
    {
     "name": "stdout",
     "output_type": "stream",
     "text": [
      "the addition of 100.2 and 100 is 200.2.\n"
     ]
    }
   ],
   "source": [
    "print(f'the addition of {a} and {b} is {a+b}.')"
   ]
  },
  {
   "cell_type": "code",
   "execution_count": null,
   "id": "b481f2d8-5397-49d4-9620-39f44f8dbd5e",
   "metadata": {},
   "outputs": [],
   "source": [
    "#wap ask the user take 3 numbers frm the keyboard and print average\n",
    "#wap ask the user take the breadth and height from keyboard\n",
    "    #calculate area of right angle triangle\n",
    "    #0.5*b*h\n",
    "#wap ask the user take the rad from keyboard\n",
    "    #calculate area of circle\n",
    "    #3.14*r*r\n",
    "#wap ask the user enter thhe bill amount\n",
    "    #ask the user provide how much tip amount he want to give \n",
    "    #calculate the total bill\n",
    "#wap ask the user enter the bill\n",
    "    #ask the user how mch tip percentage he wants to give\n",
    "    #cal the total bill"
   ]
  },
  {
   "cell_type": "code",
   "execution_count": 15,
   "id": "68fe92ed-71e2-43ff-8b85-56fe814cebeb",
   "metadata": {},
   "outputs": [
    {
     "name": "stdin",
     "output_type": "stream",
     "text": [
      "enter the num1: 10\n",
      "enter the num2: 20\n",
      "enter the num3: 30\n"
     ]
    },
    {
     "name": "stdout",
     "output_type": "stream",
     "text": [
      "the average of 10,20 and 30 is 20.0.\n"
     ]
    }
   ],
   "source": [
    "num1=eval(input('enter the num1:'))\n",
    "num2=eval(input('enter the num2:'))\n",
    "num3=eval(input('enter the num3:'))\n",
    "add=num1+num2+num3\n",
    "avg=add/3\n",
    "avg\n",
    "print(f'the average of {num1},{num2} and {num3} is {avg}.')"
   ]
  },
  {
   "cell_type": "code",
   "execution_count": 22,
   "id": "f59373a9-48f8-40c2-b0c7-f9fe4f30b82d",
   "metadata": {},
   "outputs": [
    {
     "name": "stdin",
     "output_type": "stream",
     "text": [
      "enter the breadth: 20\n",
      "enter the height: 15\n"
     ]
    },
    {
     "name": "stdout",
     "output_type": "stream",
     "text": [
      "the area of triangle with 20 and 15 is 150.0.\n"
     ]
    }
   ],
   "source": [
    "b=eval(input('enter the breadth:'))\n",
    "h=eval(input('enter the height:'))\n",
    "area=0.5*b*h\n",
    "area\n",
    "print(f'the area of triangle with {b} and {h} is {area}.')"
   ]
  },
  {
   "cell_type": "code",
   "execution_count": 10,
   "id": "fa679f56-d7cf-4f46-9005-97a3eaf42f63",
   "metadata": {},
   "outputs": [
    {
     "name": "stdin",
     "output_type": "stream",
     "text": [
      "enter the bill amount: 1250\n",
      "enter the tip amount 50\n"
     ]
    },
    {
     "data": {
      "text/plain": [
       "1300"
      ]
     },
     "execution_count": 10,
     "metadata": {},
     "output_type": "execute_result"
    }
   ],
   "source": [
    "amt=eval(input('enter the bill amount:'))\n",
    "tip=eval(input('enter the tip amount'))\n",
    "total=amt+tip\n",
    "total"
   ]
  },
  {
   "cell_type": "code",
   "execution_count": 11,
   "id": "73e732d0-165e-4b4d-ac5b-d60e0ea39890",
   "metadata": {},
   "outputs": [
    {
     "name": "stdin",
     "output_type": "stream",
     "text": [
      "enter the radius: 30\n"
     ]
    },
    {
     "data": {
      "text/plain": [
       "2826.0"
      ]
     },
     "execution_count": 11,
     "metadata": {},
     "output_type": "execute_result"
    }
   ],
   "source": [
    "r=eval(input('enter the radius:'))\n",
    "area=3.14*r*r\n",
    "area"
   ]
  },
  {
   "cell_type": "code",
   "execution_count": 13,
   "id": "03cd0b13-bb92-4f70-921b-e036ecc34b83",
   "metadata": {},
   "outputs": [
    {
     "name": "stdin",
     "output_type": "stream",
     "text": [
      "enter the bill amout: 1000\n",
      "enter the tip percetage 20\n"
     ]
    },
    {
     "data": {
      "text/plain": [
       "1200.0"
      ]
     },
     "execution_count": 13,
     "metadata": {},
     "output_type": "execute_result"
    }
   ],
   "source": [
    "amt=eval(input('enter the bill amout:'))\n",
    "tip_percent=eval(input('enter the tip percetage'))\n",
    "tip=(amt*tip_percent)/100\n",
    "total=amt+tip\n",
    "total"
   ]
  },
  {
   "cell_type": "markdown",
   "id": "80b8148b-2b54-4707-9c6f-a4890bbcf9fe",
   "metadata": {},
   "source": [
    "**round**"
   ]
  },
  {
   "cell_type": "code",
   "execution_count": 19,
   "id": "9a6ec73e-c1f9-4c54-b2cf-7099cdb7dab4",
   "metadata": {},
   "outputs": [
    {
     "data": {
      "text/plain": [
       "20"
      ]
     },
     "execution_count": 19,
     "metadata": {},
     "output_type": "execute_result"
    }
   ],
   "source": [
    "round(19.66666)"
   ]
  },
  {
   "cell_type": "code",
   "execution_count": 18,
   "id": "a5b92b10-bc70-4116-99f1-87ee73d29371",
   "metadata": {},
   "outputs": [
    {
     "data": {
      "text/plain": [
       "19.67"
      ]
     },
     "execution_count": 18,
     "metadata": {},
     "output_type": "execute_result"
    }
   ],
   "source": [
    "round(19.666666,2)"
   ]
  },
  {
   "cell_type": "code",
   "execution_count": 21,
   "id": "479cb9e6-e811-40db-9299-c3491c43a00c",
   "metadata": {},
   "outputs": [
    {
     "name": "stdin",
     "output_type": "stream",
     "text": [
      "enter the num1: 1\n",
      "enter the num2: 11\n",
      "enter the num3: 40\n"
     ]
    },
    {
     "name": "stdout",
     "output_type": "stream",
     "text": [
      "the average of 1,11 and 40 is 17.33.\n"
     ]
    }
   ],
   "source": [
    "num1=eval(input('enter the num1:'))\n",
    "num2=eval(input('enter the num2:'))\n",
    "num3=eval(input('enter the num3:'))\n",
    "add=num1+num2+num3\n",
    "avg=add/3\n",
    "avg1=round(avg,2)\n",
    "print(f'the average of {num1},{num2} and {num3} is {avg1}.')"
   ]
  },
  {
   "cell_type": "code",
   "execution_count": 2,
   "id": "03f71bd0-e14a-4ca0-953d-94c0654a9a58",
   "metadata": {},
   "outputs": [
    {
     "name": "stdin",
     "output_type": "stream",
     "text": [
      "father: hey beta\n",
      "son: hi papa\n",
      "father: i heard ur rslts came out\n",
      "son: yes papa\n",
      "father:  great! how much percentage we got\n",
      "son: i will tell the sub marks u tell me the percentage\n",
      "father: wow thats super game ,lets start\n",
      "telugu mark: 89\n",
      "hindi mark: 91\n",
      "english mark: 90\n",
      "maths mark: 87\n",
      "science mark: 78\n",
      "social mark: 98\n"
     ]
    },
    {
     "name": "stdout",
     "output_type": "stream",
     "text": [
      "average of the marks is:88.83333333333333\n"
     ]
    }
   ],
   "source": [
    "#son has written the exam\n",
    "#results come out\n",
    "#father per of marks to the son\n",
    "\n",
    "input('father:')\n",
    "input('son:')\n",
    "input('father:')\n",
    "input('son:')\n",
    "input('father:')\n",
    "input('son:')\n",
    "input('father:')\n",
    "telugu=eval(input('telugu mark:'))\n",
    "hindi=eval(input('hindi mark:'))\n",
    "eng=eval(input('english mark:'))\n",
    "maths=eval(input('maths mark:'))\n",
    "sc=eval(input('science mark:'))\n",
    "social=eval(input('social mark:'))\n",
    "avg=(telugu+hindi+eng+maths+sc+social)/6\n",
    "print(f'average of the marks is:{avg}')"
   ]
  },
  {
   "cell_type": "code",
   "execution_count": 3,
   "id": "df6797a8-ab23-4bf2-bd1d-1f115ff0ba46",
   "metadata": {},
   "outputs": [
    {
     "name": "stdin",
     "output_type": "stream",
     "text": [
      "father: hey beta\n",
      "son: hi papa\n",
      "father: i heard ur rslts came out\n",
      "son: yes papa\n",
      "father: great! how much percentage we got\n",
      "son: i will tell the sub marks u tell me the percentage\n",
      "father: wow thats super game ,lets start\n",
      "telugu mark: 89\n",
      "hindi mark: 91\n",
      "english mark: 90\n",
      "maths mark: 87\n",
      "science mark: 78\n",
      "social mark: 98\n"
     ]
    },
    {
     "name": "stdout",
     "output_type": "stream",
     "text": [
      "average of the marks is:88.83333333333333\n",
      "total percentage of the marks is:533.\n"
     ]
    }
   ],
   "source": [
    "input('father:')\n",
    "input('son:')\n",
    "input('father:')\n",
    "input('son:')\n",
    "input('father:')\n",
    "input('son:')\n",
    "input('father:')\n",
    "telugu=eval(input('telugu mark:'))\n",
    "hindi=eval(input('hindi mark:'))\n",
    "eng=eval(input('english mark:'))\n",
    "maths=eval(input('maths mark:'))\n",
    "sc=eval(input('science mark:'))\n",
    "social=eval(input('social mark:'))\n",
    "total_marks=telugu+hindi+eng+maths+sc+social\n",
    "percent=(total_marks/600)*100\n",
    "avg=(telugu+hindi+eng+maths+sc+social)/6\n",
    "print(f'average of the marks is:{avg}')\n",
    "print(f'total percentage of the marks is:{percent}.')"
   ]
  },
  {
   "cell_type": "code",
   "execution_count": 4,
   "id": "4cbd42ac-3416-4a66-90d6-ddbca2e23a39",
   "metadata": {},
   "outputs": [
    {
     "name": "stdin",
     "output_type": "stream",
     "text": [
      "telugu mark: 89\n",
      "hindi mark: 91\n",
      "english mark: 90\n",
      "maths mark: 87\n",
      "science mark: 78\n",
      "social mark: 98\n"
     ]
    },
    {
     "name": "stdout",
     "output_type": "stream",
     "text": [
      "average of the marks is:88.83333333333333\n",
      "total percentage of the marks is:88.83333333333333.\n"
     ]
    }
   ],
   "source": [
    "telugu=eval(input('telugu mark:'))\n",
    "hindi=eval(input('hindi mark:'))\n",
    "eng=eval(input('english mark:'))\n",
    "maths=eval(input('maths mark:'))\n",
    "sc=eval(input('science mark:'))\n",
    "social=eval(input('social mark:'))\n",
    "total_marks=telugu+hindi+eng+maths+sc+social\n",
    "percent=(total_marks/600)*100\n",
    "avg=(telugu+hindi+eng+maths+sc+social)/6\n",
    "print(f'average of the marks is:{avg}')\n",
    "print(f'total percentage of the marks is:{percent}.')"
   ]
  },
  {
   "cell_type": "code",
   "execution_count": null,
   "id": "aea79ca5-a76a-4053-bb3f-93c8c535229c",
   "metadata": {},
   "outputs": [],
   "source": []
  }
 ],
 "metadata": {
  "kernelspec": {
   "display_name": "Python 3 (ipykernel)",
   "language": "python",
   "name": "python3"
  },
  "language_info": {
   "codemirror_mode": {
    "name": "ipython",
    "version": 3
   },
   "file_extension": ".py",
   "mimetype": "text/x-python",
   "name": "python",
   "nbconvert_exporter": "python",
   "pygments_lexer": "ipython3",
   "version": "3.12.4"
  }
 },
 "nbformat": 4,
 "nbformat_minor": 5
}
