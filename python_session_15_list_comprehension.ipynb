{
 "cells": [
  {
   "cell_type": "markdown",
   "id": "966857f3-d26d-4b16-82f6-c8d7d17e8b55",
   "metadata": {},
   "source": [
    "- List comprehension is a way to write the code line in a single line\n",
    "- whenever we use for loops and if conditions the time will be increase\n",
    "- list comprehension will able to write for loop and if condition in a single line\n",
    "- which reduce the time to get the output"
   ]
  },
  {
   "cell_type": "code",
   "execution_count": 1,
   "id": "7858b1ea-7fc4-447d-ad9d-d20fc0e91a31",
   "metadata": {},
   "outputs": [
    {
     "name": "stdout",
     "output_type": "stream",
     "text": [
      "0 1 2 3 4 5 6 7 8 9 "
     ]
    }
   ],
   "source": [
    "for i in range(10):\n",
    "    print(i,end=' ')"
   ]
  },
  {
   "cell_type": "code",
   "execution_count": 2,
   "id": "9d6b4849-522c-4f5f-8eae-1f3a2239ff31",
   "metadata": {},
   "outputs": [
    {
     "data": {
      "text/plain": [
       "[0, 1, 2, 3, 4, 5, 6, 7, 8, 9]"
      ]
     },
     "execution_count": 2,
     "metadata": {},
     "output_type": "execute_result"
    }
   ],
   "source": [
    "list1=[]\n",
    "for i in range(10):\n",
    "    list1.append(i)\n",
    "list1"
   ]
  },
  {
   "cell_type": "markdown",
   "id": "13881307-e243-4234-be19-05100205c0b7",
   "metadata": {},
   "source": [
    "**method 1:only for loop**"
   ]
  },
  {
   "cell_type": "code",
   "execution_count": null,
   "id": "d0106d82-bb1f-4190-a3e1-47f401a37a17",
   "metadata": {},
   "outputs": [],
   "source": [
    "#list1=[<code here>]\n",
    "#list1=[<output> <for loop>]"
   ]
  },
  {
   "cell_type": "code",
   "execution_count": 1,
   "id": "2fdffab9-f6bc-4a30-a574-f7eca20926f3",
   "metadata": {},
   "outputs": [
    {
     "data": {
      "text/plain": [
       "[0, 1, 2, 3, 4, 5, 6, 7, 8, 9]"
      ]
     },
     "execution_count": 1,
     "metadata": {},
     "output_type": "execute_result"
    }
   ],
   "source": [
    "l1=[i for i in range(10)]\n",
    "l1"
   ]
  },
  {
   "cell_type": "code",
   "execution_count": 2,
   "id": "f4731442-47f9-4238-b946-ba2ff8a103c3",
   "metadata": {},
   "outputs": [
    {
     "data": {
      "text/plain": [
       "['Hyd', 'Chennai', 'Mumbai', 'Pune']"
      ]
     },
     "execution_count": 2,
     "metadata": {},
     "output_type": "execute_result"
    }
   ],
   "source": [
    "l1=['hyd','chennai','mumbai','pune']\n",
    "ans=[i.capitalize() for i in l1]\n",
    "ans"
   ]
  },
  {
   "cell_type": "code",
   "execution_count": 3,
   "id": "234bec8b-722f-41a0-a3c0-1990ba88d01e",
   "metadata": {},
   "outputs": [
    {
     "data": {
      "text/plain": [
       "['HYD', 'CHENNAI', 'MUMBAI', 'PUNE']"
      ]
     },
     "execution_count": 3,
     "metadata": {},
     "output_type": "execute_result"
    }
   ],
   "source": [
    "l1=['hyd','chennai','mumbai','pune']\n",
    "ans=[i.upper() for i in l1]\n",
    "ans"
   ]
  },
  {
   "cell_type": "code",
   "execution_count": 4,
   "id": "5b45b3f2-b3cc-454c-b0a7-bbfd8471e5ab",
   "metadata": {},
   "outputs": [
    {
     "data": {
      "text/plain": [
       "[0, 10, 20, 30]"
      ]
     },
     "execution_count": 4,
     "metadata": {},
     "output_type": "execute_result"
    }
   ],
   "source": [
    "l1=['hyd','chennai','mumbai','pune']\n",
    "ans=[l1.index(i)*10 for i in l1]\n",
    "ans"
   ]
  },
  {
   "cell_type": "code",
   "execution_count": 6,
   "id": "ac87f89a-6aab-48d0-8a8e-a81771e15bb4",
   "metadata": {},
   "outputs": [
    {
     "data": {
      "text/plain": [
       "6"
      ]
     },
     "execution_count": 6,
     "metadata": {},
     "output_type": "execute_result"
    }
   ],
   "source": [
    "l1=['hyd','chennai','mumbai','pune']\n",
    "ans=[l1.index(i) for i in l1]\n",
    "sum(ans)"
   ]
  },
  {
   "cell_type": "markdown",
   "id": "3de55704-cda4-473b-8bb8-f7476702dbb0",
   "metadata": {},
   "source": [
    "**method 2**\n",
    "\n",
    "- for loop with if condition"
   ]
  },
  {
   "cell_type": "code",
   "execution_count": 12,
   "id": "0a7ef87d-14de-436a-bc60-76aac3476101",
   "metadata": {},
   "outputs": [
    {
     "data": {
      "text/plain": [
       "['chen#ai', 'mu#bai']"
      ]
     },
     "execution_count": 12,
     "metadata": {},
     "output_type": "execute_result"
    }
   ],
   "source": [
    "l1=['hyd','chen#ai','mu#bai','pune']\n",
    "ans=[i for i in l1 if '#' in i]\n",
    "ans"
   ]
  },
  {
   "cell_type": "code",
   "execution_count": 13,
   "id": "4e698e70-3499-4880-b60c-233e599cdf14",
   "metadata": {},
   "outputs": [
    {
     "data": {
      "text/plain": [
       "['hyd', 'pune']"
      ]
     },
     "execution_count": 13,
     "metadata": {},
     "output_type": "execute_result"
    }
   ],
   "source": [
    "l1=['hyd','chen#ai','mu#bai','pune']\n",
    "ans=[i for i in l1 if '#' not in i]\n",
    "ans"
   ]
  },
  {
   "cell_type": "code",
   "execution_count": 14,
   "id": "f0b5edd3-e84c-4101-aa8a-f20c51872eef",
   "metadata": {},
   "outputs": [
    {
     "data": {
      "text/plain": [
       "[100, 20, 38, 52]"
      ]
     },
     "execution_count": 14,
     "metadata": {},
     "output_type": "execute_result"
    }
   ],
   "source": [
    "l1=[100,20,27,38,47,52,87]\n",
    "even_list=[i for i in l1 if i%2==0]\n",
    "even_list"
   ]
  },
  {
   "cell_type": "code",
   "execution_count": 15,
   "id": "90aedf62-b7cf-4e91-9dec-caafd0e88b64",
   "metadata": {},
   "outputs": [
    {
     "data": {
      "text/plain": [
       "[27, 47, 87]"
      ]
     },
     "execution_count": 15,
     "metadata": {},
     "output_type": "execute_result"
    }
   ],
   "source": [
    "l1=[100,20,27,38,47,52,87]\n",
    "odd_list=[i for i in l1 if i%2!=0]\n",
    "odd_list"
   ]
  },
  {
   "cell_type": "markdown",
   "id": "13b44639-f6d7-481d-bcf0-7af96b1197fe",
   "metadata": {},
   "source": [
    "**method 3: for loop - if-else**"
   ]
  },
  {
   "cell_type": "code",
   "execution_count": null,
   "id": "13a393dc-2f3d-4003-9900-5bc0e815ee2b",
   "metadata": {},
   "outputs": [],
   "source": [
    "method-1:for loop[<output> <forloop>]\n",
    "method-2: for loop-if [<output> <forloop> <if condtion>]\n",
    "method-3: for-if-else: [<if output> <if condition> else <else output> <forloop>"
   ]
  },
  {
   "cell_type": "code",
   "execution_count": 23,
   "id": "fb97fd2f-5d1a-4faf-9d82-a3292edcd59d",
   "metadata": {},
   "outputs": [
    {
     "data": {
      "text/plain": [
       "['even:100', 'even:20', 'odd:27', 'even:38', 'odd:47', 'even:52', 'odd:87']"
      ]
     },
     "execution_count": 23,
     "metadata": {},
     "output_type": "execute_result"
    }
   ],
   "source": [
    "l1=[100,20,27,38,47,52,87]\n",
    "list1=[f'even:{i}' if i%2==0 else f'odd:{i}' for i in l1]\n",
    "list1"
   ]
  },
  {
   "cell_type": "code",
   "execution_count": 4,
   "id": "8aecdc53-21df-410b-a66d-5319856c2b2c",
   "metadata": {},
   "outputs": [],
   "source": [
    "l=[45,76,89,53,67,90,82,49,33,99]\n",
    "# filter the students who pass >=50\n",
    "# calculate the grades of all students\n",
    "#A:85+,B:70-84"
   ]
  },
  {
   "cell_type": "code",
   "execution_count": 30,
   "id": "1c13958e-33bb-4bdf-8f9a-be1dc238616b",
   "metadata": {},
   "outputs": [
    {
     "data": {
      "text/plain": [
       "[76, 89, 53, 67, 90, 82, 99]"
      ]
     },
     "execution_count": 30,
     "metadata": {},
     "output_type": "execute_result"
    }
   ],
   "source": [
    "l=[45,76,89,53,67,90,82,49,33,99]\n",
    "pass1=[i for i in l if i>=50]\n",
    "pass1"
   ]
  },
  {
   "cell_type": "code",
   "execution_count": 5,
   "id": "00ab6231-3bfe-4c51-b96d-628b97ebb4a3",
   "metadata": {},
   "outputs": [
    {
     "data": {
      "text/plain": [
       "['D:45',\n",
       " 'B:76',\n",
       " 'A:89',\n",
       " 'C:53',\n",
       " 'C:67',\n",
       " 'A:90',\n",
       " 'B:82',\n",
       " 'D:49',\n",
       " 'D:33',\n",
       " 'A:99']"
      ]
     },
     "execution_count": 5,
     "metadata": {},
     "output_type": "execute_result"
    }
   ],
   "source": [
    "# 2. calculate grades of all students\n",
    "# A: 85+, B: 70-84 C : 50-69 D:<50\n",
    "grade_list=[]\n",
    "for i in l:\n",
    "    if i>85:\n",
    "        grade_list.append(f'A:{i}')\n",
    "    elif i>=70:\n",
    "        grade_list.append(f'B:{i}')\n",
    "    elif i>=50:\n",
    "        grade_list.append(f'C:{i}')\n",
    "    else:\n",
    "        grade_list.append(f'D:{i}')\n",
    "grade_list"
   ]
  },
  {
   "cell_type": "markdown",
   "id": "e4ee2847-8b38-4ecc-a62d-b62669380818",
   "metadata": {},
   "source": [
    "**Method-4: for if elif else**\n",
    "- there is no elif in list comprehension\n",
    "- elif also we can write : else+if\n",
    "- method-3: [<if output> <if cond> else <elseoutut>]\r\n",
    "- method-4: [<if output> <if cond> else <elif out> <elif con> else <elseoutut<for loop>>"
   ]
  },
  {
   "cell_type": "code",
   "execution_count": 14,
   "id": "b26e7ad8-4033-4e78-afb8-0023e72b6607",
   "metadata": {},
   "outputs": [
    {
     "data": {
      "text/plain": [
       "['C:45',\n",
       " 'B:76',\n",
       " 'A:89',\n",
       " 'C:53',\n",
       " 'C:67',\n",
       " 'A:90',\n",
       " 'B:82',\n",
       " 'C:49',\n",
       " 'C:33',\n",
       " 'A:99']"
      ]
     },
     "execution_count": 14,
     "metadata": {},
     "output_type": "execute_result"
    }
   ],
   "source": [
    "grade_list=[]\n",
    "for i in l:\n",
    "    if i>85:\n",
    "        grade_list.append(f'A:{i}')\n",
    "    elif i>=70:\n",
    "        grade_list.append(f'B:{i}')\n",
    "    else:\n",
    "        grade_list.append(f'C:{i}')\n",
    "grade_list\n",
    "\n",
    "# f'A{i}' if i>=85\n",
    "# else f'B:{i}' if i>=70 : else+if = elif\n",
    "# else f'C:{i}' if i>=50 : else+if=elif\n",
    "# else f'D:{i}'\n",
    "\n",
    "[f'A:{i}' if i>85 else f'B:{i}' if i>=70 else f'C:{i}' for i in l]"
   ]
  },
  {
   "cell_type": "code",
   "execution_count": null,
   "id": "265e1b39-3f16-4e05-935c-48df9eb55330",
   "metadata": {},
   "outputs": [],
   "source": [
    "method-1: for loop [<output> <forloop>]\n",
    "method-2: for loop-if [<output> <forloop> <if condtion>]\n",
    "method-3: for-if-else: [<if output> <if condition> else <else output> <forloop>\n",
    "method-4: [<if output> <if cond> else <elif out> <elif con> else <elseoutut> <forloop>"
   ]
  },
  {
   "cell_type": "code",
   "execution_count": 8,
   "id": "ee5fef41-b55c-4396-b3a0-894f55563435",
   "metadata": {},
   "outputs": [
    {
     "data": {
      "text/plain": [
       "68.3"
      ]
     },
     "execution_count": 8,
     "metadata": {},
     "output_type": "execute_result"
    }
   ],
   "source": [
    "l=[45,76,89,53,67,90,82,49,33,99]\n",
    "sum(l)/len(l)"
   ]
  },
  {
   "cell_type": "code",
   "execution_count": 9,
   "id": "c80c0626-247c-4f31-b999-1ee4686157fc",
   "metadata": {},
   "outputs": [
    {
     "name": "stdout",
     "output_type": "stream",
     "text": [
      "683\n",
      "avg: 68.3\n"
     ]
    }
   ],
   "source": [
    "summ=0\n",
    "for i in l:\n",
    "    summ=summ+i\n",
    "print(summ)\n",
    "print('avg:',summ/len(l))"
   ]
  },
  {
   "cell_type": "markdown",
   "id": "23957c47-9cf3-403a-8322-70aabb7cbb03",
   "metadata": {},
   "source": [
    "**walrus operator**"
   ]
  },
  {
   "cell_type": "markdown",
   "id": "1ff90b15-8726-46a5-b6b3-ebf0b5e82d39",
   "metadata": {},
   "source": [
    "- in list comprehension = will not work\n",
    "- if you want to write equal to (=) , then will use walrus operator :="
   ]
  },
  {
   "cell_type": "code",
   "execution_count": 11,
   "id": "74374e3f-ab3c-46f9-9bad-4038c90a5ebc",
   "metadata": {},
   "outputs": [
    {
     "data": {
      "text/plain": [
       "68.3"
      ]
     },
     "execution_count": 11,
     "metadata": {},
     "output_type": "execute_result"
    }
   ],
   "source": [
    "total=0\n",
    "ans=[total:=total+i for i in l]\n",
    "total/len(ans)"
   ]
  },
  {
   "cell_type": "code",
   "execution_count": null,
   "id": "4434c3ac-9e8a-48d4-9e49-aaffd2466320",
   "metadata": {},
   "outputs": [],
   "source": []
  }
 ],
 "metadata": {
  "kernelspec": {
   "display_name": "Python 3 (ipykernel)",
   "language": "python",
   "name": "python3"
  },
  "language_info": {
   "codemirror_mode": {
    "name": "ipython",
    "version": 3
   },
   "file_extension": ".py",
   "mimetype": "text/x-python",
   "name": "python",
   "nbconvert_exporter": "python",
   "pygments_lexer": "ipython3",
   "version": "3.12.4"
  }
 },
 "nbformat": 4,
 "nbformat_minor": 5
}
