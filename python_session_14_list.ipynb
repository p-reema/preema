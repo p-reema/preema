{
 "cells": [
  {
   "cell_type": "markdown",
   "id": "1aca7d8d-1354-4d01-9010-279596331997",
   "metadata": {},
   "source": [
    "- intilaization\n",
    "- inbulit funtions\n",
    "- min\n",
    "- max\n",
    "- len\n",
    "- sorted\n",
    "- revered\n",
    "- print\n",
    "- type\n",
    "- index operations (for loop range vs in)\n",
    "- mutable vs immutable\n",
    "- concatenation\n",
    "- slicing\n",
    "- list methods"
   ]
  },
  {
   "cell_type": "markdown",
   "id": "94f81cba-706b-4562-a7e5-23fcec183353",
   "metadata": {},
   "source": [
    "- strings denoted with quotes\n",
    "- list denoted with square brackets\n",
    "- list means array of elements\n",
    "- list can access any data type together"
   ]
  },
  {
   "cell_type": "code",
   "execution_count": 2,
   "id": "28d82eb6-cdfd-4e45-8a42-a0da08c4d724",
   "metadata": {},
   "outputs": [
    {
     "data": {
      "text/plain": [
       "[1, 2, 3, 4]"
      ]
     },
     "execution_count": 2,
     "metadata": {},
     "output_type": "execute_result"
    }
   ],
   "source": [
    "l1=[1,2,3,4]\n",
    "l1"
   ]
  },
  {
   "cell_type": "code",
   "execution_count": 3,
   "id": "95f70c87-9013-4e97-978b-fc40fad76ff2",
   "metadata": {},
   "outputs": [
    {
     "data": {
      "text/plain": [
       "list"
      ]
     },
     "execution_count": 3,
     "metadata": {},
     "output_type": "execute_result"
    }
   ],
   "source": [
    "type(l1)"
   ]
  },
  {
   "cell_type": "code",
   "execution_count": 4,
   "id": "0da58bc4-cb2a-472b-8b41-bb1a18a8b90c",
   "metadata": {},
   "outputs": [
    {
     "data": {
      "text/plain": [
       "['A', 'B', 'C']"
      ]
     },
     "execution_count": 4,
     "metadata": {},
     "output_type": "execute_result"
    }
   ],
   "source": [
    "l2=['A','B','C']\n",
    "l2"
   ]
  },
  {
   "cell_type": "code",
   "execution_count": 5,
   "id": "ba39d235-a18c-48fd-b5b5-ee8d72a9534a",
   "metadata": {},
   "outputs": [
    {
     "data": {
      "text/plain": [
       "[1, 2, 3, 4, 'A', 'B', 'C']"
      ]
     },
     "execution_count": 5,
     "metadata": {},
     "output_type": "execute_result"
    }
   ],
   "source": [
    "l3=[1,2,3,4,'A','B','C']\n",
    "l3"
   ]
  },
  {
   "cell_type": "code",
   "execution_count": 6,
   "id": "366d581c-8bec-4548-9984-4bb8501f3010",
   "metadata": {},
   "outputs": [],
   "source": [
    "# create as many as lists with different ways means different data types"
   ]
  },
  {
   "cell_type": "code",
   "execution_count": 7,
   "id": "b9e52849-240c-49b3-b99b-893d8bb066b2",
   "metadata": {},
   "outputs": [
    {
     "data": {
      "text/plain": [
       "[10, 20, 30, 'Apple', 'Banana', 'Cherry', True, False, 10.5, 20.5, (20+30j)]"
      ]
     },
     "execution_count": 7,
     "metadata": {},
     "output_type": "execute_result"
    }
   ],
   "source": [
    "l4=[10,20,30,'Apple','Banana','Cherry',True,False,10.5,20.5,20+30j]\n",
    "l4"
   ]
  },
  {
   "cell_type": "code",
   "execution_count": 8,
   "id": "e15dd6e8-3fcb-414d-94c6-417c64d453c9",
   "metadata": {},
   "outputs": [
    {
     "data": {
      "text/plain": [
       "[10, 10, 10]"
      ]
     },
     "execution_count": 8,
     "metadata": {},
     "output_type": "execute_result"
    }
   ],
   "source": [
    "l5=[10,10,10]\n",
    "l5\n",
    "\n",
    "# duplicates are allowed"
   ]
  },
  {
   "cell_type": "code",
   "execution_count": 9,
   "id": "a3575a2d-419d-4e7f-b306-d3f8bccab139",
   "metadata": {},
   "outputs": [
    {
     "data": {
      "text/plain": [
       "[10, 20, 30, ['A', 'B', 'C']]"
      ]
     },
     "execution_count": 9,
     "metadata": {},
     "output_type": "execute_result"
    }
   ],
   "source": [
    "l6=[10, 20, 30, ['A', 'B', 'C']]\n",
    "l6\n",
    "\n",
    "# [python] # error\n",
    "# [_] # answer\n",
    "# ---------------------------------------------------------------------------\n",
    "# NameError Traceback (most recent call last)\n",
    "# Cell In[14], line 1\n",
    "# ----> 1 [python]\n",
    "# NameError: name 'python' is not defined\n",
    "# l1=[1,2,3,4]\n",
    "# l2=['A','B','C']\n",
    "# l3=[1,2,3,4,'A','B','C']\n",
    "# l4=[10,20,30,'Apple','Banana','Cherry',True,False,10.5,20.5,20+30j]\n",
    "# l5=[10,10,10]\n",
    "# l6=[10,20,30,['A','B','C']]\n",
    "# l7=[]\n",
    "# List can access with square brackets\n",
    "# List can have any data type of elememts"
   ]
  },
  {
   "cell_type": "code",
   "execution_count": 10,
   "id": "7e11fc9c-5e9b-4350-ae07-4c57a0d3c971",
   "metadata": {},
   "outputs": [
    {
     "data": {
      "text/plain": [
       "[]"
      ]
     },
     "execution_count": 10,
     "metadata": {},
     "output_type": "execute_result"
    }
   ],
   "source": [
    "l7=[]\n",
    "l7"
   ]
  },
  {
   "cell_type": "code",
   "execution_count": 14,
   "id": "1e5e7964-6f7c-44c7-a971-b0506db54c24",
   "metadata": {},
   "outputs": [
    {
     "data": {
      "text/plain": [
       "[[[[[]]]]]"
      ]
     },
     "execution_count": 14,
     "metadata": {},
     "output_type": "execute_result"
    }
   ],
   "source": [
    "# _ underscore means a variable\n",
    "\n",
    "l8=[_]\n",
    "l8"
   ]
  },
  {
   "cell_type": "code",
   "execution_count": 15,
   "id": "298b2a79-8376-4f31-be43-abc563e41998",
   "metadata": {},
   "outputs": [
    {
     "ename": "NameError",
     "evalue": "name 'python' is not defined",
     "output_type": "error",
     "traceback": [
      "\u001b[1;31m---------------------------------------------------------------------------\u001b[0m",
      "\u001b[1;31mNameError\u001b[0m                                 Traceback (most recent call last)",
      "Cell \u001b[1;32mIn[15], line 1\u001b[0m\n\u001b[1;32m----> 1\u001b[0m [python] \u001b[38;5;66;03m# error\u001b[39;00m\n\u001b[0;32m      2\u001b[0m [_]\n",
      "\u001b[1;31mNameError\u001b[0m: name 'python' is not defined"
     ]
    }
   ],
   "source": [
    "[python] # error\n",
    "[_] # answer"
   ]
  },
  {
   "cell_type": "code",
   "execution_count": null,
   "id": "acd8f350-49e7-4a5b-b4bd-3cf31b868dae",
   "metadata": {},
   "outputs": [],
   "source": [
    "l1=[1,2,3,4]\n",
    "l2=['A','B','C']\n",
    "l3=[1,2,3,4,'A','B','C']\n",
    "l4=[10,20,30,'Apple','Banana','Cherry',True,False,10.5,20.5,20+30j]\n",
    "l5=[10,10,10]\n",
    "l6=[10, 20, 30, ['A', 'B', 'C']]\n",
    "l7=[]"
   ]
  },
  {
   "cell_type": "markdown",
   "id": "d560f72c-6fd7-40d6-a993-887ca03b5302",
   "metadata": {},
   "source": [
    "- list can access with square brackets\n",
    "- list can have any data types of elements\n",
    "    - heterogeneous\n",
    "- list can have duplicates\n",
    "- list in list is possible\n",
    "- empty list can also possible\n",
    "- the value inside list is called as elements"
   ]
  },
  {
   "cell_type": "code",
   "execution_count": 16,
   "id": "5d3b7300-a1fe-4607-ad6d-59a944f0ae4c",
   "metadata": {},
   "outputs": [
    {
     "data": {
      "text/plain": [
       "(4, 3, 7, 11, 3, 4, 0)"
      ]
     },
     "execution_count": 16,
     "metadata": {},
     "output_type": "execute_result"
    }
   ],
   "source": [
    "len(l1),len(l2),len(l3),len(l4),len(l5),len(l6),len(l7)"
   ]
  },
  {
   "cell_type": "code",
   "execution_count": 17,
   "id": "e7b140e0-934b-4476-a40b-fc90caaa1cbf",
   "metadata": {},
   "outputs": [
    {
     "data": {
      "text/plain": [
       "[1, 2, 3, 4]"
      ]
     },
     "execution_count": 17,
     "metadata": {},
     "output_type": "execute_result"
    }
   ],
   "source": [
    "l1"
   ]
  },
  {
   "cell_type": "code",
   "execution_count": 18,
   "id": "01b5cf0f-94ee-4db7-87ab-19b1ccc40199",
   "metadata": {},
   "outputs": [
    {
     "data": {
      "text/plain": [
       "(1, 4)"
      ]
     },
     "execution_count": 18,
     "metadata": {},
     "output_type": "execute_result"
    }
   ],
   "source": [
    "min(l1),max(l1)"
   ]
  },
  {
   "cell_type": "code",
   "execution_count": 19,
   "id": "ba8d2f95-4431-450e-90b5-e8d5b2c7a0e1",
   "metadata": {},
   "outputs": [
    {
     "data": {
      "text/plain": [
       "['A', 'B', 'C']"
      ]
     },
     "execution_count": 19,
     "metadata": {},
     "output_type": "execute_result"
    }
   ],
   "source": [
    "l2"
   ]
  },
  {
   "cell_type": "code",
   "execution_count": 20,
   "id": "4961f9a5-dafb-462d-a201-48bdb880db82",
   "metadata": {},
   "outputs": [
    {
     "data": {
      "text/plain": [
       "('A', 'C')"
      ]
     },
     "execution_count": 20,
     "metadata": {},
     "output_type": "execute_result"
    }
   ],
   "source": [
    "min(l2),max(l2)"
   ]
  },
  {
   "cell_type": "code",
   "execution_count": 21,
   "id": "edc53ffc-2b45-48c2-82da-a2a70e210171",
   "metadata": {},
   "outputs": [
    {
     "data": {
      "text/plain": [
       "[1, 2, 3, 4, 'A', 'B', 'C']"
      ]
     },
     "execution_count": 21,
     "metadata": {},
     "output_type": "execute_result"
    }
   ],
   "source": [
    "l3"
   ]
  },
  {
   "cell_type": "code",
   "execution_count": 23,
   "id": "9789bf0f-7171-4fe5-b5c8-1e247b210e77",
   "metadata": {},
   "outputs": [
    {
     "ename": "TypeError",
     "evalue": "'<' not supported between instances of 'str' and 'int'",
     "output_type": "error",
     "traceback": [
      "\u001b[1;31m---------------------------------------------------------------------------\u001b[0m",
      "\u001b[1;31mTypeError\u001b[0m                                 Traceback (most recent call last)",
      "Cell \u001b[1;32mIn[23], line 1\u001b[0m\n\u001b[1;32m----> 1\u001b[0m \u001b[38;5;28mmin\u001b[39m(l3)\n",
      "\u001b[1;31mTypeError\u001b[0m: '<' not supported between instances of 'str' and 'int'"
     ]
    }
   ],
   "source": [
    "min(l3)\n",
    "\n",
    "# same data typed should be compare\n",
    "# 'A' ===== some level\n",
    "#  1  ===== some level (not happened)"
   ]
  },
  {
   "cell_type": "code",
   "execution_count": 24,
   "id": "7af447a1-1567-429d-a8f4-582f979ab67a",
   "metadata": {},
   "outputs": [
    {
     "data": {
      "text/plain": [
       "[10, 20, 30, 'Apple', 'Banana', 'Cherry', True, False, 10.5, 20.5, (20+30j)]"
      ]
     },
     "execution_count": 24,
     "metadata": {},
     "output_type": "execute_result"
    }
   ],
   "source": [
    "l4\n",
    "# min max fail"
   ]
  },
  {
   "cell_type": "code",
   "execution_count": 25,
   "id": "4265bdaa-dc8c-41aa-ad64-00a2652b2368",
   "metadata": {},
   "outputs": [
    {
     "data": {
      "text/plain": [
       "[10, 10, 10]"
      ]
     },
     "execution_count": 25,
     "metadata": {},
     "output_type": "execute_result"
    }
   ],
   "source": [
    "l5"
   ]
  },
  {
   "cell_type": "code",
   "execution_count": 26,
   "id": "4852847d-c102-4ff3-89e0-22b93e28a611",
   "metadata": {},
   "outputs": [
    {
     "data": {
      "text/plain": [
       "(10, 10)"
      ]
     },
     "execution_count": 26,
     "metadata": {},
     "output_type": "execute_result"
    }
   ],
   "source": [
    "min(l5),max(l5)"
   ]
  },
  {
   "cell_type": "code",
   "execution_count": 27,
   "id": "956d294b-0962-4a14-a232-c8db114164bd",
   "metadata": {},
   "outputs": [
    {
     "data": {
      "text/plain": [
       "[10, 20, 30, ['A', 'B', 'C']]"
      ]
     },
     "execution_count": 27,
     "metadata": {},
     "output_type": "execute_result"
    }
   ],
   "source": [
    "l6"
   ]
  },
  {
   "cell_type": "code",
   "execution_count": 29,
   "id": "ceec4fa3-435c-4b8e-8122-6db7e191cc85",
   "metadata": {},
   "outputs": [
    {
     "data": {
      "text/plain": [
       "'\\n'"
      ]
     },
     "execution_count": 29,
     "metadata": {},
     "output_type": "execute_result"
    }
   ],
   "source": [
    "chr(10)"
   ]
  },
  {
   "cell_type": "code",
   "execution_count": 30,
   "id": "f67d5e08-3057-4649-a9e7-160f9b3667c7",
   "metadata": {},
   "outputs": [
    {
     "ename": "TypeError",
     "evalue": "'list' object cannot be interpreted as an integer",
     "output_type": "error",
     "traceback": [
      "\u001b[1;31m---------------------------------------------------------------------------\u001b[0m",
      "\u001b[1;31mTypeError\u001b[0m                                 Traceback (most recent call last)",
      "Cell \u001b[1;32mIn[30], line 1\u001b[0m\n\u001b[1;32m----> 1\u001b[0m \u001b[38;5;28mchr\u001b[39m([])\n",
      "\u001b[1;31mTypeError\u001b[0m: 'list' object cannot be interpreted as an integer"
     ]
    }
   ],
   "source": [
    "chr([])"
   ]
  },
  {
   "cell_type": "code",
   "execution_count": 31,
   "id": "62d46fe2-f2bd-435c-af51-0dc2d7d202fd",
   "metadata": {},
   "outputs": [
    {
     "ename": "TypeError",
     "evalue": "ord() expected string of length 1, but list found",
     "output_type": "error",
     "traceback": [
      "\u001b[1;31m---------------------------------------------------------------------------\u001b[0m",
      "\u001b[1;31mTypeError\u001b[0m                                 Traceback (most recent call last)",
      "Cell \u001b[1;32mIn[31], line 1\u001b[0m\n\u001b[1;32m----> 1\u001b[0m \u001b[38;5;28mord\u001b[39m([])\n",
      "\u001b[1;31mTypeError\u001b[0m: ord() expected string of length 1, but list found"
     ]
    }
   ],
   "source": [
    "ord([])"
   ]
  },
  {
   "cell_type": "code",
   "execution_count": 32,
   "id": "a0c9f7da-465c-4f4c-9025-945a29f6c813",
   "metadata": {},
   "outputs": [
    {
     "ename": "TypeError",
     "evalue": "'<' not supported between instances of 'list' and 'int'",
     "output_type": "error",
     "traceback": [
      "\u001b[1;31m---------------------------------------------------------------------------\u001b[0m",
      "\u001b[1;31mTypeError\u001b[0m                                 Traceback (most recent call last)",
      "Cell \u001b[1;32mIn[32], line 1\u001b[0m\n\u001b[1;32m----> 1\u001b[0m \u001b[38;5;28mmin\u001b[39m(l6)\n",
      "\u001b[1;31mTypeError\u001b[0m: '<' not supported between instances of 'list' and 'int'"
     ]
    }
   ],
   "source": [
    "min(l6)"
   ]
  },
  {
   "cell_type": "code",
   "execution_count": 33,
   "id": "07400055-4d99-4d76-871c-084178c83317",
   "metadata": {},
   "outputs": [
    {
     "ename": "ValueError",
     "evalue": "min() iterable argument is empty",
     "output_type": "error",
     "traceback": [
      "\u001b[1;31m---------------------------------------------------------------------------\u001b[0m",
      "\u001b[1;31mValueError\u001b[0m                                Traceback (most recent call last)",
      "Cell \u001b[1;32mIn[33], line 1\u001b[0m\n\u001b[1;32m----> 1\u001b[0m \u001b[38;5;28mmin\u001b[39m(l7),\u001b[38;5;28mmax\u001b[39m(l7)\n",
      "\u001b[1;31mValueError\u001b[0m: min() iterable argument is empty"
     ]
    }
   ],
   "source": [
    "min(l7),max(l7)"
   ]
  },
  {
   "cell_type": "code",
   "execution_count": 34,
   "id": "60c608eb-716c-4f4c-930a-6e52c9a4fa9d",
   "metadata": {},
   "outputs": [
    {
     "data": {
      "text/plain": [
       "(0, 1, 1)"
      ]
     },
     "execution_count": 34,
     "metadata": {},
     "output_type": "execute_result"
    }
   ],
   "source": [
    "len([]),len([100]),len([''])\n",
    "# is list has element"
   ]
  },
  {
   "cell_type": "code",
   "execution_count": 35,
   "id": "635e093a-9c75-4ff1-b2b7-a3691b05e38b",
   "metadata": {},
   "outputs": [
    {
     "data": {
      "text/plain": [
       "''"
      ]
     },
     "execution_count": 35,
     "metadata": {},
     "output_type": "execute_result"
    }
   ],
   "source": [
    "min(['','a'])"
   ]
  },
  {
   "cell_type": "code",
   "execution_count": null,
   "id": "4a09c077-eae8-4f16-8971-10f325a6c101",
   "metadata": {},
   "outputs": [],
   "source": [
    "#sir y list([100]) is 1???\n",
    "[100] # 1\n",
    "[1,0,0] # 3\n",
    "['100'] # 1\n",
    "len('100') # 3"
   ]
  },
  {
   "cell_type": "code",
   "execution_count": 36,
   "id": "6c438323-ae7a-4beb-91e3-3ed7b0f0183f",
   "metadata": {},
   "outputs": [
    {
     "data": {
      "text/plain": [
       "''"
      ]
     },
     "execution_count": 36,
     "metadata": {},
     "output_type": "execute_result"
    }
   ],
   "source": [
    "min(['','a'])\n",
    "# '' 32\n",
    "# 'a' 97"
   ]
  },
  {
   "cell_type": "code",
   "execution_count": null,
   "id": "e14d8cb1-396f-4bb6-a4a4-b03eb7c2c105",
   "metadata": {},
   "outputs": [],
   "source": [
    "# sir chars also have ascii values\n",
    "# why they cannot be compared with numbers\n",
    "# if we do min or max comaparison with list\n",
    "# containing hetrogeneous data type i.e char and string?\n",
    "\n",
    "# Rule: strings and number can not compare\n",
    "\n",
    "10 with 'A'\n",
    "\n",
    "10 L0 ===== No other level\n",
    "\n",
    "'A' ==== > 65 L1\n",
    "'B' ===== > 66 L1"
   ]
  },
  {
   "cell_type": "code",
   "execution_count": 37,
   "id": "cf3dd7b5-0cb2-4a8a-845b-087f515511a5",
   "metadata": {},
   "outputs": [
    {
     "data": {
      "text/plain": [
       "[]"
      ]
     },
     "execution_count": 37,
     "metadata": {},
     "output_type": "execute_result"
    }
   ],
   "source": [
    "l1 # w\n",
    "l2 # w\n",
    "l3 # Hetero NW\n",
    "l4 # NW\n",
    "l5 # W\n",
    "l6 # NW\n",
    "l7"
   ]
  },
  {
   "cell_type": "code",
   "execution_count": 38,
   "id": "4c8abbdc-ec8b-479b-9f33-fe4efd08c9bc",
   "metadata": {},
   "outputs": [
    {
     "data": {
      "text/plain": [
       "[]"
      ]
     },
     "execution_count": 38,
     "metadata": {},
     "output_type": "execute_result"
    }
   ],
   "source": [
    "sorted([])\n",
    "# empty list means\n",
    "# does not has any elements"
   ]
  },
  {
   "cell_type": "code",
   "execution_count": 39,
   "id": "4923d3f2-723e-4d22-9380-144707a9d1a9",
   "metadata": {},
   "outputs": [
    {
     "ename": "ValueError",
     "evalue": "min() iterable argument is empty",
     "output_type": "error",
     "traceback": [
      "\u001b[1;31m---------------------------------------------------------------------------\u001b[0m",
      "\u001b[1;31mValueError\u001b[0m                                Traceback (most recent call last)",
      "Cell \u001b[1;32mIn[39], line 1\u001b[0m\n\u001b[1;32m----> 1\u001b[0m \u001b[38;5;28mmin\u001b[39m([])\n",
      "\u001b[1;31mValueError\u001b[0m: min() iterable argument is empty"
     ]
    }
   ],
   "source": [
    "min([])"
   ]
  },
  {
   "cell_type": "code",
   "execution_count": 40,
   "id": "9b1914dd-e9f8-4675-8c1f-2c58cb5ea59c",
   "metadata": {},
   "outputs": [
    {
     "data": {
      "text/plain": [
       "<list_reverseiterator at 0x236b7fc0e50>"
      ]
     },
     "execution_count": 40,
     "metadata": {},
     "output_type": "execute_result"
    }
   ],
   "source": [
    "reversed(l1)"
   ]
  },
  {
   "cell_type": "code",
   "execution_count": 42,
   "id": "42bb9e90-c87d-41ee-87ab-4b3e76183755",
   "metadata": {},
   "outputs": [
    {
     "name": "stdout",
     "output_type": "stream",
     "text": [
      "4 3 2 1 "
     ]
    }
   ],
   "source": [
    "for i in reversed(l1):\n",
    "    print(i,end=' ')"
   ]
  },
  {
   "cell_type": "code",
   "execution_count": 43,
   "id": "6998ee29-9eca-42ae-973a-4b8f82c06c67",
   "metadata": {},
   "outputs": [
    {
     "data": {
      "text/plain": [
       "[4, 3, 2, 1]"
      ]
     },
     "execution_count": 43,
     "metadata": {},
     "output_type": "execute_result"
    }
   ],
   "source": [
    "list(reversed(l1))"
   ]
  },
  {
   "cell_type": "code",
   "execution_count": 44,
   "id": "c35f62e2-2157-4ee7-8854-494ef18e6a6f",
   "metadata": {},
   "outputs": [
    {
     "data": {
      "text/plain": [
       "[<list_reverseiterator at 0x236b946a290>]"
      ]
     },
     "execution_count": 44,
     "metadata": {},
     "output_type": "execute_result"
    }
   ],
   "source": [
    "[reversed(l1)]"
   ]
  },
  {
   "cell_type": "code",
   "execution_count": 45,
   "id": "d08dcc66-009c-440b-8dbe-ffcb2a4981fe",
   "metadata": {},
   "outputs": [
    {
     "data": {
      "text/plain": [
       "['A', 'B', 'C']"
      ]
     },
     "execution_count": 45,
     "metadata": {},
     "output_type": "execute_result"
    }
   ],
   "source": [
    "l2"
   ]
  },
  {
   "cell_type": "code",
   "execution_count": 46,
   "id": "a5c8a604-6d6f-4c34-bfb3-f73a54bbb5be",
   "metadata": {},
   "outputs": [
    {
     "data": {
      "text/plain": [
       "['C', 'B', 'A', 4, 3, 2, 1]"
      ]
     },
     "execution_count": 46,
     "metadata": {},
     "output_type": "execute_result"
    }
   ],
   "source": [
    "list(reversed(l3))"
   ]
  },
  {
   "cell_type": "code",
   "execution_count": 47,
   "id": "9f9f87de-263d-4eac-b3ff-7e121c6a313e",
   "metadata": {},
   "outputs": [
    {
     "data": {
      "text/plain": [
       "[10, 10, 10]"
      ]
     },
     "execution_count": 47,
     "metadata": {},
     "output_type": "execute_result"
    }
   ],
   "source": [
    "l5"
   ]
  },
  {
   "cell_type": "code",
   "execution_count": 48,
   "id": "6acef2da-9867-44ab-ae80-745c5cc50808",
   "metadata": {},
   "outputs": [
    {
     "data": {
      "text/plain": [
       "[10, 20, 30, ['A', 'B', 'C']]"
      ]
     },
     "execution_count": 48,
     "metadata": {},
     "output_type": "execute_result"
    }
   ],
   "source": [
    "l6"
   ]
  },
  {
   "cell_type": "code",
   "execution_count": 49,
   "id": "64e0f7ce-f961-4ba4-8ce3-d84fb4c56ac2",
   "metadata": {},
   "outputs": [
    {
     "data": {
      "text/plain": [
       "[['A', 'B', 'C'], 30, 20, 10]"
      ]
     },
     "execution_count": 49,
     "metadata": {},
     "output_type": "execute_result"
    }
   ],
   "source": [
    "list(reversed(l6))"
   ]
  },
  {
   "cell_type": "markdown",
   "id": "3064e274-9dff-40a0-b023-990cab7473c5",
   "metadata": {},
   "source": [
    "- sorted will compare the elements\n",
    "- the same rules applicable for min and max \n",
    "- sorted never return any error eventhough we have an empty list\n",
    "- min and max will give error if it has empty list\n",
    "- Reveresed only do reveres elements"
   ]
  },
  {
   "cell_type": "code",
   "execution_count": null,
   "id": "b4fafb84-a70c-495b-a080-06722121017d",
   "metadata": {},
   "outputs": [],
   "source": [
    "min/max/sorted/reveresed/len"
   ]
  },
  {
   "cell_type": "markdown",
   "id": "c1b98f0f-98c3-4489-93a9-81163102ecc2",
   "metadata": {},
   "source": [
    "**sum**"
   ]
  },
  {
   "cell_type": "code",
   "execution_count": 50,
   "id": "006d6101-0a96-4283-9fe2-9e64d8d88808",
   "metadata": {},
   "outputs": [
    {
     "data": {
      "text/plain": [
       "600"
      ]
     },
     "execution_count": 50,
     "metadata": {},
     "output_type": "execute_result"
    }
   ],
   "source": [
    "sum([100,200,300])"
   ]
  },
  {
   "cell_type": "code",
   "execution_count": 51,
   "id": "e6b8f174-3512-431e-9dbc-30b623ae79b0",
   "metadata": {},
   "outputs": [
    {
     "ename": "TypeError",
     "evalue": "unsupported operand type(s) for +: 'int' and 'str'",
     "output_type": "error",
     "traceback": [
      "\u001b[1;31m---------------------------------------------------------------------------\u001b[0m",
      "\u001b[1;31mTypeError\u001b[0m                                 Traceback (most recent call last)",
      "Cell \u001b[1;32mIn[51], line 1\u001b[0m\n\u001b[1;32m----> 1\u001b[0m \u001b[38;5;28msum\u001b[39m([\u001b[38;5;124m'\u001b[39m\u001b[38;5;124mA\u001b[39m\u001b[38;5;124m'\u001b[39m,\u001b[38;5;124m'\u001b[39m\u001b[38;5;124mB\u001b[39m\u001b[38;5;124m'\u001b[39m,\u001b[38;5;124m'\u001b[39m\u001b[38;5;124mC\u001b[39m\u001b[38;5;124m'\u001b[39m])\n",
      "\u001b[1;31mTypeError\u001b[0m: unsupported operand type(s) for +: 'int' and 'str'"
     ]
    }
   ],
   "source": [
    "sum(['A','B','C'])"
   ]
  },
  {
   "cell_type": "code",
   "execution_count": 52,
   "id": "e12ddbf7-d7ef-4a27-89f4-c03217d7117a",
   "metadata": {},
   "outputs": [
    {
     "data": {
      "text/plain": [
       "160"
      ]
     },
     "execution_count": 52,
     "metadata": {},
     "output_type": "execute_result"
    }
   ],
   "source": [
    "sum([10,20,30],start=100)"
   ]
  },
  {
   "cell_type": "code",
   "execution_count": null,
   "id": "6e55f5ad-c4cf-4bab-b576-fc777b2c07dc",
   "metadata": {},
   "outputs": [],
   "source": [
    "sum=100\n",
    "sum=sum+i"
   ]
  },
  {
   "cell_type": "code",
   "execution_count": 53,
   "id": "ea93b0be-fcc8-42a3-9d31-cfe7e68fb377",
   "metadata": {},
   "outputs": [
    {
     "data": {
      "text/plain": [
       "0"
      ]
     },
     "execution_count": 53,
     "metadata": {},
     "output_type": "execute_result"
    }
   ],
   "source": [
    "sum([])"
   ]
  },
  {
   "cell_type": "markdown",
   "id": "1bfca585-f2fa-43fb-afd6-120d0da02a37",
   "metadata": {},
   "source": [
    "**index**"
   ]
  },
  {
   "cell_type": "code",
   "execution_count": 54,
   "id": "c1e50ca7-4b15-44eb-b79e-1a9deaea704b",
   "metadata": {},
   "outputs": [],
   "source": [
    "l1=[1,2,3,4,'A','B','C']\n",
    "# -7 -6 -5 -4  -3   -2   -1\n",
    "#[1, 2, 3, 4, 'A', 'B','C']\n",
    "# 0  1  2  3   4    5   6"
   ]
  },
  {
   "cell_type": "code",
   "execution_count": 55,
   "id": "7f413791-d8b2-4245-9ad5-5ccf2b71be4d",
   "metadata": {},
   "outputs": [
    {
     "data": {
      "text/plain": [
       "(1, 1)"
      ]
     },
     "execution_count": 55,
     "metadata": {},
     "output_type": "execute_result"
    }
   ],
   "source": [
    "l1[0],l1[-7]"
   ]
  },
  {
   "cell_type": "code",
   "execution_count": null,
   "id": "71d52659-3a16-4bad-9ced-cbb48a6113be",
   "metadata": {},
   "outputs": [],
   "source": [
    "# by using for loop print the postive index\n",
    "# by using for loop print the negative index\n",
    "# by using for loop print both postive and negtaive index"
   ]
  },
  {
   "cell_type": "code",
   "execution_count": 59,
   "id": "faf3f8c4-a015-49f4-90f9-f0de455f9b7f",
   "metadata": {},
   "outputs": [
    {
     "name": "stdout",
     "output_type": "stream",
     "text": [
      "the postive index of 10 is:0\n",
      "the negative index of 10 is:-7\n",
      "the postive index of 10 is:0 and negative index is: -7\n",
      "========================================\n",
      "the postive index of 20 is:1\n",
      "the negative index of 20 is:-6\n",
      "the postive index of 20 is:1 and negative index is: -6\n",
      "========================================\n",
      "the postive index of 30 is:2\n",
      "the negative index of 30 is:-5\n",
      "the postive index of 30 is:2 and negative index is: -5\n",
      "========================================\n",
      "the postive index of 40 is:3\n",
      "the negative index of 40 is:-4\n",
      "the postive index of 40 is:3 and negative index is: -4\n",
      "========================================\n",
      "the postive index of A is:4\n",
      "the negative index of A is:-3\n",
      "the postive index of A is:4 and negative index is: -3\n",
      "========================================\n",
      "the postive index of B is:5\n",
      "the negative index of B is:-2\n",
      "the postive index of B is:5 and negative index is: -2\n",
      "========================================\n",
      "the postive index of C is:6\n",
      "the negative index of C is:-1\n",
      "the postive index of C is:6 and negative index is: -1\n",
      "========================================\n"
     ]
    }
   ],
   "source": [
    "l1=[10,20,30,40,'A','B','C']\n",
    "for i in range(len(l1)):\n",
    "    print(f\"the postive index of {l1[i]} is:{i}\")\n",
    "    print(f\"the negative index of {l1[i]} is:{i-len(l1)}\")\n",
    "    print(f\"the postive index of {l1[i]} is:{i} and negative index is: {i-len(l1)}\")\n",
    "    print(\"========================================\")"
   ]
  },
  {
   "cell_type": "code",
   "execution_count": 60,
   "id": "c5b716e7-973b-40fa-ae67-cf2c89daf68a",
   "metadata": {},
   "outputs": [
    {
     "data": {
      "text/plain": [
       "10"
      ]
     },
     "execution_count": 60,
     "metadata": {},
     "output_type": "execute_result"
    }
   ],
   "source": [
    "l=[10,20,30]\n",
    "l[0]"
   ]
  },
  {
   "cell_type": "code",
   "execution_count": 61,
   "id": "1f4a7f1c-ec6a-43f5-bb1b-f29f59d7a8ea",
   "metadata": {},
   "outputs": [
    {
     "data": {
      "text/plain": [
       "1"
      ]
     },
     "execution_count": 61,
     "metadata": {},
     "output_type": "execute_result"
    }
   ],
   "source": [
    "l=[[10,20,30]]\n",
    "# how to access the 10\n",
    "len(l)"
   ]
  },
  {
   "cell_type": "code",
   "execution_count": 62,
   "id": "c36fa615-dfb5-48bc-87bf-cf4d43eb0b8a",
   "metadata": {},
   "outputs": [
    {
     "data": {
      "text/plain": [
       "(10, 20, 30)"
      ]
     },
     "execution_count": 62,
     "metadata": {},
     "output_type": "execute_result"
    }
   ],
   "source": [
    "l=[\n",
    "[10,20,30]\n",
    "]\n",
    "# how many elements are there in a list: 1 element\n",
    "len(l) #\n",
    "l[0][0],l[0][1],l[0][2]"
   ]
  },
  {
   "cell_type": "code",
   "execution_count": 63,
   "id": "c51d0b25-70db-4495-ab58-4b7f8a5b8bed",
   "metadata": {},
   "outputs": [
    {
     "data": {
      "text/plain": [
       "'A'"
      ]
     },
     "execution_count": 63,
     "metadata": {},
     "output_type": "execute_result"
    }
   ],
   "source": [
    "l1=[10,20,['A','B']]\n",
    "# retrive the A\n",
    "# how many elements are there : 3\n",
    "len(l1)\n",
    "# how can we access 0,1,2\n",
    "l1[2][0]"
   ]
  },
  {
   "cell_type": "code",
   "execution_count": 70,
   "id": "9798f162-12f9-41ac-9a5a-687e909bcc96",
   "metadata": {},
   "outputs": [
    {
     "data": {
      "text/plain": [
       "'Apple'"
      ]
     },
     "execution_count": 70,
     "metadata": {},
     "output_type": "execute_result"
    }
   ],
   "source": [
    "l1=[1,2,3,4,[5,6,['Apple']]]\n",
    "l1[4][2][0]"
   ]
  },
  {
   "cell_type": "code",
   "execution_count": 65,
   "id": "3d5132e5-30f9-4cba-bf26-7086b35ea57b",
   "metadata": {},
   "outputs": [
    {
     "data": {
      "text/plain": [
       "'cherry'"
      ]
     },
     "execution_count": 65,
     "metadata": {},
     "output_type": "execute_result"
    }
   ],
   "source": [
    "l1=[1,2,3,[4,[5,['cherry']]]]\n",
    "len(l1)\n",
    "l1[3][1][1][0]"
   ]
  },
  {
   "cell_type": "code",
   "execution_count": 66,
   "id": "4b2d53f7-9b1e-4ce3-872b-7f87ff88f4d0",
   "metadata": {},
   "outputs": [
    {
     "data": {
      "text/plain": [
       "'onion'"
      ]
     },
     "execution_count": 66,
     "metadata": {},
     "output_type": "execute_result"
    }
   ],
   "source": [
    "l1=[[[[[[[[['onion']]]]]]]]]\n",
    "l1[0][0][0][0][0][0][0][0][0]"
   ]
  },
  {
   "cell_type": "code",
   "execution_count": 68,
   "id": "efd7b840-0c87-4d6b-b3f0-e4b43a9d6ce6",
   "metadata": {},
   "outputs": [
    {
     "data": {
      "text/plain": [
       "['Apple', ['Kashmir', ['India', ['Mumbai', ['Sharuk', ['Film', ['DDLJ']]]]]]]"
      ]
     },
     "execution_count": 68,
     "metadata": {},
     "output_type": "execute_result"
    }
   ],
   "source": [
    "l1=['Apple',['Kashmir',['India',['Mumbai',['Sharuk',['Film',['DDLJ']]]]]]]\n",
    "l1"
   ]
  },
  {
   "cell_type": "code",
   "execution_count": 69,
   "id": "b214709c-4e55-4929-ae44-20a29283de91",
   "metadata": {},
   "outputs": [
    {
     "data": {
      "text/plain": [
       "'DDLJ'"
      ]
     },
     "execution_count": 69,
     "metadata": {},
     "output_type": "execute_result"
    }
   ],
   "source": [
    "l1[1][1][1][1][1][1][0]"
   ]
  },
  {
   "cell_type": "markdown",
   "id": "149487a8-9f50-44f9-b4e2-40fa9dd719d0",
   "metadata": {},
   "source": [
    "**Mutable vs Immutable**"
   ]
  },
  {
   "cell_type": "code",
   "execution_count": 1,
   "id": "9e78ffd3-dcf1-4a95-b19a-e7c07820baf3",
   "metadata": {},
   "outputs": [
    {
     "data": {
      "text/plain": [
       "[1, 2, 5]"
      ]
     },
     "execution_count": 1,
     "metadata": {},
     "output_type": "execute_result"
    }
   ],
   "source": [
    "l=[1,2,3]\n",
    "l[2]=5\n",
    "l"
   ]
  },
  {
   "cell_type": "code",
   "execution_count": 2,
   "id": "b4f9101f-086f-4e09-8c47-d72d192a757b",
   "metadata": {},
   "outputs": [
    {
     "data": {
      "text/plain": [
       "['W', 'e', 'l', 'c', 'o', 'm', 'e']"
      ]
     },
     "execution_count": 2,
     "metadata": {},
     "output_type": "execute_result"
    }
   ],
   "source": [
    "l1=['w','e','l','c','o','m','e']\n",
    "l1[0]='W'\n",
    "l1"
   ]
  },
  {
   "cell_type": "markdown",
   "id": "3d06b06b-40a3-49c1-b454-148584174e3b",
   "metadata": {},
   "source": [
    "- we can change the list element using indexing"
   ]
  },
  {
   "cell_type": "code",
   "execution_count": 3,
   "id": "16cf0ecc-eee8-4554-8fca-c0bb670aee5e",
   "metadata": {},
   "outputs": [
    {
     "data": {
      "text/plain": [
       "['h', 'e', 'l', 'l', 'o']"
      ]
     },
     "execution_count": 3,
     "metadata": {},
     "output_type": "execute_result"
    }
   ],
   "source": [
    "l1=['h','e','l']\n",
    "l2=['l','o']\n",
    "l1+l2"
   ]
  },
  {
   "cell_type": "code",
   "execution_count": null,
   "id": "d551988e-ab7a-4c9c-bd65-e39094220d01",
   "metadata": {},
   "outputs": [],
   "source": [
    "l1*l2 # fail\n",
    "l1-l2 # fail\n",
    "l1/l2 # fail"
   ]
  },
  {
   "cell_type": "code",
   "execution_count": 6,
   "id": "8d9ca82a-cd76-4a4c-be12-227c314fc7a8",
   "metadata": {},
   "outputs": [
    {
     "data": {
      "text/plain": [
       "['h', 'e', 'l', 'h', 'e', 'l']"
      ]
     },
     "execution_count": 6,
     "metadata": {},
     "output_type": "execute_result"
    }
   ],
   "source": [
    "l1*2"
   ]
  },
  {
   "cell_type": "markdown",
   "id": "2120bd6d-d75b-4a71-8a11-c3f06b6cdbea",
   "metadata": {},
   "source": [
    "**slicing**"
   ]
  },
  {
   "cell_type": "code",
   "execution_count": 7,
   "id": "7292b269-7756-4b87-a6f2-aac866c076ee",
   "metadata": {},
   "outputs": [],
   "source": [
    "l1=[1,2,3,4,5,'a','b','c','d','10.5',True,10.5,100,200]"
   ]
  },
  {
   "cell_type": "code",
   "execution_count": 8,
   "id": "8cc857bb-eac4-4505-8b68-c2adfe7b06aa",
   "metadata": {},
   "outputs": [
    {
     "data": {
      "text/plain": [
       "[]"
      ]
     },
     "execution_count": 8,
     "metadata": {},
     "output_type": "execute_result"
    }
   ],
   "source": [
    "l1[2:-14:2]"
   ]
  },
  {
   "cell_type": "code",
   "execution_count": 9,
   "id": "0feb3fe1-e21c-410d-814b-b442e6f5fd61",
   "metadata": {},
   "outputs": [
    {
     "data": {
      "text/plain": [
       "[100]"
      ]
     },
     "execution_count": 9,
     "metadata": {},
     "output_type": "execute_result"
    }
   ],
   "source": [
    "l1[-2:14:2]"
   ]
  },
  {
   "cell_type": "code",
   "execution_count": 10,
   "id": "cadcc288-fe9f-4046-ace6-6d75786fd86e",
   "metadata": {},
   "outputs": [
    {
     "data": {
      "text/plain": [
       "[]"
      ]
     },
     "execution_count": 10,
     "metadata": {},
     "output_type": "execute_result"
    }
   ],
   "source": [
    "l1[14:-2:2]"
   ]
  },
  {
   "cell_type": "code",
   "execution_count": 11,
   "id": "d3e728ec-482e-49b4-a8a7-b1a445f15f18",
   "metadata": {},
   "outputs": [
    {
     "data": {
      "text/plain": [
       "[1]"
      ]
     },
     "execution_count": 11,
     "metadata": {},
     "output_type": "execute_result"
    }
   ],
   "source": [
    "l1[-14:2:2]"
   ]
  },
  {
   "cell_type": "code",
   "execution_count": 12,
   "id": "879621c6-4464-4a79-a635-cc033ae744be",
   "metadata": {},
   "outputs": [
    {
     "data": {
      "text/plain": [
       "[]"
      ]
     },
     "execution_count": 12,
     "metadata": {},
     "output_type": "execute_result"
    }
   ],
   "source": [
    "l1[-14:-2:-2]"
   ]
  },
  {
   "cell_type": "code",
   "execution_count": 13,
   "id": "874ba634-70c9-4502-be6c-da38b23c878f",
   "metadata": {},
   "outputs": [
    {
     "data": {
      "text/plain": [
       "['__add__',\n",
       " '__class__',\n",
       " '__contains__',\n",
       " '__delattr__',\n",
       " '__dir__',\n",
       " '__doc__',\n",
       " '__eq__',\n",
       " '__format__',\n",
       " '__ge__',\n",
       " '__getattribute__',\n",
       " '__getitem__',\n",
       " '__getnewargs__',\n",
       " '__getstate__',\n",
       " '__gt__',\n",
       " '__hash__',\n",
       " '__init__',\n",
       " '__init_subclass__',\n",
       " '__iter__',\n",
       " '__le__',\n",
       " '__len__',\n",
       " '__lt__',\n",
       " '__mod__',\n",
       " '__mul__',\n",
       " '__ne__',\n",
       " '__new__',\n",
       " '__reduce__',\n",
       " '__reduce_ex__',\n",
       " '__repr__',\n",
       " '__rmod__',\n",
       " '__rmul__',\n",
       " '__setattr__',\n",
       " '__sizeof__',\n",
       " '__str__',\n",
       " '__subclasshook__',\n",
       " 'capitalize',\n",
       " 'casefold',\n",
       " 'center',\n",
       " 'count',\n",
       " 'encode',\n",
       " 'endswith',\n",
       " 'expandtabs',\n",
       " 'find',\n",
       " 'format',\n",
       " 'format_map',\n",
       " 'index',\n",
       " 'isalnum',\n",
       " 'isalpha',\n",
       " 'isascii',\n",
       " 'isdecimal',\n",
       " 'isdigit',\n",
       " 'isidentifier',\n",
       " 'islower',\n",
       " 'isnumeric',\n",
       " 'isprintable',\n",
       " 'isspace',\n",
       " 'istitle',\n",
       " 'isupper',\n",
       " 'join',\n",
       " 'ljust',\n",
       " 'lower',\n",
       " 'lstrip',\n",
       " 'maketrans',\n",
       " 'partition',\n",
       " 'removeprefix',\n",
       " 'removesuffix',\n",
       " 'replace',\n",
       " 'rfind',\n",
       " 'rindex',\n",
       " 'rjust',\n",
       " 'rpartition',\n",
       " 'rsplit',\n",
       " 'rstrip',\n",
       " 'split',\n",
       " 'splitlines',\n",
       " 'startswith',\n",
       " 'strip',\n",
       " 'swapcase',\n",
       " 'title',\n",
       " 'translate',\n",
       " 'upper',\n",
       " 'zfill']"
      ]
     },
     "execution_count": 13,
     "metadata": {},
     "output_type": "execute_result"
    }
   ],
   "source": [
    "dir('')"
   ]
  },
  {
   "cell_type": "code",
   "execution_count": 14,
   "id": "d51b2a2f-299b-48f8-b047-18663de4806c",
   "metadata": {},
   "outputs": [
    {
     "data": {
      "text/plain": [
       "['__add__',\n",
       " '__class__',\n",
       " '__class_getitem__',\n",
       " '__contains__',\n",
       " '__delattr__',\n",
       " '__delitem__',\n",
       " '__dir__',\n",
       " '__doc__',\n",
       " '__eq__',\n",
       " '__format__',\n",
       " '__ge__',\n",
       " '__getattribute__',\n",
       " '__getitem__',\n",
       " '__getstate__',\n",
       " '__gt__',\n",
       " '__hash__',\n",
       " '__iadd__',\n",
       " '__imul__',\n",
       " '__init__',\n",
       " '__init_subclass__',\n",
       " '__iter__',\n",
       " '__le__',\n",
       " '__len__',\n",
       " '__lt__',\n",
       " '__mul__',\n",
       " '__ne__',\n",
       " '__new__',\n",
       " '__reduce__',\n",
       " '__reduce_ex__',\n",
       " '__repr__',\n",
       " '__reversed__',\n",
       " '__rmul__',\n",
       " '__setattr__',\n",
       " '__setitem__',\n",
       " '__sizeof__',\n",
       " '__str__',\n",
       " '__subclasshook__',\n",
       " 'append',\n",
       " 'clear',\n",
       " 'copy',\n",
       " 'count',\n",
       " 'extend',\n",
       " 'index',\n",
       " 'insert',\n",
       " 'pop',\n",
       " 'remove',\n",
       " 'reverse',\n",
       " 'sort']"
      ]
     },
     "execution_count": 14,
     "metadata": {},
     "output_type": "execute_result"
    }
   ],
   "source": [
    "dir([])"
   ]
  },
  {
   "cell_type": "code",
   "execution_count": null,
   "id": "d544bcbf-4382-418a-98cc-70ed282cba07",
   "metadata": {},
   "outputs": [],
   "source": [
    "'append',\n",
    "'clear',\n",
    "'copy',\n",
    "'count',\n",
    "'extend',\n",
    "'index',\n",
    "'insert',\n",
    "'pop',\n",
    "'remove',\n",
    "'reverse',\n",
    "'sort'"
   ]
  },
  {
   "cell_type": "code",
   "execution_count": 15,
   "id": "53e8b12c-6354-485e-8348-3e574d647e2f",
   "metadata": {},
   "outputs": [],
   "source": [
    "# clear\n",
    "l1=[1,2,3,4,5,'a','b','c','d','10.5',True,10.5,100,200]\n",
    "l1.clear()"
   ]
  },
  {
   "cell_type": "code",
   "execution_count": 16,
   "id": "16fc00c6-845e-4f35-b855-224e9dbc30f8",
   "metadata": {},
   "outputs": [
    {
     "data": {
      "text/plain": [
       "[]"
      ]
     },
     "execution_count": 16,
     "metadata": {},
     "output_type": "execute_result"
    }
   ],
   "source": [
    "l1"
   ]
  },
  {
   "cell_type": "code",
   "execution_count": 17,
   "id": "2f9adfd4-336b-40c8-9ca5-a136a5da9a12",
   "metadata": {},
   "outputs": [],
   "source": [
    "l1=[1,2,3,4,5,'a','b','c','d','10.5',True,10.5,100,200]\n",
    "l2=l1.copy()"
   ]
  },
  {
   "cell_type": "code",
   "execution_count": 18,
   "id": "dc78f3ae-af8c-4476-85e4-183aa4ca96e0",
   "metadata": {},
   "outputs": [
    {
     "data": {
      "text/plain": [
       "[1, 2, 3, 4, 5, 'a', 'b', 'c', 'd', '10.5', True, 10.5, 100, 200]"
      ]
     },
     "execution_count": 18,
     "metadata": {},
     "output_type": "execute_result"
    }
   ],
   "source": [
    "l2"
   ]
  },
  {
   "cell_type": "code",
   "execution_count": 19,
   "id": "a268db3a-b525-4930-b2d7-a2dc2d05178f",
   "metadata": {},
   "outputs": [
    {
     "data": {
      "text/plain": [
       "[1, 2, 3, 4, 5, 'a', 'b', 'c', 'd', '10.5', True, 10.5, 100, 200]"
      ]
     },
     "execution_count": 19,
     "metadata": {},
     "output_type": "execute_result"
    }
   ],
   "source": [
    "l1"
   ]
  },
  {
   "cell_type": "code",
   "execution_count": 21,
   "id": "9f993ec6-4d76-40f7-96c0-182ff1e9baa9",
   "metadata": {},
   "outputs": [
    {
     "data": {
      "text/plain": [
       "4"
      ]
     },
     "execution_count": 21,
     "metadata": {},
     "output_type": "execute_result"
    }
   ],
   "source": [
    "l1=[1,2,3,4,5,'a','b','c','d','10.5',True,10.5,100,200,2,2,2]\n",
    "l1.count(2)"
   ]
  },
  {
   "cell_type": "code",
   "execution_count": 37,
   "id": "cf4949ef-fae7-4a0b-b52c-729103132986",
   "metadata": {},
   "outputs": [],
   "source": [
    "l1=[1,2,3,4,5,'a','b','c','d','10.5',True,10.5,100,200]\n",
    "l1.reverse()\n",
    "\n",
    "# reverse the elements save the output in same variable\n",
    "# it is indicates as inplace\n",
    "# some times inplace =True available"
   ]
  },
  {
   "cell_type": "code",
   "execution_count": 23,
   "id": "782acb10-6f5a-41b4-8b32-18d03745d15c",
   "metadata": {},
   "outputs": [
    {
     "data": {
      "text/plain": [
       "[200, 100, 10.5, True, '10.5', 'd', 'c', 'b', 'a', 5, 4, 3, 2, 1]"
      ]
     },
     "execution_count": 23,
     "metadata": {},
     "output_type": "execute_result"
    }
   ],
   "source": [
    "l1"
   ]
  },
  {
   "cell_type": "code",
   "execution_count": 38,
   "id": "3b011bf7-248d-4a92-91db-8e0b00168744",
   "metadata": {},
   "outputs": [
    {
     "data": {
      "text/plain": [
       "[1, 2, 3, 4, 5, 10.5, 100, 200, 300]"
      ]
     },
     "execution_count": 38,
     "metadata": {},
     "output_type": "execute_result"
    }
   ],
   "source": [
    "l1=[1,2,3,300,4,5,10.5,100,200]\n",
    "l1.sort()\n",
    "l1"
   ]
  },
  {
   "cell_type": "markdown",
   "id": "d4eea370-a0a6-45cc-a662-3bdea83533f3",
   "metadata": {},
   "source": [
    "**reverse vs reversed**\n",
    "\n",
    "- reversed is a builtin function\n",
    "- reversed can be applicable all **iterable**\n",
    "- reversed applicable for **string,list,tuple,dict,etc**\n",
    "- reversed(string),reversed(list),etc\n",
    "\n",
    "**reverse**\n",
    "\n",
    "- reverse method is belongs to only list\n",
    "- reverse method can not applicable to string,tuple and dict\n",
    "- list.reverse()"
   ]
  },
  {
   "cell_type": "code",
   "execution_count": null,
   "id": "5ad521bc-5fb9-4d45-8b71-59ebb8fd75da",
   "metadata": {},
   "outputs": [],
   "source": [
    "l1.reverse() # ans\n",
    "str1.reverse() # error"
   ]
  },
  {
   "cell_type": "markdown",
   "id": "2a0f8512-9b08-4f50-94e3-2145004351cf",
   "metadata": {},
   "source": [
    "**sort vs sorted**"
   ]
  },
  {
   "cell_type": "code",
   "execution_count": null,
   "id": "d493dfed-6178-440a-8e39-bc90b979da50",
   "metadata": {},
   "outputs": [],
   "source": [
    "l1.sort() # ans\n",
    "str1.sort() # error"
   ]
  },
  {
   "cell_type": "markdown",
   "id": "8a77b2b3-3b9b-49b6-99da-aac3e373dfcb",
   "metadata": {},
   "source": [
    "**Append**\n",
    "\n",
    "- append means add an element at the end of the list\n",
    "- append is a method very imp\n",
    "- append is used to store the output in a list\n",
    "- till last class we just printed the output\n",
    "- "
   ]
  },
  {
   "cell_type": "code",
   "execution_count": 41,
   "id": "2da84f79-6dc4-47d9-880f-5066bf184794",
   "metadata": {},
   "outputs": [
    {
     "data": {
      "text/plain": [
       "[10]"
      ]
     },
     "execution_count": 41,
     "metadata": {},
     "output_type": "execute_result"
    }
   ],
   "source": [
    "l1=[]\n",
    "l1.append(10)\n",
    "l1"
   ]
  },
  {
   "cell_type": "code",
   "execution_count": 43,
   "id": "10f468cd-649d-46c7-b318-9f6859c8f465",
   "metadata": {},
   "outputs": [
    {
     "data": {
      "text/plain": [
       "[1, 2, 3, 4, 'apple']"
      ]
     },
     "execution_count": 43,
     "metadata": {},
     "output_type": "execute_result"
    }
   ],
   "source": [
    "l1=[1,2,3,4]\n",
    "l1.append('apple')\n",
    "l1"
   ]
  },
  {
   "cell_type": "code",
   "execution_count": 44,
   "id": "85c34b06-d1be-48d1-b68e-eaae6e65d050",
   "metadata": {},
   "outputs": [
    {
     "data": {
      "text/plain": [
       "[1, 2, 3, 4, 'apple', [True, False]]"
      ]
     },
     "execution_count": 44,
     "metadata": {},
     "output_type": "execute_result"
    }
   ],
   "source": [
    "l1=[1,2,3,4]\n",
    "l1.append('apple')\n",
    "l1.append([True,False])\n",
    "\n",
    "l1"
   ]
  },
  {
   "cell_type": "code",
   "execution_count": 46,
   "id": "52a83fee-2791-4b15-bf05-6423d25b2019",
   "metadata": {},
   "outputs": [
    {
     "data": {
      "text/plain": [
       "[1, 2, 3, 4, 5, 6, 7, 8, 9, 10]"
      ]
     },
     "execution_count": 46,
     "metadata": {},
     "output_type": "execute_result"
    }
   ],
   "source": [
    "# Q1) create a list of 10 numbers using for loop\n",
    "\n",
    "l1=[]\n",
    "for i in range(1,11):\n",
    "    l1.append(i)\n",
    "l1"
   ]
  },
  {
   "cell_type": "code",
   "execution_count": 52,
   "id": "7759b306-274a-46a0-b702-35b419a464e2",
   "metadata": {},
   "outputs": [
    {
     "data": {
      "text/plain": [
       "[36, 100, 49, 36, 100]"
      ]
     },
     "execution_count": 52,
     "metadata": {},
     "output_type": "execute_result"
    }
   ],
   "source": [
    "# Q2) wap ask the user get 5 random numbers\n",
    "#     perform the sqr of the random number \n",
    "#     save in a list\n",
    "\n",
    "import random\n",
    "l1=[]\n",
    "for i in range(5):\n",
    "    n=random.randint(1,10)\n",
    "    sqr=n*n\n",
    "    l1.append(sqr)\n",
    "l1\n",
    "#####################################################\n",
    "\n"
   ]
  },
  {
   "cell_type": "code",
   "execution_count": 53,
   "id": "ccd15bfc-9f90-4121-8975-0b661b89817b",
   "metadata": {},
   "outputs": [
    {
     "data": {
      "text/plain": [
       "[81, 64, 1, 4, 1]"
      ]
     },
     "execution_count": 53,
     "metadata": {},
     "output_type": "execute_result"
    }
   ],
   "source": [
    "import random\n",
    "l1=[]\n",
    "for i in range(5):\n",
    "    n=random.randint(1,10)\n",
    "    #sqr=n*n\n",
    "    l1.append(n**2)\n",
    "l1"
   ]
  },
  {
   "cell_type": "code",
   "execution_count": 57,
   "id": "d665e4d3-ab4d-4d72-94f8-bbe235573150",
   "metadata": {},
   "outputs": [
    {
     "name": "stdout",
     "output_type": "stream",
     "text": [
      "[20, 38, 52, 100]\n",
      "[27, 47, 87]\n"
     ]
    }
   ],
   "source": [
    "l1=[100,20,27,38,47,52,87]\n",
    "even_list=[]\n",
    "odd_list=[]\n",
    "for i in l1:\n",
    "    if(i%2==0):\n",
    "        even_list.append(i)\n",
    "    else:\n",
    "        odd_list.append(i)\n",
    "even_list.sort()\n",
    "odd_list.sort()\n",
    "print(even_list)\n",
    "print(odd_list)"
   ]
  },
  {
   "cell_type": "code",
   "execution_count": 59,
   "id": "cbb77fc4-19f8-4e80-b864-6c049ec9f2a9",
   "metadata": {},
   "outputs": [
    {
     "name": "stdout",
     "output_type": "stream",
     "text": [
      "[20, 38, 52, 100]\n",
      "[27, 47, 87]\n"
     ]
    }
   ],
   "source": [
    "l1=[100,20,27,38,47,52,87]\n",
    "even_list=[]\n",
    "odd_list=[]\n",
    "for i in l1:\n",
    "    if(i%2==0):\n",
    "        even_list.append(i)\n",
    "        even_list.sort()\n",
    "    else:\n",
    "        odd_list.append(i)\n",
    "        odd_list.sort()\n",
    "print(even_list)\n",
    "print(odd_list)"
   ]
  },
  {
   "cell_type": "code",
   "execution_count": 2,
   "id": "b121b608-0ac6-474d-938c-2e12b99db6d3",
   "metadata": {},
   "outputs": [
    {
     "data": {
      "text/plain": [
       "['Hyd', 'Chennai', 'Mumbai', 'Pune']"
      ]
     },
     "execution_count": 2,
     "metadata": {},
     "output_type": "execute_result"
    }
   ],
   "source": [
    "l1=['hyd','chennai','mumbai','pune']\n",
    "ans=[]\n",
    "for i in l1:\n",
    "    ans.append(i.capitalize())\n",
    "ans"
   ]
  },
  {
   "cell_type": "code",
   "execution_count": 3,
   "id": "790106a1-f1e5-4c6c-af13-515f15817641",
   "metadata": {},
   "outputs": [
    {
     "data": {
      "text/plain": [
       "['HYD', 'CHENNAI', 'MUMBAI', 'PUNE']"
      ]
     },
     "execution_count": 3,
     "metadata": {},
     "output_type": "execute_result"
    }
   ],
   "source": [
    "l1=['hyd','chennai','mumbai','pune']\n",
    "ans=[]\n",
    "for i in l1:\n",
    "    ans.append(i.upper())\n",
    "ans"
   ]
  },
  {
   "cell_type": "code",
   "execution_count": 4,
   "id": "c3bc54a7-6777-4bfc-8177-b25587ec1e97",
   "metadata": {},
   "outputs": [
    {
     "data": {
      "text/plain": [
       "(['chen#ai', 'mu#bai'], ['hyd', 'pune'])"
      ]
     },
     "execution_count": 4,
     "metadata": {},
     "output_type": "execute_result"
    }
   ],
   "source": [
    "l1=['hyd','chen#ai','mu#bai','pune']\n",
    "ans1,ans2=[],[]\n",
    "for i in l1:\n",
    "    if '#' in i:\n",
    "        ans1.append(i)\n",
    "    else:\n",
    "        ans2.append(i)\n",
    "ans1,ans2"
   ]
  },
  {
   "cell_type": "code",
   "execution_count": 5,
   "id": "4642c5ef-aad7-4f05-bbe8-57030e01ee85",
   "metadata": {},
   "outputs": [
    {
     "data": {
      "text/plain": [
       "['Hello', 'Hai', 'How', 'Are', 'You']"
      ]
     },
     "execution_count": 5,
     "metadata": {},
     "output_type": "execute_result"
    }
   ],
   "source": [
    "str1='hello hai how are you'\n",
    "l1=str1.split()\n",
    "ans=[]\n",
    "for i in l1:\n",
    "    ans.append(i.capitalize())\n",
    "ans"
   ]
  },
  {
   "cell_type": "code",
   "execution_count": 7,
   "id": "4a6e87aa-98cb-467a-9984-af0888d2c238",
   "metadata": {},
   "outputs": [
    {
     "data": {
      "text/plain": [
       "'Hello Hai How Are You'"
      ]
     },
     "execution_count": 7,
     "metadata": {},
     "output_type": "execute_result"
    }
   ],
   "source": [
    "' '.join(ans)"
   ]
  },
  {
   "cell_type": "markdown",
   "id": "260adff2-0b7c-4aea-8445-f6115f813d3f",
   "metadata": {},
   "source": [
    "**Joining the list of elements**"
   ]
  },
  {
   "cell_type": "markdown",
   "id": "7b61091c-a77f-466b-9efc-d1db17ba9725",
   "metadata": {},
   "source": [
    "- we can convert string to list by using **string.split()**\n",
    "- we can convert list to string by using **join(list)**"
   ]
  },
  {
   "cell_type": "code",
   "execution_count": 9,
   "id": "e71ed565-ef7a-4fe8-bd45-e317d27243f9",
   "metadata": {},
   "outputs": [
    {
     "data": {
      "text/plain": [
       "'Hello Hai How Are You'"
      ]
     },
     "execution_count": 9,
     "metadata": {},
     "output_type": "execute_result"
    }
   ],
   "source": [
    "l1=['Hello', 'Hai', 'How', 'Are', 'You']\n",
    "str1=' '\n",
    "str1.join(l1)\n",
    "# ' '.join(l1)"
   ]
  },
  {
   "cell_type": "code",
   "execution_count": 13,
   "id": "d0a92429-00ed-4b14-b7d5-36e4e251ef25",
   "metadata": {},
   "outputs": [
    {
     "data": {
      "text/plain": [
       "(['virat', ' rohit', ' dhoni'],\n",
       " ['kohli', 'sharma', 'ms'],\n",
       " ['rcb', 'mi', 'csk'])"
      ]
     },
     "execution_count": 13,
     "metadata": {},
     "output_type": "execute_result"
    }
   ],
   "source": [
    "#Q9) str1='virat.kohli@rcb.com; rohit.sharma@mi.com; dhoni.ms@csk.com'\n",
    "#    fname=['virat','rohit','dhoni']\n",
    "#    sname=['kohli','sharma','ms']\n",
    "#    cname=['rcb','mi','csk']\n",
    "\n",
    "str1='virat.kohli@rcb.com; rohit.sharma@mi.com; dhoni.ms@csk.com'\n",
    "l1=str1.split(';')\n",
    "f_name,s_name,c_name=[],[],[]\n",
    "for i in l1:\n",
    "    first_dot=i.find('.')\n",
    "    second_dot=i.find('.',first_dot+1)\n",
    "    at_index=i.find('@')\n",
    "    f_name.append(i[:first_dot])\n",
    "    s_name.append(i[first_dot+1:at_index])\n",
    "    c_name.append(i[at_index+1:second_dot])\n",
    "\n",
    "f_name,s_name,c_name"
   ]
  },
  {
   "cell_type": "code",
   "execution_count": 27,
   "id": "1810d758-f9ed-4618-b1b7-35740153ec64",
   "metadata": {},
   "outputs": [
    {
     "name": "stdout",
     "output_type": "stream",
     "text": [
      "[85, 64, 32, 74, 17, 95, 43]\n",
      "max value is :95\n",
      "min value is :17\n"
     ]
    }
   ],
   "source": [
    "import random\n",
    "l1=[]\n",
    "for i in range(7):\n",
    "    n=random.randint(1,100)\n",
    "    l1.append(n)\n",
    "    \n",
    "max=l1[0]\n",
    "min=l1[0]\n",
    "for i in l1[1:]:\n",
    "    if i>max:\n",
    "        max=i\n",
    "        \n",
    "for i in l1[1:]:\n",
    "    if i<min:\n",
    "        min=i\n",
    "\n",
    "print(l1)\n",
    "print(f'max value is :{max}')\n",
    "print(f'min value is :{min}')"
   ]
  },
  {
   "cell_type": "markdown",
   "id": "e21f89e6-79cc-42c4-850a-49c06452cf64",
   "metadata": {},
   "source": [
    "- assume that first value is a max value\n",
    "- then iterate the loop from next value onwards\n",
    "- apply the condition if any value greater than assumed value\n",
    "- then replace max value with iterated value"
   ]
  },
  {
   "cell_type": "code",
   "execution_count": 28,
   "id": "ad1d3508-c968-4f34-a5b1-6e4180850e7c",
   "metadata": {},
   "outputs": [
    {
     "data": {
      "text/plain": [
       "95"
      ]
     },
     "execution_count": 28,
     "metadata": {},
     "output_type": "execute_result"
    }
   ],
   "source": [
    "max=l1[0]\n",
    "for i in l1[1:]:\n",
    "    if i>max:\n",
    "        max=i\n",
    "max"
   ]
  },
  {
   "cell_type": "code",
   "execution_count": 29,
   "id": "d9415cb2-9183-4b55-9cd4-07a941e40d96",
   "metadata": {},
   "outputs": [
    {
     "data": {
      "text/plain": [
       "17"
      ]
     },
     "execution_count": 29,
     "metadata": {},
     "output_type": "execute_result"
    }
   ],
   "source": [
    "min=l1[0]\n",
    "for i in l1[1:]:\n",
    "    if i<min:\n",
    "        min=i\n",
    "min"
   ]
  },
  {
   "cell_type": "code",
   "execution_count": 34,
   "id": "5e1082fc-9311-41e0-8651-c52967bfb0c0",
   "metadata": {},
   "outputs": [
    {
     "name": "stdout",
     "output_type": "stream",
     "text": [
      "['can', 'canner', 'can', 'not', 'can', 'you', 'canner', 'can', 'be', 'can', 'you', 'can', 'not']\n",
      "can 6\n",
      "canner 2\n",
      "not 2\n",
      "you 2\n",
      "be 1\n"
     ]
    }
   ],
   "source": [
    "str1='can canner can not can you canner can be can you can not'\n",
    "l=str1.split()\n",
    "print(l)\n",
    "l2=[]\n",
    "for i in l:\n",
    "    if i not in l2:\n",
    "        print(i,l.count(i))\n",
    "        l2.append(i)"
   ]
  },
  {
   "cell_type": "code",
   "execution_count": 41,
   "id": "ad416696-9ac3-4949-af49-459087c515ef",
   "metadata": {},
   "outputs": [
    {
     "name": "stdout",
     "output_type": "stream",
     "text": [
      "['can', 'canner', 'can', 'not', 'can', 'you', 'canner', 'can', 'be', 'can', 'you', 'can', 'not']\n"
     ]
    },
    {
     "data": {
      "text/plain": [
       "['can-6', 'canner-2', 'not-2', 'you-2', 'be-1']"
      ]
     },
     "execution_count": 41,
     "metadata": {},
     "output_type": "execute_result"
    }
   ],
   "source": [
    "str1='can canner can not can you canner can be can you can not'\n",
    "l=str1.split()\n",
    "print(l)\n",
    "l1=[]\n",
    "l2=[]\n",
    "for i in l:\n",
    "    if i not in l2:\n",
    "        l2.append(i)\n",
    "        l1.append(f'{i}-{l.count(i)}')\n",
    "l1      "
   ]
  },
  {
   "cell_type": "code",
   "execution_count": null,
   "id": "6e04554e-96c0-4473-a501-593679abd3ba",
   "metadata": {},
   "outputs": [],
   "source": [
    "# q12) qns= ['who is pm of india','who is ICT captain',\n",
    "#             'what is the capital of india']\n",
    "#      ans=['modi','rohit','delhi']\n",
    "#     step-1: iterate through each qn\n",
    "#     step-2: user will enter the answer\n",
    "#           check-1: the user given 'MODI' correct answer\n",
    "#           check-2: qn index and ans index should be\n",
    "#    step-3: count_marks=0 at the top\n",
    "#    step-4:  for every correct answer 1 marks\n",
    "#    step-5: how many correct answers and how many marks\n"
   ]
  },
  {
   "cell_type": "code",
   "execution_count": 49,
   "id": "c2b3ad4c-494f-4bda-9eca-07f331c91ad2",
   "metadata": {},
   "outputs": [],
   "source": [
    "qns= ['who is pm of india','who is ICT captain','what is the capital of india']\n",
    "ans=['modi','rohit','delhi']\n",
    "# count=0\n",
    "# for i in qns:\n",
    "#     ANSWER=input(qns[i])\n",
    "#     if ANSWER.lower()==ans.lower():\n",
    "#         count+=1\n",
    "# print(f'the total correct answers:{count}')"
   ]
  },
  {
   "cell_type": "markdown",
   "id": "7fe04093-50dd-4e0d-9b4c-dd2165a82af6",
   "metadata": {},
   "source": [
    "**pop vs remove**"
   ]
  },
  {
   "cell_type": "code",
   "execution_count": 48,
   "id": "cd0ec20c-167d-4eb9-9976-2e4bcf3e0fde",
   "metadata": {},
   "outputs": [],
   "source": [
    "l=[100,200,300,'A','B','C']"
   ]
  },
  {
   "cell_type": "code",
   "execution_count": 51,
   "id": "0eaa9a9a-9785-4960-9740-5b99bf1f6ec1",
   "metadata": {},
   "outputs": [
    {
     "data": {
      "text/plain": [
       "300"
      ]
     },
     "execution_count": 51,
     "metadata": {},
     "output_type": "execute_result"
    }
   ],
   "source": [
    "l.pop(2)\n",
    "# pop will remove the element based on index\n",
    "# if we dont give index by default it will remove last value\n"
   ]
  },
  {
   "cell_type": "code",
   "execution_count": 52,
   "id": "3e76b2e8-3963-4587-8ea8-00b56dfd03a1",
   "metadata": {},
   "outputs": [
    {
     "ename": "IndexError",
     "evalue": "pop index out of range",
     "output_type": "error",
     "traceback": [
      "\u001b[1;31m---------------------------------------------------------------------------\u001b[0m",
      "\u001b[1;31mIndexError\u001b[0m                                Traceback (most recent call last)",
      "Cell \u001b[1;32mIn[52], line 1\u001b[0m\n\u001b[1;32m----> 1\u001b[0m l\u001b[38;5;241m.\u001b[39mpop(\u001b[38;5;241m200\u001b[39m)\n",
      "\u001b[1;31mIndexError\u001b[0m: pop index out of range"
     ]
    }
   ],
   "source": [
    "l.pop(200)"
   ]
  },
  {
   "cell_type": "code",
   "execution_count": 58,
   "id": "d73b686d-d89a-4ba0-a96f-e23d78d5322a",
   "metadata": {},
   "outputs": [
    {
     "data": {
      "text/plain": [
       "[200, 300, 'A', 'B', 'C']"
      ]
     },
     "execution_count": 58,
     "metadata": {},
     "output_type": "execute_result"
    }
   ],
   "source": [
    "l=[100,200,300,'A','B','C']\n",
    "l.remove(100)\n",
    "l"
   ]
  },
  {
   "cell_type": "markdown",
   "id": "2fc09643-930a-4330-8778-0a819dee4bd5",
   "metadata": {},
   "source": [
    "- pop expect a **index value** \n",
    "- remove expect a **value**"
   ]
  },
  {
   "cell_type": "code",
   "execution_count": 60,
   "id": "5e64f222-3d89-40ed-b2fd-f23e8fc421f4",
   "metadata": {},
   "outputs": [
    {
     "data": {
      "text/plain": [
       "100"
      ]
     },
     "execution_count": 60,
     "metadata": {},
     "output_type": "execute_result"
    }
   ],
   "source": [
    "l=[100,200,300,100,100,'A','B','C']\n",
    "l.pop(3)"
   ]
  },
  {
   "cell_type": "code",
   "execution_count": 61,
   "id": "82ffed97-994a-4bed-8de1-7ee8e0491f83",
   "metadata": {},
   "outputs": [
    {
     "data": {
      "text/plain": [
       "['__add__',\n",
       " '__class__',\n",
       " '__class_getitem__',\n",
       " '__contains__',\n",
       " '__delattr__',\n",
       " '__delitem__',\n",
       " '__dir__',\n",
       " '__doc__',\n",
       " '__eq__',\n",
       " '__format__',\n",
       " '__ge__',\n",
       " '__getattribute__',\n",
       " '__getitem__',\n",
       " '__getstate__',\n",
       " '__gt__',\n",
       " '__hash__',\n",
       " '__iadd__',\n",
       " '__imul__',\n",
       " '__init__',\n",
       " '__init_subclass__',\n",
       " '__iter__',\n",
       " '__le__',\n",
       " '__len__',\n",
       " '__lt__',\n",
       " '__mul__',\n",
       " '__ne__',\n",
       " '__new__',\n",
       " '__reduce__',\n",
       " '__reduce_ex__',\n",
       " '__repr__',\n",
       " '__reversed__',\n",
       " '__rmul__',\n",
       " '__setattr__',\n",
       " '__setitem__',\n",
       " '__sizeof__',\n",
       " '__str__',\n",
       " '__subclasshook__',\n",
       " 'append',\n",
       " 'clear',\n",
       " 'copy',\n",
       " 'count',\n",
       " 'extend',\n",
       " 'index',\n",
       " 'insert',\n",
       " 'pop',\n",
       " 'remove',\n",
       " 'reverse',\n",
       " 'sort']"
      ]
     },
     "execution_count": 61,
     "metadata": {},
     "output_type": "execute_result"
    }
   ],
   "source": [
    "dir(list)"
   ]
  },
  {
   "cell_type": "markdown",
   "id": "849708e8-9864-4f1d-b6d7-7c3f1e6b0f7d",
   "metadata": {},
   "source": [
    "**index**"
   ]
  },
  {
   "cell_type": "code",
   "execution_count": null,
   "id": "fcbba215-895c-4c4e-82f2-4c41c40d647a",
   "metadata": {},
   "outputs": [],
   "source": [
    "l=[100,200,300,100,100,'A','B','C']\n",
    "\n",
    "# pop is correct ans\n",
    "# pop wants a index\n",
    "# here only 8 elements are there, so we are able to count\n",
    "# imagine that there 80k elements so we are not able to count\n",
    "# python code should give the answer automatically\n",
    "# for that "
   ]
  },
  {
   "cell_type": "code",
   "execution_count": 63,
   "id": "698a7c1a-593a-41b3-890f-fa44cacd0f6e",
   "metadata": {},
   "outputs": [
    {
     "data": {
      "text/plain": [
       "[100, 200, 300, 100, 'A', 'B', 'C']"
      ]
     },
     "execution_count": 63,
     "metadata": {},
     "output_type": "execute_result"
    }
   ],
   "source": [
    "l=[100,200,300,100,100,'A','B','C']\n",
    "i1=l.index(100)\n",
    "i2=l.index(100,i1+1)\n",
    "l.pop(i2)\n",
    "l"
   ]
  },
  {
   "cell_type": "code",
   "execution_count": 64,
   "id": "87e9e072-d530-482a-88c7-bbfbad238ca1",
   "metadata": {},
   "outputs": [
    {
     "data": {
      "text/plain": [
       "['__add__',\n",
       " '__class__',\n",
       " '__class_getitem__',\n",
       " '__contains__',\n",
       " '__delattr__',\n",
       " '__dir__',\n",
       " '__doc__',\n",
       " '__eq__',\n",
       " '__format__',\n",
       " '__ge__',\n",
       " '__getattribute__',\n",
       " '__getitem__',\n",
       " '__getnewargs__',\n",
       " '__getstate__',\n",
       " '__gt__',\n",
       " '__hash__',\n",
       " '__init__',\n",
       " '__init_subclass__',\n",
       " '__iter__',\n",
       " '__le__',\n",
       " '__len__',\n",
       " '__lt__',\n",
       " '__mul__',\n",
       " '__ne__',\n",
       " '__new__',\n",
       " '__reduce__',\n",
       " '__reduce_ex__',\n",
       " '__repr__',\n",
       " '__rmul__',\n",
       " '__setattr__',\n",
       " '__sizeof__',\n",
       " '__str__',\n",
       " '__subclasshook__',\n",
       " 'count',\n",
       " 'index']"
      ]
     },
     "execution_count": 64,
     "metadata": {},
     "output_type": "execute_result"
    }
   ],
   "source": [
    "dir(())"
   ]
  },
  {
   "cell_type": "markdown",
   "id": "9f18705d-fa3c-41ec-845e-4b54ee81cb98",
   "metadata": {},
   "source": [
    "**Extend**\n",
    "\n",
    "- differance btween concatanation vs append vs extend"
   ]
  },
  {
   "cell_type": "code",
   "execution_count": 13,
   "id": "8cc0481d-6d54-4a02-965d-ba70480c5799",
   "metadata": {},
   "outputs": [
    {
     "data": {
      "text/plain": [
       "['a', 'b', [1, 2, 3, 4]]"
      ]
     },
     "execution_count": 13,
     "metadata": {},
     "output_type": "execute_result"
    }
   ],
   "source": [
    "l1=['a','b']\n",
    "l2=[1,2,3,4]\n",
    "l1.append(l2)\n",
    "l1"
   ]
  },
  {
   "cell_type": "code",
   "execution_count": 14,
   "id": "67dc1239-1f68-4379-8e79-fb56f67b8555",
   "metadata": {},
   "outputs": [
    {
     "data": {
      "text/plain": [
       "['a', 'b', 1, 2, 3, 4]"
      ]
     },
     "execution_count": 14,
     "metadata": {},
     "output_type": "execute_result"
    }
   ],
   "source": [
    "l1=['a','b']\n",
    "l2=[1,2,3,4]\n",
    "l1.extend(l2)\n",
    "l1"
   ]
  },
  {
   "cell_type": "code",
   "execution_count": 12,
   "id": "7ca5cd3f-6423-47f2-9f31-f33141b3f591",
   "metadata": {},
   "outputs": [
    {
     "data": {
      "text/plain": [
       "[10, 1, 2, 3, 4, 'g', 'b', 'j']"
      ]
     },
     "execution_count": 12,
     "metadata": {},
     "output_type": "execute_result"
    }
   ],
   "source": [
    "l1+l2"
   ]
  },
  {
   "cell_type": "markdown",
   "id": "69d1ed74-6e24-49be-9b8f-5cafa5ad6623",
   "metadata": {},
   "source": [
    "- extend and concatenation both has same behaviour\n",
    "- means add the 2 lists\n",
    "- but extend will overwrite the list\n",
    "  "
   ]
  },
  {
   "cell_type": "markdown",
   "id": "78687647-66a8-43ff-98b2-4284b5f9cc71",
   "metadata": {},
   "source": [
    "**insert**\n",
    "\n",
    "- difff btn insert and append"
   ]
  },
  {
   "cell_type": "code",
   "execution_count": 21,
   "id": "8e8951aa-35e4-4e2e-9e9c-a78f86b74e62",
   "metadata": {},
   "outputs": [
    {
     "data": {
      "text/plain": [
       "['a', 'b', 10]"
      ]
     },
     "execution_count": 21,
     "metadata": {},
     "output_type": "execute_result"
    }
   ],
   "source": [
    "l1=['a','b']\n",
    "l1.append(10)\n",
    "l1\n"
   ]
  },
  {
   "cell_type": "code",
   "execution_count": 23,
   "id": "5f186030-5ae2-41df-924b-6755a25eff82",
   "metadata": {},
   "outputs": [
    {
     "data": {
      "text/plain": [
       "['a', 'a', 'b']"
      ]
     },
     "execution_count": 23,
     "metadata": {},
     "output_type": "execute_result"
    }
   ],
   "source": [
    "l1=['a','b']\n",
    "l1.insert(1,'a')\n",
    "l1"
   ]
  },
  {
   "cell_type": "code",
   "execution_count": 28,
   "id": "988bb878-4fd2-4691-9af6-78e7bbcbd496",
   "metadata": {},
   "outputs": [
    {
     "data": {
      "text/plain": [
       "[1, 2, 3, 'A', 1000, 'B', 'C']"
      ]
     },
     "execution_count": 28,
     "metadata": {},
     "output_type": "execute_result"
    }
   ],
   "source": [
    "l=[1,2,3,'A','B','C']\n",
    "i1=l.index('B')\n",
    "l.insert(i1,1000)\n",
    "l"
   ]
  },
  {
   "cell_type": "code",
   "execution_count": 38,
   "id": "d492ac8e-ae1d-491d-85df-76e8f58147b7",
   "metadata": {},
   "outputs": [
    {
     "data": {
      "text/plain": [
       "[110, 220, 330]"
      ]
     },
     "execution_count": 38,
     "metadata": {},
     "output_type": "execute_result"
    }
   ],
   "source": [
    "l1=[100,200,300]\n",
    "l2=[10,20,30]\n",
    "ans=[]\n",
    "for i in range(len(l1)):\n",
    "       ans.append(l1[i]+l2[i])\n",
    "    \n",
    "ans        "
   ]
  },
  {
   "cell_type": "code",
   "execution_count": 48,
   "id": "5fd726ef-fd67-4d39-92e9-85cff9c70c2d",
   "metadata": {},
   "outputs": [
    {
     "data": {
      "text/plain": [
       "[110, 220, 330, 400]"
      ]
     },
     "execution_count": 48,
     "metadata": {},
     "output_type": "execute_result"
    }
   ],
   "source": [
    "l1=[100,200,300,400]\n",
    "l2=[10,20,30]\n",
    "ans=[]\n",
    "for i in range(len(l1)):\n",
    "    if i<len(l2):\n",
    "        ans.append(l1[i]+l2[i])\n",
    "    else:\n",
    "        ans.append(l1[i])\n",
    "ans "
   ]
  },
  {
   "cell_type": "markdown",
   "id": "1658ec80-30d2-4d86-b9df-286867912d7d",
   "metadata": {},
   "source": [
    "**distance between 2 points**"
   ]
  },
  {
   "cell_type": "code",
   "execution_count": 56,
   "id": "d6f874a6-5ec5-4dd5-ba8f-b61055a49e11",
   "metadata": {},
   "outputs": [
    {
     "data": {
      "text/plain": [
       "4.47213595499958"
      ]
     },
     "execution_count": 56,
     "metadata": {},
     "output_type": "execute_result"
    }
   ],
   "source": [
    "# d=root([x2-x1]**2+[y2-y1]**2)\n",
    "import math\n",
    "l1=[2,4]\n",
    "l2=[5,9]\n",
    "x1=l1[0]\n",
    "y1=l2[0]\n",
    "x2=l1[1]\n",
    "y2=l2[1]\n",
    "d1=(x2-x1)\n",
    "d2=(y2-y1)\n",
    "d=d1**2+d2**2\n",
    "math.sqrt(d)"
   ]
  },
  {
   "cell_type": "code",
   "execution_count": 58,
   "id": "248ca327-6f8b-40f8-906d-1fef96c039e2",
   "metadata": {},
   "outputs": [
    {
     "name": "stdout",
     "output_type": "stream",
     "text": [
      "7.211102550927978\n",
      "2.23606797749979\n",
      "4.242640687119285\n",
      "7.211102550927978\n"
     ]
    }
   ],
   "source": [
    "a=[(1,3),(7,8),(2,6),(9,3)]\n",
    "b=(5,9)\n",
    "for p in a:\n",
    "    print(math.sqrt((b[0]-p[0])**2+(b[1]-p[1])**2))"
   ]
  },
  {
   "cell_type": "code",
   "execution_count": null,
   "id": "1ab8c67e-1a81-43ad-8c69-9914236af893",
   "metadata": {},
   "outputs": [],
   "source": [
    "a=[(1,3),(7,8),(2,6),(9,3),(2,9),(10,12)]\n",
    "for i in a:\n",
    "    for  in a[1:]:\n",
    "        \n",
    "    \n"
   ]
  }
 ],
 "metadata": {
  "kernelspec": {
   "display_name": "Python 3 (ipykernel)",
   "language": "python",
   "name": "python3"
  },
  "language_info": {
   "codemirror_mode": {
    "name": "ipython",
    "version": 3
   },
   "file_extension": ".py",
   "mimetype": "text/x-python",
   "name": "python",
   "nbconvert_exporter": "python",
   "pygments_lexer": "ipython3",
   "version": "3.12.4"
  }
 },
 "nbformat": 4,
 "nbformat_minor": 5
}
