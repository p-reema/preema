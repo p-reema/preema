{
 "cells": [
  {
   "cell_type": "code",
   "execution_count": 1,
   "id": "1197d516-2e15-47e9-84b3-d80187bd284c",
   "metadata": {},
   "outputs": [
    {
     "data": {
      "text/plain": [
       "100"
      ]
     },
     "execution_count": 1,
     "metadata": {},
     "output_type": "execute_result"
    }
   ],
   "source": [
    "def mul(a):\n",
    "    return(a*a)\n",
    "\n",
    "ans=mul(10)\n",
    "ans"
   ]
  },
  {
   "cell_type": "markdown",
   "id": "a4020262-6aca-4765-aff4-b2ca84496fa1",
   "metadata": {},
   "source": [
    "- lambda is a keyword used to write a fn in a single line\n",
    "- in list comprehwnsion we will write in single line\n",
    "- it is same analogy\n",
    "- it will reduse the time complexity"
   ]
  },
  {
   "cell_type": "markdown",
   "id": "c12ae5d5-1213-4af1-91ba-6fb075525c11",
   "metadata": {},
   "source": [
    "**pattern-1**\n",
    "\n",
    "- fn with one argument"
   ]
  },
  {
   "cell_type": "code",
   "execution_count": 6,
   "id": "537903f0-9fff-433a-a5ff-ff73b434e8af",
   "metadata": {},
   "outputs": [
    {
     "data": {
      "text/plain": [
       "100"
      ]
     },
     "execution_count": 6,
     "metadata": {},
     "output_type": "execute_result"
    }
   ],
   "source": [
    "mul=lambda a : a*a\n",
    "mul(10)"
   ]
  },
  {
   "cell_type": "code",
   "execution_count": 7,
   "id": "d82971be-6173-4645-b940-7b72337c24a9",
   "metadata": {},
   "outputs": [
    {
     "data": {
      "text/plain": [
       "1000"
      ]
     },
     "execution_count": 7,
     "metadata": {},
     "output_type": "execute_result"
    }
   ],
   "source": [
    "cube=lambda x:x**3\n",
    "cube(10)"
   ]
  },
  {
   "cell_type": "markdown",
   "id": "8f70a9cf-44b4-42c2-a760-81dbde93fa4c",
   "metadata": {},
   "source": [
    "**pattern-2**\n",
    "\n",
    "- function with 2 arguments\n",
    "- fn name= lambda arg1,arg2:return(output)"
   ]
  },
  {
   "cell_type": "code",
   "execution_count": 10,
   "id": "e4c06d36-4357-48d3-94cc-0aa40f5aac8d",
   "metadata": {},
   "outputs": [
    {
     "data": {
      "text/plain": [
       "500"
      ]
     },
     "execution_count": 10,
     "metadata": {},
     "output_type": "execute_result"
    }
   ],
   "source": [
    "add=lambda a,b: a+b\n",
    "add(200,300)"
   ]
  },
  {
   "cell_type": "code",
   "execution_count": 12,
   "id": "774df19a-5c54-4588-afb6-3e6ae265d82d",
   "metadata": {},
   "outputs": [
    {
     "data": {
      "text/plain": [
       "20.0"
      ]
     },
     "execution_count": 12,
     "metadata": {},
     "output_type": "execute_result"
    }
   ],
   "source": [
    "avg=lambda a,b,c: round((a+b+c)/3,2)\n",
    "avg(10,20,30)"
   ]
  },
  {
   "cell_type": "markdown",
   "id": "bae3e338-c098-42da-b029-d3444152067a",
   "metadata": {},
   "source": [
    "**pattern-3:default argument**"
   ]
  },
  {
   "cell_type": "code",
   "execution_count": 14,
   "id": "4f103fa1-f043-47cc-9728-fbe9e45b7ef5",
   "metadata": {},
   "outputs": [
    {
     "data": {
      "text/plain": [
       "20.0"
      ]
     },
     "execution_count": 14,
     "metadata": {},
     "output_type": "execute_result"
    }
   ],
   "source": [
    "avg=lambda a,b,c=10: round((a+b+c)/3,2)\n",
    "avg(20,30)"
   ]
  },
  {
   "cell_type": "markdown",
   "id": "e043ebd3-f971-4a51-860e-301420a05ff1",
   "metadata": {},
   "source": [
    "**pattern-4:if else**"
   ]
  },
  {
   "cell_type": "code",
   "execution_count": 15,
   "id": "6381d0f8-7c02-42c2-8a35-b5dbcf521c28",
   "metadata": {},
   "outputs": [
    {
     "data": {
      "text/plain": [
       "20"
      ]
     },
     "execution_count": 15,
     "metadata": {},
     "output_type": "execute_result"
    }
   ],
   "source": [
    "max=lambda a,b: a if a>b else b #fn name=lambda arg1,arg2: ifout if con else elsecon\n",
    "max(10,20)"
   ]
  },
  {
   "cell_type": "markdown",
   "id": "569c229a-6b84-4ac0-bba5-ae7b5457a267",
   "metadata": {},
   "source": [
    "**pattern-5:list cases**"
   ]
  },
  {
   "cell_type": "code",
   "execution_count": 17,
   "id": "583e2354-0c21-49a1-acfe-7d253053caa3",
   "metadata": {},
   "outputs": [],
   "source": [
    "l1=['hyd','mumbai','pune']"
   ]
  },
  {
   "cell_type": "code",
   "execution_count": null,
   "id": "6f4dedc9-77cf-40d4-980b-756631cb3cd3",
   "metadata": {},
   "outputs": [],
   "source": [
    "lambda <var>: <op>,<iterator>"
   ]
  },
  {
   "cell_type": "code",
   "execution_count": 18,
   "id": "1af4f7c9-cc23-4dae-b8da-1d6ef9cb2d8e",
   "metadata": {},
   "outputs": [
    {
     "data": {
      "text/plain": [
       "(<function __main__.<lambda>(i)>, ['hyd', 'mumbai', 'pune'])"
      ]
     },
     "execution_count": 18,
     "metadata": {},
     "output_type": "execute_result"
    }
   ],
   "source": [
    "lambda i: i.capitalize(),l1"
   ]
  },
  {
   "cell_type": "code",
   "execution_count": 19,
   "id": "a63025f8-cbf1-4410-b878-b725293936ce",
   "metadata": {},
   "outputs": [
    {
     "data": {
      "text/plain": [
       "(<function __main__.<lambda>(i)>, ['hyd', 'mumbai', 'pune'])"
      ]
     },
     "execution_count": 19,
     "metadata": {},
     "output_type": "execute_result"
    }
   ],
   "source": [
    "lambda i: i.capitalize() # step 1\n",
    "lambda i: i.capitalize(),l1 # step 2"
   ]
  },
  {
   "cell_type": "markdown",
   "id": "0ccf0c83-4c04-4424-9a23-e9279bf03b86",
   "metadata": {},
   "source": [
    "**map**\n",
    "\n",
    "- map is used to combine the fn and iterator"
   ]
  },
  {
   "cell_type": "code",
   "execution_count": 20,
   "id": "38ee715c-b140-4583-bce8-098743d46c73",
   "metadata": {},
   "outputs": [
    {
     "data": {
      "text/plain": [
       "<map at 0x232204756f0>"
      ]
     },
     "execution_count": 20,
     "metadata": {},
     "output_type": "execute_result"
    }
   ],
   "source": [
    "# map(lambda <var>: <op>,<iterator>)\n",
    "map(lambda i: i.capitalize(),l1)"
   ]
  },
  {
   "cell_type": "code",
   "execution_count": 22,
   "id": "c315d7f9-c193-4787-97c7-44ce68c68aa1",
   "metadata": {},
   "outputs": [
    {
     "data": {
      "text/plain": [
       "['Hyd', 'Mumbai', 'Pune']"
      ]
     },
     "execution_count": 22,
     "metadata": {},
     "output_type": "execute_result"
    }
   ],
   "source": [
    "# step-4:when we apply the output will store at address\n",
    "# so apply the list or tuple to see the ans\n",
    "# list(map(lambda <var>: <op>,<iterator>))\n",
    "\n",
    "\n",
    "list(map(lambda i: i.capitalize(),l1))"
   ]
  },
  {
   "cell_type": "code",
   "execution_count": null,
   "id": "326a7eab-9071-4b59-8c60-c477f6c36783",
   "metadata": {},
   "outputs": [],
   "source": [
    "# lambda <var>: <op>\n",
    "# lambda <var>: <op>,<iterator>\n",
    "# map(lambda <var>: <op>,<iterator>)\n",
    "# list(map(lambda <var>: <op>,<iterator>))"
   ]
  },
  {
   "cell_type": "code",
   "execution_count": null,
   "id": "1b61353f-e1a1-4403-b0b9-e0ed6f27634a",
   "metadata": {},
   "outputs": [],
   "source": [
    "lambda i: i.capitalize()\n",
    "lambda i: i.capitalize(),l1\n",
    "map(lambda i: i.capitalize(),l1)\n",
    "list(map(lambda i: i.capitalize(),l1))"
   ]
  },
  {
   "cell_type": "code",
   "execution_count": 23,
   "id": "74f8b9f5-b2e2-4809-a1fb-a1e904912247",
   "metadata": {},
   "outputs": [
    {
     "data": {
      "text/plain": [
       "['HYD', 'CHENNAI', 'MUMBAI', 'PUNE']"
      ]
     },
     "execution_count": 23,
     "metadata": {},
     "output_type": "execute_result"
    }
   ],
   "source": [
    "l1=['hyd','chennai','mumbai','pune']\n",
    "list(map(lambda i: i.upper(),l1))"
   ]
  },
  {
   "cell_type": "code",
   "execution_count": 37,
   "id": "9369777a-d3a5-4269-a65b-ca687dbc58a8",
   "metadata": {},
   "outputs": [
    {
     "data": {
      "text/plain": [
       "[0, 10, 20, 30]"
      ]
     },
     "execution_count": 37,
     "metadata": {},
     "output_type": "execute_result"
    }
   ],
   "source": [
    "l1=['hyd','chennai','mumbai','pune']\n",
    "list(map(lambda i: l1.index(i)*10,l1))"
   ]
  },
  {
   "cell_type": "code",
   "execution_count": 43,
   "id": "2df8300b-10b4-4c01-910f-c213ee51425c",
   "metadata": {},
   "outputs": [
    {
     "data": {
      "text/plain": [
       "['Hello', 'How', 'Are', 'You']"
      ]
     },
     "execution_count": 43,
     "metadata": {},
     "output_type": "execute_result"
    }
   ],
   "source": [
    "s1=('hello how are you')\n",
    "list(map(lambda i : i.title(),s1.split()))"
   ]
  },
  {
   "cell_type": "code",
   "execution_count": 48,
   "id": "8fe246c2-f965-4b31-92ee-7e6ee216f63b",
   "metadata": {},
   "outputs": [
    {
     "data": {
      "text/plain": [
       "[False, True, True, False]"
      ]
     },
     "execution_count": 48,
     "metadata": {},
     "output_type": "execute_result"
    }
   ],
   "source": [
    "l1=['hyd','chen#ai','mu#bai','pune']\n",
    "list(map(lambda i :'#' in i,l1))\n"
   ]
  },
  {
   "cell_type": "markdown",
   "id": "780a03fe-7dec-47a7-a9c2-f3b2376c96f1",
   "metadata": {},
   "source": [
    "**Filter**\n",
    "\n",
    "- whenever condition statements\n",
    "- which means we are filtering the ans based on condition\n",
    "- map will give boolean outputs\n",
    "- t or f will convert into true ans by applying filter only"
   ]
  },
  {
   "cell_type": "code",
   "execution_count": 49,
   "id": "a38a4cff-942d-4c0d-80e3-62fb24897908",
   "metadata": {},
   "outputs": [
    {
     "data": {
      "text/plain": [
       "['chen#ai', 'mu#bai']"
      ]
     },
     "execution_count": 49,
     "metadata": {},
     "output_type": "execute_result"
    }
   ],
   "source": [
    "l1=['hyd','chen#ai','mu#bai','pune']\n",
    "list(filter(lambda i :'#' in i,l1))"
   ]
  },
  {
   "cell_type": "code",
   "execution_count": 50,
   "id": "12d65874-33c1-4b80-9871-ed75f8914236",
   "metadata": {},
   "outputs": [
    {
     "data": {
      "text/plain": [
       "['hyd', 'pune']"
      ]
     },
     "execution_count": 50,
     "metadata": {},
     "output_type": "execute_result"
    }
   ],
   "source": [
    "l1=['hyd','chen#ai','mu#bai','pune']\n",
    "list(filter(lambda i :'#' not in i,l1))"
   ]
  },
  {
   "cell_type": "code",
   "execution_count": null,
   "id": "616b8f6a-f5f9-42a1-baa3-982ba51ca7e2",
   "metadata": {},
   "outputs": [],
   "source": [
    "# l1=[1,2,3,4,5]\n",
    "# summ=0\n",
    "# list(filter(lambda summ: i in l1,l1))"
   ]
  },
  {
   "cell_type": "markdown",
   "id": "48a716ce-3e03-4db5-a33d-3757d3d7f6f5",
   "metadata": {},
   "source": [
    "**reduce**\n",
    "\n",
    "- reduuce is a method to write all inbuilt fn using lambda method\n",
    "- it is available ina package called **func tools**\n",
    "\n",
    "- level-1: reduce(lambda i: sum+i,list1)\n",
    "- level-2: reduce(lambda i: sum+i,list1,value)\n",
    "- in level-1 by default\n",
    "- in level-2 the sum starts with some value"
   ]
  },
  {
   "cell_type": "code",
   "execution_count": 51,
   "id": "7b2c87df-afe8-4abe-b213-53af61bbd53a",
   "metadata": {},
   "outputs": [],
   "source": [
    "import functools\n"
   ]
  },
  {
   "cell_type": "code",
   "execution_count": 52,
   "id": "fdfe427c-38b9-4f52-86a2-31267554aae8",
   "metadata": {},
   "outputs": [
    {
     "data": {
      "text/plain": [
       "['GenericAlias',\n",
       " 'RLock',\n",
       " 'WRAPPER_ASSIGNMENTS',\n",
       " 'WRAPPER_UPDATES',\n",
       " '_CacheInfo',\n",
       " '_HashedSeq',\n",
       " '_NOT_FOUND',\n",
       " '__all__',\n",
       " '__builtins__',\n",
       " '__cached__',\n",
       " '__doc__',\n",
       " '__file__',\n",
       " '__loader__',\n",
       " '__name__',\n",
       " '__package__',\n",
       " '__spec__',\n",
       " '_c3_merge',\n",
       " '_c3_mro',\n",
       " '_compose_mro',\n",
       " '_convert',\n",
       " '_find_impl',\n",
       " '_ge_from_gt',\n",
       " '_ge_from_le',\n",
       " '_ge_from_lt',\n",
       " '_gt_from_ge',\n",
       " '_gt_from_le',\n",
       " '_gt_from_lt',\n",
       " '_initial_missing',\n",
       " '_le_from_ge',\n",
       " '_le_from_gt',\n",
       " '_le_from_lt',\n",
       " '_lru_cache_wrapper',\n",
       " '_lt_from_ge',\n",
       " '_lt_from_gt',\n",
       " '_lt_from_le',\n",
       " '_make_key',\n",
       " '_unwrap_partial',\n",
       " 'cache',\n",
       " 'cached_property',\n",
       " 'cmp_to_key',\n",
       " 'get_cache_token',\n",
       " 'lru_cache',\n",
       " 'namedtuple',\n",
       " 'partial',\n",
       " 'partialmethod',\n",
       " 'recursive_repr',\n",
       " 'reduce',\n",
       " 'singledispatch',\n",
       " 'singledispatchmethod',\n",
       " 'total_ordering',\n",
       " 'update_wrapper',\n",
       " 'wraps']"
      ]
     },
     "execution_count": 52,
     "metadata": {},
     "output_type": "execute_result"
    }
   ],
   "source": [
    "dir(functools)"
   ]
  },
  {
   "cell_type": "code",
   "execution_count": 56,
   "id": "d961d40b-19a0-4c3e-a536-0cf72f6edbfc",
   "metadata": {},
   "outputs": [
    {
     "data": {
      "text/plain": [
       "15"
      ]
     },
     "execution_count": 56,
     "metadata": {},
     "output_type": "execute_result"
    }
   ],
   "source": [
    "import functools\n",
    "l1=[1,2,3,4,5]\n",
    "functools.reduce(lambda summ,i: summ+i,l1)"
   ]
  },
  {
   "cell_type": "code",
   "execution_count": 57,
   "id": "d014c755-707d-4258-aa19-1e05f1a9d035",
   "metadata": {},
   "outputs": [
    {
     "data": {
      "text/plain": [
       "215"
      ]
     },
     "execution_count": 57,
     "metadata": {},
     "output_type": "execute_result"
    }
   ],
   "source": [
    "import functools\n",
    "l1=[1,2,3,4,5]\n",
    "functools.reduce(lambda summ,i: summ+i,l1,200)"
   ]
  },
  {
   "cell_type": "code",
   "execution_count": 58,
   "id": "02fcfb43-9f2b-49b6-a02b-5f05152db988",
   "metadata": {},
   "outputs": [
    {
     "data": {
      "text/plain": [
       "120"
      ]
     },
     "execution_count": 58,
     "metadata": {},
     "output_type": "execute_result"
    }
   ],
   "source": [
    "import functools\n",
    "l1=[1,2,3,4,5]\n",
    "functools.reduce(lambda val,i: val*i,l1)"
   ]
  },
  {
   "cell_type": "code",
   "execution_count": 59,
   "id": "747b39e0-ee1f-481e-a6a1-c84539ce9851",
   "metadata": {},
   "outputs": [
    {
     "data": {
      "text/plain": [
       "120"
      ]
     },
     "execution_count": 59,
     "metadata": {},
     "output_type": "execute_result"
    }
   ],
   "source": [
    "from functools import reduce\n",
    "l1=[1,2,3,4,5]\n",
    "reduce(lambda val,i: val*i,l1)"
   ]
  },
  {
   "cell_type": "code",
   "execution_count": 60,
   "id": "b8524565-91b9-4cb3-8b79-b977d969f44c",
   "metadata": {},
   "outputs": [
    {
     "data": {
      "text/plain": [
       "120"
      ]
     },
     "execution_count": 60,
     "metadata": {},
     "output_type": "execute_result"
    }
   ],
   "source": [
    "import functools as ft\n",
    "l1=[1,2,3,4,5]\n",
    "ft.reduce(lambda val,i: val*i,l1)"
   ]
  },
  {
   "cell_type": "code",
   "execution_count": null,
   "id": "1a4985ba-a14e-4940-93f5-667f12961dac",
   "metadata": {},
   "outputs": [],
   "source": []
  }
 ],
 "metadata": {
  "kernelspec": {
   "display_name": "Python 3 (ipykernel)",
   "language": "python",
   "name": "python3"
  },
  "language_info": {
   "codemirror_mode": {
    "name": "ipython",
    "version": 3
   },
   "file_extension": ".py",
   "mimetype": "text/x-python",
   "name": "python",
   "nbconvert_exporter": "python",
   "pygments_lexer": "ipython3",
   "version": "3.12.4"
  }
 },
 "nbformat": 4,
 "nbformat_minor": 5
}
