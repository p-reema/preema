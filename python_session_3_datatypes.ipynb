{
 "cells": [
  {
   "cell_type": "markdown",
   "id": "407a7cd4-b7d8-493f-becc-6897e1fe19b2",
   "metadata": {},
   "source": [
    "## DATA TYPES"
   ]
  },
  {
   "cell_type": "markdown",
   "id": "b1056de6-af98-42ac-b518-be7dfce25310",
   "metadata": {},
   "source": [
    "- python can say data type of the value without initializing..\n",
    "- which means the data types automatically considered.\n",
    "\n",
    "- python has some inbuilt data types:\n",
    "- int\n",
    "- string\n",
    "- float\n",
    "- double\n",
    "- boolean\n",
    "- complex\n",
    "- list\n",
    "- tuple\n",
    "- dictionary\n",
    "- set\n",
    "- frozenset\n",
    "- bytes\n",
    "- bytearray\n",
    "- memoryview"
   ]
  },
  {
   "cell_type": "markdown",
   "id": "bd1eaf53-9588-49df-acfe-43d5e77c7731",
   "metadata": {},
   "source": [
    "**integer**"
   ]
  },
  {
   "cell_type": "code",
   "execution_count": 2,
   "id": "f926e612-7ec8-4c30-9884-bfb84082d8fe",
   "metadata": {},
   "outputs": [
    {
     "data": {
      "text/plain": [
       "int"
      ]
     },
     "execution_count": 2,
     "metadata": {},
     "output_type": "execute_result"
    }
   ],
   "source": [
    "num=100\n",
    "type(num)"
   ]
  },
  {
   "cell_type": "code",
   "execution_count": 3,
   "id": "1914fd3f-b894-47bc-bda2-24e3111a050f",
   "metadata": {},
   "outputs": [
    {
     "name": "stdout",
     "output_type": "stream",
     "text": [
      "100\n"
     ]
    }
   ],
   "source": [
    "print(num)"
   ]
  },
  {
   "cell_type": "markdown",
   "id": "7eaec962-56be-4a42-b5cc-7bda77afb541",
   "metadata": {},
   "source": [
    "#### Binary number system (0 and 1)"
   ]
  },
  {
   "cell_type": "markdown",
   "id": "c1c911ec-4b53-4eb6-895d-ff18e86841fa",
   "metadata": {},
   "source": [
    "- eg: 0b000,0b011,0B111"
   ]
  },
  {
   "cell_type": "code",
   "execution_count": 4,
   "id": "ba1450a0-df71-41df-b7c7-002c4ea1a2fe",
   "metadata": {},
   "outputs": [
    {
     "data": {
      "text/plain": [
       "5"
      ]
     },
     "execution_count": 4,
     "metadata": {},
     "output_type": "execute_result"
    }
   ],
   "source": [
    "0b101"
   ]
  },
  {
   "cell_type": "code",
   "execution_count": 5,
   "id": "694b745a-f05b-4a7e-8622-3fc4ef6f385d",
   "metadata": {},
   "outputs": [
    {
     "data": {
      "text/plain": [
       "10"
      ]
     },
     "execution_count": 5,
     "metadata": {},
     "output_type": "execute_result"
    }
   ],
   "source": [
    "0b1010"
   ]
  },
  {
   "cell_type": "code",
   "execution_count": 6,
   "id": "fcc4b888-31ea-434e-9ddc-b83fcb93ea7a",
   "metadata": {},
   "outputs": [
    {
     "data": {
      "text/plain": [
       "2046"
      ]
     },
     "execution_count": 6,
     "metadata": {},
     "output_type": "execute_result"
    }
   ],
   "source": [
    "0b0000011111111110"
   ]
  },
  {
   "cell_type": "markdown",
   "id": "0ecc00d0-0b8e-4ac3-a490-6367a95763cf",
   "metadata": {},
   "source": [
    "#### octal number system (0,1,2,3,4,5,6,7)"
   ]
  },
  {
   "cell_type": "markdown",
   "id": "f2610a2f-0e0e-4484-898c-2fb41fbf5bbe",
   "metadata": {},
   "source": [
    "- eg: 0o234,0o5456,0O234"
   ]
  },
  {
   "cell_type": "code",
   "execution_count": 7,
   "id": "ce00a7a0-74e3-41a8-9f5f-1e7f801a3d29",
   "metadata": {},
   "outputs": [
    {
     "data": {
      "text/plain": [
       "83"
      ]
     },
     "execution_count": 7,
     "metadata": {},
     "output_type": "execute_result"
    }
   ],
   "source": [
    "0o123"
   ]
  },
  {
   "cell_type": "code",
   "execution_count": 8,
   "id": "0871a152-8971-4b3a-9308-10f6839b4d72",
   "metadata": {},
   "outputs": [
    {
     "data": {
      "text/plain": [
       "2196"
      ]
     },
     "execution_count": 8,
     "metadata": {},
     "output_type": "execute_result"
    }
   ],
   "source": [
    "0o4224"
   ]
  },
  {
   "cell_type": "code",
   "execution_count": 1,
   "id": "cb87ec15-edc5-4b30-903b-2186839275e4",
   "metadata": {},
   "outputs": [
    {
     "data": {
      "text/plain": [
       "83"
      ]
     },
     "execution_count": 1,
     "metadata": {},
     "output_type": "execute_result"
    }
   ],
   "source": [
    "0O123"
   ]
  },
  {
   "cell_type": "markdown",
   "id": "ef97fd09-c5a6-41d5-a0e1-a2599d445f3b",
   "metadata": {},
   "source": [
    "#### Hexa number system (0,1,2,3,4,5,6,7,8,9,A,B,C,D,E,F)\n",
    "- 0x234,0xabc"
   ]
  },
  {
   "cell_type": "code",
   "execution_count": 9,
   "id": "44e3a82b-7482-4d00-9d20-194a75ab7076",
   "metadata": {},
   "outputs": [
    {
     "data": {
      "text/plain": [
       "291"
      ]
     },
     "execution_count": 9,
     "metadata": {},
     "output_type": "execute_result"
    }
   ],
   "source": [
    "0x123"
   ]
  },
  {
   "cell_type": "code",
   "execution_count": 10,
   "id": "dbccf6d6-ca7f-4bc8-b5e8-d1c16ad88d91",
   "metadata": {},
   "outputs": [
    {
     "data": {
      "text/plain": [
       "2748"
      ]
     },
     "execution_count": 10,
     "metadata": {},
     "output_type": "execute_result"
    }
   ],
   "source": [
    "0xabc"
   ]
  },
  {
   "cell_type": "markdown",
   "id": "d81c9cd3-1121-40f9-bd88-6929c7266629",
   "metadata": {},
   "source": [
    "**Float**\n",
    "\n",
    "- continues points and have some decimals\n",
    "- integer means discreate points"
   ]
  },
  {
   "cell_type": "code",
   "execution_count": 1,
   "id": "19b7f948-26aa-4c6e-8637-4e313eb934b7",
   "metadata": {},
   "outputs": [
    {
     "data": {
      "text/plain": [
       "float"
      ]
     },
     "execution_count": 1,
     "metadata": {},
     "output_type": "execute_result"
    }
   ],
   "source": [
    "num=100.25\n",
    "type(num)"
   ]
  },
  {
   "cell_type": "markdown",
   "id": "f5345293-121c-4eaa-94db-9c8fb1f8c457",
   "metadata": {},
   "source": [
    "- float ponts can represent \"e\" exponential format also"
   ]
  },
  {
   "cell_type": "code",
   "execution_count": 2,
   "id": "57ec0439-4f6e-451d-b6a9-ca59edce6111",
   "metadata": {},
   "outputs": [
    {
     "data": {
      "text/plain": [
       "10000000000.0"
      ]
     },
     "execution_count": 2,
     "metadata": {},
     "output_type": "execute_result"
    }
   ],
   "source": [
    "1e10"
   ]
  },
  {
   "cell_type": "code",
   "execution_count": 13,
   "id": "850112e8-6bf1-4947-8d13-e52bfa087d6a",
   "metadata": {},
   "outputs": [
    {
     "data": {
      "text/plain": [
       "(10.0, 100.0, 1000.0)"
      ]
     },
     "execution_count": 13,
     "metadata": {},
     "output_type": "execute_result"
    }
   ],
   "source": [
    "1e1,1e2,1e3\n",
    "#1*10,1*100"
   ]
  },
  {
   "cell_type": "code",
   "execution_count": 7,
   "id": "fe6fae67-ff35-4c32-aba5-aa6a91bca54f",
   "metadata": {},
   "outputs": [
    {
     "data": {
      "text/plain": [
       "20000000000.0"
      ]
     },
     "execution_count": 7,
     "metadata": {},
     "output_type": "execute_result"
    }
   ],
   "source": [
    "2e10"
   ]
  },
  {
   "cell_type": "code",
   "execution_count": 14,
   "id": "989742e3-35a6-4f52-a567-dc8996e4c7ff",
   "metadata": {},
   "outputs": [
    {
     "data": {
      "text/plain": [
       "200.0"
      ]
     },
     "execution_count": 14,
     "metadata": {},
     "output_type": "execute_result"
    }
   ],
   "source": [
    "2e2 #2*10"
   ]
  },
  {
   "cell_type": "code",
   "execution_count": 2,
   "id": "aa69119f-02a7-499a-b820-1de2a8fed4a3",
   "metadata": {},
   "outputs": [
    {
     "data": {
      "text/plain": [
       "(10.0, 100.0, 10000000000.0)"
      ]
     },
     "execution_count": 2,
     "metadata": {},
     "output_type": "execute_result"
    }
   ],
   "source": [
    "1e+1,1e+2,1e+10\n",
    "#1*10,1*100"
   ]
  },
  {
   "cell_type": "code",
   "execution_count": 17,
   "id": "d0a84515-d565-4587-8352-9a5e6b4d2775",
   "metadata": {},
   "outputs": [
    {
     "data": {
      "text/plain": [
       "(0.1, 0.01)"
      ]
     },
     "execution_count": 17,
     "metadata": {},
     "output_type": "execute_result"
    }
   ],
   "source": [
    "1e-1,1e-2\n",
    "#1/10,1/100"
   ]
  },
  {
   "cell_type": "markdown",
   "id": "3587ffb9-367f-43df-a57f-a3c495c9edd9",
   "metadata": {},
   "source": [
    "**Strings**"
   ]
  },
  {
   "cell_type": "markdown",
   "id": "bd94b2c4-caa5-4699-ae2d-50ed0d01ea27",
   "metadata": {},
   "source": [
    "- enlish characters"
   ]
  },
  {
   "cell_type": "code",
   "execution_count": 19,
   "id": "6eddee7d-840e-4b79-a5ec-0015559ffb21",
   "metadata": {},
   "outputs": [
    {
     "data": {
      "text/plain": [
       "str"
      ]
     },
     "execution_count": 19,
     "metadata": {},
     "output_type": "execute_result"
    }
   ],
   "source": [
    "name=\"python\"\n",
    "type(name)"
   ]
  },
  {
   "cell_type": "code",
   "execution_count": 21,
   "id": "b8c52c71-c4ac-4fa5-b6fc-a243611807c2",
   "metadata": {},
   "outputs": [
    {
     "name": "stdout",
     "output_type": "stream",
     "text": [
      "hello i like 'python'\n"
     ]
    }
   ],
   "source": [
    "sen1=\"hello i like 'python'\"\n",
    "print(sen1)"
   ]
  },
  {
   "cell_type": "markdown",
   "id": "ffa74933-d3b7-46e8-badf-e0029f95aa9d",
   "metadata": {},
   "source": [
    "- entire string is in single quotes the highlighted word is in double quots and vice versa"
   ]
  },
  {
   "cell_type": "code",
   "execution_count": 24,
   "id": "6508b2d5-081c-4fa3-94dd-24456655220f",
   "metadata": {},
   "outputs": [
    {
     "name": "stdout",
     "output_type": "stream",
     "text": [
      "python\n"
     ]
    }
   ],
   "source": [
    "name='python'\n",
    "name #'python' output with quotes\n",
    "print(name)"
   ]
  },
  {
   "cell_type": "code",
   "execution_count": 25,
   "id": "bc451a4e-5d4e-4540-aaa2-a4817f72d81e",
   "metadata": {},
   "outputs": [
    {
     "name": "stdout",
     "output_type": "stream",
     "text": [
      "python\n",
      "naresh\n"
     ]
    }
   ],
   "source": [
    "name1='python'\n",
    "name2='naresh'\n",
    "print(name1)\n",
    "print(name2)"
   ]
  },
  {
   "cell_type": "code",
   "execution_count": 26,
   "id": "027e6ab6-358c-4e5f-902a-8789cd6fc71e",
   "metadata": {},
   "outputs": [
    {
     "data": {
      "text/plain": [
       "'naresh'"
      ]
     },
     "execution_count": 26,
     "metadata": {},
     "output_type": "execute_result"
    }
   ],
   "source": [
    "name1='python'\n",
    "name2='naresh'\n",
    "name1\n",
    "name2"
   ]
  },
  {
   "cell_type": "code",
   "execution_count": 28,
   "id": "63404204-97d1-493f-bb88-2f94e0b2e704",
   "metadata": {},
   "outputs": [
    {
     "name": "stdout",
     "output_type": "stream",
     "text": [
      "hello\n",
      "             i like\n",
      "             'python'\n"
     ]
    }
   ],
   "source": [
    "statement=\"\"\"hello\n",
    "             i like\n",
    "             'python'\"\"\"\n",
    "print(statement)"
   ]
  },
  {
   "cell_type": "markdown",
   "id": "f928a6f7-c17c-472a-abb6-3b510bef0c59",
   "metadata": {},
   "source": [
    "**Doc str**"
   ]
  },
  {
   "cell_type": "markdown",
   "id": "884de6e6-9f23-4701-878a-3c78c2f957a8",
   "metadata": {},
   "source": [
    "- if we want to convey info to the user\n",
    "- we will write a statmt bfr coding part\n",
    "- is called doc str\n",
    "- in jptr notbk to convey the info we have **markdown**\n",
    "- we convey info by using **3quotes**\n",
    "- if wee see anywhere **\"\"\"** means the user trying to convey the info"
   ]
  },
  {
   "cell_type": "code",
   "execution_count": 30,
   "id": "aeb9b8cd-3428-4229-afb9-f06de11f274f",
   "metadata": {},
   "outputs": [
    {
     "data": {
      "text/plain": [
       "'\\n    hello! how are you\\n    '"
      ]
     },
     "execution_count": 30,
     "metadata": {},
     "output_type": "execute_result"
    }
   ],
   "source": [
    "\"\"\"\n",
    "    hello! how are you\n",
    "    \"\"\""
   ]
  },
  {
   "cell_type": "markdown",
   "id": "7918d357-bff1-4510-91ff-900934f479e6",
   "metadata": {},
   "source": [
    "**Boolean**"
   ]
  },
  {
   "cell_type": "code",
   "execution_count": 33,
   "id": "8f72c897-cd7e-4b88-af4d-8842faff176a",
   "metadata": {},
   "outputs": [
    {
     "data": {
      "text/plain": [
       "bool"
      ]
     },
     "execution_count": 33,
     "metadata": {},
     "output_type": "execute_result"
    }
   ],
   "source": [
    "value=True\n",
    "type(value)"
   ]
  },
  {
   "cell_type": "code",
   "execution_count": null,
   "id": "84ea5c3a-d952-4703-a043-2839a6449eb3",
   "metadata": {},
   "outputs": [],
   "source": []
  }
 ],
 "metadata": {
  "kernelspec": {
   "display_name": "Python 3 (ipykernel)",
   "language": "python",
   "name": "python3"
  },
  "language_info": {
   "codemirror_mode": {
    "name": "ipython",
    "version": 3
   },
   "file_extension": ".py",
   "mimetype": "text/x-python",
   "name": "python",
   "nbconvert_exporter": "python",
   "pygments_lexer": "ipython3",
   "version": "3.12.4"
  }
 },
 "nbformat": 4,
 "nbformat_minor": 5
}
