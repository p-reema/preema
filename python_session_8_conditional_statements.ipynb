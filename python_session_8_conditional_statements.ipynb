{
 "cells": [
  {
   "cell_type": "markdown",
   "id": "f758529d-83b4-485e-aec2-baadba00c2ae",
   "metadata": {},
   "source": [
    "- conditional statements refers to execute the code based on conditions\n",
    "- we have mainly 3 types\n",
    "  - if\n",
    "  - if else\n",
    "  - if elif else"
   ]
  },
  {
   "cell_type": "code",
   "execution_count": 1,
   "id": "ba526195-a495-48ac-8f2b-85150c805773",
   "metadata": {},
   "outputs": [
    {
     "name": "stdout",
     "output_type": "stream",
     "text": [
      "hello good morning\n"
     ]
    }
   ],
   "source": [
    "print('hello good morning')"
   ]
  },
  {
   "cell_type": "code",
   "execution_count": 2,
   "id": "59a8b560-059c-43b1-b7e4-db65456c08e8",
   "metadata": {},
   "outputs": [],
   "source": [
    "# i want to say good morning\n",
    "# if your name is python"
   ]
  },
  {
   "cell_type": "markdown",
   "id": "563146b1-15d7-4c3b-af84-67a14037bfcb",
   "metadata": {},
   "source": [
    "**syntax**"
   ]
  },
  {
   "cell_type": "code",
   "execution_count": null,
   "id": "44f95aac-91bc-4ccf-8a0e-7143f3b05237",
   "metadata": {},
   "outputs": [],
   "source": [
    "if <conditon>:\n",
    "    <write your code here>"
   ]
  },
  {
   "cell_type": "code",
   "execution_count": 3,
   "id": "6d7a2dbd-fcc2-4504-84d2-6b959515a360",
   "metadata": {},
   "outputs": [
    {
     "name": "stdout",
     "output_type": "stream",
     "text": [
      "correct condition\n"
     ]
    }
   ],
   "source": [
    "num=10\n",
    "if num>0:\n",
    "    print('correct condition')"
   ]
  },
  {
   "cell_type": "markdown",
   "id": "726ae07e-2a5a-4c8b-932c-ed5eb95016da",
   "metadata": {},
   "source": [
    "- we can write any condition\n",
    "- the condition should be valid\n",
    "- in order to execute the if statement"
   ]
  },
  {
   "cell_type": "code",
   "execution_count": null,
   "id": "c2a5782f-64fd-4c12-b33e-770cffd0639e",
   "metadata": {},
   "outputs": [],
   "source": [
    "if <condition>:\n",
    "    <code starts here>\n",
    "    \n",
    "# the space we need to maintain it is called as indentation"
   ]
  },
  {
   "cell_type": "code",
   "execution_count": 6,
   "id": "0a8f4815-1d4c-4f24-8f26-b8b152635acb",
   "metadata": {},
   "outputs": [
    {
     "data": {
      "text/plain": [
       "True"
      ]
     },
     "execution_count": 6,
     "metadata": {},
     "output_type": "execute_result"
    }
   ],
   "source": [
    "name='python'\n",
    "name=='python'"
   ]
  },
  {
   "cell_type": "code",
   "execution_count": 7,
   "id": "2d8d3611-2cd6-42dc-855e-de08cbc3f6c8",
   "metadata": {},
   "outputs": [
    {
     "data": {
      "text/plain": [
       "False"
      ]
     },
     "execution_count": 7,
     "metadata": {},
     "output_type": "execute_result"
    }
   ],
   "source": [
    "name!='python'"
   ]
  },
  {
   "cell_type": "code",
   "execution_count": 8,
   "id": "654e2e9c-eb4c-4518-8c39-59b2860b7fc3",
   "metadata": {},
   "outputs": [
    {
     "name": "stdout",
     "output_type": "stream",
     "text": [
      "hello\n",
      "30\n"
     ]
    }
   ],
   "source": [
    "name='python'\n",
    "if name=='python':\n",
    "    print('hello')\n",
    "    a=10\n",
    "    b=20\n",
    "    print(a+b)\n",
    "\n",
    "# step-1: name='python'\n",
    "# step-2: if name=='python' if 'python'=='python' if True\n",
    "# step-3: print hello\n",
    "# step-4: a=10\n",
    "# step-5: b=20\n",
    "# step-6 : a+b 10+20=30"
   ]
  },
  {
   "cell_type": "code",
   "execution_count": 10,
   "id": "b6e6ea82-13a4-43f6-94a5-7dfb21435ed0",
   "metadata": {},
   "outputs": [
    {
     "name": "stdout",
     "output_type": "stream",
     "text": [
      "correct\n",
      "bye\n"
     ]
    }
   ],
   "source": [
    "################################\n",
    "if 100>10:\n",
    "    print('correct')\n",
    "################################\n",
    "print('bye')"
   ]
  },
  {
   "cell_type": "code",
   "execution_count": 11,
   "id": "7f6470b1-d415-4a82-b391-b9a13af1c215",
   "metadata": {},
   "outputs": [
    {
     "name": "stdout",
     "output_type": "stream",
     "text": [
      "correct\n",
      "hai\n",
      "bye\n"
     ]
    }
   ],
   "source": [
    "################################\n",
    "if 100>10:\n",
    "    print('correct')\n",
    "    print('hai')\n",
    "################################\n",
    "print('bye')"
   ]
  },
  {
   "cell_type": "code",
   "execution_count": 12,
   "id": "04021d77-9925-4988-a265-de74c88f3414",
   "metadata": {},
   "outputs": [
    {
     "name": "stdout",
     "output_type": "stream",
     "text": [
      "hai\n",
      "hello\n",
      "bye\n"
     ]
    }
   ],
   "source": [
    "print('hai')\n",
    "##############################\n",
    "if 100>10:\n",
    "    print('hello')\n",
    "#################################\n",
    "print('bye')"
   ]
  },
  {
   "cell_type": "markdown",
   "id": "30c59618-4290-4f13-a3c7-ead2a74fdd9d",
   "metadata": {},
   "source": [
    "**if-else** \n",
    "\n",
    "- whenever if condition fails automatically it goes to else part\n",
    "- so else does not require any condition\n",
    "- always maintain indentation for both if part and else part"
   ]
  },
  {
   "cell_type": "code",
   "execution_count": 14,
   "id": "840d313b-9899-4be1-8d06-8ec17740da4e",
   "metadata": {},
   "outputs": [
    {
     "name": "stdout",
     "output_type": "stream",
     "text": [
      "wrong condition\n"
     ]
    }
   ],
   "source": [
    "if 100<10:\n",
    "    print('correct condition')\n",
    "else:\n",
    "    print('wrong condition')"
   ]
  },
  {
   "cell_type": "code",
   "execution_count": 15,
   "id": "43ebc69a-651d-4c20-bd33-25479003d78f",
   "metadata": {},
   "outputs": [
    {
     "name": "stdout",
     "output_type": "stream",
     "text": [
      "10\n",
      "wrong condition\n",
      "20\n"
     ]
    }
   ],
   "source": [
    "print(10)\n",
    "####################################\n",
    "if 100<10:\n",
    "    print('correct condition')\n",
    "##################################\n",
    "else:\n",
    "    print('wrong condition')\n",
    "######################################\n",
    "print(20)"
   ]
  },
  {
   "cell_type": "code",
   "execution_count": 16,
   "id": "15d7a24f-ae8c-46e1-a6d9-e77f6ed797ed",
   "metadata": {},
   "outputs": [
    {
     "ename": "SyntaxError",
     "evalue": "invalid syntax (335652734.py, line 6)",
     "output_type": "error",
     "traceback": [
      "\u001b[1;36m  Cell \u001b[1;32mIn[16], line 6\u001b[1;36m\u001b[0m\n\u001b[1;33m    else:\u001b[0m\n\u001b[1;37m    ^\u001b[0m\n\u001b[1;31mSyntaxError\u001b[0m\u001b[1;31m:\u001b[0m invalid syntax\n"
     ]
    }
   ],
   "source": [
    "print(10)\n",
    "if 100>10:\n",
    "    print('correct condition')\n",
    "    print('okay')\n",
    "print('why are you come in middile')\n",
    "else:\n",
    "    print('wrong condition')\n",
    "print(20)"
   ]
  },
  {
   "cell_type": "markdown",
   "id": "24122e38-ab06-49c7-94a0-ec9b796b8e6f",
   "metadata": {},
   "source": [
    "**if and else always together**"
   ]
  },
  {
   "cell_type": "code",
   "execution_count": null,
   "id": "5f7fce6f-e799-4a26-9ff0-f95994d50de4",
   "metadata": {},
   "outputs": [],
   "source": [
    "# wap ask the user take two numbers\n",
    "# num1 and num2\n",
    "# if both numbers are matched then print we are won\n",
    "# otherwise print we lost\n",
    "# step-1: n1=eval(input('en'))\n",
    "# step-2: n2=eval(input('en'))\n",
    "# step-3: if <condition>:\n",
    "# step-4: print('we won')\n",
    "# step-5: else:\n",
    "# step-6: print('we lost')"
   ]
  },
  {
   "cell_type": "code",
   "execution_count": 18,
   "id": "43bb935e-0b81-4d40-9fc2-2ea24e3b1897",
   "metadata": {},
   "outputs": [
    {
     "name": "stdin",
     "output_type": "stream",
     "text": [
      "enter nunber1: 10\n",
      "enter nunber2: 10\n"
     ]
    },
    {
     "name": "stdout",
     "output_type": "stream",
     "text": [
      "we won\n"
     ]
    }
   ],
   "source": [
    "n1= eval(input('enter nunber1:'))\n",
    "n2= eval(input('enter nunber2:'))\n",
    "if n1==n2:\n",
    "    print('we won')\n",
    "else:\n",
    "    print('we lost')"
   ]
  },
  {
   "cell_type": "code",
   "execution_count": null,
   "id": "378a8f98-f67e-4908-b091-3c1d80a5a46c",
   "metadata": {},
   "outputs": [],
   "source": [
    "# wap ask the user take one number\n",
    "# another number comes as random integer between 1 to 10\n",
    "# num1 and num2\n",
    "# if both numbers are matched then print we are won\n",
    "# otherwise print we lost\n",
    "# step-1: n1=<random number>\n",
    "# step-2: n2=eval(input('en'))\n",
    "# step-3: if <condition>:\n",
    "# step-4: print('we won')\n",
    "# step-5: else:\n",
    "# step-6: print('we lost')"
   ]
  },
  {
   "cell_type": "code",
   "execution_count": 19,
   "id": "ddd1674a-9461-40f8-b84a-b4bde521ba56",
   "metadata": {},
   "outputs": [
    {
     "name": "stdout",
     "output_type": "stream",
     "text": [
      "10\n"
     ]
    },
    {
     "name": "stdin",
     "output_type": "stream",
     "text": [
      "enter nunber2: 10\n"
     ]
    },
    {
     "name": "stdout",
     "output_type": "stream",
     "text": [
      "we won\n"
     ]
    }
   ],
   "source": [
    "import random\n",
    "n1= random.randint(1,10)\n",
    "print(n1)\n",
    "n2= eval(input('enter nunber2:'))\n",
    "if n1==n2:\n",
    "    print('we won')\n",
    "else:\n",
    "    print('we lost')"
   ]
  },
  {
   "cell_type": "code",
   "execution_count": null,
   "id": "70fbfc22-8c3d-48b4-8c6c-0a130e47b974",
   "metadata": {},
   "outputs": [],
   "source": [
    "#wap ask the user enter a number\n",
    "# print if the number is even or odd\n",
    "# idea == reminder should be zero\n",
    "# step-1: num=eval(input())\n",
    "# step-2: if <con>:\n",
    "# step-3: print (the given number is even)\n",
    "# step-4: else:\n",
    "# step-5: print(the given number is odd)"
   ]
  },
  {
   "cell_type": "code",
   "execution_count": 20,
   "id": "19d06949-e360-440d-86a0-190d8030416f",
   "metadata": {},
   "outputs": [
    {
     "data": {
      "text/plain": [
       "2.5"
      ]
     },
     "execution_count": 20,
     "metadata": {},
     "output_type": "execute_result"
    }
   ],
   "source": [
    "5/2 # division"
   ]
  },
  {
   "cell_type": "code",
   "execution_count": 21,
   "id": "f0740f0c-6fcb-4513-9ae9-400d7403b1f9",
   "metadata": {},
   "outputs": [
    {
     "data": {
      "text/plain": [
       "2"
      ]
     },
     "execution_count": 21,
     "metadata": {},
     "output_type": "execute_result"
    }
   ],
   "source": [
    "5//2 # floor division"
   ]
  },
  {
   "cell_type": "code",
   "execution_count": 22,
   "id": "6ab95cd4-e6d3-4189-905e-35974c858308",
   "metadata": {},
   "outputs": [
    {
     "data": {
      "text/plain": [
       "1"
      ]
     },
     "execution_count": 22,
     "metadata": {},
     "output_type": "execute_result"
    }
   ],
   "source": [
    "5%2 # modulus operator"
   ]
  },
  {
   "cell_type": "code",
   "execution_count": 23,
   "id": "71ee63e2-d546-4d68-a82a-cbb57e24d17a",
   "metadata": {},
   "outputs": [
    {
     "name": "stdin",
     "output_type": "stream",
     "text": [
      "enter a number: 10\n"
     ]
    },
    {
     "name": "stdout",
     "output_type": "stream",
     "text": [
      "the given number 10 is even\n"
     ]
    }
   ],
   "source": [
    "num=eval(input('enter a number:'))\n",
    "if num%2==0:\n",
    "    print(f'the given number {num} is even')\n",
    "else:\n",
    "    print(f'the given number {num} is odd')"
   ]
  },
  {
   "cell_type": "code",
   "execution_count": null,
   "id": "f5f26bf8-6959-4fce-b8c5-1f88c93111a3",
   "metadata": {},
   "outputs": [],
   "source": [
    "# wap ask the user enter distance\n",
    "# if distance greater than 25\n",
    "# ask the charge\n",
    "# calculate the charge other than25km distance\n",
    "# else\n",
    "# print free ride\n",
    "# step-1: distance= eval(input(''))\n",
    "# step-2: if <>:\n",
    "# step-3: charge=eval(input(''))\n",
    "# step-4: total charge= (d-25)*\n",
    "# step-5: else:\n",
    "# step-6: print free ride"
   ]
  },
  {
   "cell_type": "code",
   "execution_count": 24,
   "id": "2f9cc0da-f9d1-4d94-ae9c-45b797bf1c24",
   "metadata": {},
   "outputs": [
    {
     "name": "stdin",
     "output_type": "stream",
     "text": [
      "enter the distance 50\n",
      "govt cut off distance: 20\n"
     ]
    },
    {
     "name": "stdout",
     "output_type": "stream",
     "text": [
      "the charge applicable only on:30 kms\n"
     ]
    },
    {
     "name": "stdin",
     "output_type": "stream",
     "text": [
      "enter the charge: 100\n"
     ]
    },
    {
     "name": "stdout",
     "output_type": "stream",
     "text": [
      "the total charge is:3000 rs\n"
     ]
    }
   ],
   "source": [
    "distance=eval(input('enter the distance'))\n",
    "cutoff_dis=eval(input('govt cut off distance:'))\n",
    "if distance>cutoff_dis:\n",
    "    print(f'the charge applicable only on:{distance-cutoff_dis} kms')\n",
    "    charge=eval(input('enter the charge:'))\n",
    "    total_charge=(distance-cutoff_dis)*charge\n",
    "    print(f'the total charge is:{total_charge} rs')\n",
    "else:\n",
    "    print('enjoy free ride')"
   ]
  },
  {
   "cell_type": "code",
   "execution_count": null,
   "id": "b09eefb9-82f7-4262-a4cd-131d7ccd246f",
   "metadata": {},
   "outputs": [],
   "source": [
    "# wap ask the user take two numbers\n",
    "# print which is greater number\n",
    "# step-1: n1= eval(input())\n",
    "# step-2: n2= eval(input())\n",
    "# step-3: if <cond>:\n",
    "# step-4: print()\n",
    "# step-5: else:\n",
    "# step-6: print()"
   ]
  },
  {
   "cell_type": "code",
   "execution_count": 25,
   "id": "4bb5ab8f-86e7-44c1-b5e9-343b01b38a3c",
   "metadata": {},
   "outputs": [
    {
     "name": "stdin",
     "output_type": "stream",
     "text": [
      "enter the n1: 10\n",
      "enter the n2: 5\n"
     ]
    },
    {
     "name": "stdout",
     "output_type": "stream",
     "text": [
      "10 is greater\n"
     ]
    }
   ],
   "source": [
    "n1=eval(input('enter the n1:'))\n",
    "n2=eval(input('enter the n2:'))\n",
    "if n1>n2:\n",
    "    print(f\"{n1} is greater\")\n",
    "else:\n",
    "    print(f\"{n2} is greater\")"
   ]
  },
  {
   "cell_type": "code",
   "execution_count": 27,
   "id": "3621a1c7-a7de-4068-8422-abca72a904b0",
   "metadata": {},
   "outputs": [
    {
     "name": "stdout",
     "output_type": "stream",
     "text": [
      "68 is greater\n"
     ]
    }
   ],
   "source": [
    "from random import randint\n",
    "n1=randint(1,100)\n",
    "n2=randint(1,100)\n",
    "if n1>n2:\n",
    "    print(f\"{n1} is greater\")\n",
    "else:\n",
    "    print(f\"{n2} is greater\")"
   ]
  },
  {
   "cell_type": "code",
   "execution_count": null,
   "id": "5829344a-b3b7-421c-938b-c4ca1855d4ea",
   "metadata": {},
   "outputs": [],
   "source": [
    "# wap ask the user\n",
    "# enter the course name\n",
    "# enter the institute name\n",
    "# if course name equal to data science\n",
    "# and institute name equal to naresh it\n",
    "# then print we are good\n",
    "# else print not good\n",
    "# step-1: course_name=input()\n",
    "# step-2: inst_name=input()\n",
    "# step-3: if <c1> and <c2>:\n",
    "# step-4: print\n",
    "# step-5: else:\n",
    "# step-6: print"
   ]
  },
  {
   "cell_type": "code",
   "execution_count": 29,
   "id": "6641ef2c-c269-4961-ae17-d7c74dc61202",
   "metadata": {},
   "outputs": [
    {
     "name": "stdin",
     "output_type": "stream",
     "text": [
      "Enter course name:  Data Science\n",
      "Enter institute name:  NareshIT\n"
     ]
    },
    {
     "name": "stdout",
     "output_type": "stream",
     "text": [
      "We are good\n"
     ]
    }
   ],
   "source": [
    "course_name = input(\"Enter course name: \")\n",
    "inst_name = input(\"Enter institute name: \")\n",
    "if course_name=='Data Science' or inst_name=='NareshIT':\n",
    "    print(\"We are good\")\n",
    "else:\n",
    "    print(\"Khatam your zindagi\")"
   ]
  },
  {
   "cell_type": "code",
   "execution_count": 30,
   "id": "f7ead9a0-e20e-4696-a68b-f98f4ea50fc0",
   "metadata": {},
   "outputs": [
    {
     "data": {
      "text/plain": [
       "'data science'"
      ]
     },
     "execution_count": 30,
     "metadata": {},
     "output_type": "execute_result"
    }
   ],
   "source": [
    "'Data science'.lower()"
   ]
  },
  {
   "cell_type": "code",
   "execution_count": null,
   "id": "4562a071-44bc-43a3-ba23-8f484be886a0",
   "metadata": {},
   "outputs": [],
   "source": [
    "A B A or B\n",
    "T T T\n",
    "T F T\n",
    "F T T\n",
    "F F F"
   ]
  }
 ],
 "metadata": {
  "kernelspec": {
   "display_name": "Python 3 (ipykernel)",
   "language": "python",
   "name": "python3"
  },
  "language_info": {
   "codemirror_mode": {
    "name": "ipython",
    "version": 3
   },
   "file_extension": ".py",
   "mimetype": "text/x-python",
   "name": "python",
   "nbconvert_exporter": "python",
   "pygments_lexer": "ipython3",
   "version": "3.12.4"
  }
 },
 "nbformat": 4,
 "nbformat_minor": 5
}
