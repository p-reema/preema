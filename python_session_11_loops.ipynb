{
 "cells": [
  {
   "cell_type": "markdown",
   "id": "71ad6614-3b0a-4318-9c7d-90c04d578997",
   "metadata": {},
   "source": [
    "**LOOPS**\n"
   ]
  },
  {
   "cell_type": "markdown",
   "id": "c379a2e0-86e6-4f88-9848-0ebad1ca4dca",
   "metadata": {},
   "source": [
    "- iterating the code\n",
    "- repeating the code\n",
    "    - for loop\n",
    "    - while loop\n"
   ]
  },
  {
   "cell_type": "markdown",
   "id": "3a936855-185c-43a2-bfe0-708c6cd2e7b4",
   "metadata": {},
   "source": [
    "- initialization\n",
    "- increment/decrement\n",
    "- condition to stop the loop"
   ]
  },
  {
   "cell_type": "markdown",
   "id": "5431e3d4-2aa2-49ac-8c10-05fa666a64d3",
   "metadata": {},
   "source": [
    "**for loop**"
   ]
  },
  {
   "cell_type": "code",
   "execution_count": 1,
   "id": "42be869e-ee0d-460e-a9d0-f78b95d9090c",
   "metadata": {},
   "outputs": [
    {
     "name": "stdout",
     "output_type": "stream",
     "text": [
      "0\n",
      "1\n",
      "2\n"
     ]
    }
   ],
   "source": [
    "#syntax\n",
    "#for <var> in range(<value>):\n",
    "   # <code>\n",
    "\n",
    "for i in range(3):\n",
    "    print(i)"
   ]
  },
  {
   "cell_type": "markdown",
   "id": "3a1036dd-b15c-47b9-b610-e346b87ff915",
   "metadata": {},
   "source": [
    "**case-1:range(stop)**\n",
    "\n",
    "- start value =0\n",
    "- step size= +1\n",
    "- last value = stop-1\n",
    "- range(3)\n",
    "    - start value=0\n",
    "    - step size= +1\n",
    "    - last value= 2"
   ]
  },
  {
   "cell_type": "code",
   "execution_count": 7,
   "id": "00257c95-bd7f-4670-8a07-5d8a926cb8d3",
   "metadata": {},
   "outputs": [
    {
     "name": "stdout",
     "output_type": "stream",
     "text": [
      "0\n",
      "1\n",
      "2\n",
      "3\n",
      "4\n"
     ]
    }
   ],
   "source": [
    "for i in range(5):\n",
    "    print(i)\n",
    "\n",
    "#var name ca be anything\n",
    "# start=0 step=+1 stop=4"
   ]
  },
  {
   "cell_type": "code",
   "execution_count": 3,
   "id": "418ec58f-653b-494d-ae9a-7f44337a87f8",
   "metadata": {},
   "outputs": [
    {
     "name": "stdout",
     "output_type": "stream",
     "text": [
      "hello\n",
      "hello\n",
      "hello\n",
      "hello\n",
      "hello\n"
     ]
    }
   ],
   "source": [
    "for i in range(5):\n",
    "    print('hello')"
   ]
  },
  {
   "cell_type": "code",
   "execution_count": 6,
   "id": "24f4eda3-7773-4ccc-9b36-b74f23ba89e1",
   "metadata": {},
   "outputs": [
    {
     "name": "stdout",
     "output_type": "stream",
     "text": [
      "0 1 2 3\n"
     ]
    }
   ],
   "source": [
    "print(0,end=' ')\n",
    "print(1,end=' ')\n",
    "print(2,end=' ')\n",
    "print(3)\n",
    "\n",
    "#print(i,end=' ')"
   ]
  },
  {
   "cell_type": "code",
   "execution_count": 8,
   "id": "9092cfb4-741f-4e17-9228-75db7d2f49eb",
   "metadata": {},
   "outputs": [
    {
     "name": "stdout",
     "output_type": "stream",
     "text": [
      "0 1 2 3 4 "
     ]
    }
   ],
   "source": [
    "for i in range(5):\n",
    "    print(i,end=' ')"
   ]
  },
  {
   "cell_type": "markdown",
   "id": "7d11815c-274c-42b0-860e-f40332f9be7e",
   "metadata": {},
   "source": [
    "**case-2:range(start,stop)**\n",
    "\n",
    "- start value=start\n",
    "- step=1\n",
    "- stop value=stop-1"
   ]
  },
  {
   "cell_type": "code",
   "execution_count": 10,
   "id": "d13b6ff5-be70-40a2-9d9d-1e773ffe3e3a",
   "metadata": {},
   "outputs": [
    {
     "name": "stdout",
     "output_type": "stream",
     "text": [
      "2 3 4 5 6 7 "
     ]
    }
   ],
   "source": [
    "for i in range(2,8):\n",
    "    print(i,end=' ')\n",
    "\n",
    "#start=2 step=1 stop=7"
   ]
  },
  {
   "cell_type": "code",
   "execution_count": 11,
   "id": "59209679-a61b-483a-a260-8ec97fae1632",
   "metadata": {},
   "outputs": [
    {
     "name": "stdout",
     "output_type": "stream",
     "text": [
      "1\n",
      "4\n",
      "9\n",
      "16\n",
      "25\n"
     ]
    }
   ],
   "source": [
    "#wap ask the user to print sqr of the first 5 numbers\n",
    "\n",
    "for i in range(1,6):\n",
    "    print(i*i)"
   ]
  },
  {
   "cell_type": "code",
   "execution_count": 17,
   "id": "eb204581-ba1e-4151-8f0d-d22d7087fe1c",
   "metadata": {},
   "outputs": [
    {
     "name": "stdin",
     "output_type": "stream",
     "text": [
      "enter the number: 1\n"
     ]
    },
    {
     "name": "stdout",
     "output_type": "stream",
     "text": [
      "square is 1\n"
     ]
    },
    {
     "name": "stdin",
     "output_type": "stream",
     "text": [
      "enter the number: 2\n"
     ]
    },
    {
     "name": "stdout",
     "output_type": "stream",
     "text": [
      "square is 4\n"
     ]
    },
    {
     "name": "stdin",
     "output_type": "stream",
     "text": [
      "enter the number: 3\n"
     ]
    },
    {
     "name": "stdout",
     "output_type": "stream",
     "text": [
      "square is 9\n"
     ]
    },
    {
     "name": "stdin",
     "output_type": "stream",
     "text": [
      "enter the number: 4\n"
     ]
    },
    {
     "name": "stdout",
     "output_type": "stream",
     "text": [
      "square is 16\n"
     ]
    },
    {
     "name": "stdin",
     "output_type": "stream",
     "text": [
      "enter the number: 5\n"
     ]
    },
    {
     "name": "stdout",
     "output_type": "stream",
     "text": [
      "square is 25\n"
     ]
    }
   ],
   "source": [
    "for i in range(5):\n",
    "    a=eval(input('enter the number:'))\n",
    "    print(f'square is {a*a}')"
   ]
  },
  {
   "cell_type": "code",
   "execution_count": null,
   "id": "25394a5d-ad1f-4332-9ce2-4d9687e56bf3",
   "metadata": {},
   "outputs": [],
   "source": [
    "for i in range(1,6):\n",
    "    a=eval(input('enter the number:'))\n",
    "    print(f'square is {a*a}')\n",
    "\n",
    "##########################################################\n",
    "for i in range(5):\n",
    "    a=eval(input('enter the number:'))\n",
    "    print(f'square is {a*a}')"
   ]
  },
  {
   "cell_type": "code",
   "execution_count": 19,
   "id": "a7d16e73-06dc-4c82-9a1e-96cb39d6a8e5",
   "metadata": {},
   "outputs": [
    {
     "name": "stdout",
     "output_type": "stream",
     "text": [
      "34\n",
      "29\n",
      "94\n",
      "84\n",
      "29\n"
     ]
    }
   ],
   "source": [
    "import random\n",
    "for i in range(5):\n",
    "    num=random.randint(1,100)\n",
    "    print(num)"
   ]
  },
  {
   "cell_type": "code",
   "execution_count": null,
   "id": "64f1bc8f-8865-496c-955f-d85f07ba4105",
   "metadata": {},
   "outputs": [],
   "source": [
    "for i in range(1,6):\n",
    "    print(i*i)\n",
    "\n",
    "########################################\n",
    "for i in range(1,6):\n",
    "    a=eval(input('enter the number:'))\n",
    "    print(f'square is {a*a}')\n",
    "\n",
    "###########################################\n",
    "import random\n",
    "for i in range(1,6):\n",
    "    num=random.randint(1,100)\n",
    "    print(num)"
   ]
  },
  {
   "cell_type": "markdown",
   "id": "6b3f0e76-8210-4b13-9e43-968ec1950d87",
   "metadata": {},
   "source": [
    "**case-3:range(start,stop,step)**\n",
    "\n",
    "- start value= start\n",
    "- step= +\n",
    "    - gap= positive step\n",
    "    - stop value = stop-1\n",
    "- step= -\n",
    "    - gap= negative step\n",
    "    - stop value = stop+1"
   ]
  },
  {
   "cell_type": "code",
   "execution_count": 21,
   "id": "4661171a-a722-46a3-8c86-7cb4cc5522cc",
   "metadata": {},
   "outputs": [
    {
     "name": "stdout",
     "output_type": "stream",
     "text": [
      "2 4 6 8 10 12 14 16 18 "
     ]
    }
   ],
   "source": [
    "for i in range(2,20,2):\n",
    "    print(i,end=' ')"
   ]
  },
  {
   "cell_type": "code",
   "execution_count": 22,
   "id": "208e8e90-3417-4f5e-991e-af7d45414617",
   "metadata": {},
   "outputs": [
    {
     "name": "stdout",
     "output_type": "stream",
     "text": [
      "-2 -4 -6 -8 -10 -12 -14 -16 -18 "
     ]
    }
   ],
   "source": [
    "for i in range(-2,-20,-2):\n",
    "    print(i,end=' ')"
   ]
  },
  {
   "cell_type": "code",
   "execution_count": 25,
   "id": "d44545bb-9b26-4048-a8ca-a23be6a0e62d",
   "metadata": {},
   "outputs": [
    {
     "name": "stdout",
     "output_type": "stream",
     "text": [
      "2 0 -2 -4 -6 -8 -10 -12 -14 -16 -18 "
     ]
    }
   ],
   "source": [
    "for i in range(2,-20,-2):\n",
    "    print(i,end=' ')"
   ]
  },
  {
   "cell_type": "code",
   "execution_count": 27,
   "id": "22f6ea48-9cfe-4305-8bda-c617d12b36c6",
   "metadata": {},
   "outputs": [],
   "source": [
    "for i in range(2,-20,2):\n",
    "    print(i,end=' ')"
   ]
  },
  {
   "cell_type": "code",
   "execution_count": null,
   "id": "32a72705-de6e-4100-bdb6-4dea2285c2f2",
   "metadata": {},
   "outputs": [],
   "source": [
    "#wap ask the user enter 5 numbers\n",
    "#print it is a even or odd number\n",
    "#loop should run 5 times\n",
    "#"
   ]
  },
  {
   "cell_type": "code",
   "execution_count": 2,
   "id": "c04f0fd7-5ce9-4974-8d60-ae81cd7ad772",
   "metadata": {},
   "outputs": [
    {
     "name": "stdin",
     "output_type": "stream",
     "text": [
      "enter the number: 1\n"
     ]
    },
    {
     "name": "stdout",
     "output_type": "stream",
     "text": [
      "number is odd\n"
     ]
    },
    {
     "name": "stdin",
     "output_type": "stream",
     "text": [
      "enter the number: 4\n"
     ]
    },
    {
     "name": "stdout",
     "output_type": "stream",
     "text": [
      "number is even\n"
     ]
    },
    {
     "name": "stdin",
     "output_type": "stream",
     "text": [
      "enter the number: 5\n"
     ]
    },
    {
     "name": "stdout",
     "output_type": "stream",
     "text": [
      "number is odd\n"
     ]
    },
    {
     "name": "stdin",
     "output_type": "stream",
     "text": [
      "enter the number: 34\n"
     ]
    },
    {
     "name": "stdout",
     "output_type": "stream",
     "text": [
      "number is even\n"
     ]
    },
    {
     "name": "stdin",
     "output_type": "stream",
     "text": [
      "enter the number: 55\n"
     ]
    },
    {
     "name": "stdout",
     "output_type": "stream",
     "text": [
      "number is odd\n"
     ]
    }
   ],
   "source": [
    "for i in range(5):\n",
    "    num=eval(input('enter the number:'))\n",
    "    if(num%2==0):\n",
    "        print('number is even')\n",
    "    else:\n",
    "        print('number is odd')"
   ]
  },
  {
   "cell_type": "code",
   "execution_count": 12,
   "id": "ba161d02-5880-442e-93d8-57e4457348d5",
   "metadata": {},
   "outputs": [
    {
     "name": "stdout",
     "output_type": "stream",
     "text": [
      "7x1=7\n",
      "7x2=14\n",
      "7x3=21\n",
      "7x4=28\n",
      "7x5=35\n",
      "7x6=42\n",
      "7x7=49\n",
      "7x8=56\n",
      "7x9=63\n",
      "7x10=70\n"
     ]
    }
   ],
   "source": [
    "for i in range(1,11):\n",
    "    print(f'7x{i}={7*i}')"
   ]
  },
  {
   "cell_type": "code",
   "execution_count": 38,
   "id": "1bebfe61-263b-47f9-a062-2eb6982ade2e",
   "metadata": {},
   "outputs": [
    {
     "name": "stdin",
     "output_type": "stream",
     "text": [
      "enter the number: 10\n"
     ]
    },
    {
     "name": "stdout",
     "output_type": "stream",
     "text": [
      "1 is a divisor for the 10\n",
      "2 is a divisor for the 10\n",
      "5 is a divisor for the 10\n",
      "10 is a divisor for the 10\n"
     ]
    }
   ],
   "source": [
    "num=eval(input('enter the number:'))\n",
    "for i in range(1,num+1):\n",
    "    if(num%i==0):\n",
    "        print(f'{i} is a divisor for the {num}')"
   ]
  },
  {
   "cell_type": "code",
   "execution_count": 21,
   "id": "40f71f66-7718-4523-b966-d52e0ec7621c",
   "metadata": {},
   "outputs": [
    {
     "name": "stdin",
     "output_type": "stream",
     "text": [
      "enter the number: 10\n"
     ]
    },
    {
     "name": "stdout",
     "output_type": "stream",
     "text": [
      "1 is a divisor for the 10\n",
      "2 is a divisor for the 10\n",
      "5 is a divisor for the 10\n",
      "10 is a divisor for the 10\n"
     ]
    }
   ],
   "source": [
    "def div():\n",
    "    num=eval(input('enter the number:'))\n",
    "    for i in range(1,num+1):\n",
    "        if(num%i==0):\n",
    "            print(f'{i} is a divisor for the {num}')\n",
    "\n",
    "div()"
   ]
  },
  {
   "cell_type": "code",
   "execution_count": 22,
   "id": "d8100df0-534f-4f95-8f3e-8d18d2ba5bdb",
   "metadata": {},
   "outputs": [
    {
     "name": "stdout",
     "output_type": "stream",
     "text": [
      "1 is a divisor for the 10\n",
      "2 is a divisor for the 10\n",
      "5 is a divisor for the 10\n",
      "10 is a divisor for the 10\n"
     ]
    }
   ],
   "source": [
    "def div(num):\n",
    "    for i in range(1,num+1):\n",
    "        if(num%i==0):\n",
    "            print(f'{i} is a divisor for the {num}')\n",
    "\n",
    "div(10)"
   ]
  },
  {
   "cell_type": "code",
   "execution_count": 25,
   "id": "21e80996-e6b2-4380-b9d6-321cc140835d",
   "metadata": {},
   "outputs": [
    {
     "name": "stdout",
     "output_type": "stream",
     "text": [
      "1 is a divisor for the 89\n",
      "89 is a divisor for the 89\n"
     ]
    },
    {
     "data": {
      "text/plain": [
       "89"
      ]
     },
     "execution_count": 25,
     "metadata": {},
     "output_type": "execute_result"
    }
   ],
   "source": [
    "def div2(num):\n",
    "    for i in range(1,num+1):\n",
    "        if(num%i==0):\n",
    "            print(f'{i} is a divisor for the {num}')\n",
    "    return(i)\n",
    "\n",
    "div1=div2(89)\n",
    "div1"
   ]
  },
  {
   "cell_type": "code",
   "execution_count": null,
   "id": "d89906fa-8421-45ab-aea0-7dbcd70ac2e9",
   "metadata": {},
   "outputs": [],
   "source": [
    "i\n",
    "#i variable will give always the last value\n",
    "#do not print i outside the for loop"
   ]
  },
  {
   "cell_type": "code",
   "execution_count": 29,
   "id": "f06b8109-9f12-4d32-b1f1-95ca5a909d6c",
   "metadata": {},
   "outputs": [
    {
     "name": "stdout",
     "output_type": "stream",
     "text": [
      "55.0\n"
     ]
    }
   ],
   "source": [
    "#wap ask the user to print first 10 natural numbers\n",
    "\n",
    "for i in range(1,11):\n",
    "    sum=i*(i+1)/2\n",
    "print(f'{sum}')"
   ]
  },
  {
   "cell_type": "markdown",
   "id": "bea0fff6-b35f-4591-a31b-7e27ecd26d34",
   "metadata": {},
   "source": [
    "**summation wrapper**\n",
    "\n",
    "- always initialize the sum=0 before the loop\n",
    "- inside loop sum=sum+i\n",
    "- then print sum value outside the loop"
   ]
  },
  {
   "cell_type": "code",
   "execution_count": 34,
   "id": "5e4e82b5-aa36-48bf-bf47-daa0e444b9d7",
   "metadata": {},
   "outputs": [
    {
     "name": "stdout",
     "output_type": "stream",
     "text": [
      "55\n"
     ]
    }
   ],
   "source": [
    "summ=0\n",
    "for i in range(1,11):\n",
    "    summ+=i\n",
    "print(summ)"
   ]
  },
  {
   "cell_type": "markdown",
   "id": "b5649e47-2295-473e-b319-ac486f90301b",
   "metadata": {},
   "source": [
    "**counter wrapper**\n",
    "\n",
    "- before the loop count=0\n",
    "- inside the loop count+=1, but this line under succesfull operation\n",
    "- print the count outside the loop"
   ]
  },
  {
   "cell_type": "code",
   "execution_count": 37,
   "id": "c2909368-f66e-48d5-bf86-1fa724ab14fb",
   "metadata": {},
   "outputs": [
    {
     "name": "stdin",
     "output_type": "stream",
     "text": [
      "enter the number: 10\n"
     ]
    },
    {
     "name": "stdout",
     "output_type": "stream",
     "text": [
      "1 is a divisor for the 10\n",
      "2 is a divisor for the 10\n",
      "5 is a divisor for the 10\n",
      "10 is a divisor for the 10\n",
      "the count of divisors is 4\n"
     ]
    }
   ],
   "source": [
    "#wap ask the user find the count of divisors\n",
    "count=0\n",
    "num=eval(input('enter the number:'))\n",
    "for i in range(1,num+1):\n",
    "    if(num%i==0):\n",
    "        count+=1\n",
    "        print(f'{i} is a divisor for the {num}')\n",
    "\n",
    "print(f'the count of divisors is {count}')"
   ]
  },
  {
   "cell_type": "code",
   "execution_count": 40,
   "id": "9be29b94-51bd-4115-8d84-cbe430007cae",
   "metadata": {},
   "outputs": [
    {
     "name": "stdin",
     "output_type": "stream",
     "text": [
      "enter the number: 1\n"
     ]
    },
    {
     "name": "stdout",
     "output_type": "stream",
     "text": [
      "number is odd\n"
     ]
    },
    {
     "name": "stdin",
     "output_type": "stream",
     "text": [
      "enter the number: 2\n"
     ]
    },
    {
     "name": "stdout",
     "output_type": "stream",
     "text": [
      "number is even\n"
     ]
    },
    {
     "name": "stdin",
     "output_type": "stream",
     "text": [
      "enter the number: 3\n"
     ]
    },
    {
     "name": "stdout",
     "output_type": "stream",
     "text": [
      "number is odd\n"
     ]
    },
    {
     "name": "stdin",
     "output_type": "stream",
     "text": [
      "enter the number: 4\n"
     ]
    },
    {
     "name": "stdout",
     "output_type": "stream",
     "text": [
      "number is even\n"
     ]
    },
    {
     "name": "stdin",
     "output_type": "stream",
     "text": [
      "enter the number: 5\n"
     ]
    },
    {
     "name": "stdout",
     "output_type": "stream",
     "text": [
      "number is odd\n",
      "the count of even is 2.\n",
      "the count of odd is 3.\n"
     ]
    }
   ],
   "source": [
    "even_count=0\n",
    "odd_count=0\n",
    "for i in range(5):\n",
    "    num=eval(input('enter the number:'))\n",
    "    if(num%2==0):\n",
    "        even_count+=1\n",
    "        print('number is even')\n",
    "    else:\n",
    "        odd_count+=1\n",
    "        print('number is odd')\n",
    "\n",
    "print(f'the count of even is {even_count}.')\n",
    "print(f'the count of odd is {odd_count}.')"
   ]
  },
  {
   "cell_type": "code",
   "execution_count": 43,
   "id": "f8db50c8-ad6a-4d3e-b564-f536a4cf146c",
   "metadata": {},
   "outputs": [
    {
     "name": "stdout",
     "output_type": "stream",
     "text": [
      "number is 66 even\n",
      "number is 52 even\n",
      "number is 7 odd\n",
      "number is 1 odd\n",
      "number is 21 odd\n",
      "the count of even is 2.\n",
      "the count of odd is 3.\n"
     ]
    }
   ],
   "source": [
    "import random\n",
    "even_count=0\n",
    "odd_count=0\n",
    "for i in range(5):\n",
    "    num=random.randint(1,100)\n",
    "    if(num%2==0):\n",
    "        even_count+=1\n",
    "        print(f'number is {num} even')\n",
    "    else:\n",
    "        odd_count+=1\n",
    "        print(f'number is {num} odd')\n",
    "\n",
    "print(f'the count of even is {even_count}.')\n",
    "print(f'the count of odd is {odd_count}.')"
   ]
  },
  {
   "cell_type": "code",
   "execution_count": 45,
   "id": "b51a265b-0c9b-4023-9b9e-d8f0f1b2509a",
   "metadata": {},
   "outputs": [
    {
     "name": "stdout",
     "output_type": "stream",
     "text": [
      "the count of even are 2.\n",
      "the count of odd are 3.\n"
     ]
    }
   ],
   "source": [
    "import random\n",
    "even_count=0\n",
    "odd_count=0\n",
    "for i in range(5):\n",
    "    num=random.randint(1,100)\n",
    "    if(num%2==0):\n",
    "        even_count+=1\n",
    "    else:\n",
    "        odd_count+=1\n",
    "print(f'the count of even are {even_count}.')\n",
    "print(f'the count of odd are {odd_count}.')"
   ]
  },
  {
   "cell_type": "code",
   "execution_count": 50,
   "id": "a2ea14dc-1dfb-43ee-8104-7c04c17d180d",
   "metadata": {},
   "outputs": [
    {
     "name": "stdout",
     "output_type": "stream",
     "text": [
      "number is 82 even\n",
      "number is 76 even\n",
      "number is 80 even\n",
      "number is 41 odd\n",
      "number is 63 odd\n",
      "the count of even are 3.\n",
      "the count of odd are 2.\n",
      "the sum of even is 238.\n",
      "the sum of odd is 104.\n"
     ]
    }
   ],
   "source": [
    "import random\n",
    "even_count,odd_count=0,0\n",
    "even_sum,odd_sum=0,0\n",
    "for i in range(5):\n",
    "    num=random.randint(1,100)\n",
    "    if(num%2==0):\n",
    "        even_sum+=num\n",
    "        even_count+=1\n",
    "        print(f'number is {num} even')\n",
    "    else:\n",
    "        odd_sum+=num\n",
    "        odd_count+=1\n",
    "        print(f'number is {num} odd')\n",
    "\n",
    "print(f'the count of even are {even_count}.')\n",
    "print(f'the count of odd are {odd_count}.')\n",
    "print(f'the sum of even is {even_sum}.')\n",
    "print(f'the sum of odd is {odd_sum}.')"
   ]
  },
  {
   "cell_type": "code",
   "execution_count": 56,
   "id": "f6d0edcd-85b8-4ab2-bd55-ec535edcf163",
   "metadata": {},
   "outputs": [
    {
     "name": "stdin",
     "output_type": "stream",
     "text": [
      "enter the number1: 8\n"
     ]
    },
    {
     "name": "stdout",
     "output_type": "stream",
     "text": [
      "random number is 7\n",
      "lost\n"
     ]
    },
    {
     "name": "stdin",
     "output_type": "stream",
     "text": [
      "enter the number1: 5\n"
     ]
    },
    {
     "name": "stdout",
     "output_type": "stream",
     "text": [
      "random number is 5\n",
      "won\n"
     ]
    }
   ],
   "source": [
    "#wap ask the user enter a random number\n",
    "#ask the user enter a number\n",
    "#if both are match print(won)\n",
    "#otherwise print(lose)\n",
    "#u should provide 3 times\n",
    "\n",
    "\n",
    "#case1 print remaining chances\n",
    "#2 for every fail the number of chances should dis\n",
    "import random\n",
    "for i in range(3):\n",
    "    num1=eval(input('enter the number1:'))\n",
    "    num2=random.randint(1,10)\n",
    "    print(f'random number is {num2}')\n",
    "    if(num1==num2):\n",
    "        print('won')\n",
    "        break\n",
    "    else:\n",
    "        print('lost')"
   ]
  },
  {
   "cell_type": "code",
   "execution_count": 5,
   "id": "6eedfcf8-3f09-4d48-b572-faf2b4c4fa44",
   "metadata": {},
   "outputs": [
    {
     "name": "stdin",
     "output_type": "stream",
     "text": [
      "enter the chances 3\n",
      "enter the number1: 2\n"
     ]
    },
    {
     "name": "stdout",
     "output_type": "stream",
     "text": [
      "random number is 1\n",
      "lost\n",
      "3 chances left\n"
     ]
    },
    {
     "name": "stdin",
     "output_type": "stream",
     "text": [
      "enter the number1: 4\n"
     ]
    },
    {
     "name": "stdout",
     "output_type": "stream",
     "text": [
      "random number is 2\n",
      "lost\n",
      "2 chances left\n"
     ]
    },
    {
     "name": "stdin",
     "output_type": "stream",
     "text": [
      "enter the number1: 6\n"
     ]
    },
    {
     "name": "stdout",
     "output_type": "stream",
     "text": [
      "random number is 7\n",
      "lost\n",
      "1 chances left\n"
     ]
    }
   ],
   "source": [
    "#case-2: for every failure, the number of chances should display\n",
    "import random\n",
    "num=eval(input('enter the chances'))\n",
    "for i in range(3):\n",
    "    num1=eval(input('enter the number1:'))\n",
    "    num2=random.randint(1,10)\n",
    "    print(f'random number is {num2}')\n",
    "    if(num1==num2):\n",
    "        print('won')\n",
    "        break\n",
    "    else:\n",
    "        print('lost')\n",
    "        print(f'{num-i} chances left')"
   ]
  },
  {
   "cell_type": "code",
   "execution_count": 4,
   "id": "4c254cd8-c55a-455a-bcfa-67ee7969e3d7",
   "metadata": {},
   "outputs": [
    {
     "name": "stdin",
     "output_type": "stream",
     "text": [
      "enter the chances 3\n",
      "enter the number1: 4\n"
     ]
    },
    {
     "name": "stdout",
     "output_type": "stream",
     "text": [
      "random number is 5\n",
      "lost\n",
      "2 chances left\n"
     ]
    },
    {
     "name": "stdin",
     "output_type": "stream",
     "text": [
      "enter the number1: 5\n"
     ]
    },
    {
     "name": "stdout",
     "output_type": "stream",
     "text": [
      "random number is 9\n",
      "lost\n",
      "1 chances left\n"
     ]
    },
    {
     "name": "stdin",
     "output_type": "stream",
     "text": [
      "enter the number1: 6\n"
     ]
    },
    {
     "name": "stdout",
     "output_type": "stream",
     "text": [
      "random number is 3\n",
      "All the chances are lost, try after 24hours\n"
     ]
    }
   ],
   "source": [
    "# Case-3: after the allthe chances are finished, print all the chances are lost try after 24hoursimport random\n",
    "import random\n",
    "num=eval(input('enter the chances'))\n",
    "for i in range(1,num+1):\n",
    "    num1=eval(input('enter the number1:'))\n",
    "    num2=random.randint(1,10)\n",
    "    print(f'random number is {num2}')\n",
    "    if(num1==num2):\n",
    "        print('won')\n",
    "        break\n",
    "    elif(num-i==0):\n",
    "        print('All the chances are lost, try after 24hours')\n",
    "    else:\n",
    "        print('lost')\n",
    "        print(f'{num-i} chances left')\n",
    "#if(i==2):\n",
    "    "
   ]
  },
  {
   "cell_type": "markdown",
   "id": "545c3ab5-0e1a-4837-9f3d-94e4d49b0535",
   "metadata": {},
   "source": [
    "- range operator expect a value inside\n",
    "- in operator access the value directly"
   ]
  },
  {
   "cell_type": "code",
   "execution_count": 8,
   "id": "70c2d160-4ae9-48af-8b55-866189fd9353",
   "metadata": {},
   "outputs": [
    {
     "name": "stdout",
     "output_type": "stream",
     "text": [
      "p\n",
      "y\n",
      "t\n",
      "h\n",
      "o\n",
      "n\n"
     ]
    }
   ],
   "source": [
    "'p' in 'python'\n",
    "'y' in 'python'\n",
    "'t' in 'python'\n",
    "'h' in 'python'\n",
    "'o' in 'python'\n",
    "'n' in 'python'\n",
    "\n",
    "\n",
    "for i in 'python':\n",
    "    print(i)"
   ]
  },
  {
   "cell_type": "code",
   "execution_count": 10,
   "id": "4517a718-8e3d-4983-8e53-54299e32a41f",
   "metadata": {},
   "outputs": [
    {
     "data": {
      "text/plain": [
       "False"
      ]
     },
     "execution_count": 10,
     "metadata": {},
     "output_type": "execute_result"
    }
   ],
   "source": [
    "'p'=='P' #F"
   ]
  },
  {
   "cell_type": "code",
   "execution_count": 11,
   "id": "b7b0b9d8-5b02-4f89-815a-74ac8950f3ec",
   "metadata": {},
   "outputs": [
    {
     "data": {
      "text/plain": [
       "True"
      ]
     },
     "execution_count": 11,
     "metadata": {},
     "output_type": "execute_result"
    }
   ],
   "source": [
    "'p'=='p' #T"
   ]
  },
  {
   "cell_type": "code",
   "execution_count": 12,
   "id": "bc5675cb-818f-4afc-907b-0c283d19a3de",
   "metadata": {},
   "outputs": [
    {
     "data": {
      "text/plain": [
       "True"
      ]
     },
     "execution_count": 12,
     "metadata": {},
     "output_type": "execute_result"
    }
   ],
   "source": [
    "'p'>'P'  #T"
   ]
  },
  {
   "cell_type": "code",
   "execution_count": 13,
   "id": "d393e3a3-f571-402e-8255-7ad3086c66b1",
   "metadata": {},
   "outputs": [
    {
     "data": {
      "text/plain": [
       "False"
      ]
     },
     "execution_count": 13,
     "metadata": {},
     "output_type": "execute_result"
    }
   ],
   "source": [
    "'p'<'P'  #F"
   ]
  },
  {
   "cell_type": "code",
   "execution_count": null,
   "id": "6ace2fe9-e1f3-430c-bc23-49645862e57a",
   "metadata": {},
   "outputs": [],
   "source": [
    "#ASCII: American standard code for information\n",
    "A=65 a=97\n",
    "B=66 b=98"
   ]
  },
  {
   "cell_type": "markdown",
   "id": "16731374-2424-4dd0-82e6-df1dcbdf8993",
   "metadata": {},
   "source": [
    "**ord-chr**"
   ]
  },
  {
   "cell_type": "code",
   "execution_count": 14,
   "id": "7acd429d-93e7-4562-81c0-cb849288abad",
   "metadata": {},
   "outputs": [
    {
     "data": {
      "text/plain": [
       "65"
      ]
     },
     "execution_count": 14,
     "metadata": {},
     "output_type": "execute_result"
    }
   ],
   "source": [
    "ord('A')"
   ]
  },
  {
   "cell_type": "code",
   "execution_count": 15,
   "id": "82d3476f-8639-44df-b8e2-d14083111c92",
   "metadata": {},
   "outputs": [
    {
     "data": {
      "text/plain": [
       "'A'"
      ]
     },
     "execution_count": 15,
     "metadata": {},
     "output_type": "execute_result"
    }
   ],
   "source": [
    "chr(65)"
   ]
  },
  {
   "cell_type": "code",
   "execution_count": 16,
   "id": "d7b8dd3e-6857-4b65-8121-1d5e66f4098d",
   "metadata": {},
   "outputs": [
    {
     "data": {
      "text/plain": [
       "97"
      ]
     },
     "execution_count": 16,
     "metadata": {},
     "output_type": "execute_result"
    }
   ],
   "source": [
    "ord('a')"
   ]
  },
  {
   "cell_type": "code",
   "execution_count": 17,
   "id": "56bf83ae-8f06-4d15-aa02-51ca2d2c1196",
   "metadata": {},
   "outputs": [
    {
     "data": {
      "text/plain": [
       "'a'"
      ]
     },
     "execution_count": 17,
     "metadata": {},
     "output_type": "execute_result"
    }
   ],
   "source": [
    "chr(97)"
   ]
  },
  {
   "cell_type": "code",
   "execution_count": 20,
   "id": "21522e83-3f70-43b1-839b-9582eb81b14d",
   "metadata": {},
   "outputs": [
    {
     "name": "stdout",
     "output_type": "stream",
     "text": [
      "20 \u0014 21 \u0015 22 \u0016 23 \u0017 24 \u0018 25 \u0019 26 \u001a 27 \u001b 28 \u001c",
      " 29 \u001d",
      " 30 \u001e",
      " 31 \u001f 32   33 ! 34 \" 35 # 36 $ 37 % 38 & 39 ' 40 ( 41 ) 42 * 43 + 44 , 45 - 46 . 47 / 48 0 49 1 50 2 51 3 52 4 53 5 54 6 55 7 56 8 57 9 58 : 59 ; 60 < 61 = 62 > 63 ? 64 @ 65 A 66 B 67 C 68 D 69 E 70 F 71 G 72 H 73 I 74 J 75 K 76 L 77 M 78 N 79 O 80 P 81 Q 82 R 83 S 84 T 85 U 86 V 87 W 88 X 89 Y 90 Z 91 [ 92 \\ 93 ] 94 ^ 95 _ 96 ` 97 a 98 b 99 c 100 d 101 e 102 f 103 g 104 h 105 i 106 j 107 k 108 l 109 m 110 n 111 o 112 p 113 q 114 r 115 s 116 t 117 u 118 v 119 w "
     ]
    }
   ],
   "source": [
    "for i in range(20,120):\n",
    "    print(i,chr(i),end=' ')"
   ]
  },
  {
   "cell_type": "code",
   "execution_count": 22,
   "id": "2b1f6b0d-9f9f-4c6f-807d-0418abd335c0",
   "metadata": {},
   "outputs": [
    {
     "name": "stdout",
     "output_type": "stream",
     "text": [
      "1000 --> Ϩ 1001 --> ϩ 1002 --> Ϫ 1003 --> ϫ 1004 --> Ϭ 1005 --> ϭ 1006 --> Ϯ 1007 --> ϯ 1008 --> ϰ 1009 --> ϱ 1010 --> ϲ 1011 --> ϳ 1012 --> ϴ 1013 --> ϵ 1014 --> ϶ 1015 --> Ϸ 1016 --> ϸ 1017 --> Ϲ 1018 --> Ϻ 1019 --> ϻ 1020 --> ϼ 1021 --> Ͻ 1022 --> Ͼ 1023 --> Ͽ 1024 --> Ѐ 1025 --> Ё 1026 --> Ђ 1027 --> Ѓ 1028 --> Є 1029 --> Ѕ 1030 --> І 1031 --> Ї 1032 --> Ј 1033 --> Љ 1034 --> Њ 1035 --> Ћ 1036 --> Ќ 1037 --> Ѝ 1038 --> Ў 1039 --> Џ 1040 --> А 1041 --> Б 1042 --> В 1043 --> Г 1044 --> Д 1045 --> Е 1046 --> Ж 1047 --> З 1048 --> И 1049 --> Й 1050 --> К 1051 --> Л 1052 --> М 1053 --> Н 1054 --> О 1055 --> П 1056 --> Р 1057 --> С 1058 --> Т 1059 --> У 1060 --> Ф 1061 --> Х 1062 --> Ц 1063 --> Ч 1064 --> Ш 1065 --> Щ 1066 --> Ъ 1067 --> Ы 1068 --> Ь 1069 --> Э 1070 --> Ю 1071 --> Я 1072 --> а 1073 --> б 1074 --> в 1075 --> г 1076 --> д 1077 --> е 1078 --> ж 1079 --> з 1080 --> и 1081 --> й 1082 --> к 1083 --> л 1084 --> м 1085 --> н 1086 --> о 1087 --> п 1088 --> р 1089 --> с 1090 --> т 1091 --> у 1092 --> ф 1093 --> х 1094 --> ц 1095 --> ч 1096 --> ш 1097 --> щ 1098 --> ъ 1099 --> ы "
     ]
    }
   ],
   "source": [
    "for i in range(1000,1100):\n",
    "    print(i,'-->',chr(i),end=' ')"
   ]
  },
  {
   "cell_type": "code",
   "execution_count": 23,
   "id": "5ca9ccb8-a512-49c9-94eb-8019f82de962",
   "metadata": {},
   "outputs": [
    {
     "name": "stdout",
     "output_type": "stream",
     "text": [
      "2821 ଅ 2822 ଆ 2823 ଇ 2824 ଈ 2825 ଉ 2826 ଊ 2827 ଋ 2828 ଌ 2829 ଍ 2830 ଎ 2831 ଏ 2832 ଐ 2833 ଑ 2834 ଒ 2835 ଓ 2836 ଔ 2837 କ 2838 ଖ 2839 ଗ 2840 ଘ 2841 ଙ 2842 ଚ 2843 ଛ 2844 ଜ 2845 ଝ 2846 ଞ 2847 ଟ 2848 ଠ 2849 ଡ 2850 ଢ 2851 ଣ 2852 ତ 2853 ଥ 2854 ଦ 2855 ଧ 2856 ନ 2857 ଩ 2858 ପ 2859 ଫ 2860 ବ 2861 ଭ 2862 ମ 2863 ଯ 2864 ର 2865 ଱ 2866 ଲ 2867 ଳ 2868 ଴ 2869 ଵ 2870 ଶ 2871 ଷ 2872 ସ 2873 ହ 2874 ଺ 2875 ଻ 2876 ଼ 2877 ଽ 2878 ା 2879 ି 2880 ୀ 2881 ୁ 2882 ୂ 2883 ୃ 2884 ୄ 2885 ୅ 2886 ୆ 2887 େ 2888 ୈ 2889 ୉ 2890 ୊ 2891 ୋ 2892 ୌ "
     ]
    }
   ],
   "source": [
    "for i in range(2821,2893):\n",
    "    print(i,chr(i),end=' ')"
   ]
  },
  {
   "cell_type": "code",
   "execution_count": 24,
   "id": "a955ee4a-7208-4700-9939-17b0a1927edd",
   "metadata": {},
   "outputs": [
    {
     "name": "stdout",
     "output_type": "stream",
     "text": [
      "2308 ऄ 2309 अ 2310 आ 2311 इ 2312 ई 2313 उ 2314 ऊ 2315 ऋ 2316 ऌ 2317 ऍ 2318 ऎ 2319 ए 2320 ऐ 2321 ऑ 2322 ऒ 2323 ओ 2324 औ 2325 क 2326 ख 2327 ग 2328 घ 2329 ङ 2330 च 2331 छ 2332 ज 2333 झ 2334 ञ 2335 ट 2336 ठ 2337 ड 2338 ढ 2339 ण 2340 त 2341 थ 2342 द 2343 ध 2344 न 2345 ऩ 2346 प 2347 फ 2348 ब 2349 भ 2350 म 2351 य 2352 र 2353 ऱ 2354 ल 2355 ळ 2356 ऴ 2357 व 2358 श 2359 ष 2360 स 2361 ह 2362 ऺ 2363 ऻ 2364 ़ 2365 ऽ 2366 ा 2367 ि 2368 ी 2369 ु 2370 ू 2371 ृ 2372 ॄ 2373 ॅ 2374 ॆ 2375 े 2376 ै 2377 ॉ 2378 ॊ 2379 ो 2380 ौ 2381 ् 2382 ॎ 2383 ॏ 2384 ॐ 2385 ॑ 2386 ॒ 2387 ॓ 2388 ॔ 2389 ॕ 2390 ॖ 2391 ॗ 2392 क़ 2393 ख़ 2394 ग़ 2395 ज़ 2396 ड़ 2397 ढ़ 2398 फ़ 2399 य़ "
     ]
    }
   ],
   "source": [
    "for i in range(2308,2400):\n",
    "    print(i,chr(i),end=' ')"
   ]
  },
  {
   "cell_type": "code",
   "execution_count": 25,
   "id": "418c784d-19f3-493e-a73a-24648b9c6279",
   "metadata": {},
   "outputs": [
    {
     "name": "stdout",
     "output_type": "stream",
     "text": [
      "3077 అ 3078 ఆ 3079 ఇ 3080 ఈ 3081 ఉ 3082 ఊ 3083 ఋ 3084 ఌ 3085 ఍ 3086 ఎ 3087 ఏ 3088 ఐ 3089 ఑ 3090 ఒ 3091 ఓ 3092 ఔ 3093 క 3094 ఖ 3095 గ 3096 ఘ 3097 ఙ 3098 చ 3099 ఛ 3100 జ 3101 ఝ 3102 ఞ 3103 ట 3104 ఠ 3105 డ 3106 ఢ 3107 ణ 3108 త 3109 థ 3110 ద 3111 ధ 3112 న 3113 ఩ 3114 ప 3115 ఫ 3116 బ 3117 భ 3118 మ 3119 య 3120 ర 3121 ఱ 3122 ల 3123 ళ 3124 ఴ 3125 వ 3126 శ 3127 ష 3128 స 3129 హ 3130 ఺ 3131 ఻ 3132 ఼ 3133 ఽ 3134 ా 3135 ి 3136 ీ 3137 ు 3138 ూ 3139 ృ 3140 ౄ 3141 ౅ 3142 ె 3143 ే 3144 ై 3145 ౉ 3146 ొ 3147 ో 3148 ౌ 3149 ్ 3150 ౎ 3151 ౏ 3152 ౐ 3153 ౑ 3154 ౒ 3155 ౓ 3156 ౔ 3157 ౕ 3158 ౖ 3159 ౗ 3160 ౘ 3161 ౙ 3162 ౚ 3163 ౛ 3164 ౜ 3165 ౝ 3166 ౞ 3167 ౟ 3168 ౠ 3169 ౡ 3170 ౢ 3171 ౣ 3172 ౤ 3173 ౥ 3174 ౦ 3175 ౧ 3176 ౨ 3177 ౩ 3178 ౪ 3179 ౫ 3180 ౬ 3181 ౭ 3182 ౮ 3183 ౯ 3184 ౰ 3185 ౱ 3186 ౲ 3187 ౳ 3188 ౴ 3189 ౵ 3190 ౶ 3191 ౷ 3192 ౸ 3193 ౹ 3194 ౺ 3195 ౻ 3196 ౼ 3197 ౽ 3198 ౾ 3199 ౿ 3200 ಀ 3201 ಁ 3202 ಂ 3203 ಃ 3204 ಄ 3205 ಅ 3206 ಆ 3207 ಇ 3208 ಈ 3209 ಉ 3210 ಊ 3211 ಋ 3212 ಌ 3213 ಍ 3214 ಎ 3215 ಏ 3216 ಐ 3217 ಑ 3218 ಒ 3219 ಓ 3220 ಔ 3221 ಕ 3222 ಖ 3223 ಗ 3224 ಘ 3225 ಙ 3226 ಚ 3227 ಛ 3228 ಜ 3229 ಝ 3230 ಞ 3231 ಟ 3232 ಠ 3233 ಡ 3234 ಢ 3235 ಣ 3236 ತ 3237 ಥ 3238 ದ 3239 ಧ 3240 ನ 3241 ಩ 3242 ಪ 3243 ಫ 3244 ಬ 3245 ಭ 3246 ಮ 3247 ಯ 3248 ರ 3249 ಱ 3250 ಲ "
     ]
    }
   ],
   "source": [
    "for i in range(3077,3251):\n",
    "    print(i,chr(i),end=' ')"
   ]
  },
  {
   "cell_type": "code",
   "execution_count": 32,
   "id": "58e1749f-adfc-40d8-9359-7883beea06ee",
   "metadata": {},
   "outputs": [
    {
     "ename": "TypeError",
     "evalue": "'str' object cannot be interpreted as an integer",
     "output_type": "error",
     "traceback": [
      "\u001b[1;31m---------------------------------------------------------------------------\u001b[0m",
      "\u001b[1;31mTypeError\u001b[0m                                 Traceback (most recent call last)",
      "Cell \u001b[1;32mIn[32], line 1\u001b[0m\n\u001b[1;32m----> 1\u001b[0m \u001b[38;5;28;01mfor\u001b[39;00m i \u001b[38;5;129;01min\u001b[39;00m \u001b[38;5;28mrange\u001b[39m(\u001b[38;5;124m'\u001b[39m\u001b[38;5;124mA\u001b[39m\u001b[38;5;124m'\u001b[39m,\u001b[38;5;124m'\u001b[39m\u001b[38;5;124mZ\u001b[39m\u001b[38;5;124m'\u001b[39m):\n\u001b[0;32m      2\u001b[0m     \u001b[38;5;28mprint\u001b[39m(\u001b[38;5;28mord\u001b[39m(i),\u001b[38;5;124m'\u001b[39m\u001b[38;5;124m-->\u001b[39m\u001b[38;5;124m'\u001b[39m,i,end\u001b[38;5;241m=\u001b[39m\u001b[38;5;124m'\u001b[39m\u001b[38;5;124m \u001b[39m\u001b[38;5;124m'\u001b[39m)\n",
      "\u001b[1;31mTypeError\u001b[0m: 'str' object cannot be interpreted as an integer"
     ]
    }
   ],
   "source": [
    "for i in range('A','Z'):\n",
    "    print(ord(i),'-->',i,end=' ')"
   ]
  },
  {
   "cell_type": "code",
   "execution_count": 33,
   "id": "56b60f22-8c5a-4aac-be77-7b4e0dd7e83c",
   "metadata": {},
   "outputs": [
    {
     "name": "stdout",
     "output_type": "stream",
     "text": [
      "A --> 65 B --> 66 C --> 67 D --> 68 E --> 69 F --> 70 G --> 71 H --> 72 I --> 73 J --> 74 K --> 75 L --> 76 M --> 77 N --> 78 O --> 79 P --> 80 Q --> 81 R --> 82 S --> 83 T --> 84 U --> 85 V --> 86 W --> 87 X --> 88 Y --> 89 Z --> 90 "
     ]
    }
   ],
   "source": [
    "import string\n",
    "for i in string.ascii_uppercase:\n",
    "    print(i,'-->',ord(i),end=' ')"
   ]
  },
  {
   "cell_type": "markdown",
   "id": "ab211433-e628-4aaf-88d2-d64402969a21",
   "metadata": {},
   "source": [
    "**iterator**"
   ]
  },
  {
   "cell_type": "markdown",
   "id": "48d38707-66fe-41db-a5f4-324c62276245",
   "metadata": {},
   "source": [
    "- in operator access direct elements which is calles iterator\n",
    "- iterator means\n",
    "    - string\n",
    "    - list\n",
    "    - tuple\n",
    "    - dictionary\n",
    "- iteators means which can be print by using for loop\n",
    "- whenever we use in operators dont give the numbers\n",
    "- whenever we use range operators dont give the iterator\n",
    "- rangw needs only a number"
   ]
  },
  {
   "cell_type": "code",
   "execution_count": 35,
   "id": "0e77afc9-54ea-4a78-b27d-2265fd180813",
   "metadata": {},
   "outputs": [
    {
     "data": {
      "text/plain": [
       "['h', 'n', 'o', 'p', 't', 'y']"
      ]
     },
     "execution_count": 35,
     "metadata": {},
     "output_type": "execute_result"
    }
   ],
   "source": [
    "sorted('python')"
   ]
  },
  {
   "cell_type": "code",
   "execution_count": 36,
   "id": "876c471e-d4ad-41f9-90e8-da427dcb34ed",
   "metadata": {},
   "outputs": [
    {
     "data": {
      "text/plain": [
       "(112, 121, 116, 104, 111, 110)"
      ]
     },
     "execution_count": 36,
     "metadata": {},
     "output_type": "execute_result"
    }
   ],
   "source": [
    "ord('p'),ord('y'),ord('t'),ord('h'),ord('o'),ord('n')"
   ]
  },
  {
   "cell_type": "code",
   "execution_count": null,
   "id": "0733680f-13fc-4fb1-9333-35bc0fe2c5f7",
   "metadata": {},
   "outputs": [],
   "source": []
  }
 ],
 "metadata": {
  "kernelspec": {
   "display_name": "Python 3 (ipykernel)",
   "language": "python",
   "name": "python3"
  },
  "language_info": {
   "codemirror_mode": {
    "name": "ipython",
    "version": 3
   },
   "file_extension": ".py",
   "mimetype": "text/x-python",
   "name": "python",
   "nbconvert_exporter": "python",
   "pygments_lexer": "ipython3",
   "version": "3.12.4"
  }
 },
 "nbformat": 4,
 "nbformat_minor": 5
}
