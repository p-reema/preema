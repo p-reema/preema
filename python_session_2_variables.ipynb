{
 "cells": [
  {
   "cell_type": "code",
   "execution_count": 1,
   "id": "e1d9c956-4c71-4c04-9888-3a03313bf661",
   "metadata": {},
   "outputs": [
    {
     "data": {
      "text/plain": [
       "'C:\\\\Users\\\\Preema S\\\\Documents\\\\NareshIT\\\\python_sessions'"
      ]
     },
     "execution_count": 1,
     "metadata": {},
     "output_type": "execute_result"
    }
   ],
   "source": [
    "import os\n",
    "os.getcwd()"
   ]
  },
  {
   "cell_type": "markdown",
   "id": "716b5cb5-04b7-4f5b-8dc8-bc67833e01ed",
   "metadata": {},
   "source": [
    "## VARIABLES"
   ]
  },
  {
   "cell_type": "markdown",
   "id": "79c8ce03-c424-4e19-a04b-3cb89e51b179",
   "metadata": {},
   "source": [
    "Variables are used to store the value & the values can be chaged"
   ]
  },
  {
   "cell_type": "code",
   "execution_count": 2,
   "id": "76610f7a-0657-4f08-9f5c-0a9df551e0a3",
   "metadata": {},
   "outputs": [
    {
     "name": "stdout",
     "output_type": "stream",
     "text": [
      "100\n"
     ]
    }
   ],
   "source": [
    "num=100\n",
    "# value 100 stored in varible called num\n",
    "print(num)"
   ]
  },
  {
   "cell_type": "code",
   "execution_count": 4,
   "id": "fa34107b-de8d-4321-a85f-d2b681154d71",
   "metadata": {},
   "outputs": [
    {
     "name": "stdout",
     "output_type": "stream",
     "text": [
      "200\n"
     ]
    }
   ],
   "source": [
    "num=200\n",
    "print(num)"
   ]
  },
  {
   "cell_type": "code",
   "execution_count": 5,
   "id": "966f38ef-84b3-4a8e-afb9-1bb43f1b16af",
   "metadata": {},
   "outputs": [
    {
     "data": {
      "text/plain": [
       "100"
      ]
     },
     "execution_count": 5,
     "metadata": {},
     "output_type": "execute_result"
    }
   ],
   "source": [
    "NUMBER=100\n",
    "NUMBER"
   ]
  },
  {
   "cell_type": "code",
   "execution_count": 6,
   "id": "93b5c281-802c-4d4c-be10-3d99ae408400",
   "metadata": {},
   "outputs": [
    {
     "data": {
      "text/plain": [
       "200"
      ]
     },
     "execution_count": 6,
     "metadata": {},
     "output_type": "execute_result"
    }
   ],
   "source": [
    "number=200\n",
    "number"
   ]
  },
  {
   "cell_type": "code",
   "execution_count": 7,
   "id": "769393c2-f2de-4538-8c24-68b4e9c5e5c2",
   "metadata": {},
   "outputs": [
    {
     "data": {
      "text/plain": [
       "(200, 100)"
      ]
     },
     "execution_count": 7,
     "metadata": {},
     "output_type": "execute_result"
    }
   ],
   "source": [
    "number,NUMBER"
   ]
  },
  {
   "cell_type": "code",
   "execution_count": null,
   "id": "448c8545-ffe5-49fd-adc1-67ccd49b99f6",
   "metadata": {},
   "outputs": [],
   "source": [
    "number \n",
    "NUMBER\n",
    "number123 # works\n",
    "123number # not works\n",
    "special characters # nw\n",
    "_ # works"
   ]
  },
  {
   "cell_type": "code",
   "execution_count": 8,
   "id": "74cebf3a-5418-4b0f-ad16-c0e56d75153a",
   "metadata": {},
   "outputs": [
    {
     "data": {
      "text/plain": [
       "500"
      ]
     },
     "execution_count": 8,
     "metadata": {},
     "output_type": "execute_result"
    }
   ],
   "source": [
    "Num=500\n",
    "Num"
   ]
  },
  {
   "cell_type": "code",
   "execution_count": 9,
   "id": "75e8ec51-f094-402e-8dc4-3c06c060f3e1",
   "metadata": {},
   "outputs": [
    {
     "data": {
      "text/plain": [
       "3"
      ]
     },
     "execution_count": 9,
     "metadata": {},
     "output_type": "execute_result"
    }
   ],
   "source": [
    "num_ber=3\n",
    "num_ber"
   ]
  },
  {
   "cell_type": "markdown",
   "id": "79b1490e-4a9e-49dd-8fa4-b1ccafd41ef9",
   "metadata": {},
   "source": [
    "variables can be\n",
    "- small letter\n",
    "- capital letter\n",
    "- mix of small and capital\n",
    "- mix of letters and number (suffix)\n",
    "- not a mix of letters and number (prefix)\n",
    "- not be included special characters except underscore\n",
    "- not include space\n",
    "- inbuilt keyword are not variables"
   ]
  },
  {
   "cell_type": "code",
   "execution_count": 11,
   "id": "63c11bdd-1199-403c-8b58-cfadedd5db80",
   "metadata": {},
   "outputs": [
    {
     "data": {
      "text/plain": [
       "1"
      ]
     },
     "execution_count": 11,
     "metadata": {},
     "output_type": "execute_result"
    }
   ],
   "source": [
    "_=1\n",
    "_\n",
    "\n",
    "#only underscore will works"
   ]
  },
  {
   "cell_type": "code",
   "execution_count": null,
   "id": "b89e8394-7de3-4b9e-97d1-d9933bdab3f6",
   "metadata": {},
   "outputs": [],
   "source": []
  }
 ],
 "metadata": {
  "kernelspec": {
   "display_name": "Python 3 (ipykernel)",
   "language": "python",
   "name": "python3"
  },
  "language_info": {
   "codemirror_mode": {
    "name": "ipython",
    "version": 3
   },
   "file_extension": ".py",
   "mimetype": "text/x-python",
   "name": "python",
   "nbconvert_exporter": "python",
   "pygments_lexer": "ipython3",
   "version": "3.12.4"
  }
 },
 "nbformat": 4,
 "nbformat_minor": 5
}
