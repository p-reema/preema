{
 "cells": [
  {
   "cell_type": "markdown",
   "id": "38bca5f1-ff1e-4a3b-b134-d8d8e07d6fd3",
   "metadata": {},
   "source": [
    "**while loop**"
   ]
  },
  {
   "cell_type": "markdown",
   "id": "0af84694-18de-410d-9dc2-0f769a61f77e",
   "metadata": {},
   "source": [
    "- initialization\n",
    "- increment or decrement\n",
    "- condition to stop"
   ]
  },
  {
   "cell_type": "markdown",
   "id": "32494a9c-8254-4b31-93ef-29bd263a827c",
   "metadata": {},
   "source": [
    "**in for loop all the above 3 will happen in a single statement**"
   ]
  },
  {
   "cell_type": "code",
   "execution_count": 4,
   "id": "1e3864cc-ed8f-4a98-a925-f30e00558406",
   "metadata": {},
   "outputs": [
    {
     "name": "stdout",
     "output_type": "stream",
     "text": [
      "2 4 6 8 10 12 14 16 18 "
     ]
    }
   ],
   "source": [
    "for i in range(2,20,2):\n",
    "    print(i,end=' ')"
   ]
  },
  {
   "cell_type": "markdown",
   "id": "4f728862-975e-47f3-9ce6-f42094987adf",
   "metadata": {},
   "source": [
    "**but in while loop all 3 are happen in each line**"
   ]
  },
  {
   "cell_type": "code",
   "execution_count": null,
   "id": "1d332000-801c-4d17-9c3a-99a586dc4c13",
   "metadata": {},
   "outputs": [],
   "source": [
    "# initial value\n",
    "# condition\n",
    "    #write your code\n",
    "    #increment or decrement\n",
    "\n",
    "<initial value>\n",
    "while <condition>:\n",
    "    <write ur code>\n",
    "    <increment or decrement>\n",
    "\n",
    "# we need to write a condition\n",
    "#     while should give enter inside the loop\n",
    "#     after some time wheever the condition  satisfies\n",
    "#         the code should stop"
   ]
  },
  {
   "cell_type": "code",
   "execution_count": null,
   "id": "80d1b22e-3585-4203-b6f0-b53755704620",
   "metadata": {},
   "outputs": [],
   "source": [
    "#infinit loop\n",
    "i=2\n",
    "while i>=2:\n",
    "    print(i,end=' ')\n",
    "    i=i+2"
   ]
  },
  {
   "cell_type": "code",
   "execution_count": 10,
   "id": "2ebab562-6a8a-44c6-b42c-852266f60cb7",
   "metadata": {},
   "outputs": [
    {
     "name": "stdout",
     "output_type": "stream",
     "text": [
      "2 4 6 8 10 12 14 16 18 "
     ]
    }
   ],
   "source": [
    "i=2\n",
    "while i<=18:\n",
    "    print(i,end=' ')\n",
    "    i=i+2"
   ]
  },
  {
   "cell_type": "code",
   "execution_count": 11,
   "id": "310a309b-4951-45c1-9b09-daa3d3c0d35f",
   "metadata": {},
   "outputs": [
    {
     "name": "stdout",
     "output_type": "stream",
     "text": [
      "2 4 6 8 10 12 14 16 "
     ]
    }
   ],
   "source": [
    "i=2\n",
    "while i!=18:\n",
    "    print(i,end=' ')\n",
    "    i=i+2"
   ]
  },
  {
   "cell_type": "code",
   "execution_count": 12,
   "id": "2a22a306-57cb-42a9-bb0c-02e3338d92ac",
   "metadata": {},
   "outputs": [
    {
     "name": "stdout",
     "output_type": "stream",
     "text": [
      "2 4 6 8 10 12 14 16 "
     ]
    }
   ],
   "source": [
    "i=2\n",
    "while i<18:\n",
    "    print(i,end=' ')\n",
    "    i=i+2"
   ]
  },
  {
   "cell_type": "code",
   "execution_count": 17,
   "id": "c0365886-bb48-4a1e-ab88-b10ad56e65e0",
   "metadata": {},
   "outputs": [
    {
     "name": "stdout",
     "output_type": "stream",
     "text": [
      "10 9 8 7 6 5 4 3 2 1 "
     ]
    }
   ],
   "source": [
    "i=10\n",
    "while i>=1:\n",
    "    print(i,end=' ')\n",
    "    i=i-1"
   ]
  },
  {
   "cell_type": "code",
   "execution_count": 28,
   "id": "c76d6924-49e3-4b92-90b7-d7a5bb6c42b3",
   "metadata": {},
   "outputs": [
    {
     "name": "stdout",
     "output_type": "stream",
     "text": [
      "-10 -9 -8 -7 -6 -5 -4 -3 -2 -1 "
     ]
    }
   ],
   "source": [
    "i=-10\n",
    "while i<=-1:\n",
    "    print(i,end=' ')\n",
    "    i=i+1"
   ]
  },
  {
   "cell_type": "code",
   "execution_count": 18,
   "id": "03320c6f-2495-473e-a8a5-99cf6142eb56",
   "metadata": {},
   "outputs": [
    {
     "name": "stdout",
     "output_type": "stream",
     "text": [
      "-1 -2 -3 -4 -5 -6 -7 -8 -9 -10 "
     ]
    }
   ],
   "source": [
    "i=-1\n",
    "while i>=-10:\n",
    "    print(i,end=' ')\n",
    "    i=i-1"
   ]
  },
  {
   "cell_type": "markdown",
   "id": "a506822e-1ff7-41dc-8223-b2c69faa067a",
   "metadata": {},
   "source": [
    "**True**"
   ]
  },
  {
   "cell_type": "markdown",
   "id": "c484d4e0-f366-4fc5-bb08-a47811836758",
   "metadata": {},
   "source": [
    "- True is a condition always give a permission to enter inside the loop\n",
    "- some time we can not fix the condition\n",
    "- but we know stop condition"
   ]
  },
  {
   "cell_type": "code",
   "execution_count": 29,
   "id": "e94041d2-b87f-4ce7-a85e-af12b5327d69",
   "metadata": {},
   "outputs": [
    {
     "name": "stdout",
     "output_type": "stream",
     "text": [
      "2 4 6 8 10 12 14 16 18 "
     ]
    }
   ],
   "source": [
    "i=2\n",
    "while True:\n",
    "    print(i,end=' ')\n",
    "    i=i+2\n",
    "    if i==20:\n",
    "        break"
   ]
  },
  {
   "cell_type": "code",
   "execution_count": 34,
   "id": "2b32ce8a-8cfc-423d-a1b2-b7afb5f8701f",
   "metadata": {},
   "outputs": [
    {
     "name": "stdout",
     "output_type": "stream",
     "text": [
      "2 4 6 8 10 12 14 16 "
     ]
    }
   ],
   "source": [
    "i=2\n",
    "while True:\n",
    "    print(i,end=' ')\n",
    "    i=i+2\n",
    "    if i>=18:\n",
    "        break"
   ]
  },
  {
   "cell_type": "code",
   "execution_count": 37,
   "id": "4cdc3855-d97a-4504-b1e6-53b914d6a81b",
   "metadata": {},
   "outputs": [
    {
     "name": "stdout",
     "output_type": "stream",
     "text": [
      "10 9 8 7 6 5 4 3 2 1 "
     ]
    }
   ],
   "source": [
    "# i=10\n",
    "# while i>=1:\n",
    "#     print(i,end=' ')\n",
    "#     i=i-1\n",
    "\n",
    "i=10\n",
    "while True:\n",
    "    print(i,end=' ')\n",
    "    i=i-1\n",
    "    if i<1:\n",
    "        break"
   ]
  },
  {
   "cell_type": "markdown",
   "id": "1e5cac88-c6fc-4341-8db9-47edb59985a8",
   "metadata": {},
   "source": [
    "**when to use while and for**\n",
    "\n",
    "- if we observe for loop,**start stop step**\n",
    "- there is no infinite loop situation here\n",
    "- if we want to gine infinite loop situation\n",
    "      - based on correct value we want to stop the loop then we go for while loop"
   ]
  },
  {
   "cell_type": "code",
   "execution_count": 43,
   "id": "ab1e86c9-9161-4e38-a89e-2c7e3b479c8e",
   "metadata": {},
   "outputs": [
    {
     "name": "stdout",
     "output_type": "stream",
     "text": [
      "10\n"
     ]
    },
    {
     "name": "stdin",
     "output_type": "stream",
     "text": [
      "enter the number2: 2\n"
     ]
    },
    {
     "name": "stdout",
     "output_type": "stream",
     "text": [
      "lost\n",
      "10\n"
     ]
    },
    {
     "name": "stdin",
     "output_type": "stream",
     "text": [
      "enter the number2: 3\n"
     ]
    },
    {
     "name": "stdout",
     "output_type": "stream",
     "text": [
      "lost\n",
      "7\n"
     ]
    },
    {
     "name": "stdin",
     "output_type": "stream",
     "text": [
      "enter the number2: 7\n"
     ]
    },
    {
     "name": "stdout",
     "output_type": "stream",
     "text": [
      "won\n"
     ]
    }
   ],
   "source": [
    "# wap ask the user get a random number n1\n",
    "# wap ask the user enter a number n2\n",
    "# if both matches print won\n",
    "# otherwise lost\n",
    "# give infinite chances\n",
    "# the loop will stop when both value are matched\n",
    "\n",
    "\n",
    "import random\n",
    "while True:\n",
    "    n1=random.randint(1,10)\n",
    "    print(n1)\n",
    "    n2=eval(input('enter the number2:'))\n",
    "    if(n1==n2):\n",
    "        print('won')\n",
    "        break\n",
    "    else:\n",
    "        print('lost')"
   ]
  },
  {
   "cell_type": "code",
   "execution_count": null,
   "id": "f88fc7cc-e3e2-4305-ac2e-08cc7a0ed357",
   "metadata": {},
   "outputs": [],
   "source": []
  },
  {
   "cell_type": "code",
   "execution_count": null,
   "id": "102fef99-16c3-43c0-9573-8ae2e28367e6",
   "metadata": {},
   "outputs": [],
   "source": []
  }
 ],
 "metadata": {
  "kernelspec": {
   "display_name": "Python 3 (ipykernel)",
   "language": "python",
   "name": "python3"
  },
  "language_info": {
   "codemirror_mode": {
    "name": "ipython",
    "version": 3
   },
   "file_extension": ".py",
   "mimetype": "text/x-python",
   "name": "python",
   "nbconvert_exporter": "python",
   "pygments_lexer": "ipython3",
   "version": "3.12.4"
  }
 },
 "nbformat": 4,
 "nbformat_minor": 5
}
