{
 "cells": [
  {
   "cell_type": "markdown",
   "id": "fbc1fb84-b208-42cd-81d8-ef26bfa4e1d5",
   "metadata": {},
   "source": [
    "**Type casting**\n"
   ]
  },
  {
   "cell_type": "markdown",
   "id": "cdd0779b-a15f-42ac-ab36-19a70739ca01",
   "metadata": {},
   "source": [
    "- changing one data type to another"
   ]
  },
  {
   "cell_type": "code",
   "execution_count": 1,
   "id": "ad92b98e-3418-40c8-b306-38d4634d43b6",
   "metadata": {},
   "outputs": [
    {
     "data": {
      "text/plain": [
       "int"
      ]
     },
     "execution_count": 1,
     "metadata": {},
     "output_type": "execute_result"
    }
   ],
   "source": [
    "num=100\n",
    "type(num)"
   ]
  },
  {
   "cell_type": "code",
   "execution_count": 3,
   "id": "ff7936a3-e27e-465c-b3c8-722497775922",
   "metadata": {},
   "outputs": [
    {
     "data": {
      "text/plain": [
       "float"
      ]
     },
     "execution_count": 3,
     "metadata": {},
     "output_type": "execute_result"
    }
   ],
   "source": [
    "fnum=float(num)\n",
    "type(fnum)"
   ]
  },
  {
   "cell_type": "code",
   "execution_count": 4,
   "id": "3b308031-7572-44c1-a720-09a8a96da15b",
   "metadata": {},
   "outputs": [
    {
     "data": {
      "text/plain": [
       "'100'"
      ]
     },
     "execution_count": 4,
     "metadata": {},
     "output_type": "execute_result"
    }
   ],
   "source": [
    "str(num)"
   ]
  },
  {
   "cell_type": "code",
   "execution_count": 5,
   "id": "3a616fad-1101-4a60-91de-67d25de4c61b",
   "metadata": {},
   "outputs": [
    {
     "data": {
      "text/plain": [
       "str"
      ]
     },
     "execution_count": 5,
     "metadata": {},
     "output_type": "execute_result"
    }
   ],
   "source": [
    "snum=str(num)\n",
    "type(snum)"
   ]
  },
  {
   "cell_type": "code",
   "execution_count": 7,
   "id": "b5e795eb-e887-4b1e-9ec1-82ff1aa3ae0a",
   "metadata": {},
   "outputs": [
    {
     "name": "stdout",
     "output_type": "stream",
     "text": [
      "100\n",
      "100.0\n",
      "True\n"
     ]
    }
   ],
   "source": [
    "print(str(100))\n",
    "print(float(100))\n",
    "print(bool(100))"
   ]
  },
  {
   "cell_type": "code",
   "execution_count": 8,
   "id": "a32120e3-a176-40a6-a6f0-a9325303d651",
   "metadata": {},
   "outputs": [
    {
     "name": "stdout",
     "output_type": "stream",
     "text": [
      "-100\n",
      "-100.0\n",
      "True\n"
     ]
    }
   ],
   "source": [
    "print(str(-100))\n",
    "print(float(-100))\n",
    "print(bool(-100))"
   ]
  },
  {
   "cell_type": "code",
   "execution_count": 9,
   "id": "a8b5abfc-a3f1-461a-aa17-aec3ba4958d3",
   "metadata": {},
   "outputs": [
    {
     "name": "stdout",
     "output_type": "stream",
     "text": [
      "0\n",
      "0.0\n",
      "False\n"
     ]
    }
   ],
   "source": [
    "print(str(0))\n",
    "print(float(0))\n",
    "print(bool(0))"
   ]
  },
  {
   "cell_type": "markdown",
   "id": "b5a13d5d-9ede-431d-b58a-29d49c6bbcb6",
   "metadata": {},
   "source": [
    "- boolean conversion of 0 is false others are true\n",
    "  \n"
   ]
  },
  {
   "cell_type": "markdown",
   "id": "a84a9f61-fe6f-422d-b795-40e34082b234",
   "metadata": {},
   "source": [
    "**float to other type**"
   ]
  },
  {
   "cell_type": "code",
   "execution_count": 10,
   "id": "05b6d398-72c9-4930-8d3f-e0d173a786e4",
   "metadata": {},
   "outputs": [
    {
     "name": "stdout",
     "output_type": "stream",
     "text": [
      "100.25\n",
      "100\n",
      "True\n"
     ]
    }
   ],
   "source": [
    "print(str(100.25))\n",
    "print(int(100.25))\n",
    "print(bool(100.25))"
   ]
  },
  {
   "cell_type": "markdown",
   "id": "dc81ed72-5714-4fec-a74d-dda31dccddb7",
   "metadata": {},
   "source": [
    "**str to other types**"
   ]
  },
  {
   "cell_type": "markdown",
   "id": "f2b0629f-6766-4684-8e61-f6fafbf38e2c",
   "metadata": {},
   "source": [
    "- int('apple') #error\n",
    "- float('apple') #error\n",
    "- bool('apple') #true\n",
    "- bool('0') #true\n",
    "- bool('') #false"
   ]
  },
  {
   "cell_type": "code",
   "execution_count": 15,
   "id": "ced38923-c9b1-41f4-80ef-0671e3e8d039",
   "metadata": {},
   "outputs": [
    {
     "data": {
      "text/plain": [
       "True"
      ]
     },
     "execution_count": 15,
     "metadata": {},
     "output_type": "execute_result"
    }
   ],
   "source": [
    "bool('0')"
   ]
  },
  {
   "cell_type": "code",
   "execution_count": 11,
   "id": "7b722104-a8a3-416c-b592-8994e130715d",
   "metadata": {},
   "outputs": [
    {
     "data": {
      "text/plain": [
       "True"
      ]
     },
     "execution_count": 11,
     "metadata": {},
     "output_type": "execute_result"
    }
   ],
   "source": [
    "bool('apple')"
   ]
  },
  {
   "cell_type": "code",
   "execution_count": 12,
   "id": "2653ce17-5250-4c7b-aaab-d9ff63c28af7",
   "metadata": {},
   "outputs": [
    {
     "data": {
      "text/plain": [
       "10"
      ]
     },
     "execution_count": 12,
     "metadata": {},
     "output_type": "execute_result"
    }
   ],
   "source": [
    "int('10')"
   ]
  },
  {
   "cell_type": "code",
   "execution_count": 13,
   "id": "288b300d-ac8b-4d54-96ca-1acce36ca6bd",
   "metadata": {},
   "outputs": [
    {
     "data": {
      "text/plain": [
       "10.0"
      ]
     },
     "execution_count": 13,
     "metadata": {},
     "output_type": "execute_result"
    }
   ],
   "source": [
    "float('10')"
   ]
  },
  {
   "cell_type": "code",
   "execution_count": 14,
   "id": "11613eeb-12b2-4572-8781-c13dc12a1e5b",
   "metadata": {},
   "outputs": [
    {
     "data": {
      "text/plain": [
       "True"
      ]
     },
     "execution_count": 14,
     "metadata": {},
     "output_type": "execute_result"
    }
   ],
   "source": [
    "bool('10')"
   ]
  },
  {
   "cell_type": "markdown",
   "id": "ea4fe1cd-e64d-4fa7-aa63-7984d215142a",
   "metadata": {},
   "source": [
    "- int('10.5') #not work"
   ]
  },
  {
   "cell_type": "markdown",
   "id": "f95c0434-283d-4b46-bd4c-32d8d2e64042",
   "metadata": {},
   "source": [
    "- int('10.5')\n",
    "---------------------------------------------------------------------------\n",
    "ValueError                                Traceback (most recent call last)\n",
    "Cell In[16], line 1\n",
    "----> 1 int('10.5')\n",
    "\n",
    "ValueError: invalid literal for int() with base 10: '10.5"
   ]
  },
  {
   "cell_type": "code",
   "execution_count": 17,
   "id": "5f343129-6e3b-484a-8040-df1794fa8381",
   "metadata": {},
   "outputs": [
    {
     "data": {
      "text/plain": [
       "10.5"
      ]
     },
     "execution_count": 17,
     "metadata": {},
     "output_type": "execute_result"
    }
   ],
   "source": [
    "float('10.5')"
   ]
  },
  {
   "cell_type": "code",
   "execution_count": null,
   "id": "8698b1ab-f94c-4423-91bc-2482d09d75d6",
   "metadata": {},
   "outputs": [],
   "source": [
    "bool(10)\n",
    "bool(10.5)\n",
    "bool('10')\n",
    "bool('10.5')\n",
    "bool('0')\n",
    "bool(0)\n",
    "bool(0.0)\n",
    "bool()"
   ]
  }
 ],
 "metadata": {
  "kernelspec": {
   "display_name": "Python 3 (ipykernel)",
   "language": "python",
   "name": "python3"
  },
  "language_info": {
   "codemirror_mode": {
    "name": "ipython",
    "version": 3
   },
   "file_extension": ".py",
   "mimetype": "text/x-python",
   "name": "python",
   "nbconvert_exporter": "python",
   "pygments_lexer": "ipython3",
   "version": "3.12.4"
  }
 },
 "nbformat": 4,
 "nbformat_minor": 5
}
