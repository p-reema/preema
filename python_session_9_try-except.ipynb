{
 "cells": [
  {
   "cell_type": "markdown",
   "id": "5bbda702-a706-4e6a-8ab3-270358e3be50",
   "metadata": {},
   "source": [
    "**Try-Except**\n",
    "\n",
    "- try and exception are two blocks\n",
    "- Original code will write under try block\n",
    "- if any error occures in original code\n",
    "- it will redirect to except block\n",
    "- except block will catch the errors in try block"
   ]
  },
  {
   "cell_type": "markdown",
   "id": "d1dc65e2-a0ed-40cf-b4d4-b238a4cefce5",
   "metadata": {},
   "source": [
    "- syntax error : )\n",
    "- case sentitive error\n",
    "- name error female\n",
    "- zero division error\n",
    "- indenation error"
   ]
  },
  {
   "cell_type": "code",
   "execution_count": 1,
   "id": "9c4d3d53-1c29-4097-b917-06e3abf1c92a",
   "metadata": {},
   "outputs": [
    {
     "ename": "ZeroDivisionError",
     "evalue": "division by zero",
     "output_type": "error",
     "traceback": [
      "\u001b[1;31m---------------------------------------------------------------------------\u001b[0m",
      "\u001b[1;31mZeroDivisionError\u001b[0m                         Traceback (most recent call last)",
      "Cell \u001b[1;32mIn[1], line 1\u001b[0m\n\u001b[1;32m----> 1\u001b[0m \u001b[38;5;241m10\u001b[39m\u001b[38;5;241m/\u001b[39m\u001b[38;5;241m0\u001b[39m\n",
      "\u001b[1;31mZeroDivisionError\u001b[0m: division by zero"
     ]
    }
   ],
   "source": [
    "10/0"
   ]
  },
  {
   "cell_type": "code",
   "execution_count": 2,
   "id": "d55bfb06-f4ce-45c5-9995-12811e646325",
   "metadata": {},
   "outputs": [
    {
     "ename": "NameError",
     "evalue": "name 'b' is not defined",
     "output_type": "error",
     "traceback": [
      "\u001b[1;31m---------------------------------------------------------------------------\u001b[0m",
      "\u001b[1;31mNameError\u001b[0m                                 Traceback (most recent call last)",
      "Cell \u001b[1;32mIn[2], line 1\u001b[0m\n\u001b[1;32m----> 1\u001b[0m \u001b[38;5;124m'\u001b[39m\u001b[38;5;124ma\u001b[39m\u001b[38;5;124m'\u001b[39m\u001b[38;5;241m+\u001b[39mb\n",
      "\u001b[1;31mNameError\u001b[0m: name 'b' is not defined"
     ]
    }
   ],
   "source": [
    "'a'+b"
   ]
  },
  {
   "cell_type": "code",
   "execution_count": 3,
   "id": "a1d24b83-437b-4951-8ee3-4010adebf31b",
   "metadata": {},
   "outputs": [
    {
     "name": "stdout",
     "output_type": "stream",
     "text": [
      "True\n"
     ]
    }
   ],
   "source": [
    "if 100>10:\n",
    "    print('True')"
   ]
  },
  {
   "cell_type": "code",
   "execution_count": 4,
   "id": "91b67dad-4068-4508-9178-678e2b9f1a3a",
   "metadata": {},
   "outputs": [
    {
     "ename": "NameError",
     "evalue": "name 'n22' is not defined",
     "output_type": "error",
     "traceback": [
      "\u001b[1;31m---------------------------------------------------------------------------\u001b[0m",
      "\u001b[1;31mNameError\u001b[0m                                 Traceback (most recent call last)",
      "Cell \u001b[1;32mIn[4], line 3\u001b[0m\n\u001b[0;32m      1\u001b[0m n1\u001b[38;5;241m=\u001b[39m\u001b[38;5;241m10\u001b[39m\n\u001b[0;32m      2\u001b[0m n2\u001b[38;5;241m=\u001b[39m\u001b[38;5;241m20\u001b[39m\n\u001b[1;32m----> 3\u001b[0m add\u001b[38;5;241m=\u001b[39mn1\u001b[38;5;241m+\u001b[39mn22\n\u001b[0;32m      4\u001b[0m \u001b[38;5;28mprint\u001b[39m(add)\n",
      "\u001b[1;31mNameError\u001b[0m: name 'n22' is not defined"
     ]
    }
   ],
   "source": [
    "n1=10\n",
    "n2=20\n",
    "add=n1+n22\n",
    "print(add)"
   ]
  },
  {
   "cell_type": "code",
   "execution_count": 5,
   "id": "a3dbc19b-ccd2-4b1c-a58e-da89aa68b2a0",
   "metadata": {},
   "outputs": [
    {
     "name": "stdout",
     "output_type": "stream",
     "text": [
      "10\n",
      "20\n",
      "hello the code is not good\n"
     ]
    }
   ],
   "source": [
    "try:\n",
    "    n1=10\n",
    "    print(n1)\n",
    "    n2=20\n",
    "    print(n2)\n",
    "    add=n1+n22\n",
    "    print(add)\n",
    "except:\n",
    "    print('hello the code is not good')"
   ]
  },
  {
   "cell_type": "code",
   "execution_count": null,
   "id": "cea1fd82-42f3-4414-9823-db7df0494de5",
   "metadata": {},
   "outputs": [],
   "source": [
    "try:\n",
    "    <write your original code>\n",
    "except:\n",
    "    <catch the error here>"
   ]
  },
  {
   "cell_type": "code",
   "execution_count": null,
   "id": "97394483-383e-4df8-855a-fa948fe71d3b",
   "metadata": {},
   "outputs": [],
   "source": [
    "try:\n",
    "    <write your code>\n",
    "except Exception as e:\n",
    "    print(e)"
   ]
  },
  {
   "cell_type": "code",
   "execution_count": 6,
   "id": "e12cd78c-337f-4738-bb2e-dfdd62d00829",
   "metadata": {},
   "outputs": [
    {
     "name": "stdout",
     "output_type": "stream",
     "text": [
      "10\n",
      "20\n",
      "name 'n22' is not defined\n"
     ]
    }
   ],
   "source": [
    "try:\n",
    "    n1=10\n",
    "    print(n1)\n",
    "    n2=20\n",
    "    print(n2)\n",
    "    add=n1+n22\n",
    "    print(add)\n",
    "except Exception as e:\n",
    "    print(e)"
   ]
  },
  {
   "cell_type": "code",
   "execution_count": null,
   "id": "31cb3369-b49c-4bf6-bd69-0b7890082e12",
   "metadata": {},
   "outputs": [],
   "source": [
    "n1=eval(input('enter the n1:'))\n",
    "n2=eval(input('enter the n2'))\n",
    "div=n1/n2\n",
    "print(div)"
   ]
  },
  {
   "cell_type": "code",
   "execution_count": 8,
   "id": "32ce5f17-4d79-4cda-8aab-d65c9d2b3669",
   "metadata": {},
   "outputs": [
    {
     "name": "stdin",
     "output_type": "stream",
     "text": [
      "enter the n1: 10\n",
      "enter the n2 0\n"
     ]
    },
    {
     "name": "stdout",
     "output_type": "stream",
     "text": [
      "division by zero\n"
     ]
    }
   ],
   "source": [
    "try:\n",
    "    n1=eval(input('enter the n1:'))\n",
    "    n2=eval(input('enter the n2'))\n",
    "    div=n1/n2\n",
    "    print(div)\n",
    "except Exception as e:\n",
    "    print(e)"
   ]
  },
  {
   "cell_type": "code",
   "execution_count": null,
   "id": "42f0e182-8985-4858-a32f-1d510fa21800",
   "metadata": {},
   "outputs": [],
   "source": [
    "try:\n",
    "    n1=eval(input('enter the n1:'))\n",
    "    n2=eval(input('enter the n2'))\n",
    "    div=n1/n2\n",
    "    print(div)\n",
    "except Exception as e:\n",
    "    print(e)"
   ]
  },
  {
   "cell_type": "code",
   "execution_count": 1,
   "id": "31c8b3e3-bee7-424e-89ce-1657e32e29a4",
   "metadata": {},
   "outputs": [
    {
     "name": "stdin",
     "output_type": "stream",
     "text": [
      "enter a num: 50\n"
     ]
    },
    {
     "name": "stdout",
     "output_type": "stream",
     "text": [
      "name 'nummmm' is not defined\n"
     ]
    }
   ],
   "source": [
    "num=eval(input('enter a num:'))\n",
    "try:\n",
    "    if nummmm>=60:\n",
    "        print('A')\n",
    "    elif num>=45:\n",
    "        print('B')\n",
    "except Exception as e:\n",
    "    print(e)"
   ]
  },
  {
   "cell_type": "code",
   "execution_count": null,
   "id": "0241ca26-3af2-4a1b-878b-7e0ec5bf168c",
   "metadata": {},
   "outputs": [],
   "source": [
    "# in the real time we will write thsounads of lines\n",
    "# what will happen\n",
    "# the same code wil work on your==== not work\n",
    "# 2000 lines\n",
    "# 1500 ==== client might be get error\n",
    "# the error is doesnot matter\n",
    "# it will not impact the output"
   ]
  },
  {
   "cell_type": "code",
   "execution_count": 2,
   "id": "2d635cc5-2d60-49ac-9ff2-4c8a8aef9193",
   "metadata": {},
   "outputs": [
    {
     "name": "stdout",
     "output_type": "stream",
     "text": [
      "10\n",
      "20\n"
     ]
    },
    {
     "ename": "NameError",
     "evalue": "name 'n234' is not defined",
     "output_type": "error",
     "traceback": [
      "\u001b[1;31m---------------------------------------------------------------------------\u001b[0m",
      "\u001b[1;31mNameError\u001b[0m                                 Traceback (most recent call last)",
      "Cell \u001b[1;32mIn[2], line 5\u001b[0m\n\u001b[0;32m      3\u001b[0m n2\u001b[38;5;241m=\u001b[39m\u001b[38;5;241m20\u001b[39m\n\u001b[0;32m      4\u001b[0m \u001b[38;5;28mprint\u001b[39m(n2)\n\u001b[1;32m----> 5\u001b[0m n1\u001b[38;5;241m+\u001b[39mn234\n\u001b[0;32m      6\u001b[0m \u001b[38;5;28mprint\u001b[39m(\u001b[38;5;124m'\u001b[39m\u001b[38;5;124mhello\u001b[39m\u001b[38;5;124m'\u001b[39m)\n",
      "\u001b[1;31mNameError\u001b[0m: name 'n234' is not defined"
     ]
    }
   ],
   "source": [
    "n1=10\n",
    "print(n1)\n",
    "n2=20\n",
    "print(n2)\n",
    "n1+n234\n",
    "print('hello')"
   ]
  },
  {
   "cell_type": "code",
   "execution_count": 3,
   "id": "aa455374-d27d-43fb-88c9-dd86ac350176",
   "metadata": {},
   "outputs": [
    {
     "name": "stdout",
     "output_type": "stream",
     "text": [
      "10\n",
      "20\n",
      "hello\n",
      "bye\n"
     ]
    }
   ],
   "source": [
    "try:\n",
    "    n1=10\n",
    "    print(n1)\n",
    "    n2=20\n",
    "    print(n2)\n",
    "    n1+n234\n",
    "except Exception as e:\n",
    "    print('hello')\n",
    "print('bye')"
   ]
  },
  {
   "cell_type": "code",
   "execution_count": null,
   "id": "ecc03c9b-2edc-46ce-b4e6-da2dce488ac9",
   "metadata": {},
   "outputs": [],
   "source": []
  }
 ],
 "metadata": {
  "kernelspec": {
   "display_name": "Python 3 (ipykernel)",
   "language": "python",
   "name": "python3"
  },
  "language_info": {
   "codemirror_mode": {
    "name": "ipython",
    "version": 3
   },
   "file_extension": ".py",
   "mimetype": "text/x-python",
   "name": "python",
   "nbconvert_exporter": "python",
   "pygments_lexer": "ipython3",
   "version": "3.12.4"
  }
 },
 "nbformat": 4,
 "nbformat_minor": 5
}
